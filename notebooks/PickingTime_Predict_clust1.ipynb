{
 "cells": [
  {
   "cell_type": "code",
   "execution_count": 1,
   "id": "55be603f",
   "metadata": {},
   "outputs": [],
   "source": [
    "metrics_df_lst = []\n",
    "#{\"experiment_num\": \"\", \"model_type\": \"\", \"train_mae\": 0, \"val_mae\": 0, \"perc_lt_5mins\": 0, \"perc_lt_10mins\": 0 }"
   ]
  },
  {
   "cell_type": "code",
   "execution_count": 2,
   "id": "0a944404",
   "metadata": {},
   "outputs": [],
   "source": [
    "import numpy as np\n",
    "import pandas as pd\n",
    "\n",
    "collect_created_at_df = pd.read_csv(\"fulfillment_data/new/_SELECT_collects_id_COUNT_orders_id_collects_created_at_users_wa.csv\", sep=\";\")\n",
    "cols = list(collect_created_at_df.columns)\n",
    "cols[1] = \"num_orders\"\n",
    "cols[0] = \"collect_id\"\n",
    "collect_created_at_df.columns = cols\n",
    "\n",
    "import pandas as pd\n",
    "collection_to_orders_df = pd.read_csv(\"fulfillment_data/new/_SELECT_collects_id_orders_id_COUNT_product_order_id_AS_products.csv\", sep=\";\")\n",
    "\n",
    "order_collects_df = collection_to_orders_df.merge(collect_created_at_df, on=\"collect_id\")\n",
    "order_collects_df.rename(columns={\"warehouse_name_x\": \"warehouse_name\"}, inplace=True)\n",
    "del order_collects_df[\"warehouse_name_y\"]\n",
    "\n",
    "order_list_df = pd.read_csv(\"fulfillment_data/new/_SELECT_orders_id_AS_order_id_product_order_product_id_AS_produc.csv\", sep=\";\")\n",
    "\n",
    "products_list_df = pd.read_csv(\"fulfillment_data/new/_Select_products_id_sku_code_products_name_volume_place_users_wa.csv\",encoding= 'windows-1251', sep=\";\")\n",
    "\n",
    "\n",
    "from datetime import timedelta\n",
    "\n",
    "import matplotlib.pyplot as plt\n",
    "\n"
   ]
  },
  {
   "cell_type": "markdown",
   "id": "eaecf173",
   "metadata": {},
   "source": [
    "### Keep only where needed warehouse (5)"
   ]
  },
  {
   "cell_type": "code",
   "execution_count": 3,
   "id": "b30bcd9e",
   "metadata": {
    "scrolled": true
   },
   "outputs": [],
   "source": [
    "order_collects_df = order_collects_df[order_collects_df[\"warehouse_name\"] == 5]\n",
    "\n",
    "order_list_df = order_list_df[order_list_df[\"warehouse_name\"] == 5]\n",
    "\n",
    "products_list_df.rename(columns={\"id\": \"product_id\"}, inplace=True)"
   ]
  },
  {
   "cell_type": "markdown",
   "id": "947a33bf",
   "metadata": {},
   "source": [
    "### Time filtering"
   ]
  },
  {
   "cell_type": "code",
   "execution_count": 4,
   "id": "b4969f5f",
   "metadata": {},
   "outputs": [],
   "source": [
    "order_collects_df[\"created_at\"] = pd.to_datetime(order_collects_df[\"created_at\"])\n",
    "order_collects_df[\"collect_date\"] = pd.to_datetime(order_collects_df[\"collect_date\"])\n",
    "\n",
    "order_collects_df[\"collect_time\"] = order_collects_df[\"collect_date\"] - order_collects_df[\"created_at\"]\n",
    "\n"
   ]
  },
  {
   "cell_type": "code",
   "execution_count": 5,
   "id": "cd5de705",
   "metadata": {
    "scrolled": true
   },
   "outputs": [
    {
     "data": {
      "text/plain": [
       "<AxesSubplot:>"
      ]
     },
     "execution_count": 5,
     "metadata": {},
     "output_type": "execute_result"
    },
    {
     "data": {
      "image/png": "[encoded data removed]",
      "text/plain": [
       "<Figure size 432x288 with 1 Axes>"
      ]
     },
     "metadata": {
      "needs_background": "light"
     },
     "output_type": "display_data"
    }
   ],
   "source": [
    "order_collects_df[\"collect_time\"].dt.total_seconds().hist(bins=50)"
   ]
  },
  {
   "cell_type": "markdown",
   "id": "62ba402a",
   "metadata": {},
   "source": [
    " **remove where negative collect time**"
   ]
  },
  {
   "cell_type": "code",
   "execution_count": 6,
   "id": "9da756ee",
   "metadata": {
    "scrolled": true
   },
   "outputs": [],
   "source": [
    "collect_ids_to_del = set(order_collects_df[order_collects_df[\"collect_time\"] < timedelta(seconds = 0)][\"collect_id\"].unique())\n",
    "\n",
    "\n",
    "from datetime import timedelta\n",
    "order_collects_df = order_collects_df[~order_collects_df[\"collect_id\"].isin(collect_ids_to_del) ]\n",
    "\n",
    "collect_id_to_approx_sorting_started = dict(order_collects_df.groupby(\"collect_id\")[\"collect_date\"].apply(min))\n",
    "\n",
    "collect_id_to_orders_sorting_ended_list = dict(order_collects_df.groupby(\"collect_id\")[\"collect_date\"].apply(list))\n",
    "\n",
    "order_collects_df[\"approx_store_walk_end\"] = order_collects_df.apply(lambda row: collect_id_to_approx_sorting_started[row[\"collect_id\"]] , axis = 1)\n",
    "\n",
    "\n",
    "order_collects_df[\"approx_store_walk_time\"] = order_collects_df[\"approx_store_walk_end\"] - order_collects_df[\"created_at\"]\n",
    "\n",
    "def get_approx_sorting_time_for_this_order(row):\n",
    "    \n",
    "    cur_time = row[\"collect_date\"]\n",
    "    \n",
    "    cur_collect_times = sorted(collect_id_to_orders_sorting_ended_list[row[\"collect_id\"]], reverse=True)\n",
    "    \n",
    "    for t in cur_collect_times:\n",
    "        if t < cur_time:\n",
    "            return cur_time - t\n",
    "        \n",
    "    return timedelta(seconds = 0)\n",
    "\n",
    "## NOTE time_order_sorted is inaccurate for cases where order was collected in same minute\n",
    "\n",
    "order_collects_df[\"time_order_sorted\"] = order_collects_df.apply(lambda row: get_approx_sorting_time_for_this_order(row), axis=1)\n",
    "\n",
    "\n"
   ]
  },
  {
   "cell_type": "code",
   "execution_count": null,
   "id": "eb18f0ec",
   "metadata": {
    "scrolled": true
   },
   "outputs": [],
   "source": []
  },
  {
   "cell_type": "markdown",
   "id": "188baf13",
   "metadata": {},
   "source": [
    "**Collects THAT TOOK MORE THAN 3 HOURS TO WALK IN STORE ARE OUTLIERS (2384 out of 8385)**"
   ]
  },
  {
   "cell_type": "markdown",
   "id": "af721d76",
   "metadata": {},
   "source": [
    "Note: domain expert told that walking in store that took more than 3 hours could be deleted"
   ]
  },
  {
   "cell_type": "code",
   "execution_count": 7,
   "id": "e5b9e7e3",
   "metadata": {},
   "outputs": [],
   "source": [
    "order_collects_df[order_collects_df[\"approx_store_walk_time\"] > timedelta(hours=3)][\"collect_id\"].nunique()\n",
    "\n",
    "order_collects_df[order_collects_df[\"approx_store_walk_time\"] < timedelta(hours=3)][\"approx_store_walk_time\"].mean()\n",
    "\n",
    "collects_to_del = list(order_collects_df[order_collects_df[\"approx_store_walk_time\"] > timedelta(hours=3)][\"collect_id\"].unique())\n",
    "\n",
    "collects_to_del += list(order_collects_df[order_collects_df[\"approx_store_walk_time\"] < timedelta(seconds=30)][\"collect_id\"].unique())\n",
    "\n",
    "collects_to_del += [14387, 13648, 14360]\n",
    "\n",
    "order_collects_df = order_collects_df[~order_collects_df[\"collect_id\"].isin(collects_to_del)]\n",
    "\n"
   ]
  },
  {
   "cell_type": "code",
   "execution_count": null,
   "id": "c0a787db",
   "metadata": {
    "scrolled": true
   },
   "outputs": [],
   "source": []
  },
  {
   "cell_type": "markdown",
   "id": "3c4b4f01",
   "metadata": {},
   "source": [
    "**Collects THAT TOOK MORE THAN 3 HOURS TO SORT ARE OUTLIERS**"
   ]
  },
  {
   "cell_type": "code",
   "execution_count": 8,
   "id": "18a3b8ab",
   "metadata": {},
   "outputs": [],
   "source": [
    "collect_id_to_collect_sorting_ended = dict(order_collects_df.groupby(\"collect_id\")[\"collect_date\"].apply(max))\n",
    "\n",
    "order_collects_df['collect_sort_time'] = order_collects_df.apply(lambda row: collect_id_to_collect_sorting_ended[row[\"collect_id\"]] - row[\"approx_store_walk_end\"] , axis = 1)\n",
    "\n",
    "order_collects_df = order_collects_df[order_collects_df[\"collect_sort_time\"] < timedelta(hours=3)]"
   ]
  },
  {
   "cell_type": "code",
   "execution_count": null,
   "id": "110d541b",
   "metadata": {},
   "outputs": [],
   "source": []
  },
  {
   "cell_type": "code",
   "execution_count": null,
   "id": "853f8e07",
   "metadata": {
    "scrolled": true
   },
   "outputs": [],
   "source": []
  },
  {
   "cell_type": "markdown",
   "id": "f924be9d",
   "metadata": {},
   "source": [
    "## Products locations fix"
   ]
  },
  {
   "cell_type": "code",
   "execution_count": 9,
   "id": "a4bc1bf3",
   "metadata": {},
   "outputs": [],
   "source": [
    "needed_warehouse_names = [\"MTP\", \"5\", \"5A\"]\n",
    "\n",
    "products_list_df = products_list_df[products_list_df['warehouse_name'].isin(needed_warehouse_names)]\n",
    "\n",
    "products_list_df = products_list_df[~products_list_df[\"place\"].isna()]\n",
    "products_list_df = products_list_df[products_list_df[\"place\"] != '0']\n",
    "\n",
    "def place_str_to_info_lst(place_str):\n",
    "    \n",
    "    if str(place_str) == \"nan\":\n",
    "        return []\n",
    "    \n",
    "    replace_dict = dict([('О','0'), ('И','B') , ('С','C'), ('A','A'), ('А','A'), ('В','B'), ('Е','E'), ('Х','X'), ('Д','D'), ('*','-'), ('\\'', \"\")])\n",
    "    place_str = place_str.upper()\n",
    "    for k in replace_dict.keys():\n",
    "        place_str = place_str.replace(k, replace_dict[k])\n",
    "    \n",
    "    #place_str = place_str.upper().replace('О','0').replace('С','C').replace('A','A').replace('А','A').replace('В','B').replace('Е','E').replace('Х','X').replace('Д','D').replace('*','-').replace('\\'', \"\")\n",
    "    place_lst = list(filter(lambda x: x ,place_str.split(',')))\n",
    "    place_lst_2 = []\n",
    "    for p in place_lst:\n",
    "        place_lst_2 += [x.strip() for x in p.split('/')]\n",
    "    place_lst = place_lst_2\n",
    "    place_lst_3 = []\n",
    "    for p in place_lst:\n",
    "        place_lst_3 += [x.strip() for x in p.split('.')]\n",
    "    place_lst = place_lst_3 \n",
    "    place_lst_4 = []\n",
    "    for p in place_lst:\n",
    "        place_lst_4 += [x.strip() for x in p.split('|')]\n",
    "    place_lst = place_lst_4\n",
    "    place_lst_5 = []\n",
    "    for p in place_lst:\n",
    "        place_lst_5 += [x.strip() for x in p.split('  ')]\n",
    "    place_lst = place_lst_5\n",
    "    place_lst_6 = []\n",
    "    for p in place_lst:\n",
    "        place_lst_6 += [x.strip() for x in p.split('\\\\')]\n",
    "    place_lst = place_lst_6\n",
    "    \n",
    "    \n",
    "    \n",
    "        \n",
    "    place_lst = [x.replace('/', '').replace('\\\\','').replace('`','').strip() for x in place_lst]\n",
    "    new_place_lst = []\n",
    "    for x in place_lst:\n",
    "        if x.startswith('-'):\n",
    "            x = x[1:]\n",
    "            \n",
    "        if len(x)>2 and x[0].isalpha() and x[1].isalpha():\n",
    "            x = x[0] + x[2:]\n",
    "        if len(x)>=2 and x[0].isalpha() and x[1].isnumeric():\n",
    "            x = x[0] + \"-\"+ x[1:]\n",
    "            \n",
    "        x_new_lst = []\n",
    "        for part in x.split('-'):\n",
    "            part = part.strip()\n",
    "            \n",
    "            if part.isnumeric():\n",
    "                x_new_lst.append(str(int(part)))\n",
    "            else:\n",
    "                x_new_lst.append(part)\n",
    "        \n",
    "        \n",
    "        x = \"-\".join(x_new_lst)\n",
    "        \n",
    "        \n",
    "        new_place_lst.append(x)\n",
    "        \n",
    "    new_place_lst1 = []\n",
    "    \n",
    "    for l in new_place_lst:\n",
    "        new_place_lst1 += l.split()\n",
    "        \n",
    "    new_place_lst2 = []\n",
    "        \n",
    "    for x in new_place_lst1:\n",
    "        \n",
    "        if any([let.isalpha() for let in x[1:]]):\n",
    "            for ind, letalpha in enumerate([let.isalpha() for let in x[1:]]):\n",
    "                if letalpha:\n",
    "                    new_place_lst2.append(x[:ind + 1])\n",
    "                    new_place_lst2.append(x[ind + 1:])\n",
    "        else:\n",
    "            new_place_lst2.append(x)\n",
    "\n",
    "    \n",
    "    new_place_lst2 = list(filter(lambda x: sum([l.isalpha() for l in x]) < 2,new_place_lst2))\n",
    "    new_place_lst2 = list(filter(lambda x: len(x) > 2,new_place_lst2))\n",
    "    \n",
    "    \n",
    "    new_place_lst = []\n",
    "    for x in new_place_lst2:\n",
    "        if x.startswith('-'):\n",
    "            x = x[1:]\n",
    "            \n",
    "        if x.endswith('-') or x.endswith('(') or x.endswith(')') :\n",
    "            x = x[:-1]\n",
    "\n",
    "            \n",
    "        if len(x)>2 and x[0].isalpha() and x[1].isalpha():\n",
    "            x = x[0] + x[2:]\n",
    "        if len(x)>2 and x[0].isalpha() and x[1].isnumeric():\n",
    "            x = x[0] + \"-\"+ x[1:]\n",
    "            \n",
    "        x_new_lst = []\n",
    "        for part in x.split('-'):\n",
    "            part = part.strip()\n",
    "            \n",
    "            if part.isnumeric():\n",
    "                if int(part) > 100: # DELETE x\n",
    "                    x = \"\"\n",
    "                x_new_lst.append(str(int(part)))\n",
    "            else:\n",
    "                x_new_lst.append(part)\n",
    "        \n",
    "        \n",
    "        x = \"-\".join(x_new_lst) if x else x\n",
    "        \n",
    "        x_split = x.split('-')\n",
    "        \n",
    "        if len(x_split) >= 2 and x_split[0].isnumeric() and \"(\" in x_split[1]:\n",
    "            x = x_split[0] + \"-\".join(x_split[1:])\n",
    "    \n",
    "        \n",
    "        if x and x[-1].isalpha():\n",
    "            x = x[:x.find('(')]\n",
    "            \n",
    "        if x.startswith('('):\n",
    "            x = ''\n",
    "        \n",
    "        if \"G\" in x:\n",
    "            if x == \"G-5\":\n",
    "                x = \"71(1)-4\"\n",
    "            else:\n",
    "                x = ''\n",
    "                \n",
    "        if \"X-0\" in x:\n",
    "            x = x.replace(\"X-0\", \"X\")\n",
    "        \n",
    "        if x:\n",
    "            new_place_lst.append(x)\n",
    "        \n",
    "    \n",
    "    \n",
    "    return new_place_lst\n",
    "\n",
    "products_list_df[\"cleaned_place\"] = products_list_df.apply(lambda row: place_str_to_info_lst(row[\"place\"]),axis=1)\n",
    "\n",
    "\n",
    "def shorten_place(p):\n",
    "    if (p[0].isalpha()) and (p.count('-') >= 3):\n",
    "        i = p.rfind('-')\n",
    "        return p[:i]\n",
    "    elif (not p[0].isalpha()) and (p.count('-') >= 2):\n",
    "        i = p.rfind('-')\n",
    "        return p[:i]\n",
    "    else:\n",
    "        return p\n",
    "\n",
    "products_list_df[\"short_cleaned_place\"] = products_list_df.apply(lambda row: [shorten_place(p) for p in row[\"cleaned_place\"]],axis=1)\n",
    "\n",
    "def get_place_componenents(p):\n",
    "    \n",
    "    # note: X is for refrigirator. Lets consider it has 1 cell and 1 level\n",
    "    # because we only have 1 refrigerator\n",
    "    if \"X\" in p:\n",
    "        return {\"cell\": \"X\", \"level\": 1}\n",
    "    \n",
    "    p_split = p.split('-')\n",
    "    level = None\n",
    "    cell = None\n",
    "    \n",
    "    if p[0].isnumeric():\n",
    "        cell = p_split[0]\n",
    "        if len(p_split) >= 2:\n",
    "            level = int(p_split[1])\n",
    "        else:\n",
    "            level = 1\n",
    "            \n",
    "    else:\n",
    "        cell = p_split[0] + \"-\" + p_split[1]\n",
    "        if len(p_split) > 2:\n",
    "            level = p_split[2]\n",
    "        else:\n",
    "            level = 1\n",
    "    \n",
    "    return {\"cell\": cell, \"level\": level}\n",
    "\n",
    "products_list_df[\"place_cell\"] = products_list_df.apply(lambda row: [get_place_componenents(x)[\"cell\"] for x in row[\"short_cleaned_place\"]],axis=1)\n",
    "products_list_df[\"place_level\"] = products_list_df.apply(lambda row: [get_place_componenents(x)[\"level\"] for x in row[\"short_cleaned_place\"]],axis=1)\n",
    "\n",
    "# some of them are 0 (if they are bad) so remove them\n",
    "\n",
    "products_list_df = products_list_df[products_list_df[\"short_cleaned_place\"].str.len() != 0]\n",
    "\n",
    "\n",
    "\n",
    "new_unique_places = set()\n",
    "for p in sorted(list(products_list_df[~products_list_df[\"place\"].isna()][\"place\"].unique())):\n",
    "    place_lst = place_str_to_info_lst(p)\n",
    "    new_unique_places.update(place_lst)\n",
    "    \n",
    "new_unique_places = list(new_unique_places)\n",
    "\n"
   ]
  },
  {
   "cell_type": "code",
   "execution_count": null,
   "id": "2f88760a",
   "metadata": {},
   "outputs": [],
   "source": []
  },
  {
   "cell_type": "code",
   "execution_count": null,
   "id": "b9f98939",
   "metadata": {
    "scrolled": true
   },
   "outputs": [],
   "source": []
  },
  {
   "cell_type": "code",
   "execution_count": null,
   "id": "05db9929",
   "metadata": {
    "scrolled": true
   },
   "outputs": [],
   "source": []
  },
  {
   "cell_type": "markdown",
   "id": "d038c13a",
   "metadata": {},
   "source": [
    "## Keep only orders with products that are present in dataset (so they are in needed warehouse)"
   ]
  },
  {
   "cell_type": "code",
   "execution_count": 10,
   "id": "4f85ff78",
   "metadata": {},
   "outputs": [],
   "source": [
    "needed_prod_ids = set(list(products_list_df[\"product_id\"].unique()))\n",
    "\n",
    "order_id_to_prod_ids = dict(order_list_df.groupby(\"order_id\")[\"product_id\"].apply(set))\n",
    "\n",
    "needed_order_ids = set()\n",
    "\n",
    "for oid in order_id_to_prod_ids.keys():\n",
    "    if len(needed_prod_ids.intersection(order_id_to_prod_ids[oid])) == len(order_id_to_prod_ids[oid]):\n",
    "        needed_order_ids.add(oid)\n",
    "        \n",
    "order_list_df = order_list_df[order_list_df[\"order_id\"].isin(needed_order_ids)]\n",
    "\n",
    "products_list_df = products_list_df[products_list_df[\"product_id\"].isin(list(order_list_df[\"product_id\"].unique()))]\n",
    "\n",
    "collect_id_to_order_ids = dict(order_collects_df.groupby(\"collect_id\")[\"order_id\"].apply(set))\n",
    "\n",
    "needed_collect_ids = set()\n",
    "\n",
    "for cid in collect_id_to_order_ids.keys():\n",
    "    if len(needed_order_ids.intersection(collect_id_to_order_ids[cid])) == len(collect_id_to_order_ids[cid]):\n",
    "        needed_collect_ids.add(cid)\n",
    "        \n",
    "order_collects_df = order_collects_df[order_collects_df[\"collect_id\"].isin(needed_collect_ids)]\n",
    "\n",
    "order_list_df = order_list_df[order_list_df[\"order_id\"].isin(set(order_collects_df[\"order_id\"].unique()))]\n",
    "\n",
    "\n",
    "\n"
   ]
  },
  {
   "cell_type": "code",
   "execution_count": null,
   "id": "e87dab91",
   "metadata": {},
   "outputs": [],
   "source": []
  },
  {
   "cell_type": "markdown",
   "id": "bd230a4b",
   "metadata": {},
   "source": [
    "## KEEP COLLECTS WITH 1-2 ORDERS"
   ]
  },
  {
   "cell_type": "code",
   "execution_count": 11,
   "id": "fdb71acd",
   "metadata": {},
   "outputs": [],
   "source": [
    "gb = order_collects_df.groupby(\"collect_id\")[\"order_id\"].nunique() < 3\n",
    "collect_id_to_del = list(gb[gb == True].index) # to del actually is to keep )\n"
   ]
  },
  {
   "cell_type": "code",
   "execution_count": 12,
   "id": "cf7bf67d",
   "metadata": {},
   "outputs": [
    {
     "data": {
      "text/plain": [
       "1230"
      ]
     },
     "execution_count": 12,
     "metadata": {},
     "output_type": "execute_result"
    }
   ],
   "source": [
    "len(collect_id_to_del)\n"
   ]
  },
  {
   "cell_type": "code",
   "execution_count": null,
   "id": "bdfa96e9",
   "metadata": {},
   "outputs": [],
   "source": []
  },
  {
   "cell_type": "code",
   "execution_count": 13,
   "id": "6cbff5be",
   "metadata": {},
   "outputs": [
    {
     "data": {
      "text/plain": [
       "3097"
      ]
     },
     "execution_count": 13,
     "metadata": {},
     "output_type": "execute_result"
    }
   ],
   "source": [
    "order_collects_df[\"collect_id\"].nunique()\n"
   ]
  },
  {
   "cell_type": "code",
   "execution_count": null,
   "id": "4b9962c7",
   "metadata": {},
   "outputs": [],
   "source": []
  },
  {
   "cell_type": "code",
   "execution_count": 14,
   "id": "41981854",
   "metadata": {},
   "outputs": [
    {
     "data": {
      "text/plain": [
       "0.3967741935483871"
      ]
     },
     "execution_count": 14,
     "metadata": {},
     "output_type": "execute_result"
    }
   ],
   "source": [
    "1230 / 3100\n"
   ]
  },
  {
   "cell_type": "code",
   "execution_count": 15,
   "id": "9f76823c",
   "metadata": {},
   "outputs": [],
   "source": [
    "order_collects_df = order_collects_df[order_collects_df[\"collect_id\"].isin(collect_id_to_del)]"
   ]
  },
  {
   "cell_type": "markdown",
   "id": "9735c9fa",
   "metadata": {
    "scrolled": true
   },
   "source": [
    "# Keep only orders with products that are present in dataset again"
   ]
  },
  {
   "cell_type": "code",
   "execution_count": 16,
   "id": "de671e67",
   "metadata": {},
   "outputs": [],
   "source": [
    "\n",
    "\n",
    "needed_prod_ids = set(list(products_list_df[\"product_id\"].unique()))\n",
    "\n",
    "order_id_to_prod_ids = dict(order_list_df.groupby(\"order_id\")[\"product_id\"].apply(set))\n",
    "\n",
    "needed_order_ids = set()\n",
    "\n",
    "for oid in order_id_to_prod_ids.keys():\n",
    "    if len(needed_prod_ids.intersection(order_id_to_prod_ids[oid])) == len(order_id_to_prod_ids[oid]):\n",
    "        needed_order_ids.add(oid)\n",
    "        \n",
    "order_list_df = order_list_df[order_list_df[\"order_id\"].isin(needed_order_ids)]\n",
    "\n",
    "products_list_df = products_list_df[products_list_df[\"product_id\"].isin(list(order_list_df[\"product_id\"].unique()))]\n",
    "\n",
    "collect_id_to_order_ids = dict(order_collects_df.groupby(\"collect_id\")[\"order_id\"].apply(set))\n",
    "\n",
    "needed_collect_ids = set()\n",
    "\n",
    "for cid in collect_id_to_order_ids.keys():\n",
    "    if len(needed_order_ids.intersection(collect_id_to_order_ids[cid])) == len(collect_id_to_order_ids[cid]):\n",
    "        needed_collect_ids.add(cid)\n",
    "        \n",
    "order_collects_df = order_collects_df[order_collects_df[\"collect_id\"].isin(needed_collect_ids)]\n",
    "\n",
    "order_list_df = order_list_df[order_list_df[\"order_id\"].isin(set(order_collects_df[\"order_id\"].unique()))]"
   ]
  },
  {
   "cell_type": "code",
   "execution_count": null,
   "id": "948cc0dd",
   "metadata": {},
   "outputs": [],
   "source": []
  },
  {
   "cell_type": "code",
   "execution_count": 17,
   "id": "003e0cf2",
   "metadata": {},
   "outputs": [
    {
     "data": {
      "text/plain": [
       "1230"
      ]
     },
     "execution_count": 17,
     "metadata": {},
     "output_type": "execute_result"
    }
   ],
   "source": [
    "order_collects_df[\"collect_id\"].nunique()\n"
   ]
  },
  {
   "cell_type": "code",
   "execution_count": null,
   "id": "3881d800",
   "metadata": {},
   "outputs": [],
   "source": []
  },
  {
   "cell_type": "code",
   "execution_count": null,
   "id": "73d5a8a6",
   "metadata": {},
   "outputs": [],
   "source": []
  },
  {
   "cell_type": "markdown",
   "id": "26f061b5",
   "metadata": {},
   "source": [
    "# Select model for approximation of time spent on walking"
   ]
  },
  {
   "cell_type": "markdown",
   "id": "0794e035",
   "metadata": {},
   "source": [
    "Target: approx_store_walk_time"
   ]
  },
  {
   "cell_type": "code",
   "execution_count": 18,
   "id": "8066299a",
   "metadata": {},
   "outputs": [],
   "source": [
    "oid_to_prod_quantity_default = dict(order_collects_df.groupby(\"order_id\")[\"products_quantity\"].sum())\n",
    "\n",
    "oid_to_prod_quantity_manual = dict(order_list_df.groupby(\"order_id\")[\"product_id\"].nunique())\n",
    "\n",
    "\n",
    "oid_to_prod_lst = dict(order_list_df.groupby(\"order_id\")[\"product_id\"].apply(set))\n",
    "\n",
    "cid_to_oids = dict(order_collects_df.groupby(\"collect_id\")[\"order_id\"].apply(set))\n",
    "\n",
    "cid_to_prod_quantity_unique = {}\n",
    "\n",
    "for cid in cid_to_oids.keys():\n",
    "    unique_prods = set()\n",
    "    for oid in list(cid_to_oids[cid]):\n",
    "        unique_prods.update(oid_to_prod_lst[oid])\n",
    "    \n",
    "    \n",
    "    cid_to_prod_quantity_unique[cid] = len(unique_prods)\n",
    "    \n",
    "    \n",
    "\n",
    "prod_quantity_default = []\n",
    "prod_quantity_manual = []\n",
    "\n",
    "for k in oid_to_prod_quantity_manual.keys():\n",
    "    prod_quantity_default.append(oid_to_prod_quantity_default[k])\n",
    "    prod_quantity_manual.append(oid_to_prod_quantity_manual[k])\n",
    "    \n",
    "    \n",
    "order_collects_df[\"products_quantity_unique\"] = order_collects_df.apply(lambda row: oid_to_prod_quantity_manual[row[\"order_id\"]],axis=1)\n",
    "\n",
    "order_collects_df[\"products_quantity_unique_in_collect\"] = order_collects_df.apply(lambda row: cid_to_prod_quantity_unique[row[\"collect_id\"]],axis=1) \n",
    "\n",
    "\n"
   ]
  },
  {
   "cell_type": "markdown",
   "id": "45d10e2f",
   "metadata": {
    "scrolled": true
   },
   "source": [
    "products_quantity - total number of products in order (considering some prods may appear several time in the order)\n",
    "\n",
    "products_quantity_unique - number of unique products in order\n",
    "\n",
    "products_quantity_unique_in_collect - number of unique products in collect"
   ]
  },
  {
   "cell_type": "markdown",
   "id": "43168bc5",
   "metadata": {},
   "source": [
    "### Correlation: Products quantity in all collect, approx_store_walk_time"
   ]
  },
  {
   "cell_type": "code",
   "execution_count": null,
   "id": "95f41c92",
   "metadata": {
    "scrolled": true
   },
   "outputs": [],
   "source": []
  },
  {
   "cell_type": "code",
   "execution_count": 19,
   "id": "0c1418df",
   "metadata": {
    "scrolled": true
   },
   "outputs": [
    {
     "data": {
      "text/html": [
       "<div>\n",
       "<style scoped>\n",
       "    .dataframe tbody tr th:only-of-type {\n",
       "        vertical-align: middle;\n",
       "    }\n",
       "\n",
       "    .dataframe tbody tr th {\n",
       "        vertical-align: top;\n",
       "    }\n",
       "\n",
       "    .dataframe thead th {\n",
       "        text-align: right;\n",
       "    }\n",
       "</style>\n",
       "<table border=\"1\" class=\"dataframe\">\n",
       "  <thead>\n",
       "    <tr style=\"text-align: right;\">\n",
       "      <th></th>\n",
       "      <th>collect_id</th>\n",
       "      <th>order_id</th>\n",
       "      <th>products_quantity</th>\n",
       "      <th>collect_date</th>\n",
       "      <th>warehouse_name</th>\n",
       "      <th>num_orders</th>\n",
       "      <th>created_at</th>\n",
       "      <th>collect_time</th>\n",
       "      <th>approx_store_walk_end</th>\n",
       "      <th>approx_store_walk_time</th>\n",
       "      <th>time_order_sorted</th>\n",
       "      <th>collect_sort_time</th>\n",
       "      <th>products_quantity_unique</th>\n",
       "      <th>products_quantity_unique_in_collect</th>\n",
       "    </tr>\n",
       "  </thead>\n",
       "  <tbody>\n",
       "    <tr>\n",
       "      <th>5183</th>\n",
       "      <td>2691</td>\n",
       "      <td>174972</td>\n",
       "      <td>1</td>\n",
       "      <td>2020-12-12 16:11:00</td>\n",
       "      <td>5</td>\n",
       "      <td>7</td>\n",
       "      <td>2020-12-12 16:02:49</td>\n",
       "      <td>0 days 00:08:11</td>\n",
       "      <td>2020-12-12 16:11:00</td>\n",
       "      <td>0 days 00:08:11</td>\n",
       "      <td>0 days 00:00:00</td>\n",
       "      <td>0 days 00:00:00</td>\n",
       "      <td>1</td>\n",
       "      <td>2</td>\n",
       "    </tr>\n",
       "    <tr>\n",
       "      <th>5184</th>\n",
       "      <td>2691</td>\n",
       "      <td>174951</td>\n",
       "      <td>1</td>\n",
       "      <td>2020-12-12 16:11:00</td>\n",
       "      <td>5</td>\n",
       "      <td>7</td>\n",
       "      <td>2020-12-12 16:02:49</td>\n",
       "      <td>0 days 00:08:11</td>\n",
       "      <td>2020-12-12 16:11:00</td>\n",
       "      <td>0 days 00:08:11</td>\n",
       "      <td>0 days 00:00:00</td>\n",
       "      <td>0 days 00:00:00</td>\n",
       "      <td>1</td>\n",
       "      <td>2</td>\n",
       "    </tr>\n",
       "    <tr>\n",
       "      <th>5641</th>\n",
       "      <td>2704</td>\n",
       "      <td>175593</td>\n",
       "      <td>1</td>\n",
       "      <td>2020-12-14 14:54:00</td>\n",
       "      <td>5</td>\n",
       "      <td>2</td>\n",
       "      <td>2020-12-14 14:49:30</td>\n",
       "      <td>0 days 00:04:30</td>\n",
       "      <td>2020-12-14 14:52:00</td>\n",
       "      <td>0 days 00:02:30</td>\n",
       "      <td>0 days 00:02:00</td>\n",
       "      <td>0 days 00:02:00</td>\n",
       "      <td>1</td>\n",
       "      <td>2</td>\n",
       "    </tr>\n",
       "    <tr>\n",
       "      <th>5642</th>\n",
       "      <td>2704</td>\n",
       "      <td>175721</td>\n",
       "      <td>1</td>\n",
       "      <td>2020-12-14 14:52:00</td>\n",
       "      <td>5</td>\n",
       "      <td>2</td>\n",
       "      <td>2020-12-14 14:49:30</td>\n",
       "      <td>0 days 00:02:30</td>\n",
       "      <td>2020-12-14 14:52:00</td>\n",
       "      <td>0 days 00:02:30</td>\n",
       "      <td>0 days 00:00:00</td>\n",
       "      <td>0 days 00:02:00</td>\n",
       "      <td>1</td>\n",
       "      <td>2</td>\n",
       "    </tr>\n",
       "    <tr>\n",
       "      <th>5860</th>\n",
       "      <td>2712</td>\n",
       "      <td>175283</td>\n",
       "      <td>8</td>\n",
       "      <td>2020-12-14 17:47:00</td>\n",
       "      <td>5</td>\n",
       "      <td>1</td>\n",
       "      <td>2020-12-14 17:42:31</td>\n",
       "      <td>0 days 00:04:29</td>\n",
       "      <td>2020-12-14 17:47:00</td>\n",
       "      <td>0 days 00:04:29</td>\n",
       "      <td>0 days 00:00:00</td>\n",
       "      <td>0 days 00:00:00</td>\n",
       "      <td>8</td>\n",
       "      <td>8</td>\n",
       "    </tr>\n",
       "  </tbody>\n",
       "</table>\n",
       "</div>"
      ],
      "text/plain": [
       "      collect_id  order_id  products_quantity        collect_date  \\\n",
       "5183        2691    174972                  1 2020-12-12 16:11:00   \n",
       "5184        2691    174951                  1 2020-12-12 16:11:00   \n",
       "5641        2704    175593                  1 2020-12-14 14:54:00   \n",
       "5642        2704    175721                  1 2020-12-14 14:52:00   \n",
       "5860        2712    175283                  8 2020-12-14 17:47:00   \n",
       "\n",
       "      warehouse_name  num_orders          created_at    collect_time  \\\n",
       "5183               5           7 2020-12-12 16:02:49 0 days 00:08:11   \n",
       "5184               5           7 2020-12-12 16:02:49 0 days 00:08:11   \n",
       "5641               5           2 2020-12-14 14:49:30 0 days 00:04:30   \n",
       "5642               5           2 2020-12-14 14:49:30 0 days 00:02:30   \n",
       "5860               5           1 2020-12-14 17:42:31 0 days 00:04:29   \n",
       "\n",
       "     approx_store_walk_end approx_store_walk_time time_order_sorted  \\\n",
       "5183   2020-12-12 16:11:00        0 days 00:08:11   0 days 00:00:00   \n",
       "5184   2020-12-12 16:11:00        0 days 00:08:11   0 days 00:00:00   \n",
       "5641   2020-12-14 14:52:00        0 days 00:02:30   0 days 00:02:00   \n",
       "5642   2020-12-14 14:52:00        0 days 00:02:30   0 days 00:00:00   \n",
       "5860   2020-12-14 17:47:00        0 days 00:04:29   0 days 00:00:00   \n",
       "\n",
       "     collect_sort_time  products_quantity_unique  \\\n",
       "5183   0 days 00:00:00                         1   \n",
       "5184   0 days 00:00:00                         1   \n",
       "5641   0 days 00:02:00                         1   \n",
       "5642   0 days 00:02:00                         1   \n",
       "5860   0 days 00:00:00                         8   \n",
       "\n",
       "      products_quantity_unique_in_collect  \n",
       "5183                                    2  \n",
       "5184                                    2  \n",
       "5641                                    2  \n",
       "5642                                    2  \n",
       "5860                                    8  "
      ]
     },
     "execution_count": 19,
     "metadata": {},
     "output_type": "execute_result"
    }
   ],
   "source": [
    "order_collects_df.head()"
   ]
  },
  {
   "cell_type": "markdown",
   "id": "b4766ada",
   "metadata": {},
   "source": [
    "# Experiment 1 \n",
    "# Lin reg no transforms"
   ]
  },
  {
   "cell_type": "markdown",
   "id": "4fbe8593",
   "metadata": {},
   "source": [
    "Feature: total number of products in order\n",
    "\n",
    "Target: time of store walk and orders collection\n"
   ]
  },
  {
   "cell_type": "code",
   "execution_count": null,
   "id": "a071f602",
   "metadata": {
    "scrolled": true
   },
   "outputs": [],
   "source": []
  },
  {
   "cell_type": "code",
   "execution_count": 20,
   "id": "33121446",
   "metadata": {
    "scrolled": true
   },
   "outputs": [],
   "source": [
    "x_vals = list(order_collects_df.groupby(\"collect_id\")[\"products_quantity\"].sum())"
   ]
  },
  {
   "cell_type": "code",
   "execution_count": 21,
   "id": "d2168d41",
   "metadata": {},
   "outputs": [],
   "source": [
    "collect_id_keys = list(order_collects_df.groupby(\"collect_id\")[\"products_quantity\"].sum().index)"
   ]
  },
  {
   "cell_type": "code",
   "execution_count": 22,
   "id": "1b0648c3",
   "metadata": {},
   "outputs": [],
   "source": [
    "collect_id_keys_train = collect_id_keys[:int(len(collect_id_keys) * 0.8)]\n",
    "collect_id_keys_val = collect_id_keys[int(len(collect_id_keys) * 0.8):]\n",
    "\n",
    "train_keys = collect_id_keys_train\n",
    "val_keys = collect_id_keys_val"
   ]
  },
  {
   "cell_type": "code",
   "execution_count": 23,
   "id": "89c50ea1",
   "metadata": {
    "scrolled": true
   },
   "outputs": [],
   "source": [
    "y_vals = list(order_collects_df.groupby(\"collect_id\")[\"approx_store_walk_time\"].mean().dt.total_seconds())"
   ]
  },
  {
   "cell_type": "code",
   "execution_count": 24,
   "id": "75abce3c",
   "metadata": {
    "scrolled": true
   },
   "outputs": [],
   "source": [
    "import random\n",
    "random.seed(21)\n",
    "\n",
    "xy_vals = list(zip(x_vals, y_vals))\n",
    "random.Random(21).shuffle(xy_vals)\n",
    "random.Random(21).shuffle(collect_id_keys)\n"
   ]
  },
  {
   "cell_type": "code",
   "execution_count": 25,
   "id": "7734f496",
   "metadata": {},
   "outputs": [
    {
     "data": {
      "text/plain": [
       "13558"
      ]
     },
     "execution_count": 25,
     "metadata": {},
     "output_type": "execute_result"
    }
   ],
   "source": [
    "collect_id_keys[0]"
   ]
  },
  {
   "cell_type": "code",
   "execution_count": 26,
   "id": "51e4bf96",
   "metadata": {
    "scrolled": true
   },
   "outputs": [],
   "source": [
    "x_vals = [x[0] for x in xy_vals]\n",
    "y_vals = [x[1] for x in xy_vals]"
   ]
  },
  {
   "cell_type": "markdown",
   "id": "5f79bd1c",
   "metadata": {},
   "source": [
    "**y_plot**"
   ]
  },
  {
   "cell_type": "code",
   "execution_count": 27,
   "id": "6df1f062",
   "metadata": {
    "scrolled": true
   },
   "outputs": [
    {
     "data": {
      "image/png": "[encoded data removed]",
      "text/plain": [
       "<Figure size 432x288 with 1 Axes>"
      ]
     },
     "metadata": {
      "needs_background": "light"
     },
     "output_type": "display_data"
    }
   ],
   "source": [
    "plt.ylabel(\"num collects\")\n",
    "plt.xlabel(\"seconds spent walking\")\n",
    "plt.hist(y_vals, bins=50)\n",
    "plt.savefig('plots/seconds_spent_walking.png')"
   ]
  },
  {
   "cell_type": "code",
   "execution_count": 28,
   "id": "e75007f1",
   "metadata": {
    "scrolled": true
   },
   "outputs": [
    {
     "data": {
      "text/plain": [
       "19.932344173441734"
      ]
     },
     "execution_count": 28,
     "metadata": {},
     "output_type": "execute_result"
    }
   ],
   "source": [
    "np.mean(y_vals) / 60"
   ]
  },
  {
   "cell_type": "code",
   "execution_count": 29,
   "id": "3c3b01c6",
   "metadata": {
    "scrolled": true
   },
   "outputs": [
    {
     "data": {
      "text/plain": [
       "29.425359673763126"
      ]
     },
     "execution_count": 29,
     "metadata": {},
     "output_type": "execute_result"
    }
   ],
   "source": [
    "np.std(y_vals) / 60"
   ]
  },
  {
   "cell_type": "code",
   "execution_count": 30,
   "id": "2569a011",
   "metadata": {
    "scrolled": true
   },
   "outputs": [
    {
     "data": {
      "text/plain": [
       "8.025"
      ]
     },
     "execution_count": 30,
     "metadata": {},
     "output_type": "execute_result"
    }
   ],
   "source": [
    "np.median(y_vals) / 60"
   ]
  },
  {
   "cell_type": "code",
   "execution_count": null,
   "id": "7d2de9b4",
   "metadata": {
    "scrolled": true
   },
   "outputs": [],
   "source": []
  },
  {
   "cell_type": "code",
   "execution_count": null,
   "id": "2fa7906d",
   "metadata": {
    "scrolled": true
   },
   "outputs": [],
   "source": []
  },
  {
   "cell_type": "markdown",
   "id": "b5a5b26a",
   "metadata": {},
   "source": [
    "**x_plot**"
   ]
  },
  {
   "cell_type": "code",
   "execution_count": 31,
   "id": "c424b14b",
   "metadata": {
    "scrolled": true
   },
   "outputs": [
    {
     "data": {
      "image/png": "[encoded data removed]",
      "text/plain": [
       "<Figure size 432x288 with 1 Axes>"
      ]
     },
     "metadata": {
      "needs_background": "light"
     },
     "output_type": "display_data"
    }
   ],
   "source": [
    "plt.xlabel(\"total products quantity in collect\")\n",
    "plt.ylabel(\"num collects\")\n",
    "plt.hist(x_vals, bins= 50)\n",
    "plt.savefig('plots/total_products_quantity_in_collect.png')"
   ]
  },
  {
   "cell_type": "code",
   "execution_count": null,
   "id": "23ae68dd",
   "metadata": {
    "scrolled": true
   },
   "outputs": [],
   "source": []
  },
  {
   "cell_type": "code",
   "execution_count": 32,
   "id": "061d8595",
   "metadata": {
    "scrolled": true
   },
   "outputs": [
    {
     "data": {
      "image/png": "[encoded data removed]",
      "text/plain": [
       "<Figure size 432x288 with 1 Axes>"
      ]
     },
     "metadata": {
      "needs_background": "light"
     },
     "output_type": "display_data"
    }
   ],
   "source": [
    "plt.xlabel(\"total number of products in order\")\n",
    "plt.ylabel(\"time of store walk and orders collection\")\n",
    "plt.scatter(x_vals, y_vals)\n",
    "plt.savefig('plots/exp1_alldata_correlation.png')"
   ]
  },
  {
   "cell_type": "code",
   "execution_count": null,
   "id": "76942b11",
   "metadata": {
    "scrolled": true
   },
   "outputs": [],
   "source": []
  },
  {
   "cell_type": "code",
   "execution_count": 33,
   "id": "4ce25b12",
   "metadata": {
    "scrolled": true
   },
   "outputs": [
    {
     "data": {
      "text/plain": [
       "array([[1.        , 0.41129742],\n",
       "       [0.41129742, 1.        ]])"
      ]
     },
     "execution_count": 33,
     "metadata": {},
     "output_type": "execute_result"
    }
   ],
   "source": [
    "np.corrcoef(x_vals, y_vals) # Pearson"
   ]
  },
  {
   "cell_type": "code",
   "execution_count": null,
   "id": "cf8d49a4",
   "metadata": {
    "scrolled": true
   },
   "outputs": [],
   "source": []
  },
  {
   "cell_type": "code",
   "execution_count": 34,
   "id": "d7a83bce",
   "metadata": {
    "scrolled": true
   },
   "outputs": [
    {
     "data": {
      "text/plain": [
       "0.10955234476985842"
      ]
     },
     "execution_count": 34,
     "metadata": {},
     "output_type": "execute_result"
    }
   ],
   "source": [
    "# simple\n",
    "\n",
    "import numpy as np\n",
    "from sklearn.linear_model import LinearRegression\n",
    "from sklearn.metrics import mean_absolute_error as mae\n",
    "\n",
    "X = np.array([[v] for v in x_vals]).reshape(-1, 1)\n",
    "reg = LinearRegression().fit(X[:int(len(y_vals) * 0.8)], np.array(y_vals[:int(len(y_vals) * 0.8)]))\n",
    "reg.score(X[int(len(y_vals) * 0.8):], y_vals[int(len(y_vals) * 0.8):])"
   ]
  },
  {
   "cell_type": "code",
   "execution_count": 35,
   "id": "56d9793a",
   "metadata": {
    "scrolled": true
   },
   "outputs": [
    {
     "data": {
      "text/plain": [
       "16.17398408208394"
      ]
     },
     "execution_count": 35,
     "metadata": {},
     "output_type": "execute_result"
    }
   ],
   "source": [
    "# train\n",
    "mae(reg.predict(X[:int(len(y_vals) * 0.8)]), y_vals[:int(len(y_vals) * 0.8)]) / 60"
   ]
  },
  {
   "cell_type": "code",
   "execution_count": 36,
   "id": "3c8a443e",
   "metadata": {
    "scrolled": true
   },
   "outputs": [
    {
     "data": {
      "text/plain": [
       "19.50239635968031"
      ]
     },
     "execution_count": 36,
     "metadata": {},
     "output_type": "execute_result"
    }
   ],
   "source": [
    "# val\n",
    "mae(reg.predict(X[int(len(y_vals) * 0.8):]), y_vals[int(len(y_vals) * 0.8):]) / 60"
   ]
  },
  {
   "cell_type": "code",
   "execution_count": 37,
   "id": "4b9f90fd",
   "metadata": {
    "scrolled": true
   },
   "outputs": [
    {
     "data": {
      "image/png": "[encoded data removed]",
      "text/plain": [
       "<Figure size 432x288 with 1 Axes>"
      ]
     },
     "metadata": {
      "needs_background": "light"
     },
     "output_type": "display_data"
    }
   ],
   "source": [
    "# errors plot\n",
    "plt.ylabel(\"num validation samples\")\n",
    "plt.xlabel(\"minutes error (y_pred - y_true)\")\n",
    "plt.hist((reg.predict(X[int(len(y_vals) * 0.8):]) - y_vals[int(len(y_vals) * 0.8):]) / 60, bins = 50)\n",
    "plt.savefig('plots/exp1_alldata_errors_plot.png')"
   ]
  },
  {
   "cell_type": "code",
   "execution_count": null,
   "id": "4047e760",
   "metadata": {
    "scrolled": true
   },
   "outputs": [],
   "source": []
  },
  {
   "cell_type": "code",
   "execution_count": 38,
   "id": "2d1cbeb6",
   "metadata": {
    "scrolled": true
   },
   "outputs": [
    {
     "data": {
      "text/plain": [
       "246"
      ]
     },
     "execution_count": 38,
     "metadata": {},
     "output_type": "execute_result"
    }
   ],
   "source": [
    "len(y_vals[int(len(y_vals) * 0.8):])"
   ]
  },
  {
   "cell_type": "code",
   "execution_count": 39,
   "id": "a832c414",
   "metadata": {
    "scrolled": true
   },
   "outputs": [
    {
     "data": {
      "text/plain": [
       "22"
      ]
     },
     "execution_count": 39,
     "metadata": {},
     "output_type": "execute_result"
    }
   ],
   "source": [
    "np.sum(np.abs((reg.predict(X[int(len(y_vals) * 0.8):]) - y_vals[int(len(y_vals) * 0.8):]) / 60) < 5 )"
   ]
  },
  {
   "cell_type": "code",
   "execution_count": 40,
   "id": "f96f99ad",
   "metadata": {
    "scrolled": true
   },
   "outputs": [
    {
     "data": {
      "text/plain": [
       "0.08943089430894309"
      ]
     },
     "execution_count": 40,
     "metadata": {},
     "output_type": "execute_result"
    }
   ],
   "source": [
    "22 / 246 # 13% of validations samples were predicted with error of < 5 mins"
   ]
  },
  {
   "cell_type": "code",
   "execution_count": 41,
   "id": "17ab9f7b",
   "metadata": {
    "scrolled": true
   },
   "outputs": [
    {
     "data": {
      "text/plain": [
       "73"
      ]
     },
     "execution_count": 41,
     "metadata": {},
     "output_type": "execute_result"
    }
   ],
   "source": [
    "np.sum(np.abs((reg.predict(X[int(len(y_vals) * 0.8):]) - y_vals[int(len(y_vals) * 0.8):]) / 60) < 10 )"
   ]
  },
  {
   "cell_type": "code",
   "execution_count": 42,
   "id": "d806d265",
   "metadata": {
    "scrolled": true
   },
   "outputs": [
    {
     "data": {
      "text/plain": [
       "0.2967479674796748"
      ]
     },
     "execution_count": 42,
     "metadata": {},
     "output_type": "execute_result"
    }
   ],
   "source": [
    "73 / 246 # 10% of validations samples were predicted with error of < 10 mins"
   ]
  },
  {
   "cell_type": "code",
   "execution_count": 43,
   "id": "f3be1413",
   "metadata": {
    "scrolled": true
   },
   "outputs": [],
   "source": [
    "l = {\"experiment_num\": \"1\", \n",
    " \"model_type\": \"Lin reg no processing\", \n",
    " \"train_mae\": mae(reg.predict(X[:int(len(y_vals) * 0.8)]), y_vals[:int(len(y_vals) * 0.8)]) / 60, \n",
    " \"val_mae\": mae(reg.predict(X[int(len(y_vals) * 0.8):]), y_vals[int(len(y_vals) * 0.8):]) / 60, \n",
    " \"perc_lt_5mins\": np.sum(np.abs((reg.predict(X[int(len(y_vals) * 0.8):]) - y_vals[int(len(y_vals) * 0.8):]) / 60) < 5 ) / len(y_vals[int(len(y_vals) * 0.8):]),\n",
    " \"perc_lt_10mins\": np.sum(np.abs((reg.predict(X[int(len(y_vals) * 0.8):]) - y_vals[int(len(y_vals) * 0.8):]) / 60) < 10 ) / len(y_vals[int(len(y_vals) * 0.8):]),\n",
    "    \"train_preds\": reg.predict(X[:int(len(y_vals) * 0.8)]),\n",
    "    \"val_preds\": reg.predict(X[int(len(y_vals) * 0.8):])}\n",
    "\n",
    "metrics_df_lst.append(l)\n",
    "\n"
   ]
  },
  {
   "cell_type": "code",
   "execution_count": null,
   "id": "a05c9a0a",
   "metadata": {},
   "outputs": [],
   "source": []
  },
  {
   "cell_type": "code",
   "execution_count": null,
   "id": "dd19c7d9",
   "metadata": {},
   "outputs": [],
   "source": []
  },
  {
   "cell_type": "code",
   "execution_count": null,
   "id": "827be6d9",
   "metadata": {},
   "outputs": [],
   "source": []
  },
  {
   "cell_type": "markdown",
   "id": "446f523a",
   "metadata": {},
   "source": [
    "# Experiment 1 \n",
    "# Lin reg x and y tranforms"
   ]
  },
  {
   "cell_type": "code",
   "execution_count": 44,
   "id": "615a873a",
   "metadata": {
    "scrolled": true
   },
   "outputs": [],
   "source": [
    "def transform_y(y):\n",
    "    return np.cbrt(y)\n",
    "\n",
    "def inv_transform_y(y):\n",
    "    return np.power(y,3)\n",
    "\n",
    "def transform_products_quantity(x):\n",
    "    return np.cbrt(x)\n",
    "\n",
    "def inv_transform_products_quantity(x):\n",
    "    return np.power(x,3)"
   ]
  },
  {
   "cell_type": "markdown",
   "id": "945c7d8a",
   "metadata": {},
   "source": [
    "### Cbrt Target distribution:"
   ]
  },
  {
   "cell_type": "code",
   "execution_count": 45,
   "id": "585c1765",
   "metadata": {
    "scrolled": true
   },
   "outputs": [
    {
     "data": {
      "image/png": "[encoded data removed]",
      "text/plain": [
       "<Figure size 432x288 with 1 Axes>"
      ]
     },
     "metadata": {
      "needs_background": "light"
     },
     "output_type": "display_data"
    }
   ],
   "source": [
    "plt.hist(transform_y(y_vals), bins=30) # not involved\n",
    "\n",
    "plt.ylabel(\"num collects\")\n",
    "plt.xlabel(\"cbrt seconds spent walking\")\n",
    "plt.savefig('plots/cbrt_seconds_spent_walking.png')"
   ]
  },
  {
   "cell_type": "code",
   "execution_count": null,
   "id": "949c4004",
   "metadata": {
    "scrolled": true
   },
   "outputs": [],
   "source": []
  },
  {
   "cell_type": "code",
   "execution_count": 46,
   "id": "d72deaa7",
   "metadata": {
    "scrolled": true
   },
   "outputs": [],
   "source": [
    "# CBRT total_products_quantity"
   ]
  },
  {
   "cell_type": "code",
   "execution_count": 47,
   "id": "c9b2e38c",
   "metadata": {
    "scrolled": true
   },
   "outputs": [
    {
     "data": {
      "image/png": "[encoded data removed]",
      "text/plain": [
       "<Figure size 432x288 with 1 Axes>"
      ]
     },
     "metadata": {
      "needs_background": "light"
     },
     "output_type": "display_data"
    }
   ],
   "source": [
    "plt.hist(transform_products_quantity(x_vals),bins = 30)\n",
    "plt.xlabel(\"cbrt total products quantity in collect\")\n",
    "plt.ylabel(\"num collects\")\n",
    "plt.savefig('plots/cbrt_total_products_quantity_in_collect.png')"
   ]
  },
  {
   "cell_type": "code",
   "execution_count": 48,
   "id": "9d91c1d5",
   "metadata": {
    "scrolled": true
   },
   "outputs": [],
   "source": [
    "# Cbrt Feature,cbrt  target correlation"
   ]
  },
  {
   "cell_type": "code",
   "execution_count": 49,
   "id": "16b01088",
   "metadata": {
    "scrolled": true
   },
   "outputs": [
    {
     "data": {
      "image/png": "[encoded data removed]",
      "text/plain": [
       "<Figure size 432x288 with 1 Axes>"
      ]
     },
     "metadata": {
      "needs_background": "light"
     },
     "output_type": "display_data"
    }
   ],
   "source": [
    "plt.scatter(transform_products_quantity(x_vals), transform_y(y_vals))\n",
    "plt.xlabel(\"cbrt total number of products in order\")\n",
    "plt.ylabel(\"cbrt time of store walk and orders collection\")\n",
    "plt.savefig('plots/exp1_cbrt_alldata_correlation.png')"
   ]
  },
  {
   "cell_type": "code",
   "execution_count": 50,
   "id": "6b1bcea9",
   "metadata": {
    "scrolled": true
   },
   "outputs": [
    {
     "data": {
      "text/plain": [
       "array([[1.        , 0.51570707],\n",
       "       [0.51570707, 1.        ]])"
      ]
     },
     "execution_count": 50,
     "metadata": {},
     "output_type": "execute_result"
    }
   ],
   "source": [
    "np.corrcoef(transform_products_quantity(x_vals), transform_y(y_vals)) "
   ]
  },
  {
   "cell_type": "code",
   "execution_count": null,
   "id": "9196b0b3",
   "metadata": {
    "scrolled": true
   },
   "outputs": [],
   "source": []
  },
  {
   "cell_type": "code",
   "execution_count": 51,
   "id": "487eb342",
   "metadata": {
    "scrolled": true
   },
   "outputs": [
    {
     "data": {
      "text/plain": [
       "0.2281108857051265"
      ]
     },
     "execution_count": 51,
     "metadata": {},
     "output_type": "execute_result"
    }
   ],
   "source": [
    "import numpy as np\n",
    "from sklearn.linear_model import LinearRegression\n",
    "from sklearn.metrics import mean_absolute_error as mae\n",
    "\n",
    "from sklearn.ensemble import RandomForestRegressor\n",
    "\n",
    "X = np.array([[v] for v in x_vals]).reshape(-1, 1)\n",
    "reg = LinearRegression().fit( transform_products_quantity(X[:int(len(y_vals) * 0.8)]), transform_y(np.array(y_vals[:int(len(y_vals) * 0.8)])))\n",
    "reg.score(transform_products_quantity(X[int(len(y_vals) * 0.8):]), transform_y(y_vals[int(len(y_vals) * 0.8):]))"
   ]
  },
  {
   "cell_type": "code",
   "execution_count": 52,
   "id": "28f0ca85",
   "metadata": {
    "scrolled": true
   },
   "outputs": [
    {
     "data": {
      "text/plain": [
       "13.373244976842237"
      ]
     },
     "execution_count": 52,
     "metadata": {},
     "output_type": "execute_result"
    }
   ],
   "source": [
    "# train mae\n",
    "mae(inv_transform_y(reg.predict(transform_products_quantity(X[:int(len(y_vals) * 0.8)]))), y_vals[:int(len(y_vals) * 0.8)]) / 60"
   ]
  },
  {
   "cell_type": "code",
   "execution_count": 53,
   "id": "cb3aca00",
   "metadata": {
    "scrolled": true
   },
   "outputs": [
    {
     "data": {
      "text/plain": [
       "16.24237568872319"
      ]
     },
     "execution_count": 53,
     "metadata": {},
     "output_type": "execute_result"
    }
   ],
   "source": [
    "# val mae\n",
    "mae(inv_transform_y(reg.predict(transform_products_quantity(X[int(len(y_vals) * 0.8):]))), y_vals[int(len(y_vals) * 0.8):]) / 60"
   ]
  },
  {
   "cell_type": "code",
   "execution_count": 54,
   "id": "8a3ecf07",
   "metadata": {
    "scrolled": true
   },
   "outputs": [
    {
     "data": {
      "image/png": "[encoded data removed]",
      "text/plain": [
       "<Figure size 432x288 with 1 Axes>"
      ]
     },
     "metadata": {
      "needs_background": "light"
     },
     "output_type": "display_data"
    }
   ],
   "source": [
    "plt.ylabel(\"num validation samples\")\n",
    "plt.xlabel(\"minutes error\")\n",
    "\n",
    "plt.hist((inv_transform_y(reg.predict(transform_products_quantity(X[int(len(y_vals) * 0.8):]))) - y_vals[int(len(y_vals) * 0.8):]) / 60, bins = 50)\n",
    "\n",
    "plt.savefig('plots/exp1_linreg_cbrt_alldata_errors_plot.png')\n"
   ]
  },
  {
   "cell_type": "code",
   "execution_count": 55,
   "id": "3fca8f89",
   "metadata": {
    "scrolled": false
   },
   "outputs": [
    {
     "data": {
      "text/plain": [
       "110"
      ]
     },
     "execution_count": 55,
     "metadata": {},
     "output_type": "execute_result"
    }
   ],
   "source": [
    "np.sum(np.abs((inv_transform_y(reg.predict(transform_products_quantity(X[int(len(y_vals) * 0.8):]))) - y_vals[int(len(y_vals) * 0.8):]) / 60) < 5)"
   ]
  },
  {
   "cell_type": "code",
   "execution_count": 56,
   "id": "a033aa1e",
   "metadata": {
    "scrolled": true
   },
   "outputs": [
    {
     "data": {
      "text/plain": [
       "246"
      ]
     },
     "execution_count": 56,
     "metadata": {},
     "output_type": "execute_result"
    }
   ],
   "source": [
    "len(y_vals[int(len(y_vals) * 0.8):])"
   ]
  },
  {
   "cell_type": "code",
   "execution_count": 57,
   "id": "150e0512",
   "metadata": {
    "scrolled": true
   },
   "outputs": [
    {
     "data": {
      "text/plain": [
       "0.44715447154471544"
      ]
     },
     "execution_count": 57,
     "metadata": {},
     "output_type": "execute_result"
    }
   ],
   "source": [
    "110 / 246 # 30% with error < 5 mins"
   ]
  },
  {
   "cell_type": "code",
   "execution_count": 58,
   "id": "bf4220b7",
   "metadata": {
    "scrolled": true
   },
   "outputs": [
    {
     "data": {
      "text/plain": [
       "172"
      ]
     },
     "execution_count": 58,
     "metadata": {},
     "output_type": "execute_result"
    }
   ],
   "source": [
    "np.sum(np.abs((inv_transform_y(reg.predict(transform_products_quantity(X[int(len(y_vals) * 0.8):]))) - y_vals[int(len(y_vals) * 0.8):]) / 60) < 10)"
   ]
  },
  {
   "cell_type": "code",
   "execution_count": 59,
   "id": "030fba21",
   "metadata": {
    "scrolled": true
   },
   "outputs": [
    {
     "data": {
      "text/plain": [
       "0.6991869918699187"
      ]
     },
     "execution_count": 59,
     "metadata": {},
     "output_type": "execute_result"
    }
   ],
   "source": [
    "172 / 246 # 54% with error < 10 mins"
   ]
  },
  {
   "cell_type": "code",
   "execution_count": null,
   "id": "4d913ef2",
   "metadata": {
    "scrolled": true
   },
   "outputs": [],
   "source": []
  },
  {
   "cell_type": "code",
   "execution_count": 60,
   "id": "73b42210",
   "metadata": {},
   "outputs": [],
   "source": [
    "l = {\"experiment_num\": \"1\", \n",
    " \"model_type\": \"Lin reg x,y cbrt\", \n",
    " \"train_mae\": mae(inv_transform_y(reg.predict(transform_products_quantity(X[:int(len(y_vals) * 0.8)]))), y_vals[:int(len(y_vals) * 0.8)]) / 60, \n",
    " \"val_mae\": mae(inv_transform_y(reg.predict(transform_products_quantity(X[int(len(y_vals) * 0.8):]))), y_vals[int(len(y_vals) * 0.8):]) / 60, \n",
    " \"perc_lt_5mins\": np.sum(np.abs((inv_transform_y(reg.predict(transform_products_quantity(X[int(len(y_vals) * 0.8):]))) - y_vals[int(len(y_vals) * 0.8):]) / 60) < 5) / len(y_vals[int(len(y_vals) * 0.8):]),\n",
    " \"perc_lt_10mins\": np.sum(np.abs((inv_transform_y(reg.predict(transform_products_quantity(X[int(len(y_vals) * 0.8):]))) - y_vals[int(len(y_vals) * 0.8):]) / 60) < 10) / len(y_vals[int(len(y_vals) * 0.8):]),\n",
    "    \"train_preds\": inv_transform_y(reg.predict(transform_products_quantity(X[:int(len(y_vals) * 0.8)]))),\n",
    "    \"val_preds\": inv_transform_y(reg.predict(transform_products_quantity(X[int(len(y_vals) * 0.8):])))}\n",
    "\n",
    "metrics_df_lst.append(l)"
   ]
  },
  {
   "cell_type": "code",
   "execution_count": null,
   "id": "ce3cb5ef",
   "metadata": {},
   "outputs": [],
   "source": []
  },
  {
   "cell_type": "code",
   "execution_count": null,
   "id": "d6ad865a",
   "metadata": {},
   "outputs": [],
   "source": []
  },
  {
   "cell_type": "code",
   "execution_count": null,
   "id": "e0d9e778",
   "metadata": {
    "scrolled": true
   },
   "outputs": [],
   "source": []
  },
  {
   "cell_type": "code",
   "execution_count": 61,
   "id": "8b4d5fba",
   "metadata": {
    "scrolled": true
   },
   "outputs": [
    {
     "data": {
      "text/plain": [
       "0.5916149068322981"
      ]
     },
     "execution_count": 61,
     "metadata": {},
     "output_type": "execute_result"
    }
   ],
   "source": [
    "381 / 644 # 59% can be predicted with error < 10 minutes"
   ]
  },
  {
   "cell_type": "code",
   "execution_count": 62,
   "id": "82eeee44",
   "metadata": {
    "scrolled": true
   },
   "outputs": [
    {
     "data": {
      "text/plain": [
       "0.7003105590062112"
      ]
     },
     "execution_count": 62,
     "metadata": {},
     "output_type": "execute_result"
    }
   ],
   "source": [
    "451 / 644 # 70% can be predicted with error < 15 minutes"
   ]
  },
  {
   "cell_type": "code",
   "execution_count": 63,
   "id": "2cc6699f",
   "metadata": {
    "scrolled": true
   },
   "outputs": [
    {
     "data": {
      "text/plain": [
       "0.7779503105590062"
      ]
     },
     "execution_count": 63,
     "metadata": {},
     "output_type": "execute_result"
    }
   ],
   "source": [
    "501 / 644 # 78% can be predicted with error < 20 minutes"
   ]
  },
  {
   "cell_type": "code",
   "execution_count": 64,
   "id": "cd60b175",
   "metadata": {
    "scrolled": true
   },
   "outputs": [
    {
     "data": {
      "text/plain": [
       "(array([174.,  26.,  12.,  10.,   7.,   5.,   1.,   1.,   3.,   7.]),\n",
       " array([  0.55      ,  16.65833333,  32.76666667,  48.875     ,\n",
       "         64.98333333,  81.09166667,  97.2       , 113.30833333,\n",
       "        129.41666667, 145.525     , 161.63333333]),\n",
       " <BarContainer object of 10 artists>)"
      ]
     },
     "execution_count": 64,
     "metadata": {},
     "output_type": "execute_result"
    },
    {
     "data": {
      "image/png": "[encoded data removed]",
      "text/plain": [
       "<Figure size 432x288 with 1 Axes>"
      ]
     },
     "metadata": {
      "needs_background": "light"
     },
     "output_type": "display_data"
    }
   ],
   "source": [
    "# dist of validation target\n",
    "plt.hist(np.array(y_vals[int(len(y_vals) * 0.8):]) / 60)"
   ]
  },
  {
   "cell_type": "code",
   "execution_count": 65,
   "id": "4c14ffb0",
   "metadata": {
    "scrolled": true
   },
   "outputs": [
    {
     "data": {
      "text/plain": [
       "21.328116531165314"
      ]
     },
     "execution_count": 65,
     "metadata": {},
     "output_type": "execute_result"
    }
   ],
   "source": [
    "np.mean(np.array(y_vals[int(len(y_vals) * 0.8):]) / 60)"
   ]
  },
  {
   "cell_type": "code",
   "execution_count": 66,
   "id": "3e986f38",
   "metadata": {
    "scrolled": true
   },
   "outputs": [
    {
     "data": {
      "text/plain": [
       "34.02130826555971"
      ]
     },
     "execution_count": 66,
     "metadata": {},
     "output_type": "execute_result"
    }
   ],
   "source": [
    "np.std(np.array(y_vals[int(len(y_vals) * 0.8):]) / 60)"
   ]
  },
  {
   "cell_type": "code",
   "execution_count": 67,
   "id": "2ac71467",
   "metadata": {
    "scrolled": true
   },
   "outputs": [
    {
     "data": {
      "text/plain": [
       "(array([232.,   9.,   2.,   1.,   1.,   0.,   0.,   0.,   0.,   1.]),\n",
       " array([  4.76904719,  26.79196554,  48.81488389,  70.83780224,\n",
       "         92.86072058, 114.88363893, 136.90655728, 158.92947562,\n",
       "        180.95239397, 202.97531232, 224.99823067]),\n",
       " <BarContainer object of 10 artists>)"
      ]
     },
     "execution_count": 67,
     "metadata": {},
     "output_type": "execute_result"
    },
    {
     "data": {
      "image/png": "[encoded data removed]",
      "text/plain": [
       "<Figure size 432x288 with 1 Axes>"
      ]
     },
     "metadata": {
      "needs_background": "light"
     },
     "output_type": "display_data"
    }
   ],
   "source": [
    "# dist of validation target predictions\n",
    "plt.hist(inv_transform_y(reg.predict(transform_products_quantity(X[int(len(y_vals) * 0.8):]))) / 60)"
   ]
  },
  {
   "cell_type": "code",
   "execution_count": null,
   "id": "46432c50",
   "metadata": {
    "scrolled": true
   },
   "outputs": [],
   "source": []
  },
  {
   "cell_type": "code",
   "execution_count": null,
   "id": "2113e190",
   "metadata": {},
   "outputs": [],
   "source": []
  },
  {
   "cell_type": "markdown",
   "id": "1077b2a6",
   "metadata": {},
   "source": [
    "# Experiment 1 \n",
    "# LGBM no transforms"
   ]
  },
  {
   "cell_type": "code",
   "execution_count": null,
   "id": "496420ed",
   "metadata": {},
   "outputs": [],
   "source": []
  },
  {
   "cell_type": "code",
   "execution_count": null,
   "id": "f83dcb6e",
   "metadata": {},
   "outputs": [],
   "source": []
  },
  {
   "cell_type": "code",
   "execution_count": 68,
   "id": "09671e20",
   "metadata": {},
   "outputs": [],
   "source": [
    "# from lightgbm import LGBMRegressor\n",
    "\n",
    "# x_vals = list(order_collects_df.groupby(\"collect_id\")[\"products_quantity\"].sum())\n",
    "# y_vals = list(order_collects_df.groupby(\"collect_id\")[\"approx_store_walk_time\"].mean().dt.total_seconds())\n",
    "\n",
    "# import random\n",
    "# random.seed(21)\n",
    "\n",
    "# xy_vals = list(zip(x_vals, y_vals))\n",
    "# random.Random(21).shuffle(xy_vals)\n",
    "\n",
    "# x_vals = [x[0] for x in xy_vals]\n",
    "# y_vals = [x[1] for x in xy_vals]\n",
    "\n",
    "\n",
    "# import numpy as np\n",
    "# from sklearn.linear_model import LinearRegression\n",
    "\n",
    "# from sklearn.ensemble import RandomForestRegressor\n",
    "\n",
    "# from sklearn.metrics import mean_absolute_error as mae\n",
    "\n",
    "# X = np.array([[v] for v in x_vals]).reshape(-1, 1)\n",
    "\n",
    "# from sklearn.model_selection import GridSearchCV\n",
    "# parameters = {\"n_estimators\":[100,200,300],\"max_bin\":[50, 100, 200, 300], \"learning_rate\": [0.01, 0.05, 0.1, 0.3],  \"min_data_in_leaf\": [2, 5, 10, 30, 50],\n",
    "#               \"metric\": [\"mae\"], \"boosting_type\":[\"gbdt\"], \"n_jobs\": [-1]}\n",
    "# lgbm = LGBMRegressor()\n",
    "# reg = GridSearchCV(lgbm, parameters)\n",
    "# reg.fit(X[:int(len(y_vals) * 0.8)], np.array(y_vals[:int(len(y_vals) * 0.8)]))\n",
    "\n",
    "\n",
    "# reg.score(X[int(len(y_vals) * 0.8):], y_vals[int(len(y_vals) * 0.8):])"
   ]
  },
  {
   "cell_type": "code",
   "execution_count": 69,
   "id": "7e08993e",
   "metadata": {},
   "outputs": [],
   "source": [
    "# reg.best_params_"
   ]
  },
  {
   "cell_type": "code",
   "execution_count": 70,
   "id": "057d7145",
   "metadata": {},
   "outputs": [],
   "source": [
    "#train\n",
    "# mae(reg.predict(X[:int(len(y_vals) * 0.8)]), y_vals[:int(len(y_vals) * 0.8)]) / 60"
   ]
  },
  {
   "cell_type": "code",
   "execution_count": 71,
   "id": "6a8ea117",
   "metadata": {},
   "outputs": [],
   "source": [
    "#val\n",
    "# mae(reg.predict(X[int(len(y_vals) * 0.8):]), y_vals[int(len(y_vals) * 0.8):]) / 60"
   ]
  },
  {
   "cell_type": "code",
   "execution_count": null,
   "id": "9899b550",
   "metadata": {},
   "outputs": [],
   "source": []
  },
  {
   "cell_type": "code",
   "execution_count": null,
   "id": "7b036e23",
   "metadata": {
    "scrolled": true
   },
   "outputs": [],
   "source": []
  },
  {
   "cell_type": "markdown",
   "id": "a2390908",
   "metadata": {},
   "source": [
    "# Experiment 1 \n",
    "# RandForest no transforms"
   ]
  },
  {
   "cell_type": "code",
   "execution_count": 72,
   "id": "8c589cc4",
   "metadata": {
    "scrolled": true
   },
   "outputs": [
    {
     "name": "stdout",
     "output_type": "stream",
     "text": [
      "Fitting 5 folds for each of 27 candidates, totalling 135 fits\n",
      "[CV] END criterion=absolute_error, max_samples=None, min_samples_split=2, n_estimators=50, n_jobs=-1; total time=   1.1s\n",
      "[CV] END criterion=absolute_error, max_samples=None, min_samples_split=2, n_estimators=50, n_jobs=-1; total time=   0.2s\n",
      "[CV] END criterion=absolute_error, max_samples=None, min_samples_split=2, n_estimators=50, n_jobs=-1; total time=   0.2s\n",
      "[CV] END criterion=absolute_error, max_samples=None, min_samples_split=2, n_estimators=50, n_jobs=-1; total time=   0.2s\n",
      "[CV] END criterion=absolute_error, max_samples=None, min_samples_split=2, n_estimators=50, n_jobs=-1; total time=   0.2s\n",
      "[CV] END criterion=absolute_error, max_samples=None, min_samples_split=2, n_estimators=100, n_jobs=-1; total time=   0.3s\n",
      "[CV] END criterion=absolute_error, max_samples=None, min_samples_split=2, n_estimators=100, n_jobs=-1; total time=   0.3s\n",
      "[CV] END criterion=absolute_error, max_samples=None, min_samples_split=2, n_estimators=100, n_jobs=-1; total time=   0.2s\n",
      "[CV] END criterion=absolute_error, max_samples=None, min_samples_split=2, n_estimators=100, n_jobs=-1; total time=   0.2s\n",
      "[CV] END criterion=absolute_error, max_samples=None, min_samples_split=2, n_estimators=100, n_jobs=-1; total time=   0.3s\n",
      "[CV] END criterion=absolute_error, max_samples=None, min_samples_split=2, n_estimators=200, n_jobs=-1; total time=   0.4s\n",
      "[CV] END criterion=absolute_error, max_samples=None, min_samples_split=2, n_estimators=200, n_jobs=-1; total time=   0.4s\n",
      "[CV] END criterion=absolute_error, max_samples=None, min_samples_split=2, n_estimators=200, n_jobs=-1; total time=   0.4s\n",
      "[CV] END criterion=absolute_error, max_samples=None, min_samples_split=2, n_estimators=200, n_jobs=-1; total time=   0.4s\n",
      "[CV] END criterion=absolute_error, max_samples=None, min_samples_split=2, n_estimators=200, n_jobs=-1; total time=   0.4s\n",
      "[CV] END criterion=absolute_error, max_samples=None, min_samples_split=10, n_estimators=50, n_jobs=-1; total time=   0.2s\n",
      "[CV] END criterion=absolute_error, max_samples=None, min_samples_split=10, n_estimators=50, n_jobs=-1; total time=   0.2s\n",
      "[CV] END criterion=absolute_error, max_samples=None, min_samples_split=10, n_estimators=50, n_jobs=-1; total time=   0.2s\n",
      "[CV] END criterion=absolute_error, max_samples=None, min_samples_split=10, n_estimators=50, n_jobs=-1; total time=   0.2s\n",
      "[CV] END criterion=absolute_error, max_samples=None, min_samples_split=10, n_estimators=50, n_jobs=-1; total time=   0.2s\n",
      "[CV] END criterion=absolute_error, max_samples=None, min_samples_split=10, n_estimators=100, n_jobs=-1; total time=   0.2s\n",
      "[CV] END criterion=absolute_error, max_samples=None, min_samples_split=10, n_estimators=100, n_jobs=-1; total time=   0.2s\n",
      "[CV] END criterion=absolute_error, max_samples=None, min_samples_split=10, n_estimators=100, n_jobs=-1; total time=   0.2s\n",
      "[CV] END criterion=absolute_error, max_samples=None, min_samples_split=10, n_estimators=100, n_jobs=-1; total time=   0.2s\n",
      "[CV] END criterion=absolute_error, max_samples=None, min_samples_split=10, n_estimators=100, n_jobs=-1; total time=   0.2s\n",
      "[CV] END criterion=absolute_error, max_samples=None, min_samples_split=10, n_estimators=200, n_jobs=-1; total time=   0.4s\n",
      "[CV] END criterion=absolute_error, max_samples=None, min_samples_split=10, n_estimators=200, n_jobs=-1; total time=   0.3s\n",
      "[CV] END criterion=absolute_error, max_samples=None, min_samples_split=10, n_estimators=200, n_jobs=-1; total time=   0.4s\n",
      "[CV] END criterion=absolute_error, max_samples=None, min_samples_split=10, n_estimators=200, n_jobs=-1; total time=   0.4s\n",
      "[CV] END criterion=absolute_error, max_samples=None, min_samples_split=10, n_estimators=200, n_jobs=-1; total time=   0.4s\n",
      "[CV] END criterion=absolute_error, max_samples=None, min_samples_split=30, n_estimators=50, n_jobs=-1; total time=   0.2s\n",
      "[CV] END criterion=absolute_error, max_samples=None, min_samples_split=30, n_estimators=50, n_jobs=-1; total time=   0.2s\n",
      "[CV] END criterion=absolute_error, max_samples=None, min_samples_split=30, n_estimators=50, n_jobs=-1; total time=   0.2s\n",
      "[CV] END criterion=absolute_error, max_samples=None, min_samples_split=30, n_estimators=50, n_jobs=-1; total time=   0.2s\n",
      "[CV] END criterion=absolute_error, max_samples=None, min_samples_split=30, n_estimators=50, n_jobs=-1; total time=   0.2s\n",
      "[CV] END criterion=absolute_error, max_samples=None, min_samples_split=30, n_estimators=100, n_jobs=-1; total time=   0.2s\n",
      "[CV] END criterion=absolute_error, max_samples=None, min_samples_split=30, n_estimators=100, n_jobs=-1; total time=   0.2s\n",
      "[CV] END criterion=absolute_error, max_samples=None, min_samples_split=30, n_estimators=100, n_jobs=-1; total time=   0.2s\n",
      "[CV] END criterion=absolute_error, max_samples=None, min_samples_split=30, n_estimators=100, n_jobs=-1; total time=   0.2s\n",
      "[CV] END criterion=absolute_error, max_samples=None, min_samples_split=30, n_estimators=100, n_jobs=-1; total time=   0.2s\n",
      "[CV] END criterion=absolute_error, max_samples=None, min_samples_split=30, n_estimators=200, n_jobs=-1; total time=   0.4s\n",
      "[CV] END criterion=absolute_error, max_samples=None, min_samples_split=30, n_estimators=200, n_jobs=-1; total time=   0.4s\n",
      "[CV] END criterion=absolute_error, max_samples=None, min_samples_split=30, n_estimators=200, n_jobs=-1; total time=   0.3s\n",
      "[CV] END criterion=absolute_error, max_samples=None, min_samples_split=30, n_estimators=200, n_jobs=-1; total time=   0.4s\n",
      "[CV] END criterion=absolute_error, max_samples=None, min_samples_split=30, n_estimators=200, n_jobs=-1; total time=   0.4s\n",
      "[CV] END criterion=absolute_error, max_samples=0.6, min_samples_split=2, n_estimators=50, n_jobs=-1; total time=   0.2s\n",
      "[CV] END criterion=absolute_error, max_samples=0.6, min_samples_split=2, n_estimators=50, n_jobs=-1; total time=   0.2s\n",
      "[CV] END criterion=absolute_error, max_samples=0.6, min_samples_split=2, n_estimators=50, n_jobs=-1; total time=   0.2s\n",
      "[CV] END criterion=absolute_error, max_samples=0.6, min_samples_split=2, n_estimators=50, n_jobs=-1; total time=   0.2s\n",
      "[CV] END criterion=absolute_error, max_samples=0.6, min_samples_split=2, n_estimators=50, n_jobs=-1; total time=   0.2s\n",
      "[CV] END criterion=absolute_error, max_samples=0.6, min_samples_split=2, n_estimators=100, n_jobs=-1; total time=   0.2s\n",
      "[CV] END criterion=absolute_error, max_samples=0.6, min_samples_split=2, n_estimators=100, n_jobs=-1; total time=   0.2s\n",
      "[CV] END criterion=absolute_error, max_samples=0.6, min_samples_split=2, n_estimators=100, n_jobs=-1; total time=   0.2s\n",
      "[CV] END criterion=absolute_error, max_samples=0.6, min_samples_split=2, n_estimators=100, n_jobs=-1; total time=   0.2s\n",
      "[CV] END criterion=absolute_error, max_samples=0.6, min_samples_split=2, n_estimators=100, n_jobs=-1; total time=   0.2s\n",
      "[CV] END criterion=absolute_error, max_samples=0.6, min_samples_split=2, n_estimators=200, n_jobs=-1; total time=   0.4s\n",
      "[CV] END criterion=absolute_error, max_samples=0.6, min_samples_split=2, n_estimators=200, n_jobs=-1; total time=   0.4s\n",
      "[CV] END criterion=absolute_error, max_samples=0.6, min_samples_split=2, n_estimators=200, n_jobs=-1; total time=   0.4s\n",
      "[CV] END criterion=absolute_error, max_samples=0.6, min_samples_split=2, n_estimators=200, n_jobs=-1; total time=   0.4s\n",
      "[CV] END criterion=absolute_error, max_samples=0.6, min_samples_split=2, n_estimators=200, n_jobs=-1; total time=   0.4s\n",
      "[CV] END criterion=absolute_error, max_samples=0.6, min_samples_split=10, n_estimators=50, n_jobs=-1; total time=   0.2s\n",
      "[CV] END criterion=absolute_error, max_samples=0.6, min_samples_split=10, n_estimators=50, n_jobs=-1; total time=   0.2s\n",
      "[CV] END criterion=absolute_error, max_samples=0.6, min_samples_split=10, n_estimators=50, n_jobs=-1; total time=   0.2s\n",
      "[CV] END criterion=absolute_error, max_samples=0.6, min_samples_split=10, n_estimators=50, n_jobs=-1; total time=   0.2s\n",
      "[CV] END criterion=absolute_error, max_samples=0.6, min_samples_split=10, n_estimators=50, n_jobs=-1; total time=   0.2s\n",
      "[CV] END criterion=absolute_error, max_samples=0.6, min_samples_split=10, n_estimators=100, n_jobs=-1; total time=   0.2s\n",
      "[CV] END criterion=absolute_error, max_samples=0.6, min_samples_split=10, n_estimators=100, n_jobs=-1; total time=   0.2s\n"
     ]
    },
    {
     "name": "stdout",
     "output_type": "stream",
     "text": [
      "[CV] END criterion=absolute_error, max_samples=0.6, min_samples_split=10, n_estimators=100, n_jobs=-1; total time=   0.2s\n",
      "[CV] END criterion=absolute_error, max_samples=0.6, min_samples_split=10, n_estimators=100, n_jobs=-1; total time=   0.2s\n",
      "[CV] END criterion=absolute_error, max_samples=0.6, min_samples_split=10, n_estimators=100, n_jobs=-1; total time=   0.3s\n",
      "[CV] END criterion=absolute_error, max_samples=0.6, min_samples_split=10, n_estimators=200, n_jobs=-1; total time=   0.4s\n",
      "[CV] END criterion=absolute_error, max_samples=0.6, min_samples_split=10, n_estimators=200, n_jobs=-1; total time=   0.4s\n",
      "[CV] END criterion=absolute_error, max_samples=0.6, min_samples_split=10, n_estimators=200, n_jobs=-1; total time=   0.4s\n",
      "[CV] END criterion=absolute_error, max_samples=0.6, min_samples_split=10, n_estimators=200, n_jobs=-1; total time=   0.4s\n",
      "[CV] END criterion=absolute_error, max_samples=0.6, min_samples_split=10, n_estimators=200, n_jobs=-1; total time=   0.4s\n",
      "[CV] END criterion=absolute_error, max_samples=0.6, min_samples_split=30, n_estimators=50, n_jobs=-1; total time=   0.2s\n",
      "[CV] END criterion=absolute_error, max_samples=0.6, min_samples_split=30, n_estimators=50, n_jobs=-1; total time=   0.2s\n",
      "[CV] END criterion=absolute_error, max_samples=0.6, min_samples_split=30, n_estimators=50, n_jobs=-1; total time=   0.2s\n",
      "[CV] END criterion=absolute_error, max_samples=0.6, min_samples_split=30, n_estimators=50, n_jobs=-1; total time=   0.2s\n",
      "[CV] END criterion=absolute_error, max_samples=0.6, min_samples_split=30, n_estimators=50, n_jobs=-1; total time=   0.2s\n",
      "[CV] END criterion=absolute_error, max_samples=0.6, min_samples_split=30, n_estimators=100, n_jobs=-1; total time=   0.3s\n",
      "[CV] END criterion=absolute_error, max_samples=0.6, min_samples_split=30, n_estimators=100, n_jobs=-1; total time=   0.2s\n",
      "[CV] END criterion=absolute_error, max_samples=0.6, min_samples_split=30, n_estimators=100, n_jobs=-1; total time=   0.2s\n",
      "[CV] END criterion=absolute_error, max_samples=0.6, min_samples_split=30, n_estimators=100, n_jobs=-1; total time=   0.2s\n",
      "[CV] END criterion=absolute_error, max_samples=0.6, min_samples_split=30, n_estimators=100, n_jobs=-1; total time=   0.2s\n",
      "[CV] END criterion=absolute_error, max_samples=0.6, min_samples_split=30, n_estimators=200, n_jobs=-1; total time=   0.4s\n",
      "[CV] END criterion=absolute_error, max_samples=0.6, min_samples_split=30, n_estimators=200, n_jobs=-1; total time=   0.3s\n",
      "[CV] END criterion=absolute_error, max_samples=0.6, min_samples_split=30, n_estimators=200, n_jobs=-1; total time=   0.3s\n",
      "[CV] END criterion=absolute_error, max_samples=0.6, min_samples_split=30, n_estimators=200, n_jobs=-1; total time=   0.4s\n",
      "[CV] END criterion=absolute_error, max_samples=0.6, min_samples_split=30, n_estimators=200, n_jobs=-1; total time=   0.4s\n",
      "[CV] END criterion=absolute_error, max_samples=0.8, min_samples_split=2, n_estimators=50, n_jobs=-1; total time=   0.2s\n",
      "[CV] END criterion=absolute_error, max_samples=0.8, min_samples_split=2, n_estimators=50, n_jobs=-1; total time=   0.2s\n",
      "[CV] END criterion=absolute_error, max_samples=0.8, min_samples_split=2, n_estimators=50, n_jobs=-1; total time=   0.2s\n",
      "[CV] END criterion=absolute_error, max_samples=0.8, min_samples_split=2, n_estimators=50, n_jobs=-1; total time=   0.2s\n",
      "[CV] END criterion=absolute_error, max_samples=0.8, min_samples_split=2, n_estimators=50, n_jobs=-1; total time=   0.2s\n",
      "[CV] END criterion=absolute_error, max_samples=0.8, min_samples_split=2, n_estimators=100, n_jobs=-1; total time=   0.2s\n",
      "[CV] END criterion=absolute_error, max_samples=0.8, min_samples_split=2, n_estimators=100, n_jobs=-1; total time=   0.2s\n",
      "[CV] END criterion=absolute_error, max_samples=0.8, min_samples_split=2, n_estimators=100, n_jobs=-1; total time=   0.2s\n",
      "[CV] END criterion=absolute_error, max_samples=0.8, min_samples_split=2, n_estimators=100, n_jobs=-1; total time=   0.2s\n",
      "[CV] END criterion=absolute_error, max_samples=0.8, min_samples_split=2, n_estimators=100, n_jobs=-1; total time=   0.2s\n",
      "[CV] END criterion=absolute_error, max_samples=0.8, min_samples_split=2, n_estimators=200, n_jobs=-1; total time=   0.4s\n",
      "[CV] END criterion=absolute_error, max_samples=0.8, min_samples_split=2, n_estimators=200, n_jobs=-1; total time=   0.4s\n",
      "[CV] END criterion=absolute_error, max_samples=0.8, min_samples_split=2, n_estimators=200, n_jobs=-1; total time=   0.4s\n",
      "[CV] END criterion=absolute_error, max_samples=0.8, min_samples_split=2, n_estimators=200, n_jobs=-1; total time=   0.4s\n",
      "[CV] END criterion=absolute_error, max_samples=0.8, min_samples_split=2, n_estimators=200, n_jobs=-1; total time=   0.4s\n",
      "[CV] END criterion=absolute_error, max_samples=0.8, min_samples_split=10, n_estimators=50, n_jobs=-1; total time=   0.2s\n",
      "[CV] END criterion=absolute_error, max_samples=0.8, min_samples_split=10, n_estimators=50, n_jobs=-1; total time=   0.2s\n",
      "[CV] END criterion=absolute_error, max_samples=0.8, min_samples_split=10, n_estimators=50, n_jobs=-1; total time=   0.2s\n",
      "[CV] END criterion=absolute_error, max_samples=0.8, min_samples_split=10, n_estimators=50, n_jobs=-1; total time=   0.2s\n",
      "[CV] END criterion=absolute_error, max_samples=0.8, min_samples_split=10, n_estimators=50, n_jobs=-1; total time=   0.2s\n",
      "[CV] END criterion=absolute_error, max_samples=0.8, min_samples_split=10, n_estimators=100, n_jobs=-1; total time=   0.2s\n",
      "[CV] END criterion=absolute_error, max_samples=0.8, min_samples_split=10, n_estimators=100, n_jobs=-1; total time=   0.2s\n",
      "[CV] END criterion=absolute_error, max_samples=0.8, min_samples_split=10, n_estimators=100, n_jobs=-1; total time=   0.2s\n",
      "[CV] END criterion=absolute_error, max_samples=0.8, min_samples_split=10, n_estimators=100, n_jobs=-1; total time=   0.2s\n",
      "[CV] END criterion=absolute_error, max_samples=0.8, min_samples_split=10, n_estimators=100, n_jobs=-1; total time=   0.2s\n",
      "[CV] END criterion=absolute_error, max_samples=0.8, min_samples_split=10, n_estimators=200, n_jobs=-1; total time=   0.4s\n",
      "[CV] END criterion=absolute_error, max_samples=0.8, min_samples_split=10, n_estimators=200, n_jobs=-1; total time=   0.4s\n",
      "[CV] END criterion=absolute_error, max_samples=0.8, min_samples_split=10, n_estimators=200, n_jobs=-1; total time=   0.4s\n",
      "[CV] END criterion=absolute_error, max_samples=0.8, min_samples_split=10, n_estimators=200, n_jobs=-1; total time=   0.4s\n",
      "[CV] END criterion=absolute_error, max_samples=0.8, min_samples_split=10, n_estimators=200, n_jobs=-1; total time=   0.4s\n",
      "[CV] END criterion=absolute_error, max_samples=0.8, min_samples_split=30, n_estimators=50, n_jobs=-1; total time=   0.2s\n",
      "[CV] END criterion=absolute_error, max_samples=0.8, min_samples_split=30, n_estimators=50, n_jobs=-1; total time=   0.2s\n",
      "[CV] END criterion=absolute_error, max_samples=0.8, min_samples_split=30, n_estimators=50, n_jobs=-1; total time=   0.2s\n",
      "[CV] END criterion=absolute_error, max_samples=0.8, min_samples_split=30, n_estimators=50, n_jobs=-1; total time=   0.2s\n",
      "[CV] END criterion=absolute_error, max_samples=0.8, min_samples_split=30, n_estimators=50, n_jobs=-1; total time=   0.2s\n",
      "[CV] END criterion=absolute_error, max_samples=0.8, min_samples_split=30, n_estimators=100, n_jobs=-1; total time=   0.2s\n",
      "[CV] END criterion=absolute_error, max_samples=0.8, min_samples_split=30, n_estimators=100, n_jobs=-1; total time=   0.2s\n",
      "[CV] END criterion=absolute_error, max_samples=0.8, min_samples_split=30, n_estimators=100, n_jobs=-1; total time=   0.2s\n",
      "[CV] END criterion=absolute_error, max_samples=0.8, min_samples_split=30, n_estimators=100, n_jobs=-1; total time=   0.2s\n",
      "[CV] END criterion=absolute_error, max_samples=0.8, min_samples_split=30, n_estimators=100, n_jobs=-1; total time=   0.2s\n",
      "[CV] END criterion=absolute_error, max_samples=0.8, min_samples_split=30, n_estimators=200, n_jobs=-1; total time=   0.4s\n",
      "[CV] END criterion=absolute_error, max_samples=0.8, min_samples_split=30, n_estimators=200, n_jobs=-1; total time=   0.3s\n",
      "[CV] END criterion=absolute_error, max_samples=0.8, min_samples_split=30, n_estimators=200, n_jobs=-1; total time=   0.4s\n",
      "[CV] END criterion=absolute_error, max_samples=0.8, min_samples_split=30, n_estimators=200, n_jobs=-1; total time=   0.3s\n",
      "[CV] END criterion=absolute_error, max_samples=0.8, min_samples_split=30, n_estimators=200, n_jobs=-1; total time=   0.4s\n"
     ]
    },
    {
     "data": {
      "text/plain": [
       "0.04607149570419666"
      ]
     },
     "execution_count": 72,
     "metadata": {},
     "output_type": "execute_result"
    }
   ],
   "source": [
    "x_vals = list(order_collects_df.groupby(\"collect_id\")[\"products_quantity\"].sum())\n",
    "y_vals = list(order_collects_df.groupby(\"collect_id\")[\"approx_store_walk_time\"].mean().dt.total_seconds())\n",
    "\n",
    "import random\n",
    "random.seed(21)\n",
    "\n",
    "xy_vals = list(zip(x_vals, y_vals))\n",
    "random.Random(21).shuffle(xy_vals)\n",
    "\n",
    "x_vals = [x[0] for x in xy_vals]\n",
    "y_vals = [x[1] for x in xy_vals]\n",
    "\n",
    "\n",
    "import numpy as np\n",
    "from sklearn.linear_model import LinearRegression\n",
    "\n",
    "from sklearn.ensemble import RandomForestRegressor\n",
    "\n",
    "from sklearn.metrics import mean_absolute_error as mae\n",
    "\n",
    "X = np.array([[v] for v in x_vals]).reshape(-1, 1)\n",
    "\n",
    "from sklearn.model_selection import GridSearchCV\n",
    "parameters = {'n_estimators':[50, 100, 200], 'min_samples_split':[2, 10, 30],\n",
    "              \"criterion\": [\"absolute_error\"], \"max_samples\":[None, 0.6, 0.8], \"n_jobs\":[-1]}\n",
    "rand_for = RandomForestRegressor()\n",
    "reg = GridSearchCV(rand_for, parameters, verbose=2)\n",
    "reg.fit(X[:int(len(y_vals) * 0.8)], np.array(y_vals[:int(len(y_vals) * 0.8)]))\n",
    "\n",
    "\n",
    "reg.score(X[int(len(y_vals) * 0.8):], y_vals[int(len(y_vals) * 0.8):])\n"
   ]
  },
  {
   "cell_type": "code",
   "execution_count": 73,
   "id": "39f50155",
   "metadata": {
    "scrolled": true
   },
   "outputs": [
    {
     "data": {
      "text/plain": [
       "{'criterion': 'absolute_error',\n",
       " 'max_samples': 0.6,\n",
       " 'min_samples_split': 10,\n",
       " 'n_estimators': 100,\n",
       " 'n_jobs': -1}"
      ]
     },
     "execution_count": 73,
     "metadata": {},
     "output_type": "execute_result"
    }
   ],
   "source": [
    "reg.best_params_"
   ]
  },
  {
   "cell_type": "code",
   "execution_count": 74,
   "id": "d76d1417",
   "metadata": {
    "scrolled": true
   },
   "outputs": [
    {
     "data": {
      "text/plain": [
       "12.69946282181572"
      ]
     },
     "execution_count": 74,
     "metadata": {},
     "output_type": "execute_result"
    }
   ],
   "source": [
    "#train\n",
    "mae(reg.predict(X[:int(len(y_vals) * 0.8)]), y_vals[:int(len(y_vals) * 0.8)]) / 60"
   ]
  },
  {
   "cell_type": "code",
   "execution_count": 75,
   "id": "2c33892d",
   "metadata": {
    "scrolled": true
   },
   "outputs": [
    {
     "data": {
      "text/plain": [
       "15.893260840108404"
      ]
     },
     "execution_count": 75,
     "metadata": {},
     "output_type": "execute_result"
    }
   ],
   "source": [
    "#val\n",
    "mae(reg.predict(X[int(len(y_vals) * 0.8):]), y_vals[int(len(y_vals) * 0.8):]) / 60"
   ]
  },
  {
   "cell_type": "code",
   "execution_count": 76,
   "id": "0e323501",
   "metadata": {
    "scrolled": true
   },
   "outputs": [
    {
     "data": {
      "text/plain": [
       "(array([ 1.,  1.,  0.,  1.,  0.,  1.,  0.,  1.,  2.,  1.,  0.,  1.,  0.,\n",
       "         0.,  0.,  1.,  1.,  0.,  0.,  1.,  0.,  1.,  1.,  3.,  0.,  2.,\n",
       "         1.,  1.,  4.,  1.,  2.,  2.,  4.,  4.,  1.,  3.,  8.,  1.,  6.,\n",
       "         7., 16., 46., 76., 25.,  9.,  2.,  3.,  3.,  1.,  1.]),\n",
       " array([-157.48966667, -153.73467   , -149.97967333, -146.22467667,\n",
       "        -142.46968   , -138.71468333, -134.95968667, -131.20469   ,\n",
       "        -127.44969333, -123.69469667, -119.9397    , -116.18470333,\n",
       "        -112.42970667, -108.67471   , -104.91971333, -101.16471667,\n",
       "         -97.40972   ,  -93.65472333,  -89.89972667,  -86.14473   ,\n",
       "         -82.38973333,  -78.63473667,  -74.87974   ,  -71.12474333,\n",
       "         -67.36974667,  -63.61475   ,  -59.85975333,  -56.10475667,\n",
       "         -52.34976   ,  -48.59476333,  -44.83976667,  -41.08477   ,\n",
       "         -37.32977333,  -33.57477667,  -29.81978   ,  -26.06478333,\n",
       "         -22.30978667,  -18.55479   ,  -14.79979333,  -11.04479667,\n",
       "          -7.2898    ,   -3.53480333,    0.22019333,    3.97519   ,\n",
       "           7.73018667,   11.48518333,   15.24018   ,   18.99517667,\n",
       "          22.75017333,   26.50517   ,   30.26016667]),\n",
       " <BarContainer object of 50 artists>)"
      ]
     },
     "execution_count": 76,
     "metadata": {},
     "output_type": "execute_result"
    },
    {
     "data": {
      "image/png": "[encoded data removed]",
      "text/plain": [
       "<Figure size 432x288 with 1 Axes>"
      ]
     },
     "metadata": {
      "needs_background": "light"
     },
     "output_type": "display_data"
    }
   ],
   "source": [
    "# errors plot\n",
    "plt.ylabel(\"num validation samples\")\n",
    "plt.xlabel(\"minutes error\")\n",
    "plt.hist((reg.predict(X[int(len(y_vals) * 0.8):]) - y_vals[int(len(y_vals) * 0.8):]) / 60, bins = 50)\n",
    "#plt.savefig('plots/exp1_alldata_rand_for_errors_plot.png')\n"
   ]
  },
  {
   "cell_type": "code",
   "execution_count": 77,
   "id": "3e061df2",
   "metadata": {
    "scrolled": true
   },
   "outputs": [
    {
     "data": {
      "text/plain": [
       "246"
      ]
     },
     "execution_count": 77,
     "metadata": {},
     "output_type": "execute_result"
    }
   ],
   "source": [
    "len(y_vals[int(len(y_vals) * 0.8):])"
   ]
  },
  {
   "cell_type": "code",
   "execution_count": 78,
   "id": "ccd16b71",
   "metadata": {
    "scrolled": true
   },
   "outputs": [
    {
     "data": {
      "text/plain": [
       "133"
      ]
     },
     "execution_count": 78,
     "metadata": {},
     "output_type": "execute_result"
    }
   ],
   "source": [
    "np.sum(np.abs((reg.predict(X[int(len(y_vals) * 0.8):]) - y_vals[int(len(y_vals) * 0.8):]) / 60) < 5 )"
   ]
  },
  {
   "cell_type": "code",
   "execution_count": 79,
   "id": "3ef20815",
   "metadata": {
    "scrolled": true
   },
   "outputs": [
    {
     "data": {
      "text/plain": [
       "0.5487804878048781"
      ]
     },
     "execution_count": 79,
     "metadata": {},
     "output_type": "execute_result"
    }
   ],
   "source": [
    "135 / 246"
   ]
  },
  {
   "cell_type": "code",
   "execution_count": 80,
   "id": "5095e45d",
   "metadata": {
    "scrolled": true
   },
   "outputs": [
    {
     "data": {
      "text/plain": [
       "172"
      ]
     },
     "execution_count": 80,
     "metadata": {},
     "output_type": "execute_result"
    }
   ],
   "source": [
    "np.sum(np.abs((reg.predict(X[int(len(y_vals) * 0.8):]) - y_vals[int(len(y_vals) * 0.8):]) / 60) < 10 )"
   ]
  },
  {
   "cell_type": "code",
   "execution_count": 81,
   "id": "cc24e685",
   "metadata": {
    "scrolled": true
   },
   "outputs": [
    {
     "data": {
      "text/plain": [
       "0.7032520325203252"
      ]
     },
     "execution_count": 81,
     "metadata": {},
     "output_type": "execute_result"
    }
   ],
   "source": [
    "173 / 246"
   ]
  },
  {
   "cell_type": "code",
   "execution_count": null,
   "id": "24a07987",
   "metadata": {
    "scrolled": true
   },
   "outputs": [],
   "source": []
  },
  {
   "cell_type": "markdown",
   "id": "02f76b3d",
   "metadata": {},
   "source": [
    "MAE = 17.4 mins"
   ]
  },
  {
   "cell_type": "code",
   "execution_count": 82,
   "id": "397a92e5",
   "metadata": {
    "scrolled": true
   },
   "outputs": [],
   "source": [
    "l = {\"experiment_num\": \"1\", \n",
    " \"model_type\": \"Rand forest no processing\", \n",
    " \"train_mae\": mae(reg.predict(X[:int(len(y_vals) * 0.8)]), y_vals[:int(len(y_vals) * 0.8)]) / 60, \n",
    " \"val_mae\": mae(reg.predict(X[int(len(y_vals) * 0.8):]), y_vals[int(len(y_vals) * 0.8):]) / 60, \n",
    " \"perc_lt_5mins\": np.sum(np.abs((reg.predict(X[int(len(y_vals) * 0.8):]) - y_vals[int(len(y_vals) * 0.8):]) / 60) < 5 ) / len(y_vals[int(len(y_vals) * 0.8):]),\n",
    " \"perc_lt_10mins\": np.sum(np.abs((reg.predict(X[int(len(y_vals) * 0.8):]) - y_vals[int(len(y_vals) * 0.8):]) / 60) < 10 ) / len(y_vals[int(len(y_vals) * 0.8):]),\n",
    "    \"train_preds\": reg.predict(X[:int(len(y_vals) * 0.8)]),\n",
    "    \"val_preds\": reg.predict(X[int(len(y_vals) * 0.8):])}\n",
    "\n",
    "metrics_df_lst.append(l)"
   ]
  },
  {
   "cell_type": "code",
   "execution_count": null,
   "id": "5e8ba309",
   "metadata": {},
   "outputs": [],
   "source": []
  },
  {
   "cell_type": "code",
   "execution_count": null,
   "id": "aa58310b",
   "metadata": {},
   "outputs": [],
   "source": []
  },
  {
   "cell_type": "markdown",
   "id": "863ee976",
   "metadata": {},
   "source": [
    "# Experiment 1 \n",
    "# RandForest cbrt x, y transforms"
   ]
  },
  {
   "cell_type": "code",
   "execution_count": 83,
   "id": "379d0ebf",
   "metadata": {
    "scrolled": false
   },
   "outputs": [
    {
     "data": {
      "text/plain": [
       "0.14428329404219908"
      ]
     },
     "execution_count": 83,
     "metadata": {},
     "output_type": "execute_result"
    }
   ],
   "source": [
    "x_vals = list(order_collects_df.groupby(\"collect_id\")[\"products_quantity\"].sum())\n",
    "y_vals = list(order_collects_df.groupby(\"collect_id\")[\"approx_store_walk_time\"].mean().dt.total_seconds())\n",
    "\n",
    "\n",
    "import random\n",
    "random.seed(21)\n",
    "\n",
    "xy_vals = list(zip(x_vals, y_vals))\n",
    "random.Random(21).shuffle(xy_vals)\n",
    "\n",
    "x_vals = [x[0] for x in xy_vals]\n",
    "y_vals = [x[1] for x in xy_vals]\n",
    "\n",
    "\n",
    "import numpy as np\n",
    "from sklearn.linear_model import LinearRegression\n",
    "\n",
    "from sklearn.ensemble import RandomForestRegressor\n",
    "\n",
    "from sklearn.metrics import mean_absolute_error as mae\n",
    "\n",
    "X = np.array([[v] for v in x_vals]).reshape(-1, 1)\n",
    "\n",
    "from sklearn.model_selection import GridSearchCV\n",
    "parameters = {'n_estimators':[50, 100, 200], 'min_samples_split':[2, 10, 30, 0.02, 0.05, 0.1, 0.2],\n",
    "              \"criterion\": [\"absolute_error\"]}\n",
    "rand_for = RandomForestRegressor()\n",
    "reg = GridSearchCV(rand_for, parameters)\n",
    "reg.fit(transform_products_quantity(X[:int(len(y_vals) * 0.8)]), transform_y(np.array(y_vals[:int(len(y_vals) * 0.8)])))\n",
    "\n",
    "\n",
    "reg.score(transform_products_quantity(X[int(len(y_vals) * 0.8):]), transform_y(y_vals[int(len(y_vals) * 0.8):]))\n",
    "\n",
    "\n"
   ]
  },
  {
   "cell_type": "code",
   "execution_count": null,
   "id": "af00f80c",
   "metadata": {
    "scrolled": true
   },
   "outputs": [],
   "source": []
  },
  {
   "cell_type": "code",
   "execution_count": 84,
   "id": "814f4ea8",
   "metadata": {
    "scrolled": true
   },
   "outputs": [
    {
     "data": {
      "text/plain": [
       "13.13471493553577"
      ]
     },
     "execution_count": 84,
     "metadata": {},
     "output_type": "execute_result"
    }
   ],
   "source": [
    "# train mae\n",
    "mae(inv_transform_y(reg.predict(transform_products_quantity(X[:int(len(y_vals) * 0.8)]))), y_vals[:int(len(y_vals) * 0.8)]) / 60"
   ]
  },
  {
   "cell_type": "code",
   "execution_count": 85,
   "id": "bbfe8530",
   "metadata": {
    "scrolled": true
   },
   "outputs": [
    {
     "data": {
      "text/plain": [
       "15.77508511256954"
      ]
     },
     "execution_count": 85,
     "metadata": {},
     "output_type": "execute_result"
    }
   ],
   "source": [
    "# val mae\n",
    "mae(inv_transform_y(reg.predict(transform_products_quantity(X[int(len(y_vals) * 0.8):]))), y_vals[int(len(y_vals) * 0.8):]) / 60"
   ]
  },
  {
   "cell_type": "code",
   "execution_count": 86,
   "id": "f8c36368",
   "metadata": {
    "scrolled": true
   },
   "outputs": [
    {
     "data": {
      "text/plain": [
       "{'cv': None,\n",
       " 'error_score': nan,\n",
       " 'estimator__bootstrap': True,\n",
       " 'estimator__ccp_alpha': 0.0,\n",
       " 'estimator__criterion': 'squared_error',\n",
       " 'estimator__max_depth': None,\n",
       " 'estimator__max_features': 'auto',\n",
       " 'estimator__max_leaf_nodes': None,\n",
       " 'estimator__max_samples': None,\n",
       " 'estimator__min_impurity_decrease': 0.0,\n",
       " 'estimator__min_samples_leaf': 1,\n",
       " 'estimator__min_samples_split': 2,\n",
       " 'estimator__min_weight_fraction_leaf': 0.0,\n",
       " 'estimator__n_estimators': 100,\n",
       " 'estimator__n_jobs': None,\n",
       " 'estimator__oob_score': False,\n",
       " 'estimator__random_state': None,\n",
       " 'estimator__verbose': 0,\n",
       " 'estimator__warm_start': False,\n",
       " 'estimator': RandomForestRegressor(),\n",
       " 'n_jobs': None,\n",
       " 'param_grid': {'n_estimators': [50, 100, 200],\n",
       "  'min_samples_split': [2, 10, 30, 0.02, 0.05, 0.1, 0.2],\n",
       "  'criterion': ['absolute_error']},\n",
       " 'pre_dispatch': '2*n_jobs',\n",
       " 'refit': True,\n",
       " 'return_train_score': False,\n",
       " 'scoring': None,\n",
       " 'verbose': 0}"
      ]
     },
     "execution_count": 86,
     "metadata": {},
     "output_type": "execute_result"
    }
   ],
   "source": [
    "reg.get_params()"
   ]
  },
  {
   "cell_type": "code",
   "execution_count": 87,
   "id": "42865ef4",
   "metadata": {
    "scrolled": true
   },
   "outputs": [
    {
     "data": {
      "image/png": "[encoded data removed]",
      "text/plain": [
       "<Figure size 432x288 with 1 Axes>"
      ]
     },
     "metadata": {
      "needs_background": "light"
     },
     "output_type": "display_data"
    }
   ],
   "source": [
    "plt.ylabel(\"num validation samples\")\n",
    "plt.xlabel(\"minutes error\")\n",
    "\n",
    "plt.hist((inv_transform_y(reg.predict(transform_products_quantity(X[int(len(y_vals) * 0.8):]))) - y_vals[int(len(y_vals) * 0.8):]) / 60, bins = 50)\n",
    "\n",
    "plt.savefig('plots/exp1_alldata_cbrt_rand_for_errors_plot.png')"
   ]
  },
  {
   "cell_type": "code",
   "execution_count": 88,
   "id": "13477985",
   "metadata": {
    "scrolled": true
   },
   "outputs": [
    {
     "data": {
      "text/plain": [
       "137"
      ]
     },
     "execution_count": 88,
     "metadata": {},
     "output_type": "execute_result"
    }
   ],
   "source": [
    "np.sum(np.abs((inv_transform_y(reg.predict(transform_products_quantity(X[int(len(y_vals) * 0.8):]))) - y_vals[int(len(y_vals) * 0.8):]) / 60) < 5)"
   ]
  },
  {
   "cell_type": "code",
   "execution_count": 89,
   "id": "acb0829f",
   "metadata": {},
   "outputs": [
    {
     "data": {
      "text/plain": [
       "0.5528455284552846"
      ]
     },
     "execution_count": 89,
     "metadata": {},
     "output_type": "execute_result"
    }
   ],
   "source": [
    "136 / 246"
   ]
  },
  {
   "cell_type": "code",
   "execution_count": 90,
   "id": "d960cbae",
   "metadata": {
    "scrolled": true
   },
   "outputs": [
    {
     "data": {
      "text/plain": [
       "178"
      ]
     },
     "execution_count": 90,
     "metadata": {},
     "output_type": "execute_result"
    }
   ],
   "source": [
    "np.sum(np.abs((inv_transform_y(reg.predict(transform_products_quantity(X[int(len(y_vals) * 0.8):]))) - y_vals[int(len(y_vals) * 0.8):]) / 60) < 10)"
   ]
  },
  {
   "cell_type": "code",
   "execution_count": 91,
   "id": "0103ce85",
   "metadata": {
    "scrolled": true
   },
   "outputs": [
    {
     "data": {
      "text/plain": [
       "0.7276422764227642"
      ]
     },
     "execution_count": 91,
     "metadata": {},
     "output_type": "execute_result"
    }
   ],
   "source": [
    "179 / 246"
   ]
  },
  {
   "cell_type": "code",
   "execution_count": null,
   "id": "4a56b037",
   "metadata": {
    "scrolled": true
   },
   "outputs": [],
   "source": []
  },
  {
   "cell_type": "code",
   "execution_count": 92,
   "id": "8cf4a214",
   "metadata": {
    "scrolled": true
   },
   "outputs": [],
   "source": [
    "l = {\"experiment_num\": \"1\", \n",
    " \"model_type\": \"Rand forest cbrt y\", \n",
    " \"train_mae\": mae(inv_transform_y(reg.predict(transform_products_quantity(X[:int(len(y_vals) * 0.8)]))), y_vals[:int(len(y_vals) * 0.8)]) / 60, \n",
    " \"val_mae\": mae(inv_transform_y(reg.predict(transform_products_quantity(X[int(len(y_vals) * 0.8):]))), y_vals[int(len(y_vals) * 0.8):]) / 60, \n",
    " \"perc_lt_5mins\": np.sum(np.abs((inv_transform_y(reg.predict(transform_products_quantity(X[int(len(y_vals) * 0.8):]))) - y_vals[int(len(y_vals) * 0.8):]) / 60) < 5) / len(y_vals[int(len(y_vals) * 0.8):]),\n",
    " \"perc_lt_10mins\": np.sum(np.abs((inv_transform_y(reg.predict(transform_products_quantity(X[int(len(y_vals) * 0.8):]))) - y_vals[int(len(y_vals) * 0.8):]) / 60) < 10) / len(y_vals[int(len(y_vals) * 0.8):]),\n",
    "    \"train_preds\": inv_transform_y(reg.predict(transform_products_quantity(X[:int(len(y_vals) * 0.8)]))),\n",
    "    \"val_preds\": inv_transform_y(reg.predict(transform_products_quantity(X[int(len(y_vals) * 0.8):])))}\n",
    "\n",
    "metrics_df_lst.append(l)"
   ]
  },
  {
   "cell_type": "code",
   "execution_count": null,
   "id": "2c8f740c",
   "metadata": {
    "scrolled": true
   },
   "outputs": [],
   "source": []
  },
  {
   "cell_type": "markdown",
   "id": "2e49b14b",
   "metadata": {},
   "source": [
    "# Experiment 2\n",
    "# One-hot encode cells (without level) where products are located"
   ]
  },
  {
   "cell_type": "code",
   "execution_count": 93,
   "id": "c7614332",
   "metadata": {
    "scrolled": true
   },
   "outputs": [],
   "source": [
    "# preparation"
   ]
  },
  {
   "cell_type": "code",
   "execution_count": 94,
   "id": "235afef3",
   "metadata": {},
   "outputs": [],
   "source": [
    "# place_lst = list([x[0]] for x in products_list_df[\"cleaned_place\"])\n",
    "\n",
    "# from sklearn.preprocessing import MultiLabelBinarizer\n",
    "\n",
    "# place_binarizer = MultiLabelBinarizer()\n",
    "# place_binarizer.fit(place_lst)\n",
    "\n",
    "# place_vectors = place_binarizer.transform(place_lst)\n",
    "\n",
    "\n",
    "# product_id_to_place_vect = {}\n",
    "\n",
    "# for ind, i in enumerate(list(products_list_df['product_id'])):\n",
    "#     product_id_to_place_vect[i] = place_vectors[ind]\n",
    "    \n",
    "\n",
    "# order_id_to_product_id_list = dict(order_list_df.groupby(\"order_id\")[\"product_id\"].apply(list))\n",
    "\n",
    "# order_id_to_places_vect = {}\n",
    "\n",
    "# for k in order_id_to_product_id_list.keys():\n",
    "#     vect_lst = []\n",
    "    \n",
    "#     for p in order_id_to_product_id_list.get(k, []):\n",
    "        \n",
    "#         if p in product_id_to_place_vect:\n",
    "#             vect_lst.append(product_id_to_place_vect[p])\n",
    "        \n",
    "#     if vect_lst:\n",
    "#         order_id_to_places_vect[k] = sum(vect_lst)\n",
    "\n",
    "    \n",
    "    \n",
    "\n",
    "# collect_id_to_order_id_list = dict(order_collects_df.groupby(\"collect_id\")[\"order_id\"].apply(list))\n",
    "\n",
    "\n",
    "# collect_id_to_places_vect = {}\n",
    "\n",
    "# for k in collect_id_to_order_id_list.keys():\n",
    "#     vect_lst = []\n",
    "    \n",
    "#     for oid in collect_id_to_order_id_list.get(k, []):\n",
    "#         if oid in order_id_to_places_vect:\n",
    "#             vect_lst.append(order_id_to_places_vect[oid])\n",
    "        \n",
    "#     if vect_lst:\n",
    "#         collect_id_to_places_vect[k] = sum(vect_lst)\n",
    "#         # No values larger than 1. Only 1 for cells to which we have to walk\n",
    "#         #collect_id_to_places_vect[k][collect_id_to_places_vect[k] > 0] = 1\n",
    "\n",
    "\n",
    "# collect_id_to_time_spent_walking = dict(order_collects_df.groupby(\"collect_id\")[\"approx_store_walk_time\"].mean().dt.total_seconds())\n",
    "        \n",
    "    \n",
    "# train_keys = collect_id_keys_train\n",
    "# val_keys = collect_id_keys_val\n",
    "        "
   ]
  },
  {
   "cell_type": "code",
   "execution_count": null,
   "id": "9698e18a",
   "metadata": {},
   "outputs": [],
   "source": []
  },
  {
   "cell_type": "code",
   "execution_count": null,
   "id": "1c11c2fd",
   "metadata": {},
   "outputs": [],
   "source": []
  },
  {
   "cell_type": "code",
   "execution_count": 23,
   "id": "c823ffa2",
   "metadata": {
    "scrolled": true
   },
   "outputs": [
    {
     "data": {
      "text/html": [
       "<div>\n",
       "<style scoped>\n",
       "    .dataframe tbody tr th:only-of-type {\n",
       "        vertical-align: middle;\n",
       "    }\n",
       "\n",
       "    .dataframe tbody tr th {\n",
       "        vertical-align: top;\n",
       "    }\n",
       "\n",
       "    .dataframe thead th {\n",
       "        text-align: right;\n",
       "    }\n",
       "</style>\n",
       "<table border=\"1\" class=\"dataframe\">\n",
       "  <thead>\n",
       "    <tr style=\"text-align: right;\">\n",
       "      <th></th>\n",
       "      <th>product_id</th>\n",
       "      <th>sku_code</th>\n",
       "      <th>name</th>\n",
       "      <th>volume</th>\n",
       "      <th>place</th>\n",
       "      <th>warehouse_name</th>\n",
       "      <th>cleaned_place</th>\n",
       "      <th>short_cleaned_place</th>\n",
       "      <th>place_cell</th>\n",
       "      <th>place_level</th>\n",
       "    </tr>\n",
       "  </thead>\n",
       "  <tbody>\n",
       "    <tr>\n",
       "      <th>6799</th>\n",
       "      <td>8684</td>\n",
       "      <td>80176</td>\n",
       "      <td>Muntons Irish Stout - Темное</td>\n",
       "      <td>0.002352</td>\n",
       "      <td>B-08-3</td>\n",
       "      <td>5</td>\n",
       "      <td>[B-8-3]</td>\n",
       "      <td>[B-8-3]</td>\n",
       "      <td>[B-8]</td>\n",
       "      <td>[3]</td>\n",
       "    </tr>\n",
       "    <tr>\n",
       "      <th>6801</th>\n",
       "      <td>8686</td>\n",
       "      <td>40355K1</td>\n",
       "      <td>Сифон полуавтоматичкеский Easy 56см</td>\n",
       "      <td>NaN</td>\n",
       "      <td>A-02-1</td>\n",
       "      <td>5</td>\n",
       "      <td>[A-2-1]</td>\n",
       "      <td>[A-2-1]</td>\n",
       "      <td>[A-2]</td>\n",
       "      <td>[1]</td>\n",
       "    </tr>\n",
       "    <tr>\n",
       "      <th>6810</th>\n",
       "      <td>8695</td>\n",
       "      <td>017.571.1</td>\n",
       "      <td>Бугельная пробка 10шт</td>\n",
       "      <td>NaN</td>\n",
       "      <td>B-07-4</td>\n",
       "      <td>5</td>\n",
       "      <td>[B-7-4]</td>\n",
       "      <td>[B-7-4]</td>\n",
       "      <td>[B-7]</td>\n",
       "      <td>[4]</td>\n",
       "    </tr>\n",
       "    <tr>\n",
       "      <th>6812</th>\n",
       "      <td>8697</td>\n",
       "      <td>С01gold</td>\n",
       "      <td>Кроненпробка золотая 26мм (100шт)</td>\n",
       "      <td>NaN</td>\n",
       "      <td>B-04-3</td>\n",
       "      <td>5</td>\n",
       "      <td>[B-4-3]</td>\n",
       "      <td>[B-4-3]</td>\n",
       "      <td>[B-4]</td>\n",
       "      <td>[3]</td>\n",
       "    </tr>\n",
       "    <tr>\n",
       "      <th>6813</th>\n",
       "      <td>8698</td>\n",
       "      <td>84113</td>\n",
       "      <td>Muntons Spray Malt Extra Light (DME) - Сухой э...</td>\n",
       "      <td>0.000800</td>\n",
       "      <td>B-06-4,B-08-3</td>\n",
       "      <td>5</td>\n",
       "      <td>[B-6-4, B-8-3]</td>\n",
       "      <td>[B-6-4, B-8-3]</td>\n",
       "      <td>[B-6, B-8]</td>\n",
       "      <td>[4, 3]</td>\n",
       "    </tr>\n",
       "    <tr>\n",
       "      <th>6819</th>\n",
       "      <td>8704</td>\n",
       "      <td>15351</td>\n",
       "      <td>Механическая мойка для пивных бутылок</td>\n",
       "      <td>NaN</td>\n",
       "      <td>02-2</td>\n",
       "      <td>5</td>\n",
       "      <td>[2-2]</td>\n",
       "      <td>[2-2]</td>\n",
       "      <td>[2]</td>\n",
       "      <td>[2]</td>\n",
       "    </tr>\n",
       "    <tr>\n",
       "      <th>6820</th>\n",
       "      <td>8705</td>\n",
       "      <td>17501</td>\n",
       "      <td>Укупорщик бутылок Emily 26мм + 29мм</td>\n",
       "      <td>NaN</td>\n",
       "      <td>A-04-4</td>\n",
       "      <td>5</td>\n",
       "      <td>[A-4-4]</td>\n",
       "      <td>[A-4-4]</td>\n",
       "      <td>[A-4]</td>\n",
       "      <td>[4]</td>\n",
       "    </tr>\n",
       "    <tr>\n",
       "      <th>6822</th>\n",
       "      <td>8707</td>\n",
       "      <td>40230</td>\n",
       "      <td>Mangrove Jack's Pure Malt Extract 1.2кг - LME</td>\n",
       "      <td>0.002576</td>\n",
       "      <td>A-20-4</td>\n",
       "      <td>5</td>\n",
       "      <td>[A-20-4]</td>\n",
       "      <td>[A-20-4]</td>\n",
       "      <td>[A-20]</td>\n",
       "      <td>[4]</td>\n",
       "    </tr>\n",
       "    <tr>\n",
       "      <th>6823</th>\n",
       "      <td>8708</td>\n",
       "      <td>40244</td>\n",
       "      <td>Mangrove Jack's Amber Malt Extract 1.5кг - LME</td>\n",
       "      <td>0.003213</td>\n",
       "      <td>B-07-4</td>\n",
       "      <td>5</td>\n",
       "      <td>[B-7-4]</td>\n",
       "      <td>[B-7-4]</td>\n",
       "      <td>[B-7]</td>\n",
       "      <td>[4]</td>\n",
       "    </tr>\n",
       "    <tr>\n",
       "      <th>6824</th>\n",
       "      <td>8709</td>\n",
       "      <td>004.005.0</td>\n",
       "      <td>Chemipro OXI - активный кислород 100 гр.</td>\n",
       "      <td>0.000142</td>\n",
       "      <td>07-4-2</td>\n",
       "      <td>5</td>\n",
       "      <td>[7-4-2]</td>\n",
       "      <td>[7-4]</td>\n",
       "      <td>[7]</td>\n",
       "      <td>[4]</td>\n",
       "    </tr>\n",
       "  </tbody>\n",
       "</table>\n",
       "</div>"
      ],
      "text/plain": [
       "      product_id   sku_code  \\\n",
       "6799        8684      80176   \n",
       "6801        8686    40355K1   \n",
       "6810        8695  017.571.1   \n",
       "6812        8697    С01gold   \n",
       "6813        8698      84113   \n",
       "6819        8704      15351   \n",
       "6820        8705      17501   \n",
       "6822        8707      40230   \n",
       "6823        8708      40244   \n",
       "6824        8709  004.005.0   \n",
       "\n",
       "                                                   name    volume  \\\n",
       "6799                       Muntons Irish Stout - Темное  0.002352   \n",
       "6801                Сифон полуавтоматичкеский Easy 56см       NaN   \n",
       "6810                              Бугельная пробка 10шт       NaN   \n",
       "6812                  Кроненпробка золотая 26мм (100шт)       NaN   \n",
       "6813  Muntons Spray Malt Extra Light (DME) - Сухой э...  0.000800   \n",
       "6819              Механическая мойка для пивных бутылок       NaN   \n",
       "6820                Укупорщик бутылок Emily 26мм + 29мм       NaN   \n",
       "6822      Mangrove Jack's Pure Malt Extract 1.2кг - LME  0.002576   \n",
       "6823     Mangrove Jack's Amber Malt Extract 1.5кг - LME  0.003213   \n",
       "6824           Chemipro OXI - активный кислород 100 гр.  0.000142   \n",
       "\n",
       "              place warehouse_name   cleaned_place short_cleaned_place  \\\n",
       "6799         B-08-3              5         [B-8-3]             [B-8-3]   \n",
       "6801         A-02-1              5         [A-2-1]             [A-2-1]   \n",
       "6810         B-07-4              5         [B-7-4]             [B-7-4]   \n",
       "6812         B-04-3              5         [B-4-3]             [B-4-3]   \n",
       "6813  B-06-4,B-08-3              5  [B-6-4, B-8-3]      [B-6-4, B-8-3]   \n",
       "6819           02-2              5           [2-2]               [2-2]   \n",
       "6820         A-04-4              5         [A-4-4]             [A-4-4]   \n",
       "6822         A-20-4              5        [A-20-4]            [A-20-4]   \n",
       "6823         B-07-4              5         [B-7-4]             [B-7-4]   \n",
       "6824         07-4-2              5         [7-4-2]               [7-4]   \n",
       "\n",
       "      place_cell place_level  \n",
       "6799       [B-8]         [3]  \n",
       "6801       [A-2]         [1]  \n",
       "6810       [B-7]         [4]  \n",
       "6812       [B-4]         [3]  \n",
       "6813  [B-6, B-8]      [4, 3]  \n",
       "6819         [2]         [2]  \n",
       "6820       [A-4]         [4]  \n",
       "6822      [A-20]         [4]  \n",
       "6823       [B-7]         [4]  \n",
       "6824         [7]         [4]  "
      ]
     },
     "execution_count": 23,
     "metadata": {},
     "output_type": "execute_result"
    }
   ],
   "source": [
    "products_list_df.iloc[250:260]"
   ]
  },
  {
   "cell_type": "code",
   "execution_count": 24,
   "id": "ddf187b5",
   "metadata": {
    "scrolled": true
   },
   "outputs": [],
   "source": [
    "place_lst = list([x[0]] for x in products_list_df[\"place_cell\"])"
   ]
  },
  {
   "cell_type": "code",
   "execution_count": null,
   "id": "39ee5725",
   "metadata": {
    "scrolled": true
   },
   "outputs": [],
   "source": []
  },
  {
   "cell_type": "code",
   "execution_count": 25,
   "id": "1150eb52",
   "metadata": {
    "scrolled": true
   },
   "outputs": [],
   "source": [
    "from sklearn.preprocessing import MultiLabelBinarizer\n",
    "\n",
    "place_binarizer = MultiLabelBinarizer()\n",
    "place_binarizer.fit(place_lst)\n",
    "\n",
    "place_vectors = place_binarizer.transform(place_lst)\n",
    "\n",
    "\n",
    "product_id_to_place_vect = {}\n",
    "\n",
    "for ind, i in enumerate(list(products_list_df['product_id'])):\n",
    "    product_id_to_place_vect[i] = place_vectors[ind]"
   ]
  },
  {
   "cell_type": "code",
   "execution_count": null,
   "id": "19750fea",
   "metadata": {
    "scrolled": true
   },
   "outputs": [],
   "source": [
    "place_lst"
   ]
  },
  {
   "cell_type": "code",
   "execution_count": 68,
   "id": "537d4227",
   "metadata": {},
   "outputs": [],
   "source": [
    "with open('models/place_lst_clust1.npy', 'wb') as f:\n",
    "\n",
    "    np.save(f, place_lst)"
   ]
  },
  {
   "cell_type": "code",
   "execution_count": null,
   "id": "d6cf1e86",
   "metadata": {},
   "outputs": [],
   "source": []
  },
  {
   "cell_type": "code",
   "execution_count": 26,
   "id": "055736b9",
   "metadata": {
    "scrolled": true
   },
   "outputs": [],
   "source": [
    "order_id_to_product_id_list = dict(order_list_df.groupby(\"order_id\")[\"product_id\"].apply(list))\n",
    "\n",
    "order_id_to_places_vect = {}\n",
    "\n",
    "for k in order_id_to_product_id_list.keys():\n",
    "    vect_lst = []\n",
    "    \n",
    "    for p in order_id_to_product_id_list.get(k, []):\n",
    "        \n",
    "        if p in product_id_to_place_vect:\n",
    "            vect_lst.append(product_id_to_place_vect[p])\n",
    "        \n",
    "    if vect_lst:\n",
    "        order_id_to_places_vect[k] = sum(vect_lst)\n"
   ]
  },
  {
   "cell_type": "code",
   "execution_count": null,
   "id": "a7846dce",
   "metadata": {
    "scrolled": true
   },
   "outputs": [],
   "source": []
  },
  {
   "cell_type": "code",
   "execution_count": 27,
   "id": "c524a24a",
   "metadata": {
    "scrolled": true
   },
   "outputs": [],
   "source": [
    "collect_id_to_order_id_list = dict(order_collects_df.groupby(\"collect_id\")[\"order_id\"].apply(list))"
   ]
  },
  {
   "cell_type": "code",
   "execution_count": null,
   "id": "13621459",
   "metadata": {
    "scrolled": true
   },
   "outputs": [],
   "source": []
  },
  {
   "cell_type": "code",
   "execution_count": 28,
   "id": "e81f4e04",
   "metadata": {
    "scrolled": true
   },
   "outputs": [],
   "source": [
    "collect_id_to_places_vect = {}\n",
    "\n",
    "\n",
    "for k in collect_id_to_order_id_list.keys():\n",
    "    vect_lst = []\n",
    "    \n",
    "    for oid in collect_id_to_order_id_list.get(k, []):\n",
    "        if oid in order_id_to_places_vect:\n",
    "            vect_lst.append(order_id_to_places_vect[oid])\n",
    "        \n",
    "    if vect_lst:\n",
    "        collect_id_to_places_vect[k] = sum(vect_lst)\n",
    "        # No values larger than 1. Only 1 for cells to which we have to walk\n",
    "        #collect_id_to_places_vect[k][collect_id_to_places_vect[k] > 0] = 1"
   ]
  },
  {
   "cell_type": "code",
   "execution_count": 29,
   "id": "15e6015c",
   "metadata": {
    "scrolled": true
   },
   "outputs": [],
   "source": [
    "collect_id_to_time_spent_walking = dict(order_collects_df.groupby(\"collect_id\")[\"approx_store_walk_time\"].mean().dt.total_seconds())"
   ]
  },
  {
   "cell_type": "code",
   "execution_count": 30,
   "id": "743c90e2",
   "metadata": {
    "scrolled": true
   },
   "outputs": [
    {
     "data": {
      "text/plain": [
       "[(2691, 491.00000000000006),\n",
       " (2704, 150.0),\n",
       " (2712, 269.0),\n",
       " (2720, 859.0),\n",
       " (2731, 1442.0),\n",
       " (2754, 722.0),\n",
       " (2755, 1206.0),\n",
       " (2758, 1944.0000000000002),\n",
       " (2764, 60.00000000000001),\n",
       " (2766, 4141.0)]"
      ]
     },
     "execution_count": 30,
     "metadata": {},
     "output_type": "execute_result"
    }
   ],
   "source": [
    "list(collect_id_to_time_spent_walking.items())[:10]"
   ]
  },
  {
   "cell_type": "code",
   "execution_count": 31,
   "id": "fdb74c0e",
   "metadata": {
    "scrolled": true
   },
   "outputs": [
    {
     "data": {
      "text/html": [
       "<div>\n",
       "<style scoped>\n",
       "    .dataframe tbody tr th:only-of-type {\n",
       "        vertical-align: middle;\n",
       "    }\n",
       "\n",
       "    .dataframe tbody tr th {\n",
       "        vertical-align: top;\n",
       "    }\n",
       "\n",
       "    .dataframe thead th {\n",
       "        text-align: right;\n",
       "    }\n",
       "</style>\n",
       "<table border=\"1\" class=\"dataframe\">\n",
       "  <thead>\n",
       "    <tr style=\"text-align: right;\">\n",
       "      <th></th>\n",
       "      <th>collect_id</th>\n",
       "      <th>order_id</th>\n",
       "      <th>products_quantity</th>\n",
       "      <th>collect_date</th>\n",
       "      <th>warehouse_name</th>\n",
       "      <th>num_orders</th>\n",
       "      <th>created_at</th>\n",
       "      <th>collect_time</th>\n",
       "      <th>approx_store_walk_end</th>\n",
       "      <th>approx_store_walk_time</th>\n",
       "      <th>time_order_sorted</th>\n",
       "      <th>collect_sort_time</th>\n",
       "      <th>products_quantity_unique</th>\n",
       "      <th>products_quantity_unique_in_collect</th>\n",
       "    </tr>\n",
       "  </thead>\n",
       "  <tbody>\n",
       "    <tr>\n",
       "      <th>5183</th>\n",
       "      <td>2691</td>\n",
       "      <td>174972</td>\n",
       "      <td>1</td>\n",
       "      <td>2020-12-12 16:11:00</td>\n",
       "      <td>5</td>\n",
       "      <td>7</td>\n",
       "      <td>2020-12-12 16:02:49</td>\n",
       "      <td>0 days 00:08:11</td>\n",
       "      <td>2020-12-12 16:11:00</td>\n",
       "      <td>0 days 00:08:11</td>\n",
       "      <td>0 days 00:00:00</td>\n",
       "      <td>0 days 00:00:00</td>\n",
       "      <td>1</td>\n",
       "      <td>2</td>\n",
       "    </tr>\n",
       "    <tr>\n",
       "      <th>5184</th>\n",
       "      <td>2691</td>\n",
       "      <td>174951</td>\n",
       "      <td>1</td>\n",
       "      <td>2020-12-12 16:11:00</td>\n",
       "      <td>5</td>\n",
       "      <td>7</td>\n",
       "      <td>2020-12-12 16:02:49</td>\n",
       "      <td>0 days 00:08:11</td>\n",
       "      <td>2020-12-12 16:11:00</td>\n",
       "      <td>0 days 00:08:11</td>\n",
       "      <td>0 days 00:00:00</td>\n",
       "      <td>0 days 00:00:00</td>\n",
       "      <td>1</td>\n",
       "      <td>2</td>\n",
       "    </tr>\n",
       "    <tr>\n",
       "      <th>5641</th>\n",
       "      <td>2704</td>\n",
       "      <td>175593</td>\n",
       "      <td>1</td>\n",
       "      <td>2020-12-14 14:54:00</td>\n",
       "      <td>5</td>\n",
       "      <td>2</td>\n",
       "      <td>2020-12-14 14:49:30</td>\n",
       "      <td>0 days 00:04:30</td>\n",
       "      <td>2020-12-14 14:52:00</td>\n",
       "      <td>0 days 00:02:30</td>\n",
       "      <td>0 days 00:02:00</td>\n",
       "      <td>0 days 00:02:00</td>\n",
       "      <td>1</td>\n",
       "      <td>2</td>\n",
       "    </tr>\n",
       "    <tr>\n",
       "      <th>5642</th>\n",
       "      <td>2704</td>\n",
       "      <td>175721</td>\n",
       "      <td>1</td>\n",
       "      <td>2020-12-14 14:52:00</td>\n",
       "      <td>5</td>\n",
       "      <td>2</td>\n",
       "      <td>2020-12-14 14:49:30</td>\n",
       "      <td>0 days 00:02:30</td>\n",
       "      <td>2020-12-14 14:52:00</td>\n",
       "      <td>0 days 00:02:30</td>\n",
       "      <td>0 days 00:00:00</td>\n",
       "      <td>0 days 00:02:00</td>\n",
       "      <td>1</td>\n",
       "      <td>2</td>\n",
       "    </tr>\n",
       "    <tr>\n",
       "      <th>5860</th>\n",
       "      <td>2712</td>\n",
       "      <td>175283</td>\n",
       "      <td>8</td>\n",
       "      <td>2020-12-14 17:47:00</td>\n",
       "      <td>5</td>\n",
       "      <td>1</td>\n",
       "      <td>2020-12-14 17:42:31</td>\n",
       "      <td>0 days 00:04:29</td>\n",
       "      <td>2020-12-14 17:47:00</td>\n",
       "      <td>0 days 00:04:29</td>\n",
       "      <td>0 days 00:00:00</td>\n",
       "      <td>0 days 00:00:00</td>\n",
       "      <td>8</td>\n",
       "      <td>8</td>\n",
       "    </tr>\n",
       "  </tbody>\n",
       "</table>\n",
       "</div>"
      ],
      "text/plain": [
       "      collect_id  order_id  products_quantity        collect_date  \\\n",
       "5183        2691    174972                  1 2020-12-12 16:11:00   \n",
       "5184        2691    174951                  1 2020-12-12 16:11:00   \n",
       "5641        2704    175593                  1 2020-12-14 14:54:00   \n",
       "5642        2704    175721                  1 2020-12-14 14:52:00   \n",
       "5860        2712    175283                  8 2020-12-14 17:47:00   \n",
       "\n",
       "      warehouse_name  num_orders          created_at    collect_time  \\\n",
       "5183               5           7 2020-12-12 16:02:49 0 days 00:08:11   \n",
       "5184               5           7 2020-12-12 16:02:49 0 days 00:08:11   \n",
       "5641               5           2 2020-12-14 14:49:30 0 days 00:04:30   \n",
       "5642               5           2 2020-12-14 14:49:30 0 days 00:02:30   \n",
       "5860               5           1 2020-12-14 17:42:31 0 days 00:04:29   \n",
       "\n",
       "     approx_store_walk_end approx_store_walk_time time_order_sorted  \\\n",
       "5183   2020-12-12 16:11:00        0 days 00:08:11   0 days 00:00:00   \n",
       "5184   2020-12-12 16:11:00        0 days 00:08:11   0 days 00:00:00   \n",
       "5641   2020-12-14 14:52:00        0 days 00:02:30   0 days 00:02:00   \n",
       "5642   2020-12-14 14:52:00        0 days 00:02:30   0 days 00:00:00   \n",
       "5860   2020-12-14 17:47:00        0 days 00:04:29   0 days 00:00:00   \n",
       "\n",
       "     collect_sort_time  products_quantity_unique  \\\n",
       "5183   0 days 00:00:00                         1   \n",
       "5184   0 days 00:00:00                         1   \n",
       "5641   0 days 00:02:00                         1   \n",
       "5642   0 days 00:02:00                         1   \n",
       "5860   0 days 00:00:00                         8   \n",
       "\n",
       "      products_quantity_unique_in_collect  \n",
       "5183                                    2  \n",
       "5184                                    2  \n",
       "5641                                    2  \n",
       "5642                                    2  \n",
       "5860                                    8  "
      ]
     },
     "execution_count": 31,
     "metadata": {},
     "output_type": "execute_result"
    }
   ],
   "source": [
    "order_collects_df.head()"
   ]
  },
  {
   "cell_type": "code",
   "execution_count": null,
   "id": "4c9a5226",
   "metadata": {
    "scrolled": true
   },
   "outputs": [],
   "source": []
  },
  {
   "cell_type": "code",
   "execution_count": 32,
   "id": "57aaa325",
   "metadata": {
    "scrolled": true
   },
   "outputs": [],
   "source": [
    "# Try predict from vector of places "
   ]
  },
  {
   "cell_type": "code",
   "execution_count": null,
   "id": "baaad312",
   "metadata": {
    "scrolled": true
   },
   "outputs": [],
   "source": []
  },
  {
   "cell_type": "code",
   "execution_count": null,
   "id": "d9d565fe",
   "metadata": {},
   "outputs": [],
   "source": []
  },
  {
   "cell_type": "code",
   "execution_count": 33,
   "id": "2c193147",
   "metadata": {
    "scrolled": true
   },
   "outputs": [],
   "source": [
    "train_keys = collect_id_keys_train\n",
    "val_keys = collect_id_keys_val"
   ]
  },
  {
   "cell_type": "code",
   "execution_count": 34,
   "id": "ad6f9b64",
   "metadata": {
    "scrolled": true
   },
   "outputs": [],
   "source": [
    "# preparation end"
   ]
  },
  {
   "cell_type": "markdown",
   "id": "50d2619f",
   "metadata": {},
   "source": [
    "# Experiment 2\n",
    "# Linreg, no x,y processing"
   ]
  },
  {
   "cell_type": "code",
   "execution_count": 35,
   "id": "a63c4269",
   "metadata": {
    "scrolled": true
   },
   "outputs": [],
   "source": [
    "train_x = []\n",
    "val_x = []\n",
    "train_y = []\n",
    "val_y = []\n",
    "\n",
    "for k in train_keys:\n",
    "    if (k in collect_id_to_places_vect) and (k in collect_id_to_time_spent_walking):\n",
    "        train_x.append(collect_id_to_places_vect[k])\n",
    "        train_y.append(collect_id_to_time_spent_walking[k])\n",
    "    \n",
    "for k in val_keys:\n",
    "    if (k in collect_id_to_places_vect) and (k in collect_id_to_time_spent_walking):\n",
    "        val_x.append(collect_id_to_places_vect[k])\n",
    "        val_y.append(collect_id_to_time_spent_walking[k])\n"
   ]
  },
  {
   "cell_type": "code",
   "execution_count": 36,
   "id": "b035003f",
   "metadata": {
    "scrolled": true
   },
   "outputs": [
    {
     "data": {
      "text/plain": [
       "156"
      ]
     },
     "execution_count": 36,
     "metadata": {},
     "output_type": "execute_result"
    }
   ],
   "source": [
    "len(train_x[100])"
   ]
  },
  {
   "cell_type": "code",
   "execution_count": null,
   "id": "6b26e58e",
   "metadata": {
    "scrolled": true
   },
   "outputs": [],
   "source": []
  },
  {
   "cell_type": "code",
   "execution_count": 37,
   "id": "a51aab25",
   "metadata": {
    "scrolled": true
   },
   "outputs": [
    {
     "data": {
      "text/plain": [
       "-4.4588071325964735"
      ]
     },
     "execution_count": 37,
     "metadata": {},
     "output_type": "execute_result"
    }
   ],
   "source": [
    "import numpy as np\n",
    "from sklearn.linear_model import LinearRegression\n",
    "from sklearn.metrics import mean_absolute_error as mae\n",
    "\n",
    "\n",
    "X = np.array(train_x)\n",
    "reg = LinearRegression().fit(X, np.array(train_y))\n",
    "reg.score(val_x, np.array(val_y))"
   ]
  },
  {
   "cell_type": "code",
   "execution_count": 38,
   "id": "c7776bc2",
   "metadata": {
    "scrolled": true
   },
   "outputs": [
    {
     "data": {
      "text/plain": [
       "16.47481107031867"
      ]
     },
     "execution_count": 38,
     "metadata": {},
     "output_type": "execute_result"
    }
   ],
   "source": [
    "# train\n",
    "mae(reg.predict(np.array(X)), np.array(train_y)) / 60"
   ]
  },
  {
   "cell_type": "code",
   "execution_count": 39,
   "id": "c64a49a3",
   "metadata": {
    "scrolled": true
   },
   "outputs": [
    {
     "data": {
      "text/plain": [
       "20.87460068132845"
      ]
     },
     "execution_count": 39,
     "metadata": {},
     "output_type": "execute_result"
    }
   ],
   "source": [
    "# val\n",
    "mae(reg.predict(np.array(val_x)), np.array(val_y)) / 60"
   ]
  },
  {
   "cell_type": "code",
   "execution_count": null,
   "id": "ce329ea0",
   "metadata": {
    "scrolled": true
   },
   "outputs": [],
   "source": []
  },
  {
   "cell_type": "code",
   "execution_count": 40,
   "id": "0c47870b",
   "metadata": {
    "scrolled": true
   },
   "outputs": [
    {
     "data": {
      "image/png": "[encoded data removed]",
      "text/plain": [
       "<Figure size 432x288 with 1 Axes>"
      ]
     },
     "metadata": {
      "needs_background": "light"
     },
     "output_type": "display_data"
    }
   ],
   "source": [
    "# errors plot\n",
    "\n",
    "plt.hist((reg.predict(np.array(val_x)) - np.array(val_y)) / 60, bins = 50)\n",
    "\n",
    "plt.ylabel(\"num validation samples\")\n",
    "plt.xlabel(\"minutes error\")\n",
    "\n",
    "plt.savefig('plots/exp2_alldata_linreg_errors_plot.png')"
   ]
  },
  {
   "cell_type": "code",
   "execution_count": 41,
   "id": "50efb9d0",
   "metadata": {
    "scrolled": true
   },
   "outputs": [
    {
     "data": {
      "text/plain": [
       "45"
      ]
     },
     "execution_count": 41,
     "metadata": {},
     "output_type": "execute_result"
    }
   ],
   "source": [
    "np.sum(np.abs((reg.predict(np.array(val_x)) - np.array(val_y)) / 60) < 5)"
   ]
  },
  {
   "cell_type": "code",
   "execution_count": 42,
   "id": "fb7baeb1",
   "metadata": {
    "scrolled": true
   },
   "outputs": [
    {
     "data": {
      "text/plain": [
       "246"
      ]
     },
     "execution_count": 42,
     "metadata": {},
     "output_type": "execute_result"
    }
   ],
   "source": [
    "len(val_y) "
   ]
  },
  {
   "cell_type": "code",
   "execution_count": 43,
   "id": "2c5f5a8c",
   "metadata": {
    "scrolled": true
   },
   "outputs": [
    {
     "data": {
      "text/plain": [
       "0.13548387096774195"
      ]
     },
     "execution_count": 43,
     "metadata": {},
     "output_type": "execute_result"
    }
   ],
   "source": [
    "84 / 620 # 13% can be predicted with error < 5 minutes"
   ]
  },
  {
   "cell_type": "code",
   "execution_count": 44,
   "id": "1d1292d7",
   "metadata": {
    "scrolled": true
   },
   "outputs": [
    {
     "data": {
      "text/plain": [
       "87"
      ]
     },
     "execution_count": 44,
     "metadata": {},
     "output_type": "execute_result"
    }
   ],
   "source": [
    "np.sum(np.abs((reg.predict(np.array(val_x)) - np.array(val_y)) / 60) < 10)"
   ]
  },
  {
   "cell_type": "code",
   "execution_count": 45,
   "id": "e0d6ccd7",
   "metadata": {
    "scrolled": true
   },
   "outputs": [
    {
     "data": {
      "text/plain": [
       "0.3419354838709677"
      ]
     },
     "execution_count": 45,
     "metadata": {},
     "output_type": "execute_result"
    }
   ],
   "source": [
    "212 / 620"
   ]
  },
  {
   "cell_type": "code",
   "execution_count": 46,
   "id": "9d4ca9a5",
   "metadata": {
    "scrolled": true
   },
   "outputs": [],
   "source": [
    "l = {\"experiment_num\": \"2\", \n",
    " \"model_type\": \"Lin reg no y processing\", \n",
    " \"train_mae\": mae(reg.predict(np.array(X)), np.array(train_y)) / 60, \n",
    " \"val_mae\": mae(reg.predict(np.array(val_x)), np.array(val_y)) / 60, \n",
    " \"perc_lt_5mins\": np.sum(np.abs((reg.predict(np.array(val_x)) - np.array(val_y)) / 60) < 5) / len(val_y) ,\n",
    " \"perc_lt_10mins\": np.sum(np.abs((reg.predict(np.array(val_x)) - np.array(val_y)) / 60) < 10) / len(val_y),\n",
    "    \"train_preds\": reg.predict(np.array(X)),\n",
    "    \"val_preds\":reg.predict(np.array(val_x))}\n",
    "\n",
    "metrics_df_lst.append(l)"
   ]
  },
  {
   "cell_type": "code",
   "execution_count": null,
   "id": "152838dd",
   "metadata": {
    "scrolled": true
   },
   "outputs": [],
   "source": []
  },
  {
   "cell_type": "markdown",
   "id": "bab8cef7",
   "metadata": {},
   "source": [
    "# Experiment 2 \n",
    "# Linreg cbrt y preprocessing"
   ]
  },
  {
   "cell_type": "code",
   "execution_count": 119,
   "id": "243316cf",
   "metadata": {
    "scrolled": true
   },
   "outputs": [],
   "source": [
    "train_x = []\n",
    "val_x = []\n",
    "train_y = []\n",
    "val_y = []\n",
    "\n",
    "for k in train_keys:\n",
    "    if (k in collect_id_to_places_vect) and (k in collect_id_to_time_spent_walking):\n",
    "        train_x.append(collect_id_to_places_vect[k])\n",
    "        train_y.append(collect_id_to_time_spent_walking[k])\n",
    "    \n",
    "for k in val_keys:\n",
    "    if (k in collect_id_to_places_vect) and (k in collect_id_to_time_spent_walking):\n",
    "        val_x.append(collect_id_to_places_vect[k])\n",
    "        val_y.append(collect_id_to_time_spent_walking[k])\n"
   ]
  },
  {
   "cell_type": "code",
   "execution_count": 120,
   "id": "e6f902a8",
   "metadata": {
    "scrolled": true
   },
   "outputs": [
    {
     "data": {
      "text/plain": [
       "-1.8809787302461674"
      ]
     },
     "execution_count": 120,
     "metadata": {},
     "output_type": "execute_result"
    }
   ],
   "source": [
    "import numpy as np\n",
    "from sklearn.linear_model import LinearRegression\n",
    "from sklearn.metrics import mean_absolute_error as mae\n",
    "\n",
    "\n",
    "X = np.array(train_x)\n",
    "reg = LinearRegression().fit(X, transform_y(np.array(train_y)))\n",
    "reg.score(val_x, transform_y(np.array(val_y)))"
   ]
  },
  {
   "cell_type": "code",
   "execution_count": 121,
   "id": "c93a9058",
   "metadata": {
    "scrolled": true
   },
   "outputs": [
    {
     "data": {
      "text/plain": [
       "14.134823620672162"
      ]
     },
     "execution_count": 121,
     "metadata": {},
     "output_type": "execute_result"
    }
   ],
   "source": [
    "# train\n",
    "mae( inv_transform_y(reg.predict(np.array(X))), np.array(train_y)) / 60"
   ]
  },
  {
   "cell_type": "code",
   "execution_count": 122,
   "id": "8b7d6165",
   "metadata": {
    "scrolled": true
   },
   "outputs": [
    {
     "data": {
      "text/plain": [
       "27.157105978233954"
      ]
     },
     "execution_count": 122,
     "metadata": {},
     "output_type": "execute_result"
    }
   ],
   "source": [
    "# val\n",
    "mae( inv_transform_y(reg.predict(np.array(val_x))), np.array(val_y)) / 60"
   ]
  },
  {
   "cell_type": "code",
   "execution_count": null,
   "id": "9153fe36",
   "metadata": {
    "scrolled": true
   },
   "outputs": [],
   "source": []
  },
  {
   "cell_type": "code",
   "execution_count": 123,
   "id": "d7210e7f",
   "metadata": {
    "scrolled": true
   },
   "outputs": [
    {
     "data": {
      "image/png": "[encoded data removed]",
      "text/plain": [
       "<Figure size 432x288 with 1 Axes>"
      ]
     },
     "metadata": {
      "needs_background": "light"
     },
     "output_type": "display_data"
    }
   ],
   "source": [
    "plt.hist((inv_transform_y(reg.predict(np.array(val_x))) - np.array(val_y)) / 60, bins = 50)\n",
    "\n",
    "plt.ylabel(\"num validation samples\")\n",
    "plt.xlabel(\"minutes error\")\n",
    "\n",
    "plt.savefig('plots/exp2_alldata_cbrt_y_linreg_errors_plot.png')"
   ]
  },
  {
   "cell_type": "code",
   "execution_count": 124,
   "id": "280b2e60",
   "metadata": {
    "scrolled": true
   },
   "outputs": [
    {
     "data": {
      "text/plain": [
       "246"
      ]
     },
     "execution_count": 124,
     "metadata": {},
     "output_type": "execute_result"
    }
   ],
   "source": [
    "len(val_y)"
   ]
  },
  {
   "cell_type": "code",
   "execution_count": 125,
   "id": "dc76411b",
   "metadata": {
    "scrolled": true
   },
   "outputs": [
    {
     "data": {
      "text/plain": [
       "82"
      ]
     },
     "execution_count": 125,
     "metadata": {},
     "output_type": "execute_result"
    }
   ],
   "source": [
    "np.sum(np.abs((inv_transform_y(reg.predict(np.array(val_x))) - np.array(val_y)) / 60) < 5)"
   ]
  },
  {
   "cell_type": "code",
   "execution_count": 126,
   "id": "e249b661",
   "metadata": {
    "scrolled": true
   },
   "outputs": [
    {
     "data": {
      "text/plain": [
       "0.24193548387096775"
      ]
     },
     "execution_count": 126,
     "metadata": {},
     "output_type": "execute_result"
    }
   ],
   "source": [
    "150 / 620"
   ]
  },
  {
   "cell_type": "code",
   "execution_count": 127,
   "id": "d530aca0",
   "metadata": {
    "scrolled": true
   },
   "outputs": [
    {
     "data": {
      "text/plain": [
       "148"
      ]
     },
     "execution_count": 127,
     "metadata": {},
     "output_type": "execute_result"
    }
   ],
   "source": [
    "np.sum(np.abs((inv_transform_y(reg.predict(np.array(val_x))) - np.array(val_y)) / 60) < 10)"
   ]
  },
  {
   "cell_type": "code",
   "execution_count": 128,
   "id": "4f5272a7",
   "metadata": {
    "scrolled": true
   },
   "outputs": [
    {
     "data": {
      "text/plain": [
       "0.6112903225806452"
      ]
     },
     "execution_count": 128,
     "metadata": {},
     "output_type": "execute_result"
    }
   ],
   "source": [
    "379 / 620"
   ]
  },
  {
   "cell_type": "code",
   "execution_count": 129,
   "id": "ec731d59",
   "metadata": {},
   "outputs": [],
   "source": [
    "# np.abs((inv_transform_y(reg.predict(np.array(val_x))) - np.array(val_y)) / 60).argmax()"
   ]
  },
  {
   "cell_type": "code",
   "execution_count": 130,
   "id": "010bccfc",
   "metadata": {},
   "outputs": [],
   "source": [
    "# np.abs((inv_transform_y(reg.predict(np.array(val_x))) - np.array(val_y)) / 60)[168]"
   ]
  },
  {
   "cell_type": "code",
   "execution_count": null,
   "id": "00967092",
   "metadata": {},
   "outputs": [],
   "source": []
  },
  {
   "cell_type": "code",
   "execution_count": 131,
   "id": "7b53f42c",
   "metadata": {},
   "outputs": [],
   "source": [
    "# np.array(val_y)[18]#"
   ]
  },
  {
   "cell_type": "code",
   "execution_count": null,
   "id": "410188f8",
   "metadata": {},
   "outputs": [],
   "source": []
  },
  {
   "cell_type": "code",
   "execution_count": null,
   "id": "fbe61678",
   "metadata": {},
   "outputs": [],
   "source": []
  },
  {
   "cell_type": "code",
   "execution_count": 132,
   "id": "72a4ee5e",
   "metadata": {},
   "outputs": [],
   "source": [
    "l = {\"experiment_num\": \"2\", \n",
    " \"model_type\": \"Lin cbrt y processing\", \n",
    " \"train_mae\": mae( inv_transform_y(reg.predict(np.array(X))), np.array(train_y)) / 60, \n",
    " \"val_mae\": mae( inv_transform_y(reg.predict(np.array(val_x))), np.array(val_y)) / 60, \n",
    " \"perc_lt_5mins\": np.sum(np.abs((inv_transform_y(reg.predict(np.array(val_x))) - np.array(val_y)) / 60) < 5) / len(val_y) ,\n",
    " \"perc_lt_10mins\": np.sum(np.abs((inv_transform_y(reg.predict(np.array(val_x))) - np.array(val_y)) / 60) < 10) / len(val_y),\n",
    "    \"train_preds\": inv_transform_y(reg.predict(np.array(train_x))),\n",
    "    \"val_preds\":inv_transform_y(reg.predict(np.array(val_x))) }\n",
    "\n",
    "metrics_df_lst.append(l)"
   ]
  },
  {
   "cell_type": "code",
   "execution_count": null,
   "id": "eb4faba5",
   "metadata": {},
   "outputs": [],
   "source": []
  },
  {
   "cell_type": "code",
   "execution_count": null,
   "id": "ac20ee13",
   "metadata": {},
   "outputs": [],
   "source": []
  },
  {
   "cell_type": "markdown",
   "id": "540441b7",
   "metadata": {},
   "source": [
    "# Experiment 2\n",
    "# Rand Forest, cbrt y processing"
   ]
  },
  {
   "cell_type": "code",
   "execution_count": 47,
   "id": "1956c068",
   "metadata": {
    "scrolled": true
   },
   "outputs": [],
   "source": [
    "train_x = []\n",
    "val_x = []\n",
    "train_y = []\n",
    "val_y = []\n",
    "\n",
    "for k in train_keys:\n",
    "    if (k in collect_id_to_places_vect) and (k in collect_id_to_time_spent_walking):\n",
    "        train_x.append(collect_id_to_places_vect[k])\n",
    "        train_y.append(collect_id_to_time_spent_walking[k])\n",
    "    \n",
    "for k in val_keys:\n",
    "    if (k in collect_id_to_places_vect) and (k in collect_id_to_time_spent_walking):\n",
    "        val_x.append(collect_id_to_places_vect[k])\n",
    "        val_y.append(collect_id_to_time_spent_walking[k])"
   ]
  },
  {
   "cell_type": "code",
   "execution_count": 48,
   "id": "97b26f27",
   "metadata": {},
   "outputs": [],
   "source": [
    "# val_keys[168]"
   ]
  },
  {
   "cell_type": "code",
   "execution_count": 49,
   "id": "4b02b373",
   "metadata": {},
   "outputs": [],
   "source": [
    "# collect_id_to_time_spent_walking[13648]"
   ]
  },
  {
   "cell_type": "code",
   "execution_count": 50,
   "id": "eadb4712",
   "metadata": {},
   "outputs": [],
   "source": [
    "def transform_y(y):\n",
    "    return np.cbrt(y)\n",
    "\n",
    "def inv_transform_y(y):\n",
    "    return np.power(y,3)\n",
    "\n",
    "def transform_products_quantity(x):\n",
    "    return np.cbrt(x)\n",
    "\n",
    "def inv_transform_products_quantity(x):\n",
    "    return np.power(x,3)\n"
   ]
  },
  {
   "cell_type": "code",
   "execution_count": 51,
   "id": "752b816f",
   "metadata": {
    "scrolled": false
   },
   "outputs": [
    {
     "name": "stdout",
     "output_type": "stream",
     "text": [
      "Fitting 5 folds for each of 21 candidates, totalling 105 fits\n",
      "[CV 1/5] END criterion=absolute_error, min_samples_split=2, n_estimators=50, n_jobs=-1;, score=-0.155 total time=   2.6s\n",
      "[CV 2/5] END criterion=absolute_error, min_samples_split=2, n_estimators=50, n_jobs=-1;, score=0.139 total time=   1.9s\n",
      "[CV 3/5] END criterion=absolute_error, min_samples_split=2, n_estimators=50, n_jobs=-1;, score=0.085 total time=   2.0s\n",
      "[CV 4/5] END criterion=absolute_error, min_samples_split=2, n_estimators=50, n_jobs=-1;, score=0.202 total time=   2.1s\n",
      "[CV 5/5] END criterion=absolute_error, min_samples_split=2, n_estimators=50, n_jobs=-1;, score=0.116 total time=   2.1s\n",
      "[CV 1/5] END criterion=absolute_error, min_samples_split=2, n_estimators=100, n_jobs=-1;, score=-0.178 total time=   3.6s\n",
      "[CV 2/5] END criterion=absolute_error, min_samples_split=2, n_estimators=100, n_jobs=-1;, score=0.133 total time=   3.5s\n",
      "[CV 3/5] END criterion=absolute_error, min_samples_split=2, n_estimators=100, n_jobs=-1;, score=0.047 total time=   3.8s\n",
      "[CV 4/5] END criterion=absolute_error, min_samples_split=2, n_estimators=100, n_jobs=-1;, score=0.222 total time=   3.8s\n",
      "[CV 5/5] END criterion=absolute_error, min_samples_split=2, n_estimators=100, n_jobs=-1;, score=0.126 total time=   4.0s\n",
      "[CV 1/5] END criterion=absolute_error, min_samples_split=2, n_estimators=200, n_jobs=-1;, score=-0.173 total time=   7.2s\n",
      "[CV 2/5] END criterion=absolute_error, min_samples_split=2, n_estimators=200, n_jobs=-1;, score=0.147 total time=   6.8s\n",
      "[CV 3/5] END criterion=absolute_error, min_samples_split=2, n_estimators=200, n_jobs=-1;, score=0.056 total time=   7.2s\n",
      "[CV 4/5] END criterion=absolute_error, min_samples_split=2, n_estimators=200, n_jobs=-1;, score=0.207 total time=   7.2s\n",
      "[CV 5/5] END criterion=absolute_error, min_samples_split=2, n_estimators=200, n_jobs=-1;, score=0.143 total time=   7.6s\n",
      "[CV 1/5] END criterion=absolute_error, min_samples_split=10, n_estimators=50, n_jobs=-1;, score=-0.119 total time=   1.9s\n",
      "[CV 2/5] END criterion=absolute_error, min_samples_split=10, n_estimators=50, n_jobs=-1;, score=0.188 total time=   1.9s\n",
      "[CV 3/5] END criterion=absolute_error, min_samples_split=10, n_estimators=50, n_jobs=-1;, score=0.259 total time=   2.1s\n",
      "[CV 4/5] END criterion=absolute_error, min_samples_split=10, n_estimators=50, n_jobs=-1;, score=0.253 total time=   2.0s\n",
      "[CV 5/5] END criterion=absolute_error, min_samples_split=10, n_estimators=50, n_jobs=-1;, score=0.176 total time=   2.2s\n",
      "[CV 1/5] END criterion=absolute_error, min_samples_split=10, n_estimators=100, n_jobs=-1;, score=-0.124 total time=   3.4s\n",
      "[CV 2/5] END criterion=absolute_error, min_samples_split=10, n_estimators=100, n_jobs=-1;, score=0.210 total time=   3.5s\n",
      "[CV 3/5] END criterion=absolute_error, min_samples_split=10, n_estimators=100, n_jobs=-1;, score=0.259 total time=   3.8s\n",
      "[CV 4/5] END criterion=absolute_error, min_samples_split=10, n_estimators=100, n_jobs=-1;, score=0.247 total time=   3.7s\n",
      "[CV 5/5] END criterion=absolute_error, min_samples_split=10, n_estimators=100, n_jobs=-1;, score=0.213 total time=   4.0s\n",
      "[CV 1/5] END criterion=absolute_error, min_samples_split=10, n_estimators=200, n_jobs=-1;, score=-0.123 total time=   6.6s\n",
      "[CV 2/5] END criterion=absolute_error, min_samples_split=10, n_estimators=200, n_jobs=-1;, score=0.199 total time=   6.8s\n",
      "[CV 3/5] END criterion=absolute_error, min_samples_split=10, n_estimators=200, n_jobs=-1;, score=0.258 total time=   7.2s\n",
      "[CV 4/5] END criterion=absolute_error, min_samples_split=10, n_estimators=200, n_jobs=-1;, score=0.258 total time=   7.1s\n",
      "[CV 5/5] END criterion=absolute_error, min_samples_split=10, n_estimators=200, n_jobs=-1;, score=0.202 total time=   7.6s\n",
      "[CV 1/5] END criterion=absolute_error, min_samples_split=30, n_estimators=50, n_jobs=-1;, score=-0.125 total time=   1.8s\n",
      "[CV 2/5] END criterion=absolute_error, min_samples_split=30, n_estimators=50, n_jobs=-1;, score=0.172 total time=   1.9s\n",
      "[CV 3/5] END criterion=absolute_error, min_samples_split=30, n_estimators=50, n_jobs=-1;, score=0.234 total time=   2.0s\n",
      "[CV 4/5] END criterion=absolute_error, min_samples_split=30, n_estimators=50, n_jobs=-1;, score=0.239 total time=   2.0s\n",
      "[CV 5/5] END criterion=absolute_error, min_samples_split=30, n_estimators=50, n_jobs=-1;, score=0.216 total time=   2.0s\n",
      "[CV 1/5] END criterion=absolute_error, min_samples_split=30, n_estimators=100, n_jobs=-1;, score=-0.101 total time=   3.4s\n",
      "[CV 2/5] END criterion=absolute_error, min_samples_split=30, n_estimators=100, n_jobs=-1;, score=0.183 total time=   3.4s\n",
      "[CV 3/5] END criterion=absolute_error, min_samples_split=30, n_estimators=100, n_jobs=-1;, score=0.255 total time=   3.6s\n",
      "[CV 4/5] END criterion=absolute_error, min_samples_split=30, n_estimators=100, n_jobs=-1;, score=0.254 total time=   3.7s\n",
      "[CV 5/5] END criterion=absolute_error, min_samples_split=30, n_estimators=100, n_jobs=-1;, score=0.215 total time=   3.9s\n",
      "[CV 1/5] END criterion=absolute_error, min_samples_split=30, n_estimators=200, n_jobs=-1;, score=-0.098 total time=   6.5s\n",
      "[CV 2/5] END criterion=absolute_error, min_samples_split=30, n_estimators=200, n_jobs=-1;, score=0.178 total time=   6.6s\n",
      "[CV 3/5] END criterion=absolute_error, min_samples_split=30, n_estimators=200, n_jobs=-1;, score=0.253 total time=   7.1s\n",
      "[CV 4/5] END criterion=absolute_error, min_samples_split=30, n_estimators=200, n_jobs=-1;, score=0.244 total time=   7.0s\n",
      "[CV 5/5] END criterion=absolute_error, min_samples_split=30, n_estimators=200, n_jobs=-1;, score=0.210 total time=   7.4s\n",
      "[CV 1/5] END criterion=absolute_error, min_samples_split=0.02, n_estimators=50, n_jobs=-1;, score=-0.131 total time=   1.9s\n",
      "[CV 2/5] END criterion=absolute_error, min_samples_split=0.02, n_estimators=50, n_jobs=-1;, score=0.174 total time=   1.9s\n",
      "[CV 3/5] END criterion=absolute_error, min_samples_split=0.02, n_estimators=50, n_jobs=-1;, score=0.268 total time=   2.1s\n",
      "[CV 4/5] END criterion=absolute_error, min_samples_split=0.02, n_estimators=50, n_jobs=-1;, score=0.225 total time=   1.9s\n",
      "[CV 5/5] END criterion=absolute_error, min_samples_split=0.02, n_estimators=50, n_jobs=-1;, score=0.200 total time=   2.1s\n",
      "[CV 1/5] END criterion=absolute_error, min_samples_split=0.02, n_estimators=100, n_jobs=-1;, score=-0.145 total time=   3.4s\n",
      "[CV 2/5] END criterion=absolute_error, min_samples_split=0.02, n_estimators=100, n_jobs=-1;, score=0.178 total time=   3.4s\n",
      "[CV 3/5] END criterion=absolute_error, min_samples_split=0.02, n_estimators=100, n_jobs=-1;, score=0.267 total time=   3.8s\n",
      "[CV 4/5] END criterion=absolute_error, min_samples_split=0.02, n_estimators=100, n_jobs=-1;, score=0.254 total time=   3.7s\n",
      "[CV 5/5] END criterion=absolute_error, min_samples_split=0.02, n_estimators=100, n_jobs=-1;, score=0.224 total time=   3.9s\n",
      "[CV 1/5] END criterion=absolute_error, min_samples_split=0.02, n_estimators=200, n_jobs=-1;, score=-0.120 total time=   6.6s\n",
      "[CV 2/5] END criterion=absolute_error, min_samples_split=0.02, n_estimators=200, n_jobs=-1;, score=0.182 total time=   6.6s\n",
      "[CV 3/5] END criterion=absolute_error, min_samples_split=0.02, n_estimators=200, n_jobs=-1;, score=0.249 total time=   7.2s\n",
      "[CV 4/5] END criterion=absolute_error, min_samples_split=0.02, n_estimators=200, n_jobs=-1;, score=0.252 total time=   7.1s\n",
      "[CV 5/5] END criterion=absolute_error, min_samples_split=0.02, n_estimators=200, n_jobs=-1;, score=0.222 total time=   7.4s\n",
      "[CV 1/5] END criterion=absolute_error, min_samples_split=0.05, n_estimators=50, n_jobs=-1;, score=-0.120 total time=   2.0s\n",
      "[CV 2/5] END criterion=absolute_error, min_samples_split=0.05, n_estimators=50, n_jobs=-1;, score=0.163 total time=   1.9s\n",
      "[CV 3/5] END criterion=absolute_error, min_samples_split=0.05, n_estimators=50, n_jobs=-1;, score=0.254 total time=   2.0s\n",
      "[CV 4/5] END criterion=absolute_error, min_samples_split=0.05, n_estimators=50, n_jobs=-1;, score=0.232 total time=   2.0s\n",
      "[CV 5/5] END criterion=absolute_error, min_samples_split=0.05, n_estimators=50, n_jobs=-1;, score=0.212 total time=   2.1s\n",
      "[CV 1/5] END criterion=absolute_error, min_samples_split=0.05, n_estimators=100, n_jobs=-1;, score=-0.115 total time=   3.3s\n",
      "[CV 2/5] END criterion=absolute_error, min_samples_split=0.05, n_estimators=100, n_jobs=-1;, score=0.174 total time=   3.5s\n"
     ]
    },
    {
     "name": "stdout",
     "output_type": "stream",
     "text": [
      "[CV 3/5] END criterion=absolute_error, min_samples_split=0.05, n_estimators=100, n_jobs=-1;, score=0.241 total time=   3.7s\n",
      "[CV 4/5] END criterion=absolute_error, min_samples_split=0.05, n_estimators=100, n_jobs=-1;, score=0.226 total time=   3.8s\n",
      "[CV 5/5] END criterion=absolute_error, min_samples_split=0.05, n_estimators=100, n_jobs=-1;, score=0.198 total time=   4.0s\n",
      "[CV 1/5] END criterion=absolute_error, min_samples_split=0.05, n_estimators=200, n_jobs=-1;, score=-0.118 total time=   6.5s\n",
      "[CV 2/5] END criterion=absolute_error, min_samples_split=0.05, n_estimators=200, n_jobs=-1;, score=0.173 total time=   6.6s\n",
      "[CV 3/5] END criterion=absolute_error, min_samples_split=0.05, n_estimators=200, n_jobs=-1;, score=0.255 total time=   7.0s\n",
      "[CV 4/5] END criterion=absolute_error, min_samples_split=0.05, n_estimators=200, n_jobs=-1;, score=0.249 total time=   7.1s\n",
      "[CV 5/5] END criterion=absolute_error, min_samples_split=0.05, n_estimators=200, n_jobs=-1;, score=0.218 total time=   7.7s\n",
      "[CV 1/5] END criterion=absolute_error, min_samples_split=0.1, n_estimators=50, n_jobs=-1;, score=-0.130 total time=   1.9s\n",
      "[CV 2/5] END criterion=absolute_error, min_samples_split=0.1, n_estimators=50, n_jobs=-1;, score=0.168 total time=   1.9s\n",
      "[CV 3/5] END criterion=absolute_error, min_samples_split=0.1, n_estimators=50, n_jobs=-1;, score=0.259 total time=   2.0s\n",
      "[CV 4/5] END criterion=absolute_error, min_samples_split=0.1, n_estimators=50, n_jobs=-1;, score=0.232 total time=   2.2s\n",
      "[CV 5/5] END criterion=absolute_error, min_samples_split=0.1, n_estimators=50, n_jobs=-1;, score=0.166 total time=   2.1s\n",
      "[CV 1/5] END criterion=absolute_error, min_samples_split=0.1, n_estimators=100, n_jobs=-1;, score=-0.104 total time=   3.5s\n",
      "[CV 2/5] END criterion=absolute_error, min_samples_split=0.1, n_estimators=100, n_jobs=-1;, score=0.174 total time=   3.5s\n",
      "[CV 3/5] END criterion=absolute_error, min_samples_split=0.1, n_estimators=100, n_jobs=-1;, score=0.235 total time=   4.0s\n",
      "[CV 4/5] END criterion=absolute_error, min_samples_split=0.1, n_estimators=100, n_jobs=-1;, score=0.228 total time=   3.9s\n",
      "[CV 5/5] END criterion=absolute_error, min_samples_split=0.1, n_estimators=100, n_jobs=-1;, score=0.188 total time=   3.9s\n",
      "[CV 1/5] END criterion=absolute_error, min_samples_split=0.1, n_estimators=200, n_jobs=-1;, score=-0.113 total time=   6.4s\n",
      "[CV 2/5] END criterion=absolute_error, min_samples_split=0.1, n_estimators=200, n_jobs=-1;, score=0.170 total time=   6.5s\n",
      "[CV 3/5] END criterion=absolute_error, min_samples_split=0.1, n_estimators=200, n_jobs=-1;, score=0.239 total time=   7.0s\n",
      "[CV 4/5] END criterion=absolute_error, min_samples_split=0.1, n_estimators=200, n_jobs=-1;, score=0.239 total time=   7.1s\n",
      "[CV 5/5] END criterion=absolute_error, min_samples_split=0.1, n_estimators=200, n_jobs=-1;, score=0.204 total time=   7.5s\n",
      "[CV 1/5] END criterion=absolute_error, min_samples_split=0.2, n_estimators=50, n_jobs=-1;, score=-0.122 total time=   1.8s\n",
      "[CV 2/5] END criterion=absolute_error, min_samples_split=0.2, n_estimators=50, n_jobs=-1;, score=0.165 total time=   1.6s\n",
      "[CV 3/5] END criterion=absolute_error, min_samples_split=0.2, n_estimators=50, n_jobs=-1;, score=0.252 total time=   1.9s\n",
      "[CV 4/5] END criterion=absolute_error, min_samples_split=0.2, n_estimators=50, n_jobs=-1;, score=0.253 total time=   1.8s\n",
      "[CV 5/5] END criterion=absolute_error, min_samples_split=0.2, n_estimators=50, n_jobs=-1;, score=0.206 total time=   2.0s\n",
      "[CV 1/5] END criterion=absolute_error, min_samples_split=0.2, n_estimators=100, n_jobs=-1;, score=-0.110 total time=   3.1s\n",
      "[CV 2/5] END criterion=absolute_error, min_samples_split=0.2, n_estimators=100, n_jobs=-1;, score=0.162 total time=   3.1s\n",
      "[CV 3/5] END criterion=absolute_error, min_samples_split=0.2, n_estimators=100, n_jobs=-1;, score=0.269 total time=   3.3s\n",
      "[CV 4/5] END criterion=absolute_error, min_samples_split=0.2, n_estimators=100, n_jobs=-1;, score=0.248 total time=   3.4s\n",
      "[CV 5/5] END criterion=absolute_error, min_samples_split=0.2, n_estimators=100, n_jobs=-1;, score=0.210 total time=   3.6s\n",
      "[CV 1/5] END criterion=absolute_error, min_samples_split=0.2, n_estimators=200, n_jobs=-1;, score=-0.113 total time=   5.9s\n",
      "[CV 2/5] END criterion=absolute_error, min_samples_split=0.2, n_estimators=200, n_jobs=-1;, score=0.167 total time=   5.9s\n",
      "[CV 3/5] END criterion=absolute_error, min_samples_split=0.2, n_estimators=200, n_jobs=-1;, score=0.260 total time=   6.5s\n",
      "[CV 4/5] END criterion=absolute_error, min_samples_split=0.2, n_estimators=200, n_jobs=-1;, score=0.244 total time=   6.4s\n",
      "[CV 5/5] END criterion=absolute_error, min_samples_split=0.2, n_estimators=200, n_jobs=-1;, score=0.213 total time=   6.9s\n"
     ]
    },
    {
     "data": {
      "text/plain": [
       "0.5381525368597015"
      ]
     },
     "execution_count": 51,
     "metadata": {},
     "output_type": "execute_result"
    }
   ],
   "source": [
    "\n",
    "import numpy as np\n",
    "from sklearn.linear_model import LinearRegression\n",
    "\n",
    "from sklearn.ensemble import RandomForestRegressor\n",
    "\n",
    "from sklearn.metrics import mean_absolute_error as mae\n",
    "\n",
    "\n",
    "from sklearn.model_selection import GridSearchCV\n",
    "parameters = {'n_estimators':[50, 100, 200], 'min_samples_split':[2, 10, 30, 0.02, 0.05, 0.1, 0.2],\n",
    "              \"criterion\": [\"absolute_error\"], \"n_jobs\":[-1]}\n",
    "\n",
    "rand_for = RandomForestRegressor()\n",
    "reg = GridSearchCV(rand_for, parameters, verbose=3)\n",
    "reg.fit(np.array(train_x), transform_y(np.array(train_y)))\n",
    "\n",
    "\n",
    "reg.score(np.array(train_x), transform_y(np.array(train_y)))\n"
   ]
  },
  {
   "cell_type": "code",
   "execution_count": null,
   "id": "20fb5936",
   "metadata": {
    "scrolled": true
   },
   "outputs": [],
   "source": []
  },
  {
   "cell_type": "code",
   "execution_count": 52,
   "id": "f828bed7",
   "metadata": {
    "scrolled": true
   },
   "outputs": [
    {
     "data": {
      "text/plain": [
       "{'criterion': 'absolute_error',\n",
       " 'min_samples_split': 30,\n",
       " 'n_estimators': 100,\n",
       " 'n_jobs': -1}"
      ]
     },
     "execution_count": 52,
     "metadata": {},
     "output_type": "execute_result"
    }
   ],
   "source": [
    "reg.best_params_"
   ]
  },
  {
   "cell_type": "code",
   "execution_count": 53,
   "id": "c46c52e3",
   "metadata": {
    "scrolled": true
   },
   "outputs": [
    {
     "data": {
      "text/plain": [
       "12.856467905241564"
      ]
     },
     "execution_count": 53,
     "metadata": {},
     "output_type": "execute_result"
    }
   ],
   "source": [
    "# train\n",
    "mae( inv_transform_y(reg.predict(np.array(train_x))), np.array(train_y)) / 60"
   ]
  },
  {
   "cell_type": "code",
   "execution_count": 54,
   "id": "59e0a288",
   "metadata": {
    "scrolled": true
   },
   "outputs": [
    {
     "data": {
      "text/plain": [
       "9.966244435821588"
      ]
     },
     "execution_count": 54,
     "metadata": {},
     "output_type": "execute_result"
    }
   ],
   "source": [
    "# val\n",
    "mae( inv_transform_y(reg.predict(np.array(val_x))), np.array(val_y)) / 60"
   ]
  },
  {
   "cell_type": "code",
   "execution_count": 55,
   "id": "f73b7380",
   "metadata": {
    "scrolled": true
   },
   "outputs": [
    {
     "data": {
      "image/png": "[encoded data removed]",
      "text/plain": [
       "<Figure size 432x288 with 1 Axes>"
      ]
     },
     "metadata": {
      "needs_background": "light"
     },
     "output_type": "display_data"
    }
   ],
   "source": [
    "# errors plot\n",
    "\n",
    "plt.hist((inv_transform_y(reg.predict(np.array(val_x))) - np.array(val_y)) / 60, bins = 50)\n",
    "\n",
    "plt.ylabel(\"num validation samples\")\n",
    "plt.xlabel(\"minutes error\")\n",
    "\n",
    "plt.savefig('plots/exp2_alldata_cbrt_rand_for_errors_plot.png')"
   ]
  },
  {
   "cell_type": "code",
   "execution_count": 56,
   "id": "6da8779f",
   "metadata": {
    "scrolled": true
   },
   "outputs": [
    {
     "data": {
      "text/plain": [
       "106"
      ]
     },
     "execution_count": 56,
     "metadata": {},
     "output_type": "execute_result"
    }
   ],
   "source": [
    "np.sum(np.abs((inv_transform_y(reg.predict(np.array(val_x))) - np.array(val_y)) / 60) < 5)"
   ]
  },
  {
   "cell_type": "code",
   "execution_count": 57,
   "id": "bb846fcf",
   "metadata": {
    "scrolled": true
   },
   "outputs": [
    {
     "data": {
      "text/plain": [
       "246"
      ]
     },
     "execution_count": 57,
     "metadata": {},
     "output_type": "execute_result"
    }
   ],
   "source": [
    "len(val_y)"
   ]
  },
  {
   "cell_type": "code",
   "execution_count": 58,
   "id": "cd6db55b",
   "metadata": {
    "scrolled": true
   },
   "outputs": [
    {
     "data": {
      "text/plain": [
       "0.3467741935483871"
      ]
     },
     "execution_count": 58,
     "metadata": {},
     "output_type": "execute_result"
    }
   ],
   "source": [
    "215 / 620"
   ]
  },
  {
   "cell_type": "code",
   "execution_count": 73,
   "id": "aefd6b59",
   "metadata": {
    "scrolled": true
   },
   "outputs": [
    {
     "data": {
      "text/plain": [
       "168"
      ]
     },
     "execution_count": 73,
     "metadata": {},
     "output_type": "execute_result"
    }
   ],
   "source": [
    "np.sum(np.abs((inv_transform_y(reg.predict(np.array(val_x))) - np.array(val_y)) / 60) < 10)"
   ]
  },
  {
   "cell_type": "code",
   "execution_count": 146,
   "id": "1ced4435",
   "metadata": {
    "scrolled": true
   },
   "outputs": [
    {
     "data": {
      "text/plain": [
       "0.5951612903225807"
      ]
     },
     "execution_count": 146,
     "metadata": {},
     "output_type": "execute_result"
    }
   ],
   "source": [
    "369 / 620"
   ]
  },
  {
   "cell_type": "code",
   "execution_count": 60,
   "id": "16d86333",
   "metadata": {},
   "outputs": [],
   "source": [
    "l = {\"experiment_num\": \"2\", \n",
    " \"model_type\": \"Rand forest cbrt y processing\", \n",
    " \"train_mae\": mae( inv_transform_y(reg.predict(np.array(train_x))), np.array(train_y)) / 60, \n",
    " \"val_mae\": mae( inv_transform_y(reg.predict(np.array(val_x))), np.array(val_y)) / 60, \n",
    " \"perc_lt_5mins\": np.sum(np.abs((inv_transform_y(reg.predict(np.array(val_x))) - np.array(val_y)) / 60) < 5)/ len(val_y) ,\n",
    " \"perc_lt_10mins\": np.sum(np.abs((inv_transform_y(reg.predict(np.array(val_x))) - np.array(val_y)) / 60) < 10) / len(val_y),\n",
    "    \"train_preds\": inv_transform_y(reg.predict(np.array(train_x))),\n",
    "    \"val_preds\":inv_transform_y(reg.predict(np.array(val_x))) }\n",
    "\n",
    "metrics_df_lst.append(l)"
   ]
  },
  {
   "cell_type": "code",
   "execution_count": null,
   "id": "d332b855",
   "metadata": {},
   "outputs": [],
   "source": []
  },
  {
   "cell_type": "code",
   "execution_count": 62,
   "id": "d5ebe271",
   "metadata": {},
   "outputs": [],
   "source": [
    "with open('models/val_x_clust1.npy', 'wb') as f:\n",
    "\n",
    "    np.save(f, val_x)"
   ]
  },
  {
   "cell_type": "code",
   "execution_count": 63,
   "id": "209556f9",
   "metadata": {},
   "outputs": [],
   "source": [
    "with open('models/val_y_clust1.npy', 'wb') as f:\n",
    "\n",
    "    np.save(f, val_y)"
   ]
  },
  {
   "cell_type": "code",
   "execution_count": 64,
   "id": "649a0e0a",
   "metadata": {},
   "outputs": [],
   "source": [
    "with open('models/val_keys_clust1.npy', 'wb') as f:\n",
    "    np.save(f, val_keys)"
   ]
  },
  {
   "cell_type": "code",
   "execution_count": 65,
   "id": "22e8d8cb",
   "metadata": {
    "scrolled": true
   },
   "outputs": [],
   "source": [
    "import pickle\n",
    "\n",
    "with open(\"models/clust_1_exp2_alldata_cbrt_rand_for_model.pkl\", \"wb\") as f:\n",
    "    pickle.dump(reg.best_estimator_, f)"
   ]
  },
  {
   "cell_type": "code",
   "execution_count": null,
   "id": "a5d45fe3",
   "metadata": {},
   "outputs": [],
   "source": []
  },
  {
   "cell_type": "code",
   "execution_count": null,
   "id": "37ecc05c",
   "metadata": {},
   "outputs": [],
   "source": []
  },
  {
   "cell_type": "code",
   "execution_count": 149,
   "id": "a28fe0d6",
   "metadata": {},
   "outputs": [],
   "source": [
    "\n",
    "import numpy as np\n",
    "from sklearn.linear_model import LinearRegression\n",
    "\n",
    "from sklearn.ensemble import RandomForestRegressor\n",
    "\n",
    "from sklearn.metrics import mean_absolute_error as mae\n",
    "\n",
    "import pickle\n",
    "\n",
    "reg = None\n",
    "with open(\"models/exp2_alldata_cbrt_rand_for_model.pkl\", \"rb\") as f:\n",
    "    reg = pickle.load(f)\n"
   ]
  },
  {
   "cell_type": "code",
   "execution_count": 69,
   "id": "b6499a5c",
   "metadata": {},
   "outputs": [],
   "source": [
    "reg_model = reg.best_estimator_"
   ]
  },
  {
   "cell_type": "code",
   "execution_count": 78,
   "id": "5d81ffa4",
   "metadata": {},
   "outputs": [
    {
     "data": {
      "text/plain": [
       "sklearn.ensemble._forest.RandomForestRegressor"
      ]
     },
     "execution_count": 78,
     "metadata": {},
     "output_type": "execute_result"
    }
   ],
   "source": [
    "type(reg_model)"
   ]
  },
  {
   "cell_type": "code",
   "execution_count": 71,
   "id": "87c2d1d8",
   "metadata": {},
   "outputs": [
    {
     "data": {
      "image/png": "[encoded data removed]",
      "text/plain": [
       "<Figure size 1332x756 with 1 Axes>"
      ]
     },
     "metadata": {
      "needs_background": "light"
     },
     "output_type": "display_data"
    }
   ],
   "source": [
    "import matplotlib.pyplot as plt\n",
    "import pandas as pd\n",
    "\n",
    "forest_importances = pd.Series(reg_model.feature_importances_, index=list(place_binarizer.classes_))\n",
    "std = np.std([tree.feature_importances_ for tree in reg_model.estimators_], axis=0)\n",
    "\n",
    "fig, ax = plt.subplots()\n",
    "forest_importances.plot.bar(yerr=std, ax=ax)\n",
    "ax.set_title(\"Feature importances using MDI\")\n",
    "ax.set_ylabel(\"Mean decrease in impurity\")\n",
    "fig.set_size_inches(37 / 2, 21 / 2)\n",
    "fig.tight_layout()"
   ]
  },
  {
   "cell_type": "code",
   "execution_count": null,
   "id": "1c323d79",
   "metadata": {},
   "outputs": [],
   "source": []
  },
  {
   "cell_type": "code",
   "execution_count": 153,
   "id": "f65a8b7b",
   "metadata": {},
   "outputs": [
    {
     "name": "stdout",
     "output_type": "stream",
     "text": [
      "Elapsed time to compute the importances: 32.187 seconds\n"
     ]
    }
   ],
   "source": [
    "from sklearn.inspection import permutation_importance\n",
    "import time\n",
    "\n",
    "start_time = time.time()\n",
    "result = permutation_importance(\n",
    "    reg_model, np.array(val_x), transform_y(np.array(val_y)), n_repeats=30, random_state=42, n_jobs=-1\n",
    ")\n",
    "elapsed_time = time.time() - start_time\n",
    "print(f\"Elapsed time to compute the importances: {elapsed_time:.3f} seconds\")\n",
    "\n",
    "forest_importances = pd.Series(result.importances_mean, index=list(place_binarizer.classes_))"
   ]
  },
  {
   "cell_type": "code",
   "execution_count": 154,
   "id": "bfbb7189",
   "metadata": {},
   "outputs": [
    {
     "data": {
      "image/png": "[encoded data removed]",
      "text/plain": [
       "<Figure size 1332x756 with 1 Axes>"
      ]
     },
     "metadata": {
      "needs_background": "light"
     },
     "output_type": "display_data"
    }
   ],
   "source": [
    "fig, ax = plt.subplots()\n",
    "forest_importances.plot.bar(yerr=result.importances_std, ax=ax)\n",
    "ax.set_title(\"Feature importances using permutation on full model\")\n",
    "ax.set_ylabel(\"Mean accuracy decrease\")\n",
    "fig.tight_layout()\n",
    "fig.set_size_inches(37 / 2, 21 / 2)\n",
    "plt.show()"
   ]
  },
  {
   "cell_type": "code",
   "execution_count": null,
   "id": "8b27702c",
   "metadata": {},
   "outputs": [],
   "source": []
  },
  {
   "cell_type": "code",
   "execution_count": 74,
   "id": "d8acecf7",
   "metadata": {},
   "outputs": [],
   "source": [
    "import shap \n",
    "\n",
    "explainer = shap.TreeExplainer(reg.best_estimator_, check_additivity=False)\n",
    "\n",
    "shap_values = explainer(np.array(train_x), check_additivity=False)"
   ]
  },
  {
   "cell_type": "code",
   "execution_count": 75,
   "id": "9c3bec37",
   "metadata": {},
   "outputs": [
    {
     "data": {
      "image/png": "[encoded data removed]",
      "text/plain": [
       "<Figure size 576x684 with 2 Axes>"
      ]
     },
     "metadata": {
      "needs_background": "light"
     },
     "output_type": "display_data"
    }
   ],
   "source": [
    "shap.summary_plot(shap_values, plot_type='violin')"
   ]
  },
  {
   "cell_type": "code",
   "execution_count": 77,
   "id": "3801d845",
   "metadata": {},
   "outputs": [],
   "source": [
    "with open('models/mean_shap_values_clust1.npy', 'wb') as f:\n",
    "\n",
    "    np.save(f, shap_values.values.mean(axis=0))"
   ]
  },
  {
   "cell_type": "code",
   "execution_count": 76,
   "id": "70590c84",
   "metadata": {},
   "outputs": [
    {
     "data": {
      "text/plain": [
       "array([ 1.28436482e+12,  1.00511021e+12,  3.48599656e+12,  4.01052033e+11,\n",
       "        1.32914895e+12,  1.91887954e+12,  4.87389133e+12,  1.80200815e+12,\n",
       "        1.07974645e+12,  1.21343074e+12,  1.51542821e+12,  1.93739019e+12,\n",
       "        1.29560442e+12,  2.80982388e+12,  1.90521092e+12,  1.96062341e+12,\n",
       "        1.76079800e+11,  5.81993219e+10,  2.56755713e+12,  2.85306078e+12,\n",
       "        1.96966189e+12,  1.35488959e+12,  1.90905569e+12,  7.95139007e+11,\n",
       "       -2.68728309e+10,  1.23897019e+12,  6.87827543e+10,  1.12743203e+12,\n",
       "        1.83587839e+12,  8.81068157e+11,  1.74665660e+12,  7.05556498e+10,\n",
       "        1.56288927e+12,  1.55000642e+12,  1.98087742e+11,  1.79608206e+12,\n",
       "        1.60286097e+12,  9.39619389e+10,  2.29752418e+12,  2.43701975e+12,\n",
       "        1.83402028e+12,  7.58795157e+09,  1.21975518e+12,  1.44046838e+12,\n",
       "       -1.62004691e+09, -7.87615062e+09,  1.57588086e+12,  7.53120425e+11,\n",
       "        1.96214948e+11,  3.01969360e+12,  1.02291642e+10,  1.15699900e+12,\n",
       "        1.40219528e+12,  1.68455845e+12,  1.49227048e+11,  2.31990639e+12,\n",
       "       -1.00952387e+11,  9.15538576e+10,  1.05351207e+13,  1.40714713e+12,\n",
       "        1.30849560e+12,  8.38183972e+11,  8.89342785e+11,  1.63814319e+12,\n",
       "        9.10814750e+11,  1.60926885e+12,  2.61265621e+12,  3.21912500e+11,\n",
       "        2.30335438e+12, -2.99889479e+10,  1.76569146e+11, -2.03555800e+10,\n",
       "        5.73047264e+10, -1.33047052e+08,  2.09755706e+12,  8.01527035e+11,\n",
       "        7.82346588e+11,  1.39068567e+12,  2.76037449e+12,  1.07910672e+11,\n",
       "        1.47652942e+12,  1.76585612e+12,  7.75763696e+10,  2.69121217e+12,\n",
       "        2.62692060e+11,  1.83638913e+12,  1.88041132e+12,  2.60503903e+10,\n",
       "        2.06878797e+12,  1.77145047e+12,  2.29429788e+11,  1.70144710e+12,\n",
       "        2.48480324e+12,  2.07318568e+12,  7.84988056e+11,  1.92226057e+12,\n",
       "        2.15058522e+12,  1.22072447e+12,  6.91089035e+11,  1.80739317e+12,\n",
       "        4.96439029e+10,  4.99853064e+11, -4.18292407e+09,  1.73404331e+12,\n",
       "        1.98353249e+12,  1.22639238e+12,  6.80140052e+10, -1.21658588e+12,\n",
       "       -8.97423336e+10,  1.41487283e+11,  2.01891082e+12,  5.90683368e+11,\n",
       "        7.31306309e+11,  1.32937944e+12,  2.38742019e+12,  1.92240268e+11,\n",
       "        4.18638872e+12,  7.58392409e+11,  1.45174811e+12,  1.11231827e+12,\n",
       "        2.17658107e+12,  1.78989227e+12,  1.69328120e+11,  1.25115637e+12,\n",
       "        1.54156990e+12,  2.81880180e+12,  1.65929407e+11,  2.43418092e+12,\n",
       "        1.22221334e+12,  1.93486380e+11,  2.30081037e+12, -1.68446822e+12,\n",
       "        2.32216836e+12,  1.56908286e+12,  2.17398008e+12,  1.63460575e+12,\n",
       "        2.59555404e+12,  1.75037070e+12,  1.25372527e+11,  1.13067022e+12,\n",
       "        5.68687859e+11,  2.18202193e+12,  3.56281031e+12,  2.47495955e+11,\n",
       "        2.06666205e+12,  1.98072059e+12,  1.34790499e+12,  2.31393237e+11,\n",
       "        1.04066353e+12,  1.02574129e+11,  1.48834130e+12,  1.90207280e+12,\n",
       "       -2.32519223e+09,  1.80526798e+12,  1.71306737e+12,  5.47636043e+12])"
      ]
     },
     "execution_count": 76,
     "metadata": {},
     "output_type": "execute_result"
    }
   ],
   "source": [
    "shap_values.values.mean(axis=0)"
   ]
  },
  {
   "cell_type": "code",
   "execution_count": null,
   "id": "21efbf73",
   "metadata": {},
   "outputs": [],
   "source": []
  },
  {
   "cell_type": "code",
   "execution_count": null,
   "id": "e4262c90",
   "metadata": {},
   "outputs": [],
   "source": []
  },
  {
   "cell_type": "code",
   "execution_count": 72,
   "id": "20d015bc",
   "metadata": {},
   "outputs": [
    {
     "data": {
      "text/plain": [
       "105"
      ]
     },
     "execution_count": 72,
     "metadata": {},
     "output_type": "execute_result"
    }
   ],
   "source": [
    "np.argmin(np.sum(train_x, axis=0))"
   ]
  },
  {
   "cell_type": "code",
   "execution_count": 156,
   "id": "e7e2d9d9",
   "metadata": {},
   "outputs": [
    {
     "data": {
      "text/plain": [
       "92"
      ]
     },
     "execution_count": 156,
     "metadata": {},
     "output_type": "execute_result"
    }
   ],
   "source": [
    "np.sum(train_x, axis=0)[75]"
   ]
  },
  {
   "cell_type": "code",
   "execution_count": 157,
   "id": "0610c39a",
   "metadata": {},
   "outputs": [
    {
     "data": {
      "text/plain": [
       "75"
      ]
     },
     "execution_count": 157,
     "metadata": {},
     "output_type": "execute_result"
    }
   ],
   "source": [
    "np.argmax(place_binarizer.classes_ == '84')"
   ]
  },
  {
   "cell_type": "code",
   "execution_count": 158,
   "id": "4573da26",
   "metadata": {},
   "outputs": [
    {
     "data": {
      "text/plain": [
       "'84'"
      ]
     },
     "execution_count": 158,
     "metadata": {},
     "output_type": "execute_result"
    }
   ],
   "source": [
    "place_binarizer.classes_[75]"
   ]
  },
  {
   "cell_type": "code",
   "execution_count": null,
   "id": "a99c36d3",
   "metadata": {},
   "outputs": [],
   "source": []
  },
  {
   "cell_type": "code",
   "execution_count": 159,
   "id": "50c1cbd3",
   "metadata": {},
   "outputs": [],
   "source": [
    "bool_lst = []\n",
    "for x in products_list_df[\"place_cell\"]:\n",
    "    if '84' in x:\n",
    "        bool_lst.append(True)\n",
    "    else:\n",
    "        bool_lst.append(False)"
   ]
  },
  {
   "cell_type": "code",
   "execution_count": 160,
   "id": "bff455d4",
   "metadata": {},
   "outputs": [
    {
     "data": {
      "text/plain": [
       "124"
      ]
     },
     "execution_count": 160,
     "metadata": {},
     "output_type": "execute_result"
    }
   ],
   "source": [
    "sum(bool_lst)"
   ]
  },
  {
   "cell_type": "code",
   "execution_count": 161,
   "id": "2c060855",
   "metadata": {},
   "outputs": [],
   "source": [
    "from collections import Counter\n",
    "c = Counter()\n",
    "for x in products_list_df[\"place_cell\"]:\n",
    "    c.update(x)"
   ]
  },
  {
   "cell_type": "code",
   "execution_count": 162,
   "id": "c072b02e",
   "metadata": {},
   "outputs": [
    {
     "data": {
      "text/plain": [
       "[('75', 247),\n",
       " ('70', 238),\n",
       " ('C-2', 221),\n",
       " ('32', 194),\n",
       " ('36', 183),\n",
       " ('22', 180),\n",
       " ('87', 174),\n",
       " ('38', 172),\n",
       " ('79', 166),\n",
       " ('74', 163),\n",
       " ('4', 152),\n",
       " ('12', 149),\n",
       " ('35', 146),\n",
       " ('76', 145),\n",
       " ('39', 144),\n",
       " ('C-1', 144),\n",
       " ('86', 141),\n",
       " ('30', 141),\n",
       " ('29', 140),\n",
       " ('43', 131),\n",
       " ('31', 125),\n",
       " ('78', 125),\n",
       " ('84', 124),\n",
       " ('92', 120),\n",
       " ('60', 116),\n",
       " ('16', 115),\n",
       " ('33', 114),\n",
       " ('C-6', 114),\n",
       " ('88', 109),\n",
       " ('C-7', 104),\n",
       " ('C-8', 104),\n",
       " ('28', 103),\n",
       " ('69', 100),\n",
       " ('7', 99),\n",
       " ('15', 99),\n",
       " ('34', 98),\n",
       " ('42', 98),\n",
       " ('45', 97),\n",
       " ('14', 94),\n",
       " ('C-5', 94),\n",
       " ('D-3', 94),\n",
       " ('77', 91),\n",
       " ('40', 90),\n",
       " ('D-8', 89),\n",
       " ('91', 89),\n",
       " ('85', 85),\n",
       " ('C-3', 84),\n",
       " ('10', 83),\n",
       " ('80', 83),\n",
       " ('17', 80),\n",
       " ('11', 79),\n",
       " ('68', 78),\n",
       " ('81', 77),\n",
       " ('20', 76),\n",
       " ('69(1)', 76),\n",
       " ('D-4', 75),\n",
       " ('46', 75),\n",
       " ('3', 75),\n",
       " ('2', 74),\n",
       " ('21', 71),\n",
       " ('D-5', 69),\n",
       " ('5', 68),\n",
       " ('6', 67),\n",
       " ('63', 67),\n",
       " ('B-5', 66),\n",
       " ('44', 65),\n",
       " ('D-2', 64),\n",
       " ('B-6', 64),\n",
       " ('13', 64),\n",
       " ('62', 63),\n",
       " ('B-10', 63),\n",
       " ('B-9', 63),\n",
       " ('E-5', 62),\n",
       " ('B-7', 62),\n",
       " ('24', 62),\n",
       " ('66', 61),\n",
       " ('E-4', 60),\n",
       " ('90', 60),\n",
       " ('26', 59),\n",
       " ('A-10', 59),\n",
       " ('67', 59),\n",
       " ('E-7', 59),\n",
       " ('D-7', 58),\n",
       " ('A-4', 58),\n",
       " ('B-2', 58),\n",
       " ('D-6', 57),\n",
       " ('D-1', 57),\n",
       " ('1', 56),\n",
       " ('C-4', 56),\n",
       " ('73', 55),\n",
       " ('23', 54),\n",
       " ('C-9', 53),\n",
       " ('B-8', 52),\n",
       " ('48', 51),\n",
       " ('A-20', 50),\n",
       " ('8', 50),\n",
       " ('E-8', 50),\n",
       " ('E-3', 50),\n",
       " ('89', 50),\n",
       " ('27', 49),\n",
       " ('57', 49),\n",
       " ('71', 49),\n",
       " ('F-1', 48),\n",
       " ('18', 47),\n",
       " ('B-3', 47),\n",
       " ('E-1', 47),\n",
       " ('F-5', 47),\n",
       " ('A-3', 46),\n",
       " ('72', 46),\n",
       " ('19', 45),\n",
       " ('A-19', 45),\n",
       " ('F-4', 45),\n",
       " ('A-12', 44),\n",
       " ('59', 44),\n",
       " ('37', 44),\n",
       " ('A-17', 43),\n",
       " ('E-6', 43),\n",
       " ('П-1', 43),\n",
       " ('F-8', 43),\n",
       " ('83', 42),\n",
       " ('A-11', 41),\n",
       " ('E-9', 40),\n",
       " ('B-4', 40),\n",
       " ('25', 39),\n",
       " ('61', 38),\n",
       " ('F-3', 38),\n",
       " ('E-2', 37),\n",
       " ('A-7', 36),\n",
       " ('47', 36),\n",
       " ('71(1)', 36),\n",
       " ('9', 35),\n",
       " ('П-2', 35),\n",
       " ('A-14', 34),\n",
       " ('D-9', 31),\n",
       " ('A-2', 31),\n",
       " ('A-8', 31),\n",
       " ('A-18', 30),\n",
       " ('58', 29),\n",
       " ('F-2', 29),\n",
       " ('A-9', 28),\n",
       " ('F-7', 28),\n",
       " ('A-13', 26),\n",
       " ('65', 26),\n",
       " ('A-1', 25),\n",
       " ('A-15', 25),\n",
       " ('A-16', 25),\n",
       " ('82', 25),\n",
       " ('A-6', 23),\n",
       " ('A-5', 21),\n",
       " ('B-1', 20),\n",
       " ('F-9', 19),\n",
       " ('X', 17),\n",
       " ('F-6', 17),\n",
       " ('70(1)', 16),\n",
       " ('П-0', 2),\n",
       " ('D-19', 1),\n",
       " ('B-0', 1),\n",
       " ('П-6', 1)]"
      ]
     },
     "execution_count": 162,
     "metadata": {},
     "output_type": "execute_result"
    }
   ],
   "source": [
    "c.most_common()"
   ]
  },
  {
   "cell_type": "code",
   "execution_count": 163,
   "id": "f73a1ec0",
   "metadata": {},
   "outputs": [
    {
     "data": {
      "text/html": [
       "<div>\n",
       "<style scoped>\n",
       "    .dataframe tbody tr th:only-of-type {\n",
       "        vertical-align: middle;\n",
       "    }\n",
       "\n",
       "    .dataframe tbody tr th {\n",
       "        vertical-align: top;\n",
       "    }\n",
       "\n",
       "    .dataframe thead th {\n",
       "        text-align: right;\n",
       "    }\n",
       "</style>\n",
       "<table border=\"1\" class=\"dataframe\">\n",
       "  <thead>\n",
       "    <tr style=\"text-align: right;\">\n",
       "      <th></th>\n",
       "      <th>product_id</th>\n",
       "      <th>sku_code</th>\n",
       "      <th>name</th>\n",
       "      <th>volume</th>\n",
       "      <th>place</th>\n",
       "      <th>warehouse_name</th>\n",
       "      <th>cleaned_place</th>\n",
       "      <th>short_cleaned_place</th>\n",
       "      <th>place_cell</th>\n",
       "      <th>place_level</th>\n",
       "    </tr>\n",
       "  </thead>\n",
       "  <tbody>\n",
       "    <tr>\n",
       "      <th>7156</th>\n",
       "      <td>9048</td>\n",
       "      <td>L049</td>\n",
       "      <td>Чаша бамбуковая с лопаткой</td>\n",
       "      <td>0.000100</td>\n",
       "      <td>84-2</td>\n",
       "      <td>5A</td>\n",
       "      <td>[84-2]</td>\n",
       "      <td>[84-2]</td>\n",
       "      <td>[84]</td>\n",
       "      <td>[2]</td>\n",
       "    </tr>\n",
       "    <tr>\n",
       "      <th>7393</th>\n",
       "      <td>43764</td>\n",
       "      <td>id_3676.1</td>\n",
       "      <td>3676.черный.М</td>\n",
       "      <td>NaN</td>\n",
       "      <td>84-3</td>\n",
       "      <td>5A</td>\n",
       "      <td>[84-3]</td>\n",
       "      <td>[84-3]</td>\n",
       "      <td>[84]</td>\n",
       "      <td>[3]</td>\n",
       "    </tr>\n",
       "    <tr>\n",
       "      <th>9265</th>\n",
       "      <td>11087</td>\n",
       "      <td>228100XM</td>\n",
       "      <td>Дозатор (диспенсер) сенсорный для жидкого мыла...</td>\n",
       "      <td>0.004458</td>\n",
       "      <td>84-3</td>\n",
       "      <td>5</td>\n",
       "      <td>[84-3]</td>\n",
       "      <td>[84-3]</td>\n",
       "      <td>[84]</td>\n",
       "      <td>[3]</td>\n",
       "    </tr>\n",
       "    <tr>\n",
       "      <th>9425</th>\n",
       "      <td>11242</td>\n",
       "      <td>10853G</td>\n",
       "      <td>шапки</td>\n",
       "      <td>NaN</td>\n",
       "      <td>84-2</td>\n",
       "      <td>5</td>\n",
       "      <td>[84-2]</td>\n",
       "      <td>[84-2]</td>\n",
       "      <td>[84]</td>\n",
       "      <td>[2]</td>\n",
       "    </tr>\n",
       "    <tr>\n",
       "      <th>9429</th>\n",
       "      <td>11246</td>\n",
       "      <td>10921A</td>\n",
       "      <td>шапки</td>\n",
       "      <td>NaN</td>\n",
       "      <td>84-1</td>\n",
       "      <td>5</td>\n",
       "      <td>[84-1]</td>\n",
       "      <td>[84-1]</td>\n",
       "      <td>[84]</td>\n",
       "      <td>[1]</td>\n",
       "    </tr>\n",
       "    <tr>\n",
       "      <th>9503</th>\n",
       "      <td>11317</td>\n",
       "      <td>10175E</td>\n",
       "      <td>балаклава</td>\n",
       "      <td>NaN</td>\n",
       "      <td>84-5-1</td>\n",
       "      <td>5</td>\n",
       "      <td>[84-5-1]</td>\n",
       "      <td>[84-5]</td>\n",
       "      <td>[84]</td>\n",
       "      <td>[5]</td>\n",
       "    </tr>\n",
       "    <tr>\n",
       "      <th>9518</th>\n",
       "      <td>11333</td>\n",
       "      <td>10928A</td>\n",
       "      <td>шапки</td>\n",
       "      <td>NaN</td>\n",
       "      <td>84-4</td>\n",
       "      <td>5</td>\n",
       "      <td>[84-4]</td>\n",
       "      <td>[84-4]</td>\n",
       "      <td>[84]</td>\n",
       "      <td>[4]</td>\n",
       "    </tr>\n",
       "    <tr>\n",
       "      <th>9895</th>\n",
       "      <td>11704</td>\n",
       "      <td>NS-11-7</td>\n",
       "      <td>Кусачки для кожи SMART 11 7 мм</td>\n",
       "      <td>NaN</td>\n",
       "      <td>84-4</td>\n",
       "      <td>5</td>\n",
       "      <td>[84-4]</td>\n",
       "      <td>[84-4]</td>\n",
       "      <td>[84]</td>\n",
       "      <td>[4]</td>\n",
       "    </tr>\n",
       "    <tr>\n",
       "      <th>9896</th>\n",
       "      <td>11705</td>\n",
       "      <td>NS-20-5</td>\n",
       "      <td>Кусачки для кожи SMART 20 5 мм</td>\n",
       "      <td>NaN</td>\n",
       "      <td>84-4</td>\n",
       "      <td>5</td>\n",
       "      <td>[84-4]</td>\n",
       "      <td>[84-4]</td>\n",
       "      <td>[84]</td>\n",
       "      <td>[4]</td>\n",
       "    </tr>\n",
       "    <tr>\n",
       "      <th>9897</th>\n",
       "      <td>11706</td>\n",
       "      <td>NS-20-7</td>\n",
       "      <td>Кусачки для кожи SMART 20 7 мм</td>\n",
       "      <td>NaN</td>\n",
       "      <td>84-4</td>\n",
       "      <td>5</td>\n",
       "      <td>[84-4]</td>\n",
       "      <td>[84-4]</td>\n",
       "      <td>[84]</td>\n",
       "      <td>[4]</td>\n",
       "    </tr>\n",
       "    <tr>\n",
       "      <th>9899</th>\n",
       "      <td>11708</td>\n",
       "      <td>NS-30-7</td>\n",
       "      <td>Кусачки для кожи SMART 30 7 мм</td>\n",
       "      <td>NaN</td>\n",
       "      <td>84-4</td>\n",
       "      <td>5</td>\n",
       "      <td>[84-4]</td>\n",
       "      <td>[84-4]</td>\n",
       "      <td>[84]</td>\n",
       "      <td>[4]</td>\n",
       "    </tr>\n",
       "    <tr>\n",
       "      <th>9902</th>\n",
       "      <td>11711</td>\n",
       "      <td>NS-50-5</td>\n",
       "      <td>Кусачки для кожи SMART 50 5 мм</td>\n",
       "      <td>NaN</td>\n",
       "      <td>84-4</td>\n",
       "      <td>5</td>\n",
       "      <td>[84-4]</td>\n",
       "      <td>[84-4]</td>\n",
       "      <td>[84]</td>\n",
       "      <td>[4]</td>\n",
       "    </tr>\n",
       "    <tr>\n",
       "      <th>9907</th>\n",
       "      <td>11716</td>\n",
       "      <td>PS-10/1</td>\n",
       "      <td>Лопатка маникюрная SMART 10 TYPE 1 (скругленны...</td>\n",
       "      <td>NaN</td>\n",
       "      <td>84-3</td>\n",
       "      <td>5</td>\n",
       "      <td>[84-3]</td>\n",
       "      <td>[84-3]</td>\n",
       "      <td>[84]</td>\n",
       "      <td>[3]</td>\n",
       "    </tr>\n",
       "    <tr>\n",
       "      <th>9911</th>\n",
       "      <td>11720</td>\n",
       "      <td>SC-10/3</td>\n",
       "      <td>Ножницы для кутикулы CLASSIC 10 TYPE 3 (24 мм)</td>\n",
       "      <td>NaN</td>\n",
       "      <td>84-4</td>\n",
       "      <td>5</td>\n",
       "      <td>[84-4]</td>\n",
       "      <td>[84-4]</td>\n",
       "      <td>[84]</td>\n",
       "      <td>[4]</td>\n",
       "    </tr>\n",
       "    <tr>\n",
       "      <th>9920</th>\n",
       "      <td>11729</td>\n",
       "      <td>PDset-10</td>\n",
       "      <td>PODODISC STALEKS PRO XS (10 мм)</td>\n",
       "      <td>NaN</td>\n",
       "      <td>84-4</td>\n",
       "      <td>5</td>\n",
       "      <td>[84-4]</td>\n",
       "      <td>[84-4]</td>\n",
       "      <td>[84]</td>\n",
       "      <td>[4]</td>\n",
       "    </tr>\n",
       "    <tr>\n",
       "      <th>9922</th>\n",
       "      <td>11731</td>\n",
       "      <td>PDF-25-180</td>\n",
       "      <td>Сменные файлы PODODISC STALEKS PRO L 180 грит (50</td>\n",
       "      <td>NaN</td>\n",
       "      <td>84-3</td>\n",
       "      <td>5</td>\n",
       "      <td>[84-3]</td>\n",
       "      <td>[84-3]</td>\n",
       "      <td>[84]</td>\n",
       "      <td>[3]</td>\n",
       "    </tr>\n",
       "    <tr>\n",
       "      <th>9926</th>\n",
       "      <td>11735</td>\n",
       "      <td>PDF-20-180</td>\n",
       "      <td>Сменные файлы PODODISC STALEKS PRO M 180 грит (50</td>\n",
       "      <td>NaN</td>\n",
       "      <td>84-3</td>\n",
       "      <td>5</td>\n",
       "      <td>[84-3]</td>\n",
       "      <td>[84-3]</td>\n",
       "      <td>[84]</td>\n",
       "      <td>[3]</td>\n",
       "    </tr>\n",
       "    <tr>\n",
       "      <th>9927</th>\n",
       "      <td>11736</td>\n",
       "      <td>PDF-20-240</td>\n",
       "      <td>Сменные файлы PODODISC STALEKS PRO M 240 грит (50</td>\n",
       "      <td>NaN</td>\n",
       "      <td>84-3</td>\n",
       "      <td>5</td>\n",
       "      <td>[84-3]</td>\n",
       "      <td>[84-3]</td>\n",
       "      <td>[84]</td>\n",
       "      <td>[3]</td>\n",
       "    </tr>\n",
       "    <tr>\n",
       "      <th>11162</th>\n",
       "      <td>13206</td>\n",
       "      <td>314</td>\n",
       "      <td>Авоська Hard</td>\n",
       "      <td>NaN</td>\n",
       "      <td>84-1</td>\n",
       "      <td>5</td>\n",
       "      <td>[84-1]</td>\n",
       "      <td>[84-1]</td>\n",
       "      <td>[84]</td>\n",
       "      <td>[1]</td>\n",
       "    </tr>\n",
       "    <tr>\n",
       "      <th>14254</th>\n",
       "      <td>16433</td>\n",
       "      <td>2000000319568</td>\n",
       "      <td>Ключ для скейтборда SK-2167 малиновый</td>\n",
       "      <td>NaN</td>\n",
       "      <td>84-3</td>\n",
       "      <td>5</td>\n",
       "      <td>[84-3]</td>\n",
       "      <td>[84-3]</td>\n",
       "      <td>[84]</td>\n",
       "      <td>[3]</td>\n",
       "    </tr>\n",
       "  </tbody>\n",
       "</table>\n",
       "</div>"
      ],
      "text/plain": [
       "       product_id       sku_code  \\\n",
       "7156         9048           L049   \n",
       "7393        43764      id_3676.1   \n",
       "9265        11087       228100XM   \n",
       "9425        11242         10853G   \n",
       "9429        11246         10921A   \n",
       "9503        11317         10175E   \n",
       "9518        11333         10928A   \n",
       "9895        11704        NS-11-7   \n",
       "9896        11705        NS-20-5   \n",
       "9897        11706        NS-20-7   \n",
       "9899        11708        NS-30-7   \n",
       "9902        11711        NS-50-5   \n",
       "9907        11716        PS-10/1   \n",
       "9911        11720        SC-10/3   \n",
       "9920        11729       PDset-10   \n",
       "9922        11731     PDF-25-180   \n",
       "9926        11735     PDF-20-180   \n",
       "9927        11736     PDF-20-240   \n",
       "11162       13206            314   \n",
       "14254       16433  2000000319568   \n",
       "\n",
       "                                                    name    volume   place  \\\n",
       "7156                          Чаша бамбуковая с лопаткой  0.000100    84-2   \n",
       "7393                                       3676.черный.М       NaN    84-3   \n",
       "9265   Дозатор (диспенсер) сенсорный для жидкого мыла...  0.004458    84-3   \n",
       "9425                                               шапки       NaN    84-2   \n",
       "9429                                               шапки       NaN    84-1   \n",
       "9503                                           балаклава       NaN  84-5-1   \n",
       "9518                                               шапки       NaN    84-4   \n",
       "9895                      Кусачки для кожи SMART 11 7 мм       NaN    84-4   \n",
       "9896                      Кусачки для кожи SMART 20 5 мм       NaN    84-4   \n",
       "9897                      Кусачки для кожи SMART 20 7 мм       NaN    84-4   \n",
       "9899                      Кусачки для кожи SMART 30 7 мм       NaN    84-4   \n",
       "9902                      Кусачки для кожи SMART 50 5 мм       NaN    84-4   \n",
       "9907   Лопатка маникюрная SMART 10 TYPE 1 (скругленны...       NaN    84-3   \n",
       "9911      Ножницы для кутикулы CLASSIC 10 TYPE 3 (24 мм)       NaN    84-4   \n",
       "9920                     PODODISC STALEKS PRO XS (10 мм)       NaN    84-4   \n",
       "9922   Сменные файлы PODODISC STALEKS PRO L 180 грит (50       NaN    84-3   \n",
       "9926   Сменные файлы PODODISC STALEKS PRO M 180 грит (50       NaN    84-3   \n",
       "9927   Сменные файлы PODODISC STALEKS PRO M 240 грит (50       NaN    84-3   \n",
       "11162                                       Авоська Hard       NaN    84-1   \n",
       "14254              Ключ для скейтборда SK-2167 малиновый       NaN    84-3   \n",
       "\n",
       "      warehouse_name cleaned_place short_cleaned_place place_cell place_level  \n",
       "7156              5A        [84-2]              [84-2]       [84]         [2]  \n",
       "7393              5A        [84-3]              [84-3]       [84]         [3]  \n",
       "9265               5        [84-3]              [84-3]       [84]         [3]  \n",
       "9425               5        [84-2]              [84-2]       [84]         [2]  \n",
       "9429               5        [84-1]              [84-1]       [84]         [1]  \n",
       "9503               5      [84-5-1]              [84-5]       [84]         [5]  \n",
       "9518               5        [84-4]              [84-4]       [84]         [4]  \n",
       "9895               5        [84-4]              [84-4]       [84]         [4]  \n",
       "9896               5        [84-4]              [84-4]       [84]         [4]  \n",
       "9897               5        [84-4]              [84-4]       [84]         [4]  \n",
       "9899               5        [84-4]              [84-4]       [84]         [4]  \n",
       "9902               5        [84-4]              [84-4]       [84]         [4]  \n",
       "9907               5        [84-3]              [84-3]       [84]         [3]  \n",
       "9911               5        [84-4]              [84-4]       [84]         [4]  \n",
       "9920               5        [84-4]              [84-4]       [84]         [4]  \n",
       "9922               5        [84-3]              [84-3]       [84]         [3]  \n",
       "9926               5        [84-3]              [84-3]       [84]         [3]  \n",
       "9927               5        [84-3]              [84-3]       [84]         [3]  \n",
       "11162              5        [84-1]              [84-1]       [84]         [1]  \n",
       "14254              5        [84-3]              [84-3]       [84]         [3]  "
      ]
     },
     "execution_count": 163,
     "metadata": {},
     "output_type": "execute_result"
    }
   ],
   "source": [
    "products_list_df[bool_lst].iloc[:20]"
   ]
  },
  {
   "cell_type": "code",
   "execution_count": null,
   "id": "6429fe69",
   "metadata": {},
   "outputs": [],
   "source": []
  },
  {
   "cell_type": "code",
   "execution_count": null,
   "id": "3d5afa8e",
   "metadata": {},
   "outputs": [],
   "source": []
  },
  {
   "cell_type": "code",
   "execution_count": 164,
   "id": "a4099854",
   "metadata": {},
   "outputs": [
    {
     "data": {
      "text/html": [
       "<div>\n",
       "<style scoped>\n",
       "    .dataframe tbody tr th:only-of-type {\n",
       "        vertical-align: middle;\n",
       "    }\n",
       "\n",
       "    .dataframe tbody tr th {\n",
       "        vertical-align: top;\n",
       "    }\n",
       "\n",
       "    .dataframe thead th {\n",
       "        text-align: right;\n",
       "    }\n",
       "</style>\n",
       "<table border=\"1\" class=\"dataframe\">\n",
       "  <thead>\n",
       "    <tr style=\"text-align: right;\">\n",
       "      <th></th>\n",
       "      <th>product_id</th>\n",
       "      <th>sku_code</th>\n",
       "      <th>name</th>\n",
       "      <th>volume</th>\n",
       "      <th>place</th>\n",
       "      <th>warehouse_name</th>\n",
       "      <th>cleaned_place</th>\n",
       "      <th>short_cleaned_place</th>\n",
       "      <th>place_cell</th>\n",
       "      <th>place_level</th>\n",
       "    </tr>\n",
       "  </thead>\n",
       "  <tbody>\n",
       "    <tr>\n",
       "      <th>151</th>\n",
       "      <td>616</td>\n",
       "      <td>10830</td>\n",
       "      <td>262</td>\n",
       "      <td>NaN</td>\n",
       "      <td>21-2</td>\n",
       "      <td>5</td>\n",
       "      <td>[21-2]</td>\n",
       "      <td>[21-2]</td>\n",
       "      <td>[21]</td>\n",
       "      <td>[2]</td>\n",
       "    </tr>\n",
       "    <tr>\n",
       "      <th>159</th>\n",
       "      <td>624</td>\n",
       "      <td>1898</td>\n",
       "      <td>1065</td>\n",
       "      <td>NaN</td>\n",
       "      <td>22-3-2</td>\n",
       "      <td>5</td>\n",
       "      <td>[22-3-2]</td>\n",
       "      <td>[22-3]</td>\n",
       "      <td>[22]</td>\n",
       "      <td>[3]</td>\n",
       "    </tr>\n",
       "    <tr>\n",
       "      <th>160</th>\n",
       "      <td>625</td>\n",
       "      <td>2748</td>\n",
       "      <td>1065</td>\n",
       "      <td>NaN</td>\n",
       "      <td>22-3-2</td>\n",
       "      <td>5</td>\n",
       "      <td>[22-3-2]</td>\n",
       "      <td>[22-3]</td>\n",
       "      <td>[22]</td>\n",
       "      <td>[3]</td>\n",
       "    </tr>\n",
       "    <tr>\n",
       "      <th>164</th>\n",
       "      <td>629</td>\n",
       "      <td>2747</td>\n",
       "      <td>1460</td>\n",
       "      <td>NaN</td>\n",
       "      <td>22-3-2</td>\n",
       "      <td>5</td>\n",
       "      <td>[22-3-2]</td>\n",
       "      <td>[22-3]</td>\n",
       "      <td>[22]</td>\n",
       "      <td>[3]</td>\n",
       "    </tr>\n",
       "    <tr>\n",
       "      <th>184</th>\n",
       "      <td>649</td>\n",
       "      <td>2019</td>\n",
       "      <td>1063</td>\n",
       "      <td>NaN</td>\n",
       "      <td>22-2-1</td>\n",
       "      <td>5</td>\n",
       "      <td>[22-2-1]</td>\n",
       "      <td>[22-2]</td>\n",
       "      <td>[22]</td>\n",
       "      <td>[2]</td>\n",
       "    </tr>\n",
       "  </tbody>\n",
       "</table>\n",
       "</div>"
      ],
      "text/plain": [
       "     product_id sku_code  name  volume   place warehouse_name cleaned_place  \\\n",
       "151         616    10830   262     NaN    21-2              5        [21-2]   \n",
       "159         624     1898  1065     NaN  22-3-2              5      [22-3-2]   \n",
       "160         625     2748  1065     NaN  22-3-2              5      [22-3-2]   \n",
       "164         629     2747  1460     NaN  22-3-2              5      [22-3-2]   \n",
       "184         649     2019  1063     NaN  22-2-1              5      [22-2-1]   \n",
       "\n",
       "    short_cleaned_place place_cell place_level  \n",
       "151              [21-2]       [21]         [2]  \n",
       "159              [22-3]       [22]         [3]  \n",
       "160              [22-3]       [22]         [3]  \n",
       "164              [22-3]       [22]         [3]  \n",
       "184              [22-2]       [22]         [2]  "
      ]
     },
     "execution_count": 164,
     "metadata": {},
     "output_type": "execute_result"
    }
   ],
   "source": [
    "products_list_df.head()"
   ]
  },
  {
   "cell_type": "code",
   "execution_count": null,
   "id": "1d9b6b81",
   "metadata": {},
   "outputs": [],
   "source": []
  },
  {
   "cell_type": "markdown",
   "id": "b6306126",
   "metadata": {},
   "source": [
    "## Experiment 2\n",
    "## Random forest no y processing"
   ]
  },
  {
   "cell_type": "code",
   "execution_count": 165,
   "id": "aa8e9e28",
   "metadata": {},
   "outputs": [
    {
     "name": "stdout",
     "output_type": "stream",
     "text": [
      "Fitting 5 folds for each of 21 candidates, totalling 105 fits\n",
      "[CV 1/5] END criterion=absolute_error, min_samples_split=2, n_estimators=50, n_jobs=-1;, score=-0.100 total time=   2.2s\n",
      "[CV 2/5] END criterion=absolute_error, min_samples_split=2, n_estimators=50, n_jobs=-1;, score=0.048 total time=   2.3s\n",
      "[CV 3/5] END criterion=absolute_error, min_samples_split=2, n_estimators=50, n_jobs=-1;, score=-0.125 total time=   2.6s\n",
      "[CV 4/5] END criterion=absolute_error, min_samples_split=2, n_estimators=50, n_jobs=-1;, score=-0.027 total time=   2.5s\n",
      "[CV 5/5] END criterion=absolute_error, min_samples_split=2, n_estimators=50, n_jobs=-1;, score=-0.041 total time=   2.6s\n",
      "[CV 1/5] END criterion=absolute_error, min_samples_split=2, n_estimators=100, n_jobs=-1;, score=-0.111 total time=   4.1s\n",
      "[CV 2/5] END criterion=absolute_error, min_samples_split=2, n_estimators=100, n_jobs=-1;, score=0.030 total time=   4.3s\n",
      "[CV 3/5] END criterion=absolute_error, min_samples_split=2, n_estimators=100, n_jobs=-1;, score=-0.102 total time=   4.6s\n",
      "[CV 4/5] END criterion=absolute_error, min_samples_split=2, n_estimators=100, n_jobs=-1;, score=0.036 total time=   4.7s\n",
      "[CV 5/5] END criterion=absolute_error, min_samples_split=2, n_estimators=100, n_jobs=-1;, score=-0.045 total time=   4.8s\n",
      "[CV 1/5] END criterion=absolute_error, min_samples_split=2, n_estimators=200, n_jobs=-1;, score=-0.098 total time=   8.0s\n",
      "[CV 2/5] END criterion=absolute_error, min_samples_split=2, n_estimators=200, n_jobs=-1;, score=0.053 total time=   8.2s\n",
      "[CV 3/5] END criterion=absolute_error, min_samples_split=2, n_estimators=200, n_jobs=-1;, score=-0.132 total time=   9.0s\n",
      "[CV 4/5] END criterion=absolute_error, min_samples_split=2, n_estimators=200, n_jobs=-1;, score=0.023 total time=   9.3s\n",
      "[CV 5/5] END criterion=absolute_error, min_samples_split=2, n_estimators=200, n_jobs=-1;, score=-0.056 total time=   9.7s\n",
      "[CV 1/5] END criterion=absolute_error, min_samples_split=10, n_estimators=50, n_jobs=-1;, score=-0.124 total time=   2.4s\n",
      "[CV 2/5] END criterion=absolute_error, min_samples_split=10, n_estimators=50, n_jobs=-1;, score=0.103 total time=   2.4s\n",
      "[CV 3/5] END criterion=absolute_error, min_samples_split=10, n_estimators=50, n_jobs=-1;, score=0.199 total time=   2.6s\n",
      "[CV 4/5] END criterion=absolute_error, min_samples_split=10, n_estimators=50, n_jobs=-1;, score=0.048 total time=   2.5s\n",
      "[CV 5/5] END criterion=absolute_error, min_samples_split=10, n_estimators=50, n_jobs=-1;, score=0.081 total time=   2.5s\n",
      "[CV 1/5] END criterion=absolute_error, min_samples_split=10, n_estimators=100, n_jobs=-1;, score=-0.119 total time=   4.3s\n",
      "[CV 2/5] END criterion=absolute_error, min_samples_split=10, n_estimators=100, n_jobs=-1;, score=0.083 total time=   4.3s\n",
      "[CV 3/5] END criterion=absolute_error, min_samples_split=10, n_estimators=100, n_jobs=-1;, score=0.192 total time=   4.7s\n",
      "[CV 4/5] END criterion=absolute_error, min_samples_split=10, n_estimators=100, n_jobs=-1;, score=0.042 total time=   4.7s\n",
      "[CV 5/5] END criterion=absolute_error, min_samples_split=10, n_estimators=100, n_jobs=-1;, score=0.099 total time=   4.9s\n",
      "[CV 1/5] END criterion=absolute_error, min_samples_split=10, n_estimators=200, n_jobs=-1;, score=-0.113 total time=   8.2s\n",
      "[CV 2/5] END criterion=absolute_error, min_samples_split=10, n_estimators=200, n_jobs=-1;, score=0.091 total time=   8.4s\n",
      "[CV 3/5] END criterion=absolute_error, min_samples_split=10, n_estimators=200, n_jobs=-1;, score=0.192 total time=   9.2s\n",
      "[CV 4/5] END criterion=absolute_error, min_samples_split=10, n_estimators=200, n_jobs=-1;, score=0.062 total time=   9.1s\n",
      "[CV 5/5] END criterion=absolute_error, min_samples_split=10, n_estimators=200, n_jobs=-1;, score=0.110 total time=   9.5s\n",
      "[CV 1/5] END criterion=absolute_error, min_samples_split=30, n_estimators=50, n_jobs=-1;, score=-0.090 total time=   2.3s\n",
      "[CV 2/5] END criterion=absolute_error, min_samples_split=30, n_estimators=50, n_jobs=-1;, score=0.111 total time=   2.4s\n",
      "[CV 3/5] END criterion=absolute_error, min_samples_split=30, n_estimators=50, n_jobs=-1;, score=0.178 total time=   2.6s\n",
      "[CV 4/5] END criterion=absolute_error, min_samples_split=30, n_estimators=50, n_jobs=-1;, score=0.063 total time=   2.5s\n",
      "[CV 5/5] END criterion=absolute_error, min_samples_split=30, n_estimators=50, n_jobs=-1;, score=0.031 total time=   2.6s\n",
      "[CV 1/5] END criterion=absolute_error, min_samples_split=30, n_estimators=100, n_jobs=-1;, score=-0.091 total time=   4.3s\n",
      "[CV 2/5] END criterion=absolute_error, min_samples_split=30, n_estimators=100, n_jobs=-1;, score=0.134 total time=   4.2s\n",
      "[CV 3/5] END criterion=absolute_error, min_samples_split=30, n_estimators=100, n_jobs=-1;, score=0.159 total time=   4.7s\n",
      "[CV 4/5] END criterion=absolute_error, min_samples_split=30, n_estimators=100, n_jobs=-1;, score=0.057 total time=   4.6s\n",
      "[CV 5/5] END criterion=absolute_error, min_samples_split=30, n_estimators=100, n_jobs=-1;, score=0.065 total time=   5.0s\n",
      "[CV 1/5] END criterion=absolute_error, min_samples_split=30, n_estimators=200, n_jobs=-1;, score=-0.101 total time=   8.1s\n",
      "[CV 2/5] END criterion=absolute_error, min_samples_split=30, n_estimators=200, n_jobs=-1;, score=0.102 total time=   8.3s\n",
      "[CV 3/5] END criterion=absolute_error, min_samples_split=30, n_estimators=200, n_jobs=-1;, score=0.167 total time=   9.1s\n",
      "[CV 4/5] END criterion=absolute_error, min_samples_split=30, n_estimators=200, n_jobs=-1;, score=0.074 total time=   8.9s\n",
      "[CV 5/5] END criterion=absolute_error, min_samples_split=30, n_estimators=200, n_jobs=-1;, score=0.084 total time=   9.5s\n",
      "[CV 1/5] END criterion=absolute_error, min_samples_split=0.02, n_estimators=50, n_jobs=-1;, score=-0.120 total time=   2.3s\n",
      "[CV 2/5] END criterion=absolute_error, min_samples_split=0.02, n_estimators=50, n_jobs=-1;, score=0.132 total time=   2.4s\n",
      "[CV 3/5] END criterion=absolute_error, min_samples_split=0.02, n_estimators=50, n_jobs=-1;, score=0.186 total time=   2.6s\n",
      "[CV 4/5] END criterion=absolute_error, min_samples_split=0.02, n_estimators=50, n_jobs=-1;, score=0.029 total time=   2.7s\n",
      "[CV 5/5] END criterion=absolute_error, min_samples_split=0.02, n_estimators=50, n_jobs=-1;, score=0.125 total time=   2.6s\n",
      "[CV 1/5] END criterion=absolute_error, min_samples_split=0.02, n_estimators=100, n_jobs=-1;, score=-0.096 total time=   4.1s\n",
      "[CV 2/5] END criterion=absolute_error, min_samples_split=0.02, n_estimators=100, n_jobs=-1;, score=0.118 total time=   4.4s\n",
      "[CV 3/5] END criterion=absolute_error, min_samples_split=0.02, n_estimators=100, n_jobs=-1;, score=0.163 total time=   4.7s\n",
      "[CV 4/5] END criterion=absolute_error, min_samples_split=0.02, n_estimators=100, n_jobs=-1;, score=0.093 total time=   4.7s\n",
      "[CV 5/5] END criterion=absolute_error, min_samples_split=0.02, n_estimators=100, n_jobs=-1;, score=0.105 total time=   4.9s\n",
      "[CV 1/5] END criterion=absolute_error, min_samples_split=0.02, n_estimators=200, n_jobs=-1;, score=-0.117 total time=   8.2s\n",
      "[CV 2/5] END criterion=absolute_error, min_samples_split=0.02, n_estimators=200, n_jobs=-1;, score=0.118 total time=   8.4s\n",
      "[CV 3/5] END criterion=absolute_error, min_samples_split=0.02, n_estimators=200, n_jobs=-1;, score=0.192 total time=   9.1s\n",
      "[CV 4/5] END criterion=absolute_error, min_samples_split=0.02, n_estimators=200, n_jobs=-1;, score=0.068 total time=   9.1s\n",
      "[CV 5/5] END criterion=absolute_error, min_samples_split=0.02, n_estimators=200, n_jobs=-1;, score=0.107 total time=   9.5s\n",
      "[CV 1/5] END criterion=absolute_error, min_samples_split=0.05, n_estimators=50, n_jobs=-1;, score=-0.075 total time=   2.2s\n",
      "[CV 2/5] END criterion=absolute_error, min_samples_split=0.05, n_estimators=50, n_jobs=-1;, score=0.117 total time=   2.2s\n",
      "[CV 3/5] END criterion=absolute_error, min_samples_split=0.05, n_estimators=50, n_jobs=-1;, score=0.146 total time=   2.6s\n",
      "[CV 4/5] END criterion=absolute_error, min_samples_split=0.05, n_estimators=50, n_jobs=-1;, score=0.046 total time=   2.5s\n",
      "[CV 5/5] END criterion=absolute_error, min_samples_split=0.05, n_estimators=50, n_jobs=-1;, score=0.065 total time=   2.6s\n",
      "[CV 1/5] END criterion=absolute_error, min_samples_split=0.05, n_estimators=100, n_jobs=-1;, score=-0.104 total time=   4.2s\n",
      "[CV 2/5] END criterion=absolute_error, min_samples_split=0.05, n_estimators=100, n_jobs=-1;, score=0.105 total time=   4.2s\n"
     ]
    },
    {
     "name": "stdout",
     "output_type": "stream",
     "text": [
      "[CV 3/5] END criterion=absolute_error, min_samples_split=0.05, n_estimators=100, n_jobs=-1;, score=0.127 total time=   4.6s\n",
      "[CV 4/5] END criterion=absolute_error, min_samples_split=0.05, n_estimators=100, n_jobs=-1;, score=0.047 total time=   4.8s\n",
      "[CV 5/5] END criterion=absolute_error, min_samples_split=0.05, n_estimators=100, n_jobs=-1;, score=0.061 total time=   4.9s\n",
      "[CV 1/5] END criterion=absolute_error, min_samples_split=0.05, n_estimators=200, n_jobs=-1;, score=-0.115 total time=   8.2s\n",
      "[CV 2/5] END criterion=absolute_error, min_samples_split=0.05, n_estimators=200, n_jobs=-1;, score=0.103 total time=   8.2s\n",
      "[CV 3/5] END criterion=absolute_error, min_samples_split=0.05, n_estimators=200, n_jobs=-1;, score=0.165 total time=   9.0s\n",
      "[CV 4/5] END criterion=absolute_error, min_samples_split=0.05, n_estimators=200, n_jobs=-1;, score=0.058 total time=   9.3s\n",
      "[CV 5/5] END criterion=absolute_error, min_samples_split=0.05, n_estimators=200, n_jobs=-1;, score=0.077 total time=   9.8s\n",
      "[CV 1/5] END criterion=absolute_error, min_samples_split=0.1, n_estimators=50, n_jobs=-1;, score=-0.121 total time=   2.3s\n",
      "[CV 2/5] END criterion=absolute_error, min_samples_split=0.1, n_estimators=50, n_jobs=-1;, score=0.094 total time=   2.3s\n",
      "[CV 3/5] END criterion=absolute_error, min_samples_split=0.1, n_estimators=50, n_jobs=-1;, score=0.123 total time=   2.5s\n",
      "[CV 4/5] END criterion=absolute_error, min_samples_split=0.1, n_estimators=50, n_jobs=-1;, score=0.073 total time=   2.5s\n",
      "[CV 5/5] END criterion=absolute_error, min_samples_split=0.1, n_estimators=50, n_jobs=-1;, score=0.060 total time=   2.6s\n",
      "[CV 1/5] END criterion=absolute_error, min_samples_split=0.1, n_estimators=100, n_jobs=-1;, score=-0.101 total time=   4.1s\n",
      "[CV 2/5] END criterion=absolute_error, min_samples_split=0.1, n_estimators=100, n_jobs=-1;, score=0.097 total time=   4.2s\n",
      "[CV 3/5] END criterion=absolute_error, min_samples_split=0.1, n_estimators=100, n_jobs=-1;, score=0.105 total time=   4.5s\n",
      "[CV 4/5] END criterion=absolute_error, min_samples_split=0.1, n_estimators=100, n_jobs=-1;, score=0.055 total time=   4.5s\n",
      "[CV 5/5] END criterion=absolute_error, min_samples_split=0.1, n_estimators=100, n_jobs=-1;, score=0.068 total time=   4.8s\n",
      "[CV 1/5] END criterion=absolute_error, min_samples_split=0.1, n_estimators=200, n_jobs=-1;, score=-0.100 total time=   7.9s\n",
      "[CV 2/5] END criterion=absolute_error, min_samples_split=0.1, n_estimators=200, n_jobs=-1;, score=0.107 total time=   8.0s\n",
      "[CV 3/5] END criterion=absolute_error, min_samples_split=0.1, n_estimators=200, n_jobs=-1;, score=0.106 total time=   9.0s\n",
      "[CV 4/5] END criterion=absolute_error, min_samples_split=0.1, n_estimators=200, n_jobs=-1;, score=0.064 total time=   8.8s\n",
      "[CV 5/5] END criterion=absolute_error, min_samples_split=0.1, n_estimators=200, n_jobs=-1;, score=0.082 total time=   9.3s\n",
      "[CV 1/5] END criterion=absolute_error, min_samples_split=0.2, n_estimators=50, n_jobs=-1;, score=-0.119 total time=   2.1s\n",
      "[CV 2/5] END criterion=absolute_error, min_samples_split=0.2, n_estimators=50, n_jobs=-1;, score=0.106 total time=   2.1s\n",
      "[CV 3/5] END criterion=absolute_error, min_samples_split=0.2, n_estimators=50, n_jobs=-1;, score=0.097 total time=   2.3s\n",
      "[CV 4/5] END criterion=absolute_error, min_samples_split=0.2, n_estimators=50, n_jobs=-1;, score=0.060 total time=   2.3s\n",
      "[CV 5/5] END criterion=absolute_error, min_samples_split=0.2, n_estimators=50, n_jobs=-1;, score=0.051 total time=   2.4s\n",
      "[CV 1/5] END criterion=absolute_error, min_samples_split=0.2, n_estimators=100, n_jobs=-1;, score=-0.099 total time=   3.8s\n",
      "[CV 2/5] END criterion=absolute_error, min_samples_split=0.2, n_estimators=100, n_jobs=-1;, score=0.097 total time=   3.9s\n",
      "[CV 3/5] END criterion=absolute_error, min_samples_split=0.2, n_estimators=100, n_jobs=-1;, score=0.100 total time=   4.3s\n",
      "[CV 4/5] END criterion=absolute_error, min_samples_split=0.2, n_estimators=100, n_jobs=-1;, score=0.039 total time=   4.4s\n",
      "[CV 5/5] END criterion=absolute_error, min_samples_split=0.2, n_estimators=100, n_jobs=-1;, score=0.049 total time=   4.5s\n",
      "[CV 1/5] END criterion=absolute_error, min_samples_split=0.2, n_estimators=200, n_jobs=-1;, score=-0.110 total time=   7.3s\n",
      "[CV 2/5] END criterion=absolute_error, min_samples_split=0.2, n_estimators=200, n_jobs=-1;, score=0.108 total time=   7.6s\n",
      "[CV 3/5] END criterion=absolute_error, min_samples_split=0.2, n_estimators=200, n_jobs=-1;, score=0.108 total time=   8.3s\n",
      "[CV 4/5] END criterion=absolute_error, min_samples_split=0.2, n_estimators=200, n_jobs=-1;, score=0.057 total time=   8.4s\n",
      "[CV 5/5] END criterion=absolute_error, min_samples_split=0.2, n_estimators=200, n_jobs=-1;, score=0.071 total time=   8.7s\n"
     ]
    },
    {
     "data": {
      "text/plain": [
       "0.5105787996405022"
      ]
     },
     "execution_count": 165,
     "metadata": {},
     "output_type": "execute_result"
    }
   ],
   "source": [
    "\n",
    "import numpy as np\n",
    "from sklearn.linear_model import LinearRegression\n",
    "\n",
    "from sklearn.ensemble import RandomForestRegressor\n",
    "\n",
    "from sklearn.metrics import mean_absolute_error as mae\n",
    "\n",
    "\n",
    "from sklearn.model_selection import GridSearchCV\n",
    "parameters = {'n_estimators':[50, 100, 200], 'min_samples_split':[2, 10, 30, 0.02, 0.05, 0.1, 0.2],\n",
    "              \"criterion\": [\"absolute_error\"], \"n_jobs\":[-1]}\n",
    "\n",
    "rand_for = RandomForestRegressor()\n",
    "reg = GridSearchCV(rand_for, parameters, verbose=3)\n",
    "reg.fit(np.array(train_x), np.array(train_y))\n",
    "\n",
    "\n",
    "reg.score(np.array(train_x), np.array(train_y))\n",
    "\n",
    "\n"
   ]
  },
  {
   "cell_type": "code",
   "execution_count": 166,
   "id": "91de7c6e",
   "metadata": {},
   "outputs": [
    {
     "data": {
      "text/plain": [
       "12.299165311653116"
      ]
     },
     "execution_count": 166,
     "metadata": {},
     "output_type": "execute_result"
    }
   ],
   "source": [
    "# reg.best_params_\n",
    "\n",
    "# train\n",
    "mae(reg.predict(np.array(train_x)), np.array(train_y)) / 60\n",
    "\n"
   ]
  },
  {
   "cell_type": "code",
   "execution_count": 167,
   "id": "7be343fe",
   "metadata": {},
   "outputs": [
    {
     "data": {
      "text/plain": [
       "12.504330623306231"
      ]
     },
     "execution_count": 167,
     "metadata": {},
     "output_type": "execute_result"
    }
   ],
   "source": [
    "#val\n",
    "mae(reg.predict(np.array(val_x)), np.array(val_y)) / 60\n"
   ]
  },
  {
   "cell_type": "code",
   "execution_count": 168,
   "id": "3693a0eb",
   "metadata": {},
   "outputs": [
    {
     "data": {
      "image/png": "[encoded data removed]",
      "text/plain": [
       "<Figure size 432x288 with 1 Axes>"
      ]
     },
     "metadata": {
      "needs_background": "light"
     },
     "output_type": "display_data"
    }
   ],
   "source": [
    "# errors plot\n",
    "\n",
    "plt.ylabel(\"num validation samples\")\n",
    "plt.xlabel(\"minutes error\")\n",
    "\n",
    "plt.hist((reg.predict(np.array(val_x)) - np.array(val_y)) / 60, bins=50)\n",
    "\n",
    "\n",
    "plt.savefig('plots/exp4_alldata_rand_for_errors_plot.png')\n",
    "\n"
   ]
  },
  {
   "cell_type": "code",
   "execution_count": 169,
   "id": "c77ff777",
   "metadata": {},
   "outputs": [
    {
     "data": {
      "text/plain": [
       "82"
      ]
     },
     "execution_count": 169,
     "metadata": {},
     "output_type": "execute_result"
    }
   ],
   "source": [
    "\n",
    "np.sum(np.abs( (reg.predict(np.array(val_x)) - np.array(val_y)) / 60) < 5)\n",
    "\n"
   ]
  },
  {
   "cell_type": "code",
   "execution_count": 170,
   "id": "36c4912c",
   "metadata": {},
   "outputs": [
    {
     "data": {
      "text/plain": [
       "125"
      ]
     },
     "execution_count": 170,
     "metadata": {},
     "output_type": "execute_result"
    }
   ],
   "source": [
    "np.sum(np.abs( (reg.predict(np.array(val_x)) - np.array(val_y)) / 60) < 10)\n",
    "\n"
   ]
  },
  {
   "cell_type": "code",
   "execution_count": 171,
   "id": "e58d98a3",
   "metadata": {},
   "outputs": [
    {
     "data": {
      "text/plain": [
       "246"
      ]
     },
     "execution_count": 171,
     "metadata": {},
     "output_type": "execute_result"
    }
   ],
   "source": [
    "\n",
    "len(val_y)\n"
   ]
  },
  {
   "cell_type": "code",
   "execution_count": 172,
   "id": "e513fdda",
   "metadata": {},
   "outputs": [],
   "source": [
    "l = {\"experiment_num\": \"2\", \n",
    " \"model_type\": \"Rand forest no y processing\", \n",
    " \"train_mae\": mae(reg.predict(np.array(train_x)), np.array(train_y)) / 60, \n",
    " \"val_mae\": mae(reg.predict(np.array(val_x)), np.array(val_y)) / 60, \n",
    " \"perc_lt_5mins\": np.sum(np.abs( (reg.predict(np.array(val_x)) - np.array(val_y)) / 60) < 5)/ len(val_y) ,\n",
    " \"perc_lt_10mins\": np.sum(np.abs( (reg.predict(np.array(val_x)) - np.array(val_y)) / 60) < 10) / len(val_y),\n",
    "    \"train_preds\": reg.predict(np.array(train_x)),\n",
    "    \"val_preds\":reg.predict(np.array(val_x)) }\n",
    "\n",
    "metrics_df_lst.append(l)"
   ]
  },
  {
   "cell_type": "code",
   "execution_count": null,
   "id": "e3594463",
   "metadata": {},
   "outputs": [],
   "source": []
  },
  {
   "cell_type": "code",
   "execution_count": null,
   "id": "52da8f8e",
   "metadata": {},
   "outputs": [],
   "source": []
  },
  {
   "cell_type": "code",
   "execution_count": null,
   "id": "946c91b2",
   "metadata": {},
   "outputs": [],
   "source": []
  },
  {
   "cell_type": "code",
   "execution_count": null,
   "id": "14d2c5d0",
   "metadata": {},
   "outputs": [],
   "source": []
  },
  {
   "cell_type": "code",
   "execution_count": 173,
   "id": "30cf0ca8",
   "metadata": {
    "scrolled": true
   },
   "outputs": [],
   "source": [
    "# "
   ]
  },
  {
   "cell_type": "markdown",
   "id": "1a14eec8",
   "metadata": {},
   "source": [
    "# Experiment 3\n",
    "# Number of cells on different level as a feature"
   ]
  },
  {
   "cell_type": "code",
   "execution_count": 174,
   "id": "1474f22f",
   "metadata": {
    "scrolled": true
   },
   "outputs": [],
   "source": [
    "level_lst = [[str(x) for x in l] for l in list(products_list_df[\"place_level\"])]"
   ]
  },
  {
   "cell_type": "code",
   "execution_count": null,
   "id": "241aa4f1",
   "metadata": {
    "scrolled": true
   },
   "outputs": [],
   "source": []
  },
  {
   "cell_type": "code",
   "execution_count": 175,
   "id": "f12a9d5c",
   "metadata": {
    "scrolled": true
   },
   "outputs": [],
   "source": [
    "from sklearn.preprocessing import MultiLabelBinarizer\n",
    "\n",
    "level_binarizer = MultiLabelBinarizer()\n",
    "level_binarizer.fit(level_lst)\n",
    "\n",
    "level_vectors = level_binarizer.transform(level_lst)\n",
    "\n",
    "\n",
    "product_id_to_level_vect = {}\n",
    "\n",
    "for ind, i in enumerate(list(products_list_df['product_id'])):\n",
    "    product_id_to_level_vect[i] = level_vectors[ind]"
   ]
  },
  {
   "cell_type": "code",
   "execution_count": 176,
   "id": "81b4a446",
   "metadata": {
    "scrolled": true
   },
   "outputs": [],
   "source": [
    "order_id_to_product_id_list = dict(order_list_df.groupby(\"order_id\")[\"product_id\"].apply(list))\n",
    "\n",
    "order_id_to_level_vect = {}\n",
    "\n",
    "for k in order_id_to_product_id_list.keys():\n",
    "    vect_lst = []\n",
    "    \n",
    "    for p in order_id_to_product_id_list.get(k, []):\n",
    "        \n",
    "        if p in product_id_to_level_vect:\n",
    "            vect_lst.append(product_id_to_level_vect[p])\n",
    "        \n",
    "    if vect_lst:\n",
    "        order_id_to_level_vect[k] = sum(vect_lst)\n"
   ]
  },
  {
   "cell_type": "code",
   "execution_count": 177,
   "id": "c1313458",
   "metadata": {
    "scrolled": true
   },
   "outputs": [],
   "source": [
    "collect_id_to_order_id_list = dict(order_collects_df.groupby(\"collect_id\")[\"order_id\"].apply(list))"
   ]
  },
  {
   "cell_type": "code",
   "execution_count": 178,
   "id": "1fb7ab80",
   "metadata": {
    "scrolled": true
   },
   "outputs": [],
   "source": [
    "collect_id_to_levels_vect = {}\n",
    "\n",
    "\n",
    "for k in collect_id_to_order_id_list.keys():\n",
    "    vect_lst = []\n",
    "    \n",
    "    for oid in collect_id_to_order_id_list.get(k, []):\n",
    "        if oid in order_id_to_level_vect:\n",
    "            vect_lst.append(order_id_to_level_vect[oid])\n",
    "        \n",
    "    if vect_lst:\n",
    "        collect_id_to_levels_vect[k] = sum(vect_lst)\n",
    "#         # No values larger than 1. Only 1 for cells to which we have to walk\n",
    "#         collect_id_to_places_vect[k][collect_id_to_places_vect[k] > 0] = 1"
   ]
  },
  {
   "cell_type": "code",
   "execution_count": 179,
   "id": "2aecf972",
   "metadata": {
    "scrolled": true
   },
   "outputs": [],
   "source": [
    "collect_id_to_time_spent_walking = dict(order_collects_df.groupby(\"collect_id\")[\"approx_store_walk_time\"].mean().dt.total_seconds())"
   ]
  },
  {
   "cell_type": "code",
   "execution_count": 180,
   "id": "4491c8d9",
   "metadata": {
    "scrolled": true
   },
   "outputs": [],
   "source": [
    "train_x = []\n",
    "val_x = []\n",
    "train_y = []\n",
    "val_y = []\n",
    "\n",
    "for k in train_keys:\n",
    "    if (k in collect_id_to_levels_vect) and (k in collect_id_to_time_spent_walking):\n",
    "        train_x.append(collect_id_to_levels_vect[k])\n",
    "        train_y.append(collect_id_to_time_spent_walking[k])\n",
    "    \n",
    "for k in val_keys:\n",
    "    if (k in collect_id_to_levels_vect) and (k in collect_id_to_time_spent_walking):\n",
    "        val_x.append(collect_id_to_levels_vect[k])\n",
    "        val_y.append(collect_id_to_time_spent_walking[k])"
   ]
  },
  {
   "cell_type": "code",
   "execution_count": 79,
   "id": "e8915f03",
   "metadata": {
    "scrolled": true
   },
   "outputs": [
    {
     "data": {
      "text/plain": [
       "146"
      ]
     },
     "execution_count": 79,
     "metadata": {},
     "output_type": "execute_result"
    }
   ],
   "source": [
    "2 * 2 * 2 * 3 * 6 + 2"
   ]
  },
  {
   "cell_type": "code",
   "execution_count": null,
   "id": "4aa711eb",
   "metadata": {},
   "outputs": [],
   "source": []
  },
  {
   "cell_type": "code",
   "execution_count": null,
   "id": "34bdf767",
   "metadata": {},
   "outputs": [],
   "source": []
  },
  {
   "cell_type": "markdown",
   "id": "3bebc7fb",
   "metadata": {},
   "source": [
    "# Experiment 3\n",
    "# Linreg no preprocessing"
   ]
  },
  {
   "cell_type": "code",
   "execution_count": 181,
   "id": "2c6a19e6",
   "metadata": {},
   "outputs": [],
   "source": [
    "#HEREEEEE\n",
    "# import numpy as np\n",
    "# from sklearn.linear_model import LinearRegression\n",
    "# from sklearn.metrics import mean_absolute_error as mae\n",
    "\n",
    "# from sklearn.ensemble import RandomForestRegressor\n",
    "\n",
    "# X = np.array(train_x)\n",
    "# reg = LinearRegression().fit(X, np.array(train_y))\n",
    "# reg.score(np.array(val_x), np.array(val_y))\n",
    "\n",
    "# # train\n",
    "# mae(reg.predict(np.array(train_x)), np.array(train_y)) / 60\n",
    "\n",
    "# mae(reg.predict(np.array(val_x)), np.array(val_y)) / 60\n",
    "\n",
    "# # errors plot\n",
    "\n",
    "# plt.ylabel(\"num validation samples\")\n",
    "# plt.xlabel(\"minutes error\")\n",
    "\n",
    "# plt.hist((reg.predict(np.array(val_x)) - np.array(val_y)) / 60, bins=50)\n",
    "\n",
    "\n",
    "# plt.savefig('plots/exp3_alldata_linreg_errors_plot.png')\n",
    "\n",
    "# np.sum(np.abs( (reg.predict(np.array(val_x)) - np.array(val_y)) / 60) < 5)\n",
    "\n",
    "# np.sum(np.abs( (reg.predict(np.array(val_x)) - np.array(val_y)) / 60) < 10)\n",
    "\n"
   ]
  },
  {
   "cell_type": "code",
   "execution_count": 182,
   "id": "c569098c",
   "metadata": {},
   "outputs": [
    {
     "data": {
      "text/plain": [
       "-0.32113797629939556"
      ]
     },
     "execution_count": 182,
     "metadata": {},
     "output_type": "execute_result"
    }
   ],
   "source": [
    "import numpy as np\n",
    "from sklearn.linear_model import LinearRegression\n",
    "from sklearn.metrics import mean_absolute_error as mae\n",
    "\n",
    "from sklearn.ensemble import RandomForestRegressor\n",
    "\n",
    "X = np.array(train_x)\n",
    "reg = LinearRegression().fit(X, np.array(train_y))\n",
    "reg.score(np.array(val_x), np.array(val_y))"
   ]
  },
  {
   "cell_type": "code",
   "execution_count": 183,
   "id": "c8bfd8f9",
   "metadata": {},
   "outputs": [
    {
     "data": {
      "text/plain": [
       "18.756273403053353"
      ]
     },
     "execution_count": 183,
     "metadata": {},
     "output_type": "execute_result"
    }
   ],
   "source": [
    "# train\n",
    "mae(reg.predict(np.array(train_x)), np.array(train_y)) / 60"
   ]
  },
  {
   "cell_type": "code",
   "execution_count": 184,
   "id": "94b6f238",
   "metadata": {},
   "outputs": [
    {
     "data": {
      "text/plain": [
       "14.091264434901026"
      ]
     },
     "execution_count": 184,
     "metadata": {},
     "output_type": "execute_result"
    }
   ],
   "source": [
    "mae(reg.predict(np.array(val_x)), np.array(val_y)) / 60"
   ]
  },
  {
   "cell_type": "code",
   "execution_count": 185,
   "id": "8a2626d3",
   "metadata": {},
   "outputs": [
    {
     "data": {
      "image/png": "[encoded data removed]",
      "text/plain": [
       "<Figure size 432x288 with 1 Axes>"
      ]
     },
     "metadata": {
      "needs_background": "light"
     },
     "output_type": "display_data"
    }
   ],
   "source": [
    "# errors plot\n",
    "\n",
    "plt.ylabel(\"num validation samples\")\n",
    "plt.xlabel(\"minutes error\")\n",
    "\n",
    "plt.hist((reg.predict(np.array(val_x)) - np.array(val_y)) / 60, bins=50)\n",
    "\n",
    "\n",
    "plt.savefig('plots/exp3_alldata_linreg_errors_plot.png')"
   ]
  },
  {
   "cell_type": "code",
   "execution_count": 186,
   "id": "5872f865",
   "metadata": {},
   "outputs": [
    {
     "data": {
      "text/plain": [
       "23"
      ]
     },
     "execution_count": 186,
     "metadata": {},
     "output_type": "execute_result"
    }
   ],
   "source": [
    "np.sum(np.abs( (reg.predict(np.array(val_x)) - np.array(val_y)) / 60) < 5)"
   ]
  },
  {
   "cell_type": "code",
   "execution_count": 187,
   "id": "e5907e90",
   "metadata": {},
   "outputs": [
    {
     "data": {
      "text/plain": [
       "0.0967741935483871"
      ]
     },
     "execution_count": 187,
     "metadata": {},
     "output_type": "execute_result"
    }
   ],
   "source": [
    "60 / 620"
   ]
  },
  {
   "cell_type": "code",
   "execution_count": 188,
   "id": "4184bf88",
   "metadata": {},
   "outputs": [
    {
     "data": {
      "text/plain": [
       "78"
      ]
     },
     "execution_count": 188,
     "metadata": {},
     "output_type": "execute_result"
    }
   ],
   "source": [
    "np.sum(np.abs( (reg.predict(np.array(val_x)) - np.array(val_y)) / 60) < 10)"
   ]
  },
  {
   "cell_type": "code",
   "execution_count": 189,
   "id": "d5fe9a99",
   "metadata": {},
   "outputs": [
    {
     "data": {
      "text/plain": [
       "0.2161290322580645"
      ]
     },
     "execution_count": 189,
     "metadata": {},
     "output_type": "execute_result"
    }
   ],
   "source": [
    "134 / 620"
   ]
  },
  {
   "cell_type": "code",
   "execution_count": 190,
   "id": "5ff104da",
   "metadata": {},
   "outputs": [
    {
     "data": {
      "text/plain": [
       "246"
      ]
     },
     "execution_count": 190,
     "metadata": {},
     "output_type": "execute_result"
    }
   ],
   "source": [
    "len(val_y)"
   ]
  },
  {
   "cell_type": "code",
   "execution_count": null,
   "id": "c649a4ab",
   "metadata": {},
   "outputs": [],
   "source": []
  },
  {
   "cell_type": "code",
   "execution_count": 191,
   "id": "0f62adae",
   "metadata": {},
   "outputs": [],
   "source": [
    "l = {\"experiment_num\": \"3\", \n",
    " \"model_type\": \"Linreg no preprocessing\", \n",
    " \"train_mae\": mae(reg.predict(np.array(train_x)), np.array(train_y)) / 60, \n",
    " \"val_mae\": mae(reg.predict(np.array(val_x)), np.array(val_y)) / 60, \n",
    " \"perc_lt_5mins\": np.sum(np.abs( (reg.predict(np.array(val_x)) - np.array(val_y)) / 60) < 5)/ len(val_y) ,\n",
    " \"perc_lt_10mins\": np.sum(np.abs( (reg.predict(np.array(val_x)) - np.array(val_y)) / 60) < 10) / len(val_y),\n",
    "    \"train_preds\": reg.predict(np.array(train_x)),\n",
    "    \"val_preds\":reg.predict(np.array(val_x))}\n",
    "\n",
    "metrics_df_lst.append(l)"
   ]
  },
  {
   "cell_type": "markdown",
   "id": "297dfe1b",
   "metadata": {},
   "source": [
    "# Experiment 3\n",
    "# Linreg cbrt y preprocessing"
   ]
  },
  {
   "cell_type": "code",
   "execution_count": 192,
   "id": "a9668a90",
   "metadata": {},
   "outputs": [],
   "source": [
    "#HEREEEEE\n",
    "# import numpy as np\n",
    "# from sklearn.linear_model import LinearRegression\n",
    "# from sklearn.metrics import mean_absolute_error as mae\n",
    "\n",
    "# from sklearn.ensemble import RandomForestRegressor\n",
    "\n",
    "# X = np.array(train_x)\n",
    "# reg = LinearRegression().fit(X, transform_y(np.array(train_y)))\n",
    "# reg.score(np.array(val_x), transform_y(np.array(val_y)))\n",
    "\n",
    "# # train\n",
    "# mae(inv_transform_y(reg.predict(np.array(train_x))), np.array(train_y)) / 60\n",
    "\n",
    "# #val\n",
    "# mae(inv_transform_y(reg.predict(np.array(val_x))), np.array(val_y)) / 60\n",
    "\n",
    "# # errors plot\n",
    "\n",
    "# plt.ylabel(\"num validation samples\")\n",
    "# plt.xlabel(\"minutes error\")\n",
    "\n",
    "# plt.hist((inv_transform_y(reg.predict(np.array(val_x))) - np.array(val_y)) / 60, bins=50)\n",
    "\n",
    "\n",
    "# plt.savefig('plots/exp4_alldata_linreg_cbrt_errors_plot.png')\n",
    "\n",
    "# np.sum(np.abs( (inv_transform_y(reg.predict(np.array(val_x))) - np.array(val_y)) / 60) < 5)\n",
    "\n",
    "# np.sum(np.abs( (inv_transform_y(reg.predict(np.array(val_x))) - np.array(val_y)) / 60) < 10)"
   ]
  },
  {
   "cell_type": "code",
   "execution_count": 193,
   "id": "c2cb9523",
   "metadata": {},
   "outputs": [
    {
     "data": {
      "text/plain": [
       "-0.1644101186698561"
      ]
     },
     "execution_count": 193,
     "metadata": {},
     "output_type": "execute_result"
    }
   ],
   "source": [
    "import numpy as np\n",
    "from sklearn.linear_model import LinearRegression\n",
    "from sklearn.metrics import mean_absolute_error as mae\n",
    "\n",
    "from sklearn.ensemble import RandomForestRegressor\n",
    "\n",
    "X = np.array(train_x)\n",
    "reg = LinearRegression().fit(X, transform_y(np.array(train_y)))\n",
    "reg.score(np.array(val_x), transform_y(np.array(val_y)))"
   ]
  },
  {
   "cell_type": "code",
   "execution_count": 194,
   "id": "de7e596e",
   "metadata": {},
   "outputs": [
    {
     "data": {
      "text/plain": [
       "16.516092639546674"
      ]
     },
     "execution_count": 194,
     "metadata": {},
     "output_type": "execute_result"
    }
   ],
   "source": [
    "# train\n",
    "mae(inv_transform_y(reg.predict(np.array(train_x))), np.array(train_y)) / 60"
   ]
  },
  {
   "cell_type": "code",
   "execution_count": 195,
   "id": "b1da02c5",
   "metadata": {},
   "outputs": [
    {
     "data": {
      "text/plain": [
       "17.069026351498295"
      ]
     },
     "execution_count": 195,
     "metadata": {},
     "output_type": "execute_result"
    }
   ],
   "source": [
    "#val\n",
    "mae(inv_transform_y(reg.predict(np.array(val_x))), np.array(val_y)) / 60"
   ]
  },
  {
   "cell_type": "code",
   "execution_count": 196,
   "id": "0648ba0b",
   "metadata": {},
   "outputs": [
    {
     "data": {
      "image/png": "[encoded data removed]",
      "text/plain": [
       "<Figure size 432x288 with 1 Axes>"
      ]
     },
     "metadata": {
      "needs_background": "light"
     },
     "output_type": "display_data"
    }
   ],
   "source": [
    "# errors plot\n",
    "\n",
    "plt.ylabel(\"num validation samples\")\n",
    "plt.xlabel(\"minutes error\")\n",
    "\n",
    "plt.hist((inv_transform_y(reg.predict(np.array(val_x))) - np.array(val_y)) / 60, bins=50)\n",
    "\n",
    "\n",
    "plt.savefig('plots/exp3_alldata_linreg_cbrt_errors_plot.png')"
   ]
  },
  {
   "cell_type": "code",
   "execution_count": 197,
   "id": "48350f48",
   "metadata": {},
   "outputs": [
    {
     "data": {
      "text/plain": [
       "95"
      ]
     },
     "execution_count": 197,
     "metadata": {},
     "output_type": "execute_result"
    }
   ],
   "source": [
    "np.sum(np.abs( (inv_transform_y(reg.predict(np.array(val_x))) - np.array(val_y)) / 60) < 5)"
   ]
  },
  {
   "cell_type": "code",
   "execution_count": 198,
   "id": "a99451e1",
   "metadata": {},
   "outputs": [
    {
     "data": {
      "text/plain": [
       "0.29354838709677417"
      ]
     },
     "execution_count": 198,
     "metadata": {},
     "output_type": "execute_result"
    }
   ],
   "source": [
    "182 / 620"
   ]
  },
  {
   "cell_type": "code",
   "execution_count": 199,
   "id": "ac848637",
   "metadata": {},
   "outputs": [
    {
     "data": {
      "text/plain": [
       "206"
      ]
     },
     "execution_count": 199,
     "metadata": {},
     "output_type": "execute_result"
    }
   ],
   "source": [
    "np.sum(np.abs( (inv_transform_y(reg.predict(np.array(val_x))) - np.array(val_y)) / 60) < 10)"
   ]
  },
  {
   "cell_type": "code",
   "execution_count": 200,
   "id": "e7de422c",
   "metadata": {},
   "outputs": [
    {
     "data": {
      "text/plain": [
       "0.646774193548387"
      ]
     },
     "execution_count": 200,
     "metadata": {},
     "output_type": "execute_result"
    }
   ],
   "source": [
    "401 / 620"
   ]
  },
  {
   "cell_type": "code",
   "execution_count": 201,
   "id": "1107a0bd",
   "metadata": {},
   "outputs": [
    {
     "data": {
      "text/plain": [
       "246"
      ]
     },
     "execution_count": 201,
     "metadata": {},
     "output_type": "execute_result"
    }
   ],
   "source": [
    "len(val_y)"
   ]
  },
  {
   "cell_type": "code",
   "execution_count": null,
   "id": "63aa181f",
   "metadata": {},
   "outputs": [],
   "source": []
  },
  {
   "cell_type": "code",
   "execution_count": 202,
   "id": "69ecdf29",
   "metadata": {},
   "outputs": [],
   "source": [
    "l = {\"experiment_num\": \"3\", \n",
    " \"model_type\": \"Linreg cbrt y preprocessing\", \n",
    " \"train_mae\": mae(inv_transform_y(reg.predict(np.array(train_x))), np.array(train_y)) / 60, \n",
    " \"val_mae\": mae(inv_transform_y(reg.predict(np.array(val_x))), np.array(val_y)) / 60, \n",
    " \"perc_lt_5mins\": np.sum(np.abs( (inv_transform_y(reg.predict(np.array(val_x))) - np.array(val_y)) / 60) < 5) / len(val_y) ,\n",
    " \"perc_lt_10mins\": np.sum(np.abs( (inv_transform_y(reg.predict(np.array(val_x))) - np.array(val_y)) / 60) < 10) / len(val_y),\n",
    "    \"train_preds\": inv_transform_y(reg.predict(np.array(train_x))),\n",
    "    \"val_preds\":inv_transform_y(reg.predict(np.array(val_x))) }\n",
    "\n",
    "metrics_df_lst.append(l)"
   ]
  },
  {
   "cell_type": "markdown",
   "id": "dd332531",
   "metadata": {},
   "source": [
    "# Experiment 3\n",
    "# Rand Forest no preprocessing"
   ]
  },
  {
   "cell_type": "code",
   "execution_count": 203,
   "id": "62b4bb84",
   "metadata": {},
   "outputs": [],
   "source": [
    "#HEREEEEE\n",
    "# import numpy as np\n",
    "# from sklearn.linear_model import LinearRegression\n",
    "\n",
    "# from sklearn.ensemble import RandomForestRegressor\n",
    "\n",
    "# from sklearn.metrics import mean_absolute_error as mae\n",
    "\n",
    "\n",
    "# from sklearn.model_selection import GridSearchCV\n",
    "# parameters = {'n_estimators':[50, 100, 200], 'min_samples_split':[2, 10, 30, 0.02, 0.05, 0.1, 0.2],\n",
    "#               \"criterion\": [\"absolute_error\"], \"n_jobs\":[-1]}\n",
    "\n",
    "# rand_for = RandomForestRegressor()\n",
    "# reg = GridSearchCV(rand_for, parameters, verbose=3)\n",
    "# reg.fit(np.array(train_x), np.array(train_y))\n",
    "\n",
    "\n",
    "# reg.score(np.array(train_x), np.array(train_y))\n",
    "\n",
    "\n",
    "\n",
    "\n",
    "# # reg.best_params_\n",
    "\n",
    "# # train\n",
    "# mae(reg.predict(np.array(train_x)), np.array(train_y)) / 60\n",
    "\n",
    "# #val\n",
    "# mae(reg.predict(np.array(val_x)), np.array(val_y)) / 60\n",
    "\n",
    "\n",
    "# # errors plot\n",
    "\n",
    "# plt.ylabel(\"num validation samples\")\n",
    "# plt.xlabel(\"minutes error\")\n",
    "\n",
    "# plt.hist((reg.predict(np.array(val_x)) - np.array(val_y)) / 60, bins=50)\n",
    "\n",
    "\n",
    "# plt.savefig('plots/exp4_alldata_rand_for_errors_plot.png')\n",
    "\n",
    "\n",
    "# np.sum(np.abs( (reg.predict(np.array(val_x)) - np.array(val_y)) / 60) < 5)\n",
    "\n",
    "\n",
    "# np.sum(np.abs( (reg.predict(np.array(val_x)) - np.array(val_y)) / 60) < 10)\n",
    "\n",
    "\n",
    "# len(val_y)\n"
   ]
  },
  {
   "cell_type": "code",
   "execution_count": 204,
   "id": "036579cc",
   "metadata": {},
   "outputs": [
    {
     "name": "stdout",
     "output_type": "stream",
     "text": [
      "Fitting 5 folds for each of 21 candidates, totalling 105 fits\n",
      "[CV 1/5] END criterion=absolute_error, min_samples_split=2, n_estimators=50, n_jobs=-1;, score=-0.092 total time=   0.2s\n",
      "[CV 2/5] END criterion=absolute_error, min_samples_split=2, n_estimators=50, n_jobs=-1;, score=0.058 total time=   0.2s\n",
      "[CV 3/5] END criterion=absolute_error, min_samples_split=2, n_estimators=50, n_jobs=-1;, score=0.058 total time=   0.2s\n",
      "[CV 4/5] END criterion=absolute_error, min_samples_split=2, n_estimators=50, n_jobs=-1;, score=-0.041 total time=   0.2s\n",
      "[CV 5/5] END criterion=absolute_error, min_samples_split=2, n_estimators=50, n_jobs=-1;, score=-0.234 total time=   0.2s\n",
      "[CV 1/5] END criterion=absolute_error, min_samples_split=2, n_estimators=100, n_jobs=-1;, score=-0.113 total time=   0.3s\n",
      "[CV 2/5] END criterion=absolute_error, min_samples_split=2, n_estimators=100, n_jobs=-1;, score=0.053 total time=   0.3s\n",
      "[CV 3/5] END criterion=absolute_error, min_samples_split=2, n_estimators=100, n_jobs=-1;, score=0.003 total time=   0.3s\n",
      "[CV 4/5] END criterion=absolute_error, min_samples_split=2, n_estimators=100, n_jobs=-1;, score=0.029 total time=   0.3s\n",
      "[CV 5/5] END criterion=absolute_error, min_samples_split=2, n_estimators=100, n_jobs=-1;, score=-0.212 total time=   0.3s\n",
      "[CV 1/5] END criterion=absolute_error, min_samples_split=2, n_estimators=200, n_jobs=-1;, score=-0.107 total time=   0.4s\n",
      "[CV 2/5] END criterion=absolute_error, min_samples_split=2, n_estimators=200, n_jobs=-1;, score=0.052 total time=   0.4s\n",
      "[CV 3/5] END criterion=absolute_error, min_samples_split=2, n_estimators=200, n_jobs=-1;, score=0.044 total time=   0.4s\n",
      "[CV 4/5] END criterion=absolute_error, min_samples_split=2, n_estimators=200, n_jobs=-1;, score=0.009 total time=   0.4s\n",
      "[CV 5/5] END criterion=absolute_error, min_samples_split=2, n_estimators=200, n_jobs=-1;, score=-0.238 total time=   0.4s\n",
      "[CV 1/5] END criterion=absolute_error, min_samples_split=10, n_estimators=50, n_jobs=-1;, score=-0.113 total time=   0.2s\n",
      "[CV 2/5] END criterion=absolute_error, min_samples_split=10, n_estimators=50, n_jobs=-1;, score=0.172 total time=   0.2s\n",
      "[CV 3/5] END criterion=absolute_error, min_samples_split=10, n_estimators=50, n_jobs=-1;, score=0.185 total time=   0.2s\n",
      "[CV 4/5] END criterion=absolute_error, min_samples_split=10, n_estimators=50, n_jobs=-1;, score=0.042 total time=   0.2s\n",
      "[CV 5/5] END criterion=absolute_error, min_samples_split=10, n_estimators=50, n_jobs=-1;, score=0.078 total time=   0.2s\n",
      "[CV 1/5] END criterion=absolute_error, min_samples_split=10, n_estimators=100, n_jobs=-1;, score=-0.102 total time=   0.3s\n",
      "[CV 2/5] END criterion=absolute_error, min_samples_split=10, n_estimators=100, n_jobs=-1;, score=0.168 total time=   0.3s\n",
      "[CV 3/5] END criterion=absolute_error, min_samples_split=10, n_estimators=100, n_jobs=-1;, score=0.213 total time=   0.3s\n",
      "[CV 4/5] END criterion=absolute_error, min_samples_split=10, n_estimators=100, n_jobs=-1;, score=0.049 total time=   0.3s\n",
      "[CV 5/5] END criterion=absolute_error, min_samples_split=10, n_estimators=100, n_jobs=-1;, score=0.102 total time=   0.3s\n",
      "[CV 1/5] END criterion=absolute_error, min_samples_split=10, n_estimators=200, n_jobs=-1;, score=-0.110 total time=   0.4s\n",
      "[CV 2/5] END criterion=absolute_error, min_samples_split=10, n_estimators=200, n_jobs=-1;, score=0.154 total time=   0.4s\n",
      "[CV 3/5] END criterion=absolute_error, min_samples_split=10, n_estimators=200, n_jobs=-1;, score=0.219 total time=   0.4s\n",
      "[CV 4/5] END criterion=absolute_error, min_samples_split=10, n_estimators=200, n_jobs=-1;, score=0.050 total time=   0.4s\n",
      "[CV 5/5] END criterion=absolute_error, min_samples_split=10, n_estimators=200, n_jobs=-1;, score=0.107 total time=   0.4s\n",
      "[CV 1/5] END criterion=absolute_error, min_samples_split=30, n_estimators=50, n_jobs=-1;, score=-0.113 total time=   0.2s\n",
      "[CV 2/5] END criterion=absolute_error, min_samples_split=30, n_estimators=50, n_jobs=-1;, score=0.129 total time=   0.2s\n",
      "[CV 3/5] END criterion=absolute_error, min_samples_split=30, n_estimators=50, n_jobs=-1;, score=0.272 total time=   0.2s\n",
      "[CV 4/5] END criterion=absolute_error, min_samples_split=30, n_estimators=50, n_jobs=-1;, score=0.038 total time=   0.2s\n",
      "[CV 5/5] END criterion=absolute_error, min_samples_split=30, n_estimators=50, n_jobs=-1;, score=0.197 total time=   0.2s\n",
      "[CV 1/5] END criterion=absolute_error, min_samples_split=30, n_estimators=100, n_jobs=-1;, score=-0.125 total time=   0.2s\n",
      "[CV 2/5] END criterion=absolute_error, min_samples_split=30, n_estimators=100, n_jobs=-1;, score=0.134 total time=   0.2s\n",
      "[CV 3/5] END criterion=absolute_error, min_samples_split=30, n_estimators=100, n_jobs=-1;, score=0.259 total time=   0.2s\n",
      "[CV 4/5] END criterion=absolute_error, min_samples_split=30, n_estimators=100, n_jobs=-1;, score=0.034 total time=   0.2s\n",
      "[CV 5/5] END criterion=absolute_error, min_samples_split=30, n_estimators=100, n_jobs=-1;, score=0.206 total time=   0.3s\n",
      "[CV 1/5] END criterion=absolute_error, min_samples_split=30, n_estimators=200, n_jobs=-1;, score=-0.128 total time=   0.4s\n",
      "[CV 2/5] END criterion=absolute_error, min_samples_split=30, n_estimators=200, n_jobs=-1;, score=0.141 total time=   0.4s\n",
      "[CV 3/5] END criterion=absolute_error, min_samples_split=30, n_estimators=200, n_jobs=-1;, score=0.272 total time=   0.4s\n",
      "[CV 4/5] END criterion=absolute_error, min_samples_split=30, n_estimators=200, n_jobs=-1;, score=0.041 total time=   0.4s\n",
      "[CV 5/5] END criterion=absolute_error, min_samples_split=30, n_estimators=200, n_jobs=-1;, score=0.190 total time=   0.4s\n",
      "[CV 1/5] END criterion=absolute_error, min_samples_split=0.02, n_estimators=50, n_jobs=-1;, score=-0.116 total time=   0.2s\n",
      "[CV 2/5] END criterion=absolute_error, min_samples_split=0.02, n_estimators=50, n_jobs=-1;, score=0.143 total time=   0.2s\n",
      "[CV 3/5] END criterion=absolute_error, min_samples_split=0.02, n_estimators=50, n_jobs=-1;, score=0.251 total time=   0.2s\n",
      "[CV 4/5] END criterion=absolute_error, min_samples_split=0.02, n_estimators=50, n_jobs=-1;, score=0.032 total time=   0.2s\n",
      "[CV 5/5] END criterion=absolute_error, min_samples_split=0.02, n_estimators=50, n_jobs=-1;, score=0.152 total time=   0.2s\n",
      "[CV 1/5] END criterion=absolute_error, min_samples_split=0.02, n_estimators=100, n_jobs=-1;, score=-0.106 total time=   0.3s\n",
      "[CV 2/5] END criterion=absolute_error, min_samples_split=0.02, n_estimators=100, n_jobs=-1;, score=0.151 total time=   0.2s\n",
      "[CV 3/5] END criterion=absolute_error, min_samples_split=0.02, n_estimators=100, n_jobs=-1;, score=0.261 total time=   0.3s\n",
      "[CV 4/5] END criterion=absolute_error, min_samples_split=0.02, n_estimators=100, n_jobs=-1;, score=0.032 total time=   0.2s\n",
      "[CV 5/5] END criterion=absolute_error, min_samples_split=0.02, n_estimators=100, n_jobs=-1;, score=0.173 total time=   0.3s\n",
      "[CV 1/5] END criterion=absolute_error, min_samples_split=0.02, n_estimators=200, n_jobs=-1;, score=-0.109 total time=   0.4s\n",
      "[CV 2/5] END criterion=absolute_error, min_samples_split=0.02, n_estimators=200, n_jobs=-1;, score=0.155 total time=   0.4s\n",
      "[CV 3/5] END criterion=absolute_error, min_samples_split=0.02, n_estimators=200, n_jobs=-1;, score=0.249 total time=   0.4s\n",
      "[CV 4/5] END criterion=absolute_error, min_samples_split=0.02, n_estimators=200, n_jobs=-1;, score=0.032 total time=   0.4s\n",
      "[CV 5/5] END criterion=absolute_error, min_samples_split=0.02, n_estimators=200, n_jobs=-1;, score=0.166 total time=   0.4s\n",
      "[CV 1/5] END criterion=absolute_error, min_samples_split=0.05, n_estimators=50, n_jobs=-1;, score=-0.136 total time=   0.2s\n",
      "[CV 2/5] END criterion=absolute_error, min_samples_split=0.05, n_estimators=50, n_jobs=-1;, score=0.123 total time=   0.2s\n",
      "[CV 3/5] END criterion=absolute_error, min_samples_split=0.05, n_estimators=50, n_jobs=-1;, score=0.268 total time=   0.2s\n",
      "[CV 4/5] END criterion=absolute_error, min_samples_split=0.05, n_estimators=50, n_jobs=-1;, score=0.029 total time=   0.2s\n",
      "[CV 5/5] END criterion=absolute_error, min_samples_split=0.05, n_estimators=50, n_jobs=-1;, score=0.188 total time=   0.2s\n",
      "[CV 1/5] END criterion=absolute_error, min_samples_split=0.05, n_estimators=100, n_jobs=-1;, score=-0.140 total time=   0.3s\n",
      "[CV 2/5] END criterion=absolute_error, min_samples_split=0.05, n_estimators=100, n_jobs=-1;, score=0.126 total time=   0.2s\n"
     ]
    },
    {
     "name": "stdout",
     "output_type": "stream",
     "text": [
      "[CV 3/5] END criterion=absolute_error, min_samples_split=0.05, n_estimators=100, n_jobs=-1;, score=0.276 total time=   0.2s\n",
      "[CV 4/5] END criterion=absolute_error, min_samples_split=0.05, n_estimators=100, n_jobs=-1;, score=0.034 total time=   0.3s\n",
      "[CV 5/5] END criterion=absolute_error, min_samples_split=0.05, n_estimators=100, n_jobs=-1;, score=0.204 total time=   0.3s\n",
      "[CV 1/5] END criterion=absolute_error, min_samples_split=0.05, n_estimators=200, n_jobs=-1;, score=-0.135 total time=   0.4s\n",
      "[CV 2/5] END criterion=absolute_error, min_samples_split=0.05, n_estimators=200, n_jobs=-1;, score=0.136 total time=   0.4s\n",
      "[CV 3/5] END criterion=absolute_error, min_samples_split=0.05, n_estimators=200, n_jobs=-1;, score=0.274 total time=   0.4s\n",
      "[CV 4/5] END criterion=absolute_error, min_samples_split=0.05, n_estimators=200, n_jobs=-1;, score=0.042 total time=   0.4s\n",
      "[CV 5/5] END criterion=absolute_error, min_samples_split=0.05, n_estimators=200, n_jobs=-1;, score=0.206 total time=   0.4s\n",
      "[CV 1/5] END criterion=absolute_error, min_samples_split=0.1, n_estimators=50, n_jobs=-1;, score=-0.152 total time=   0.2s\n",
      "[CV 2/5] END criterion=absolute_error, min_samples_split=0.1, n_estimators=50, n_jobs=-1;, score=0.116 total time=   0.2s\n",
      "[CV 3/5] END criterion=absolute_error, min_samples_split=0.1, n_estimators=50, n_jobs=-1;, score=0.239 total time=   0.2s\n",
      "[CV 4/5] END criterion=absolute_error, min_samples_split=0.1, n_estimators=50, n_jobs=-1;, score=0.008 total time=   0.2s\n",
      "[CV 5/5] END criterion=absolute_error, min_samples_split=0.1, n_estimators=50, n_jobs=-1;, score=0.177 total time=   0.2s\n",
      "[CV 1/5] END criterion=absolute_error, min_samples_split=0.1, n_estimators=100, n_jobs=-1;, score=-0.148 total time=   0.2s\n",
      "[CV 2/5] END criterion=absolute_error, min_samples_split=0.1, n_estimators=100, n_jobs=-1;, score=0.106 total time=   0.2s\n",
      "[CV 3/5] END criterion=absolute_error, min_samples_split=0.1, n_estimators=100, n_jobs=-1;, score=0.248 total time=   0.2s\n",
      "[CV 4/5] END criterion=absolute_error, min_samples_split=0.1, n_estimators=100, n_jobs=-1;, score=0.009 total time=   0.3s\n",
      "[CV 5/5] END criterion=absolute_error, min_samples_split=0.1, n_estimators=100, n_jobs=-1;, score=0.194 total time=   0.2s\n",
      "[CV 1/5] END criterion=absolute_error, min_samples_split=0.1, n_estimators=200, n_jobs=-1;, score=-0.152 total time=   0.4s\n",
      "[CV 2/5] END criterion=absolute_error, min_samples_split=0.1, n_estimators=200, n_jobs=-1;, score=0.111 total time=   0.4s\n",
      "[CV 3/5] END criterion=absolute_error, min_samples_split=0.1, n_estimators=200, n_jobs=-1;, score=0.259 total time=   0.4s\n",
      "[CV 4/5] END criterion=absolute_error, min_samples_split=0.1, n_estimators=200, n_jobs=-1;, score=0.004 total time=   0.4s\n",
      "[CV 5/5] END criterion=absolute_error, min_samples_split=0.1, n_estimators=200, n_jobs=-1;, score=0.194 total time=   0.3s\n",
      "[CV 1/5] END criterion=absolute_error, min_samples_split=0.2, n_estimators=50, n_jobs=-1;, score=-0.209 total time=   0.2s\n",
      "[CV 2/5] END criterion=absolute_error, min_samples_split=0.2, n_estimators=50, n_jobs=-1;, score=0.034 total time=   0.2s\n",
      "[CV 3/5] END criterion=absolute_error, min_samples_split=0.2, n_estimators=50, n_jobs=-1;, score=0.208 total time=   0.2s\n",
      "[CV 4/5] END criterion=absolute_error, min_samples_split=0.2, n_estimators=50, n_jobs=-1;, score=0.011 total time=   0.2s\n",
      "[CV 5/5] END criterion=absolute_error, min_samples_split=0.2, n_estimators=50, n_jobs=-1;, score=0.178 total time=   0.2s\n",
      "[CV 1/5] END criterion=absolute_error, min_samples_split=0.2, n_estimators=100, n_jobs=-1;, score=-0.202 total time=   0.2s\n",
      "[CV 2/5] END criterion=absolute_error, min_samples_split=0.2, n_estimators=100, n_jobs=-1;, score=0.029 total time=   0.2s\n",
      "[CV 3/5] END criterion=absolute_error, min_samples_split=0.2, n_estimators=100, n_jobs=-1;, score=0.201 total time=   0.3s\n",
      "[CV 4/5] END criterion=absolute_error, min_samples_split=0.2, n_estimators=100, n_jobs=-1;, score=0.017 total time=   0.3s\n",
      "[CV 5/5] END criterion=absolute_error, min_samples_split=0.2, n_estimators=100, n_jobs=-1;, score=0.171 total time=   0.2s\n",
      "[CV 1/5] END criterion=absolute_error, min_samples_split=0.2, n_estimators=200, n_jobs=-1;, score=-0.209 total time=   0.4s\n",
      "[CV 2/5] END criterion=absolute_error, min_samples_split=0.2, n_estimators=200, n_jobs=-1;, score=0.039 total time=   0.3s\n",
      "[CV 3/5] END criterion=absolute_error, min_samples_split=0.2, n_estimators=200, n_jobs=-1;, score=0.206 total time=   0.3s\n",
      "[CV 4/5] END criterion=absolute_error, min_samples_split=0.2, n_estimators=200, n_jobs=-1;, score=0.011 total time=   0.3s\n",
      "[CV 5/5] END criterion=absolute_error, min_samples_split=0.2, n_estimators=200, n_jobs=-1;, score=0.171 total time=   0.4s\n"
     ]
    },
    {
     "data": {
      "text/plain": [
       "0.20611499652562904"
      ]
     },
     "execution_count": 204,
     "metadata": {},
     "output_type": "execute_result"
    }
   ],
   "source": [
    "import numpy as np\n",
    "from sklearn.linear_model import LinearRegression\n",
    "\n",
    "from sklearn.ensemble import RandomForestRegressor\n",
    "\n",
    "from sklearn.metrics import mean_absolute_error as mae\n",
    "\n",
    "\n",
    "from sklearn.model_selection import GridSearchCV\n",
    "parameters = {'n_estimators':[50, 100, 200], 'min_samples_split':[2, 10, 30, 0.02, 0.05, 0.1, 0.2],\n",
    "              \"criterion\": [\"absolute_error\"], \"n_jobs\":[-1]}\n",
    "\n",
    "rand_for = RandomForestRegressor()\n",
    "reg = GridSearchCV(rand_for, parameters, verbose=3)\n",
    "reg.fit(np.array(train_x), np.array(train_y))\n",
    "\n",
    "\n",
    "reg.score(np.array(train_x), np.array(train_y))"
   ]
  },
  {
   "cell_type": "code",
   "execution_count": 205,
   "id": "c3d199b9",
   "metadata": {},
   "outputs": [
    {
     "data": {
      "text/plain": [
       "{'criterion': 'absolute_error',\n",
       " 'min_samples_split': 30,\n",
       " 'n_estimators': 50,\n",
       " 'n_jobs': -1}"
      ]
     },
     "execution_count": 205,
     "metadata": {},
     "output_type": "execute_result"
    }
   ],
   "source": [
    "reg.best_params_"
   ]
  },
  {
   "cell_type": "code",
   "execution_count": 206,
   "id": "a0f81841",
   "metadata": {},
   "outputs": [
    {
     "data": {
      "text/plain": [
       "14.121965955284553"
      ]
     },
     "execution_count": 206,
     "metadata": {},
     "output_type": "execute_result"
    }
   ],
   "source": [
    "# train\n",
    "mae(reg.predict(np.array(train_x)), np.array(train_y)) / 60"
   ]
  },
  {
   "cell_type": "code",
   "execution_count": 207,
   "id": "30ab1aad",
   "metadata": {},
   "outputs": [
    {
     "data": {
      "text/plain": [
       "8.163651761517615"
      ]
     },
     "execution_count": 207,
     "metadata": {},
     "output_type": "execute_result"
    }
   ],
   "source": [
    "#val\n",
    "mae(reg.predict(np.array(val_x)), np.array(val_y)) / 60"
   ]
  },
  {
   "cell_type": "code",
   "execution_count": 208,
   "id": "29f8a9f8",
   "metadata": {},
   "outputs": [
    {
     "data": {
      "image/png": "[encoded data removed]",
      "text/plain": [
       "<Figure size 432x288 with 1 Axes>"
      ]
     },
     "metadata": {
      "needs_background": "light"
     },
     "output_type": "display_data"
    }
   ],
   "source": [
    "# errors plot\n",
    "\n",
    "plt.ylabel(\"num validation samples\")\n",
    "plt.xlabel(\"minutes error\")\n",
    "\n",
    "plt.hist((reg.predict(np.array(val_x)) - np.array(val_y)) / 60, bins=50)\n",
    "\n",
    "\n",
    "plt.savefig('plots/exp3_alldata_rand_for_errors_plot.png')"
   ]
  },
  {
   "cell_type": "code",
   "execution_count": 209,
   "id": "d261d1f5",
   "metadata": {},
   "outputs": [
    {
     "data": {
      "text/plain": [
       "139"
      ]
     },
     "execution_count": 209,
     "metadata": {},
     "output_type": "execute_result"
    }
   ],
   "source": [
    "np.sum(np.abs( (reg.predict(np.array(val_x)) - np.array(val_y)) / 60) < 5)"
   ]
  },
  {
   "cell_type": "code",
   "execution_count": 210,
   "id": "827e5fbd",
   "metadata": {},
   "outputs": [
    {
     "data": {
      "text/plain": [
       "246"
      ]
     },
     "execution_count": 210,
     "metadata": {},
     "output_type": "execute_result"
    }
   ],
   "source": [
    "len(val_y)"
   ]
  },
  {
   "cell_type": "code",
   "execution_count": 211,
   "id": "6dcca35a",
   "metadata": {},
   "outputs": [
    {
     "data": {
      "text/plain": [
       "0.39838709677419354"
      ]
     },
     "execution_count": 211,
     "metadata": {},
     "output_type": "execute_result"
    }
   ],
   "source": [
    "247 / 620"
   ]
  },
  {
   "cell_type": "code",
   "execution_count": 212,
   "id": "4e780140",
   "metadata": {},
   "outputs": [
    {
     "data": {
      "text/plain": [
       "188"
      ]
     },
     "execution_count": 212,
     "metadata": {},
     "output_type": "execute_result"
    }
   ],
   "source": [
    "np.sum(np.abs( (reg.predict(np.array(val_x)) - np.array(val_y)) / 60) < 10)"
   ]
  },
  {
   "cell_type": "code",
   "execution_count": 213,
   "id": "d5c56f10",
   "metadata": {},
   "outputs": [
    {
     "data": {
      "text/plain": [
       "0.6435483870967742"
      ]
     },
     "execution_count": 213,
     "metadata": {},
     "output_type": "execute_result"
    }
   ],
   "source": [
    "399 / 620"
   ]
  },
  {
   "cell_type": "code",
   "execution_count": 214,
   "id": "23cb91be",
   "metadata": {},
   "outputs": [],
   "source": [
    "l = {\"experiment_num\": \"3\", \n",
    " \"model_type\": \"Rand forest no preprocessing\", \n",
    " \"train_mae\": mae(reg.predict(np.array(train_x)), np.array(train_y)) / 60, \n",
    " \"val_mae\": mae(reg.predict(np.array(val_x)), np.array(val_y)) / 60, \n",
    " \"perc_lt_5mins\": np.sum(np.abs( (reg.predict(np.array(val_x)) - np.array(val_y)) / 60) < 5)/ len(val_y) ,\n",
    " \"perc_lt_10mins\": np.sum(np.abs( (reg.predict(np.array(val_x)) - np.array(val_y)) / 60) < 10) / len(val_y),\n",
    "    \"train_preds\": reg.predict(np.array(train_x)),\n",
    "    \"val_preds\":reg.predict(np.array(val_x)) }\n",
    "\n",
    "metrics_df_lst.append(l)"
   ]
  },
  {
   "cell_type": "markdown",
   "id": "14ebe34a",
   "metadata": {},
   "source": [
    "# Experiment 3\n",
    "# Rand Forest cbrt y preprocessing"
   ]
  },
  {
   "cell_type": "code",
   "execution_count": 215,
   "id": "311e4449",
   "metadata": {},
   "outputs": [],
   "source": [
    "#HEREEEEE\n",
    "# import numpy as np\n",
    "# from sklearn.linear_model import LinearRegression\n",
    "\n",
    "# from sklearn.ensemble import RandomForestRegressor\n",
    "\n",
    "# from sklearn.metrics import mean_absolute_error as mae\n",
    "\n",
    "\n",
    "# from sklearn.model_selection import GridSearchCV\n",
    "# parameters = {'n_estimators':[50, 100, 200], 'min_samples_split':[2, 10, 30, 0.02, 0.05, 0.1, 0.2],\n",
    "#               \"criterion\": [\"absolute_error\"], \"n_jobs\":[-1]}\n",
    "\n",
    "# rand_for = RandomForestRegressor()\n",
    "# reg = GridSearchCV(rand_for, parameters, verbose=3)\n",
    "# reg.fit(np.array(train_x), transform_y(np.array(train_y)))\n",
    "\n",
    "\n",
    "# reg.score(np.array(train_x), transform_y(np.array(train_y)))\n",
    "\n",
    "# reg.best_params_\n",
    "\n",
    "# # train\n",
    "# mae(inv_transform_y(reg.predict(np.array(train_x))), np.array(train_y)) / 60\n",
    "\n",
    "# #val\n",
    "# mae(inv_transform_y(reg.predict(np.array(val_x))), np.array(val_y)) / 60\n",
    "\n",
    "# # errors plot\n",
    "\n",
    "# plt.ylabel(\"num validation samples\")\n",
    "# plt.xlabel(\"minutes error\")\n",
    "\n",
    "# plt.hist((inv_transform_y(reg.predict(np.array(val_x))) - np.array(val_y)) / 60, bins=50)\n",
    "\n",
    "\n",
    "# plt.savefig('plots/exp4_alldata_rand_for_cbrt_errors_plot.png')\n",
    "\n",
    "# np.sum(np.abs( (inv_transform_y(reg.predict(np.array(val_x))) - np.array(val_y)) / 60) < 5)\n",
    "\n",
    "# len(val_y)\n",
    "\n",
    "# np.sum(np.abs( (inv_transform_y(reg.predict(np.array(val_x))) - np.array(val_y)) / 60) < 10)\n"
   ]
  },
  {
   "cell_type": "code",
   "execution_count": 216,
   "id": "987227f6",
   "metadata": {
    "scrolled": true
   },
   "outputs": [
    {
     "name": "stdout",
     "output_type": "stream",
     "text": [
      "Fitting 5 folds for each of 21 candidates, totalling 105 fits\n",
      "[CV 1/5] END criterion=absolute_error, min_samples_split=2, n_estimators=50, n_jobs=-1;, score=-0.146 total time=   0.2s\n",
      "[CV 2/5] END criterion=absolute_error, min_samples_split=2, n_estimators=50, n_jobs=-1;, score=0.148 total time=   0.2s\n",
      "[CV 3/5] END criterion=absolute_error, min_samples_split=2, n_estimators=50, n_jobs=-1;, score=0.208 total time=   0.2s\n",
      "[CV 4/5] END criterion=absolute_error, min_samples_split=2, n_estimators=50, n_jobs=-1;, score=0.171 total time=   0.2s\n",
      "[CV 5/5] END criterion=absolute_error, min_samples_split=2, n_estimators=50, n_jobs=-1;, score=0.077 total time=   0.2s\n",
      "[CV 1/5] END criterion=absolute_error, min_samples_split=2, n_estimators=100, n_jobs=-1;, score=-0.144 total time=   0.3s\n",
      "[CV 2/5] END criterion=absolute_error, min_samples_split=2, n_estimators=100, n_jobs=-1;, score=0.124 total time=   0.3s\n",
      "[CV 3/5] END criterion=absolute_error, min_samples_split=2, n_estimators=100, n_jobs=-1;, score=0.209 total time=   0.3s\n",
      "[CV 4/5] END criterion=absolute_error, min_samples_split=2, n_estimators=100, n_jobs=-1;, score=0.162 total time=   0.3s\n",
      "[CV 5/5] END criterion=absolute_error, min_samples_split=2, n_estimators=100, n_jobs=-1;, score=0.101 total time=   0.3s\n",
      "[CV 1/5] END criterion=absolute_error, min_samples_split=2, n_estimators=200, n_jobs=-1;, score=-0.159 total time=   0.4s\n",
      "[CV 2/5] END criterion=absolute_error, min_samples_split=2, n_estimators=200, n_jobs=-1;, score=0.112 total time=   0.4s\n",
      "[CV 3/5] END criterion=absolute_error, min_samples_split=2, n_estimators=200, n_jobs=-1;, score=0.200 total time=   0.4s\n",
      "[CV 4/5] END criterion=absolute_error, min_samples_split=2, n_estimators=200, n_jobs=-1;, score=0.153 total time=   0.4s\n",
      "[CV 5/5] END criterion=absolute_error, min_samples_split=2, n_estimators=200, n_jobs=-1;, score=0.102 total time=   0.4s\n",
      "[CV 1/5] END criterion=absolute_error, min_samples_split=10, n_estimators=50, n_jobs=-1;, score=-0.136 total time=   0.2s\n",
      "[CV 2/5] END criterion=absolute_error, min_samples_split=10, n_estimators=50, n_jobs=-1;, score=0.143 total time=   0.2s\n",
      "[CV 3/5] END criterion=absolute_error, min_samples_split=10, n_estimators=50, n_jobs=-1;, score=0.313 total time=   0.2s\n",
      "[CV 4/5] END criterion=absolute_error, min_samples_split=10, n_estimators=50, n_jobs=-1;, score=0.194 total time=   0.2s\n",
      "[CV 5/5] END criterion=absolute_error, min_samples_split=10, n_estimators=50, n_jobs=-1;, score=0.195 total time=   0.2s\n",
      "[CV 1/5] END criterion=absolute_error, min_samples_split=10, n_estimators=100, n_jobs=-1;, score=-0.115 total time=   0.3s\n",
      "[CV 2/5] END criterion=absolute_error, min_samples_split=10, n_estimators=100, n_jobs=-1;, score=0.175 total time=   0.2s\n",
      "[CV 3/5] END criterion=absolute_error, min_samples_split=10, n_estimators=100, n_jobs=-1;, score=0.332 total time=   0.3s\n",
      "[CV 4/5] END criterion=absolute_error, min_samples_split=10, n_estimators=100, n_jobs=-1;, score=0.181 total time=   0.2s\n",
      "[CV 5/5] END criterion=absolute_error, min_samples_split=10, n_estimators=100, n_jobs=-1;, score=0.222 total time=   0.3s\n",
      "[CV 1/5] END criterion=absolute_error, min_samples_split=10, n_estimators=200, n_jobs=-1;, score=-0.121 total time=   0.4s\n",
      "[CV 2/5] END criterion=absolute_error, min_samples_split=10, n_estimators=200, n_jobs=-1;, score=0.161 total time=   0.4s\n",
      "[CV 3/5] END criterion=absolute_error, min_samples_split=10, n_estimators=200, n_jobs=-1;, score=0.310 total time=   0.4s\n",
      "[CV 4/5] END criterion=absolute_error, min_samples_split=10, n_estimators=200, n_jobs=-1;, score=0.195 total time=   0.4s\n",
      "[CV 5/5] END criterion=absolute_error, min_samples_split=10, n_estimators=200, n_jobs=-1;, score=0.199 total time=   0.4s\n",
      "[CV 1/5] END criterion=absolute_error, min_samples_split=30, n_estimators=50, n_jobs=-1;, score=-0.131 total time=   0.2s\n",
      "[CV 2/5] END criterion=absolute_error, min_samples_split=30, n_estimators=50, n_jobs=-1;, score=0.154 total time=   0.2s\n",
      "[CV 3/5] END criterion=absolute_error, min_samples_split=30, n_estimators=50, n_jobs=-1;, score=0.362 total time=   0.2s\n",
      "[CV 4/5] END criterion=absolute_error, min_samples_split=30, n_estimators=50, n_jobs=-1;, score=0.190 total time=   0.2s\n",
      "[CV 5/5] END criterion=absolute_error, min_samples_split=30, n_estimators=50, n_jobs=-1;, score=0.273 total time=   0.2s\n",
      "[CV 1/5] END criterion=absolute_error, min_samples_split=30, n_estimators=100, n_jobs=-1;, score=-0.142 total time=   0.3s\n",
      "[CV 2/5] END criterion=absolute_error, min_samples_split=30, n_estimators=100, n_jobs=-1;, score=0.154 total time=   0.2s\n",
      "[CV 3/5] END criterion=absolute_error, min_samples_split=30, n_estimators=100, n_jobs=-1;, score=0.379 total time=   0.2s\n",
      "[CV 4/5] END criterion=absolute_error, min_samples_split=30, n_estimators=100, n_jobs=-1;, score=0.188 total time=   0.3s\n",
      "[CV 5/5] END criterion=absolute_error, min_samples_split=30, n_estimators=100, n_jobs=-1;, score=0.300 total time=   0.3s\n",
      "[CV 1/5] END criterion=absolute_error, min_samples_split=30, n_estimators=200, n_jobs=-1;, score=-0.133 total time=   0.4s\n",
      "[CV 2/5] END criterion=absolute_error, min_samples_split=30, n_estimators=200, n_jobs=-1;, score=0.154 total time=   0.4s\n",
      "[CV 3/5] END criterion=absolute_error, min_samples_split=30, n_estimators=200, n_jobs=-1;, score=0.371 total time=   0.4s\n",
      "[CV 4/5] END criterion=absolute_error, min_samples_split=30, n_estimators=200, n_jobs=-1;, score=0.194 total time=   0.3s\n",
      "[CV 5/5] END criterion=absolute_error, min_samples_split=30, n_estimators=200, n_jobs=-1;, score=0.277 total time=   0.5s\n",
      "[CV 1/5] END criterion=absolute_error, min_samples_split=0.02, n_estimators=50, n_jobs=-1;, score=-0.141 total time=   0.2s\n",
      "[CV 2/5] END criterion=absolute_error, min_samples_split=0.02, n_estimators=50, n_jobs=-1;, score=0.162 total time=   0.2s\n",
      "[CV 3/5] END criterion=absolute_error, min_samples_split=0.02, n_estimators=50, n_jobs=-1;, score=0.340 total time=   0.2s\n",
      "[CV 4/5] END criterion=absolute_error, min_samples_split=0.02, n_estimators=50, n_jobs=-1;, score=0.174 total time=   0.2s\n",
      "[CV 5/5] END criterion=absolute_error, min_samples_split=0.02, n_estimators=50, n_jobs=-1;, score=0.228 total time=   0.2s\n",
      "[CV 1/5] END criterion=absolute_error, min_samples_split=0.02, n_estimators=100, n_jobs=-1;, score=-0.122 total time=   0.3s\n",
      "[CV 2/5] END criterion=absolute_error, min_samples_split=0.02, n_estimators=100, n_jobs=-1;, score=0.154 total time=   0.2s\n",
      "[CV 3/5] END criterion=absolute_error, min_samples_split=0.02, n_estimators=100, n_jobs=-1;, score=0.340 total time=   0.2s\n",
      "[CV 4/5] END criterion=absolute_error, min_samples_split=0.02, n_estimators=100, n_jobs=-1;, score=0.188 total time=   0.2s\n",
      "[CV 5/5] END criterion=absolute_error, min_samples_split=0.02, n_estimators=100, n_jobs=-1;, score=0.254 total time=   0.3s\n",
      "[CV 1/5] END criterion=absolute_error, min_samples_split=0.02, n_estimators=200, n_jobs=-1;, score=-0.123 total time=   0.3s\n",
      "[CV 2/5] END criterion=absolute_error, min_samples_split=0.02, n_estimators=200, n_jobs=-1;, score=0.168 total time=   0.4s\n",
      "[CV 3/5] END criterion=absolute_error, min_samples_split=0.02, n_estimators=200, n_jobs=-1;, score=0.346 total time=   0.4s\n",
      "[CV 4/5] END criterion=absolute_error, min_samples_split=0.02, n_estimators=200, n_jobs=-1;, score=0.183 total time=   0.4s\n",
      "[CV 5/5] END criterion=absolute_error, min_samples_split=0.02, n_estimators=200, n_jobs=-1;, score=0.261 total time=   0.4s\n",
      "[CV 1/5] END criterion=absolute_error, min_samples_split=0.05, n_estimators=50, n_jobs=-1;, score=-0.137 total time=   0.2s\n",
      "[CV 2/5] END criterion=absolute_error, min_samples_split=0.05, n_estimators=50, n_jobs=-1;, score=0.145 total time=   0.2s\n",
      "[CV 3/5] END criterion=absolute_error, min_samples_split=0.05, n_estimators=50, n_jobs=-1;, score=0.373 total time=   0.2s\n",
      "[CV 4/5] END criterion=absolute_error, min_samples_split=0.05, n_estimators=50, n_jobs=-1;, score=0.186 total time=   0.2s\n",
      "[CV 5/5] END criterion=absolute_error, min_samples_split=0.05, n_estimators=50, n_jobs=-1;, score=0.310 total time=   0.2s\n",
      "[CV 1/5] END criterion=absolute_error, min_samples_split=0.05, n_estimators=100, n_jobs=-1;, score=-0.145 total time=   0.3s\n",
      "[CV 2/5] END criterion=absolute_error, min_samples_split=0.05, n_estimators=100, n_jobs=-1;, score=0.148 total time=   0.2s\n"
     ]
    },
    {
     "name": "stdout",
     "output_type": "stream",
     "text": [
      "[CV 3/5] END criterion=absolute_error, min_samples_split=0.05, n_estimators=100, n_jobs=-1;, score=0.373 total time=   0.2s\n",
      "[CV 4/5] END criterion=absolute_error, min_samples_split=0.05, n_estimators=100, n_jobs=-1;, score=0.182 total time=   0.3s\n",
      "[CV 5/5] END criterion=absolute_error, min_samples_split=0.05, n_estimators=100, n_jobs=-1;, score=0.307 total time=   0.3s\n",
      "[CV 1/5] END criterion=absolute_error, min_samples_split=0.05, n_estimators=200, n_jobs=-1;, score=-0.146 total time=   0.3s\n",
      "[CV 2/5] END criterion=absolute_error, min_samples_split=0.05, n_estimators=200, n_jobs=-1;, score=0.149 total time=   0.4s\n",
      "[CV 3/5] END criterion=absolute_error, min_samples_split=0.05, n_estimators=200, n_jobs=-1;, score=0.378 total time=   0.4s\n",
      "[CV 4/5] END criterion=absolute_error, min_samples_split=0.05, n_estimators=200, n_jobs=-1;, score=0.196 total time=   0.4s\n",
      "[CV 5/5] END criterion=absolute_error, min_samples_split=0.05, n_estimators=200, n_jobs=-1;, score=0.310 total time=   0.3s\n",
      "[CV 1/5] END criterion=absolute_error, min_samples_split=0.1, n_estimators=50, n_jobs=-1;, score=-0.167 total time=   0.2s\n",
      "[CV 2/5] END criterion=absolute_error, min_samples_split=0.1, n_estimators=50, n_jobs=-1;, score=0.134 total time=   0.2s\n",
      "[CV 3/5] END criterion=absolute_error, min_samples_split=0.1, n_estimators=50, n_jobs=-1;, score=0.378 total time=   0.2s\n",
      "[CV 4/5] END criterion=absolute_error, min_samples_split=0.1, n_estimators=50, n_jobs=-1;, score=0.173 total time=   0.2s\n",
      "[CV 5/5] END criterion=absolute_error, min_samples_split=0.1, n_estimators=50, n_jobs=-1;, score=0.308 total time=   0.2s\n",
      "[CV 1/5] END criterion=absolute_error, min_samples_split=0.1, n_estimators=100, n_jobs=-1;, score=-0.159 total time=   0.2s\n",
      "[CV 2/5] END criterion=absolute_error, min_samples_split=0.1, n_estimators=100, n_jobs=-1;, score=0.140 total time=   0.2s\n",
      "[CV 3/5] END criterion=absolute_error, min_samples_split=0.1, n_estimators=100, n_jobs=-1;, score=0.377 total time=   0.2s\n",
      "[CV 4/5] END criterion=absolute_error, min_samples_split=0.1, n_estimators=100, n_jobs=-1;, score=0.178 total time=   0.2s\n",
      "[CV 5/5] END criterion=absolute_error, min_samples_split=0.1, n_estimators=100, n_jobs=-1;, score=0.307 total time=   0.2s\n",
      "[CV 1/5] END criterion=absolute_error, min_samples_split=0.1, n_estimators=200, n_jobs=-1;, score=-0.163 total time=   0.4s\n",
      "[CV 2/5] END criterion=absolute_error, min_samples_split=0.1, n_estimators=200, n_jobs=-1;, score=0.140 total time=   0.3s\n",
      "[CV 3/5] END criterion=absolute_error, min_samples_split=0.1, n_estimators=200, n_jobs=-1;, score=0.368 total time=   0.3s\n",
      "[CV 4/5] END criterion=absolute_error, min_samples_split=0.1, n_estimators=200, n_jobs=-1;, score=0.168 total time=   0.3s\n",
      "[CV 5/5] END criterion=absolute_error, min_samples_split=0.1, n_estimators=200, n_jobs=-1;, score=0.315 total time=   0.3s\n",
      "[CV 1/5] END criterion=absolute_error, min_samples_split=0.2, n_estimators=50, n_jobs=-1;, score=-0.213 total time=   0.2s\n",
      "[CV 2/5] END criterion=absolute_error, min_samples_split=0.2, n_estimators=50, n_jobs=-1;, score=0.085 total time=   0.2s\n",
      "[CV 3/5] END criterion=absolute_error, min_samples_split=0.2, n_estimators=50, n_jobs=-1;, score=0.319 total time=   0.2s\n",
      "[CV 4/5] END criterion=absolute_error, min_samples_split=0.2, n_estimators=50, n_jobs=-1;, score=0.155 total time=   0.2s\n",
      "[CV 5/5] END criterion=absolute_error, min_samples_split=0.2, n_estimators=50, n_jobs=-1;, score=0.294 total time=   0.2s\n",
      "[CV 1/5] END criterion=absolute_error, min_samples_split=0.2, n_estimators=100, n_jobs=-1;, score=-0.214 total time=   0.2s\n",
      "[CV 2/5] END criterion=absolute_error, min_samples_split=0.2, n_estimators=100, n_jobs=-1;, score=0.086 total time=   0.2s\n",
      "[CV 3/5] END criterion=absolute_error, min_samples_split=0.2, n_estimators=100, n_jobs=-1;, score=0.317 total time=   0.2s\n",
      "[CV 4/5] END criterion=absolute_error, min_samples_split=0.2, n_estimators=100, n_jobs=-1;, score=0.156 total time=   0.2s\n",
      "[CV 5/5] END criterion=absolute_error, min_samples_split=0.2, n_estimators=100, n_jobs=-1;, score=0.305 total time=   0.2s\n",
      "[CV 1/5] END criterion=absolute_error, min_samples_split=0.2, n_estimators=200, n_jobs=-1;, score=-0.211 total time=   0.3s\n",
      "[CV 2/5] END criterion=absolute_error, min_samples_split=0.2, n_estimators=200, n_jobs=-1;, score=0.084 total time=   0.4s\n",
      "[CV 3/5] END criterion=absolute_error, min_samples_split=0.2, n_estimators=200, n_jobs=-1;, score=0.309 total time=   0.3s\n",
      "[CV 4/5] END criterion=absolute_error, min_samples_split=0.2, n_estimators=200, n_jobs=-1;, score=0.153 total time=   0.3s\n",
      "[CV 5/5] END criterion=absolute_error, min_samples_split=0.2, n_estimators=200, n_jobs=-1;, score=0.301 total time=   0.3s\n"
     ]
    },
    {
     "data": {
      "text/plain": [
       "0.2653527521833121"
      ]
     },
     "execution_count": 216,
     "metadata": {},
     "output_type": "execute_result"
    }
   ],
   "source": [
    "import numpy as np\n",
    "from sklearn.linear_model import LinearRegression\n",
    "\n",
    "from sklearn.ensemble import RandomForestRegressor\n",
    "\n",
    "from sklearn.metrics import mean_absolute_error as mae\n",
    "\n",
    "\n",
    "from sklearn.model_selection import GridSearchCV\n",
    "parameters = {'n_estimators':[50, 100, 200], 'min_samples_split':[2, 10, 30, 0.02, 0.05, 0.1, 0.2],\n",
    "              \"criterion\": [\"absolute_error\"], \"n_jobs\":[-1]}\n",
    "\n",
    "rand_for = RandomForestRegressor()\n",
    "reg = GridSearchCV(rand_for, parameters, verbose=3)\n",
    "reg.fit(np.array(train_x), transform_y(np.array(train_y)))\n",
    "\n",
    "\n",
    "reg.score(np.array(train_x), transform_y(np.array(train_y)))"
   ]
  },
  {
   "cell_type": "code",
   "execution_count": 217,
   "id": "f58361e6",
   "metadata": {},
   "outputs": [
    {
     "data": {
      "text/plain": [
       "{'criterion': 'absolute_error',\n",
       " 'min_samples_split': 0.05,\n",
       " 'n_estimators': 200,\n",
       " 'n_jobs': -1}"
      ]
     },
     "execution_count": 217,
     "metadata": {},
     "output_type": "execute_result"
    }
   ],
   "source": [
    "reg.best_params_"
   ]
  },
  {
   "cell_type": "code",
   "execution_count": 218,
   "id": "71084c5e",
   "metadata": {},
   "outputs": [
    {
     "data": {
      "text/plain": [
       "14.619181710053391"
      ]
     },
     "execution_count": 218,
     "metadata": {},
     "output_type": "execute_result"
    }
   ],
   "source": [
    "# train\n",
    "mae(inv_transform_y(reg.predict(np.array(train_x))), np.array(train_y)) / 60"
   ]
  },
  {
   "cell_type": "code",
   "execution_count": 219,
   "id": "577f68e3",
   "metadata": {
    "scrolled": true
   },
   "outputs": [
    {
     "data": {
      "text/plain": [
       "7.523400114663111"
      ]
     },
     "execution_count": 219,
     "metadata": {},
     "output_type": "execute_result"
    }
   ],
   "source": [
    "mae(inv_transform_y(reg.predict(np.array(val_x))), np.array(val_y)) / 60"
   ]
  },
  {
   "cell_type": "code",
   "execution_count": 220,
   "id": "34068dad",
   "metadata": {
    "scrolled": true
   },
   "outputs": [
    {
     "data": {
      "image/png": "[encoded data removed]",
      "text/plain": [
       "<Figure size 432x288 with 1 Axes>"
      ]
     },
     "metadata": {
      "needs_background": "light"
     },
     "output_type": "display_data"
    }
   ],
   "source": [
    "# errors plot\n",
    "\n",
    "plt.ylabel(\"num validation samples\")\n",
    "plt.xlabel(\"minutes error\")\n",
    "\n",
    "plt.hist((inv_transform_y(reg.predict(np.array(val_x))) - np.array(val_y)) / 60, bins=50)\n",
    "\n",
    "\n",
    "plt.savefig('plots/exp3_alldata_rand_for_cbrt_errors_plot.png')"
   ]
  },
  {
   "cell_type": "code",
   "execution_count": 221,
   "id": "4324e2d4",
   "metadata": {
    "scrolled": true
   },
   "outputs": [
    {
     "data": {
      "text/plain": [
       "160"
      ]
     },
     "execution_count": 221,
     "metadata": {},
     "output_type": "execute_result"
    }
   ],
   "source": [
    "np.sum(np.abs( (inv_transform_y(reg.predict(np.array(val_x))) - np.array(val_y)) / 60) < 5)"
   ]
  },
  {
   "cell_type": "code",
   "execution_count": 222,
   "id": "2e97aa73",
   "metadata": {
    "scrolled": true
   },
   "outputs": [
    {
     "data": {
      "text/plain": [
       "246"
      ]
     },
     "execution_count": 222,
     "metadata": {},
     "output_type": "execute_result"
    }
   ],
   "source": [
    "len(val_y)"
   ]
  },
  {
   "cell_type": "code",
   "execution_count": 223,
   "id": "a1bed929",
   "metadata": {
    "scrolled": true
   },
   "outputs": [
    {
     "data": {
      "text/plain": [
       "0.43870967741935485"
      ]
     },
     "execution_count": 223,
     "metadata": {},
     "output_type": "execute_result"
    }
   ],
   "source": [
    "272 / 620"
   ]
  },
  {
   "cell_type": "code",
   "execution_count": 224,
   "id": "1ccc36d4",
   "metadata": {},
   "outputs": [
    {
     "data": {
      "text/plain": [
       "195"
      ]
     },
     "execution_count": 224,
     "metadata": {},
     "output_type": "execute_result"
    }
   ],
   "source": [
    "np.sum(np.abs( (inv_transform_y(reg.predict(np.array(val_x))) - np.array(val_y)) / 60) < 10)"
   ]
  },
  {
   "cell_type": "code",
   "execution_count": 225,
   "id": "cc0fd3e2",
   "metadata": {},
   "outputs": [
    {
     "data": {
      "text/plain": [
       "0.6564516129032258"
      ]
     },
     "execution_count": 225,
     "metadata": {},
     "output_type": "execute_result"
    }
   ],
   "source": [
    "407 / 620"
   ]
  },
  {
   "cell_type": "code",
   "execution_count": null,
   "id": "b9ce71cd",
   "metadata": {},
   "outputs": [],
   "source": []
  },
  {
   "cell_type": "code",
   "execution_count": 226,
   "id": "1e0d7dcf",
   "metadata": {},
   "outputs": [],
   "source": [
    "l = {\"experiment_num\": \"3\", \n",
    " \"model_type\": \"Rand forest cbrt y preprocessing\", \n",
    " \"train_mae\": mae(inv_transform_y(reg.predict(np.array(train_x))), np.array(train_y)) / 60, \n",
    " \"val_mae\": mae(inv_transform_y(reg.predict(np.array(val_x))), np.array(val_y)) / 60, \n",
    " \"perc_lt_5mins\": np.sum(np.abs( (inv_transform_y(reg.predict(np.array(val_x))) - np.array(val_y)) / 60) < 5) / len(val_y) ,\n",
    " \"perc_lt_10mins\": np.sum(np.abs( (inv_transform_y(reg.predict(np.array(val_x))) - np.array(val_y)) / 60) < 10) / len(val_y) ,\n",
    "    \"train_preds\": inv_transform_y(reg.predict(np.array(train_x))),\n",
    "    \"val_preds\":inv_transform_y(reg.predict(np.array(val_x)))}\n",
    "\n",
    "metrics_df_lst.append(l)"
   ]
  },
  {
   "cell_type": "markdown",
   "id": "48105fa1",
   "metadata": {},
   "source": [
    "## Experiment 4\n",
    "## LINE WHERE PRODUCTS ARE PLACED AS FEATURE"
   ]
  },
  {
   "cell_type": "code",
   "execution_count": 227,
   "id": "04cb6882",
   "metadata": {
    "scrolled": true
   },
   "outputs": [],
   "source": [
    "# {0: [1-16], 1: [17-32], 2: [33-49], 3: [57-72], 4: [(1) and [73-80]], 5: [81-92], \n",
    "#  6:[A], 7:[B], 8:[C], 9:[D], 10: [E], 11:[F], 12:[П] 12:[X] }"
   ]
  },
  {
   "cell_type": "code",
   "execution_count": 228,
   "id": "abae1dcc",
   "metadata": {
    "scrolled": true
   },
   "outputs": [],
   "source": [
    "def place_cell_to_line_vector(place_cell):\n",
    "    num_lines = 13\n",
    "    vect = np.zeros(13)\n",
    "    \n",
    "    range_to_line_ind = {(1,17): 0, (17,33): 1, (33,50): 2, (57,73): 3, \n",
    "                         (73,81): 4, (81,93): 5}\n",
    "    letter_to_line_ind = {\"(1)\": 4, \"A\": 6, \"B\": 7, \"C\": 8, \"D\": 9, \"E\": 10, \"F\": 11, \"П\": 12, \"X\": 12}\n",
    "    \n",
    "    for c in place_cell:\n",
    "        if c.isnumeric():\n",
    "            cnum = int(c)\n",
    "            for r in range_to_line_ind.keys():\n",
    "                if cnum in list(range(*r)):\n",
    "                    vect[range_to_line_ind[r]] += 1\n",
    "        else:\n",
    "            for l in letter_to_line_ind.keys():\n",
    "                if l in c:\n",
    "                    vect[letter_to_line_ind[l]] += 1\n",
    "                    \n",
    "    return vect\n",
    "            "
   ]
  },
  {
   "cell_type": "code",
   "execution_count": 229,
   "id": "300a2ef1",
   "metadata": {
    "scrolled": true
   },
   "outputs": [
    {
     "data": {
      "text/html": [
       "<div>\n",
       "<style scoped>\n",
       "    .dataframe tbody tr th:only-of-type {\n",
       "        vertical-align: middle;\n",
       "    }\n",
       "\n",
       "    .dataframe tbody tr th {\n",
       "        vertical-align: top;\n",
       "    }\n",
       "\n",
       "    .dataframe thead th {\n",
       "        text-align: right;\n",
       "    }\n",
       "</style>\n",
       "<table border=\"1\" class=\"dataframe\">\n",
       "  <thead>\n",
       "    <tr style=\"text-align: right;\">\n",
       "      <th></th>\n",
       "      <th>product_id</th>\n",
       "      <th>sku_code</th>\n",
       "      <th>name</th>\n",
       "      <th>volume</th>\n",
       "      <th>place</th>\n",
       "      <th>warehouse_name</th>\n",
       "      <th>cleaned_place</th>\n",
       "      <th>short_cleaned_place</th>\n",
       "      <th>place_cell</th>\n",
       "      <th>place_level</th>\n",
       "    </tr>\n",
       "  </thead>\n",
       "  <tbody>\n",
       "    <tr>\n",
       "      <th>151</th>\n",
       "      <td>616</td>\n",
       "      <td>10830</td>\n",
       "      <td>262</td>\n",
       "      <td>NaN</td>\n",
       "      <td>21-2</td>\n",
       "      <td>5</td>\n",
       "      <td>[21-2]</td>\n",
       "      <td>[21-2]</td>\n",
       "      <td>[21]</td>\n",
       "      <td>[2]</td>\n",
       "    </tr>\n",
       "    <tr>\n",
       "      <th>159</th>\n",
       "      <td>624</td>\n",
       "      <td>1898</td>\n",
       "      <td>1065</td>\n",
       "      <td>NaN</td>\n",
       "      <td>22-3-2</td>\n",
       "      <td>5</td>\n",
       "      <td>[22-3-2]</td>\n",
       "      <td>[22-3]</td>\n",
       "      <td>[22]</td>\n",
       "      <td>[3]</td>\n",
       "    </tr>\n",
       "    <tr>\n",
       "      <th>160</th>\n",
       "      <td>625</td>\n",
       "      <td>2748</td>\n",
       "      <td>1065</td>\n",
       "      <td>NaN</td>\n",
       "      <td>22-3-2</td>\n",
       "      <td>5</td>\n",
       "      <td>[22-3-2]</td>\n",
       "      <td>[22-3]</td>\n",
       "      <td>[22]</td>\n",
       "      <td>[3]</td>\n",
       "    </tr>\n",
       "    <tr>\n",
       "      <th>164</th>\n",
       "      <td>629</td>\n",
       "      <td>2747</td>\n",
       "      <td>1460</td>\n",
       "      <td>NaN</td>\n",
       "      <td>22-3-2</td>\n",
       "      <td>5</td>\n",
       "      <td>[22-3-2]</td>\n",
       "      <td>[22-3]</td>\n",
       "      <td>[22]</td>\n",
       "      <td>[3]</td>\n",
       "    </tr>\n",
       "    <tr>\n",
       "      <th>184</th>\n",
       "      <td>649</td>\n",
       "      <td>2019</td>\n",
       "      <td>1063</td>\n",
       "      <td>NaN</td>\n",
       "      <td>22-2-1</td>\n",
       "      <td>5</td>\n",
       "      <td>[22-2-1]</td>\n",
       "      <td>[22-2]</td>\n",
       "      <td>[22]</td>\n",
       "      <td>[2]</td>\n",
       "    </tr>\n",
       "  </tbody>\n",
       "</table>\n",
       "</div>"
      ],
      "text/plain": [
       "     product_id sku_code  name  volume   place warehouse_name cleaned_place  \\\n",
       "151         616    10830   262     NaN    21-2              5        [21-2]   \n",
       "159         624     1898  1065     NaN  22-3-2              5      [22-3-2]   \n",
       "160         625     2748  1065     NaN  22-3-2              5      [22-3-2]   \n",
       "164         629     2747  1460     NaN  22-3-2              5      [22-3-2]   \n",
       "184         649     2019  1063     NaN  22-2-1              5      [22-2-1]   \n",
       "\n",
       "    short_cleaned_place place_cell place_level  \n",
       "151              [21-2]       [21]         [2]  \n",
       "159              [22-3]       [22]         [3]  \n",
       "160              [22-3]       [22]         [3]  \n",
       "164              [22-3]       [22]         [3]  \n",
       "184              [22-2]       [22]         [2]  "
      ]
     },
     "execution_count": 229,
     "metadata": {},
     "output_type": "execute_result"
    }
   ],
   "source": [
    "products_list_df.head()"
   ]
  },
  {
   "cell_type": "code",
   "execution_count": 230,
   "id": "75ced8ab",
   "metadata": {
    "scrolled": true
   },
   "outputs": [
    {
     "data": {
      "text/plain": [
       "[1, 2, 3, 4, 5, 6, 7, 8, 9, 10, 11, 12, 13, 14, 15]"
      ]
     },
     "execution_count": 230,
     "metadata": {},
     "output_type": "execute_result"
    }
   ],
   "source": [
    "list(range(1,16))"
   ]
  },
  {
   "cell_type": "code",
   "execution_count": 231,
   "id": "366e57eb",
   "metadata": {
    "scrolled": true
   },
   "outputs": [
    {
     "data": {
      "text/plain": [
       "False"
      ]
     },
     "execution_count": 231,
     "metadata": {},
     "output_type": "execute_result"
    }
   ],
   "source": [
    "\"12(1)\".isnumeric()"
   ]
  },
  {
   "cell_type": "code",
   "execution_count": 232,
   "id": "49820649",
   "metadata": {
    "scrolled": true
   },
   "outputs": [
    {
     "data": {
      "text/plain": [
       "range(1, 17)"
      ]
     },
     "execution_count": 232,
     "metadata": {},
     "output_type": "execute_result"
    }
   ],
   "source": [
    "range(*(1, 17))"
   ]
  },
  {
   "cell_type": "code",
   "execution_count": 233,
   "id": "6aa019b1",
   "metadata": {
    "scrolled": true
   },
   "outputs": [
    {
     "data": {
      "text/plain": [
       "array([0., 0., 0., 0., 1., 0., 0., 0., 0., 0., 0., 0., 0.])"
      ]
     },
     "execution_count": 233,
     "metadata": {},
     "output_type": "execute_result"
    }
   ],
   "source": [
    "place_cell_to_line_vector([\"21(1)\"])"
   ]
  },
  {
   "cell_type": "code",
   "execution_count": 234,
   "id": "20d59274",
   "metadata": {
    "scrolled": true
   },
   "outputs": [],
   "source": [
    "product_id_to_line_vect = {}\n",
    "\n",
    "for ind, row in products_list_df.iterrows():\n",
    "    product_id_to_line_vect[row[\"product_id\"]] = place_cell_to_line_vector(row[\"place_cell\"])"
   ]
  },
  {
   "cell_type": "code",
   "execution_count": null,
   "id": "9b20a3f4",
   "metadata": {
    "scrolled": true
   },
   "outputs": [],
   "source": []
  },
  {
   "cell_type": "code",
   "execution_count": 235,
   "id": "7f4e6bcb",
   "metadata": {
    "scrolled": true
   },
   "outputs": [],
   "source": [
    "order_id_to_product_id_list = dict(order_list_df.groupby(\"order_id\")[\"product_id\"].apply(list))\n",
    "\n",
    "order_id_to_line_vect = {}\n",
    "\n",
    "for k in order_id_to_product_id_list.keys():\n",
    "    vect_lst = []\n",
    "    \n",
    "    for p in order_id_to_product_id_list.get(k, []):\n",
    "        \n",
    "        if p in product_id_to_line_vect:\n",
    "            vect_lst.append(product_id_to_line_vect[p])\n",
    "        \n",
    "    if vect_lst:\n",
    "        order_id_to_line_vect[k] = sum(vect_lst)"
   ]
  },
  {
   "cell_type": "code",
   "execution_count": 236,
   "id": "7fe06e07",
   "metadata": {
    "scrolled": true
   },
   "outputs": [],
   "source": [
    "collect_id_to_order_id_list = dict(order_collects_df.groupby(\"collect_id\")[\"order_id\"].apply(list))"
   ]
  },
  {
   "cell_type": "code",
   "execution_count": 237,
   "id": "a246749b",
   "metadata": {
    "scrolled": true
   },
   "outputs": [],
   "source": [
    "collect_id_to_line_vect = {}\n",
    "\n",
    "\n",
    "for k in collect_id_to_order_id_list.keys():\n",
    "    vect_lst = []\n",
    "    \n",
    "    for oid in collect_id_to_order_id_list.get(k, []):\n",
    "        if oid in order_id_to_line_vect:\n",
    "            vect_lst.append(order_id_to_line_vect[oid])\n",
    "        \n",
    "    if vect_lst:\n",
    "        collect_id_to_line_vect[k] = sum(vect_lst)\n",
    "        # No values larger than 1. Only 1 for cells to which we have to walk\n",
    "        # collect_id_to_line_vect[k][collect_id_to_line_vect[k] > 0] = 1"
   ]
  },
  {
   "cell_type": "code",
   "execution_count": 238,
   "id": "5627a7cb",
   "metadata": {
    "scrolled": true
   },
   "outputs": [],
   "source": [
    "collect_id_to_time_spent_walking = dict(order_collects_df.groupby(\"collect_id\")[\"approx_store_walk_time\"].mean().dt.total_seconds())"
   ]
  },
  {
   "cell_type": "code",
   "execution_count": 239,
   "id": "244b07d9",
   "metadata": {
    "scrolled": true
   },
   "outputs": [],
   "source": [
    "train_keys = collect_id_keys_train\n",
    "val_keys = collect_id_keys_val\n",
    "\n",
    "train_x = []\n",
    "val_x = []\n",
    "train_y = []\n",
    "val_y = []\n",
    "\n",
    "for k in train_keys:\n",
    "    if (k in collect_id_to_line_vect) and (k in collect_id_to_time_spent_walking):\n",
    "        train_x.append(collect_id_to_line_vect[k])\n",
    "        train_y.append(collect_id_to_time_spent_walking[k])\n",
    "    \n",
    "for k in val_keys:\n",
    "    if (k in collect_id_to_line_vect) and (k in collect_id_to_time_spent_walking):\n",
    "        val_x.append(collect_id_to_line_vect[k])\n",
    "        val_y.append(collect_id_to_time_spent_walking[k])"
   ]
  },
  {
   "cell_type": "markdown",
   "id": "2ff765eb",
   "metadata": {},
   "source": [
    "## Experiment 4\n",
    "## Lin reg no x, y processing"
   ]
  },
  {
   "cell_type": "code",
   "execution_count": 240,
   "id": "65545021",
   "metadata": {
    "scrolled": true
   },
   "outputs": [
    {
     "data": {
      "text/plain": [
       "0.019082630758016084"
      ]
     },
     "execution_count": 240,
     "metadata": {},
     "output_type": "execute_result"
    }
   ],
   "source": [
    "import numpy as np\n",
    "from sklearn.linear_model import LinearRegression\n",
    "from sklearn.metrics import mean_absolute_error as mae\n",
    "\n",
    "from sklearn.ensemble import RandomForestRegressor\n",
    "\n",
    "X = np.array(train_x)\n",
    "reg = LinearRegression().fit(X, np.array(train_y))\n",
    "reg.score(np.array(val_x), np.array(val_y))\n",
    "\n"
   ]
  },
  {
   "cell_type": "code",
   "execution_count": 241,
   "id": "63b97840",
   "metadata": {},
   "outputs": [
    {
     "data": {
      "text/plain": [
       "18.633110786621113"
      ]
     },
     "execution_count": 241,
     "metadata": {},
     "output_type": "execute_result"
    }
   ],
   "source": [
    "# train\n",
    "mae(reg.predict(np.array(train_x)), np.array(train_y)) / 60\n"
   ]
  },
  {
   "cell_type": "code",
   "execution_count": 242,
   "id": "5d27ce77",
   "metadata": {},
   "outputs": [
    {
     "data": {
      "text/plain": [
       "14.285322163631559"
      ]
     },
     "execution_count": 242,
     "metadata": {},
     "output_type": "execute_result"
    }
   ],
   "source": [
    "mae(reg.predict(np.array(val_x)), np.array(val_y)) / 60\n"
   ]
  },
  {
   "cell_type": "code",
   "execution_count": 243,
   "id": "21592e24",
   "metadata": {},
   "outputs": [],
   "source": [
    "# errors plot"
   ]
  },
  {
   "cell_type": "code",
   "execution_count": 244,
   "id": "6c03059a",
   "metadata": {},
   "outputs": [
    {
     "data": {
      "image/png": "[encoded data removed]",
      "text/plain": [
       "<Figure size 432x288 with 1 Axes>"
      ]
     },
     "metadata": {
      "needs_background": "light"
     },
     "output_type": "display_data"
    }
   ],
   "source": [
    "plt.ylabel(\"num validation samples\")\n",
    "plt.xlabel(\"minutes error\")\n",
    "\n",
    "plt.hist((reg.predict(np.array(val_x)) - np.array(val_y)) / 60, bins=50)\n",
    "\n",
    "\n",
    "plt.savefig('plots/exp4_alldata_linreg_errors_plot.png')\n",
    "\n"
   ]
  },
  {
   "cell_type": "code",
   "execution_count": 245,
   "id": "77ecd087",
   "metadata": {},
   "outputs": [
    {
     "data": {
      "text/plain": [
       "16"
      ]
     },
     "execution_count": 245,
     "metadata": {},
     "output_type": "execute_result"
    }
   ],
   "source": [
    "np.sum(np.abs( (reg.predict(np.array(val_x)) - np.array(val_y)) / 60) < 5)\n"
   ]
  },
  {
   "cell_type": "code",
   "execution_count": 246,
   "id": "e91a8ed3",
   "metadata": {},
   "outputs": [
    {
     "data": {
      "text/plain": [
       "246"
      ]
     },
     "execution_count": 246,
     "metadata": {},
     "output_type": "execute_result"
    }
   ],
   "source": [
    "len(val_y)"
   ]
  },
  {
   "cell_type": "code",
   "execution_count": 247,
   "id": "151cb768",
   "metadata": {},
   "outputs": [
    {
     "data": {
      "text/plain": [
       "0.10806451612903226"
      ]
     },
     "execution_count": 247,
     "metadata": {},
     "output_type": "execute_result"
    }
   ],
   "source": [
    "67 / 620"
   ]
  },
  {
   "cell_type": "code",
   "execution_count": 248,
   "id": "c3cfb509",
   "metadata": {},
   "outputs": [
    {
     "data": {
      "text/plain": [
       "66"
      ]
     },
     "execution_count": 248,
     "metadata": {},
     "output_type": "execute_result"
    }
   ],
   "source": [
    "np.sum(np.abs( (reg.predict(np.array(val_x)) - np.array(val_y)) / 60) < 10)"
   ]
  },
  {
   "cell_type": "code",
   "execution_count": 249,
   "id": "7f4e1fd3",
   "metadata": {},
   "outputs": [
    {
     "data": {
      "text/plain": [
       "0.24193548387096775"
      ]
     },
     "execution_count": 249,
     "metadata": {},
     "output_type": "execute_result"
    }
   ],
   "source": [
    "150 / 620"
   ]
  },
  {
   "cell_type": "code",
   "execution_count": 250,
   "id": "f78f92b2",
   "metadata": {},
   "outputs": [],
   "source": [
    "l = {\"experiment_num\": \"4\", \n",
    " \"model_type\": \"Lin reg no preprocessing\", \n",
    " \"train_mae\": mae(reg.predict(np.array(train_x)), np.array(train_y)) / 60, \n",
    " \"val_mae\": mae(reg.predict(np.array(val_x)), np.array(val_y)) / 60, \n",
    " \"perc_lt_5mins\": np.sum(np.abs( (reg.predict(np.array(val_x)) - np.array(val_y)) / 60) < 5)/ len(val_y) ,\n",
    " \"perc_lt_10mins\": np.sum(np.abs( (reg.predict(np.array(val_x)) - np.array(val_y)) / 60) < 10) / len(val_y),\n",
    "    \"train_preds\": reg.predict(np.array(train_x)),\n",
    "    \"val_preds\":reg.predict(np.array(val_x)) }\n",
    "\n",
    "metrics_df_lst.append(l)"
   ]
  },
  {
   "cell_type": "markdown",
   "id": "d3f8ce0c",
   "metadata": {},
   "source": [
    "## Experiment 4\n",
    "## Lin reg cbrt y processing"
   ]
  },
  {
   "cell_type": "code",
   "execution_count": 251,
   "id": "18a83d40",
   "metadata": {},
   "outputs": [
    {
     "data": {
      "text/plain": [
       "0.16562522679590053"
      ]
     },
     "execution_count": 251,
     "metadata": {},
     "output_type": "execute_result"
    }
   ],
   "source": [
    "import numpy as np\n",
    "from sklearn.linear_model import LinearRegression\n",
    "from sklearn.metrics import mean_absolute_error as mae\n",
    "\n",
    "from sklearn.ensemble import RandomForestRegressor\n",
    "\n",
    "X = np.array(train_x)\n",
    "reg = LinearRegression().fit(X, transform_y(np.array(train_y)))\n",
    "reg.score(np.array(val_x), transform_y(np.array(val_y)))\n"
   ]
  },
  {
   "cell_type": "code",
   "execution_count": 252,
   "id": "e15b775a",
   "metadata": {},
   "outputs": [
    {
     "data": {
      "text/plain": [
       "16.230685640164868"
      ]
     },
     "execution_count": 252,
     "metadata": {},
     "output_type": "execute_result"
    }
   ],
   "source": [
    "# train\n",
    "mae(inv_transform_y(reg.predict(np.array(train_x))), np.array(train_y)) / 60\n",
    "\n"
   ]
  },
  {
   "cell_type": "code",
   "execution_count": 253,
   "id": "1965a805",
   "metadata": {},
   "outputs": [
    {
     "data": {
      "text/plain": [
       "10.713355989930673"
      ]
     },
     "execution_count": 253,
     "metadata": {},
     "output_type": "execute_result"
    }
   ],
   "source": [
    "#val\n",
    "mae(inv_transform_y(reg.predict(np.array(val_x))), np.array(val_y)) / 60\n"
   ]
  },
  {
   "cell_type": "code",
   "execution_count": 254,
   "id": "b889193f",
   "metadata": {},
   "outputs": [
    {
     "data": {
      "image/png": "[encoded data removed]",
      "text/plain": [
       "<Figure size 432x288 with 1 Axes>"
      ]
     },
     "metadata": {
      "needs_background": "light"
     },
     "output_type": "display_data"
    }
   ],
   "source": [
    "# errors plot\n",
    "\n",
    "plt.ylabel(\"num validation samples\")\n",
    "plt.xlabel(\"minutes error\")\n",
    "\n",
    "plt.hist((inv_transform_y(reg.predict(np.array(val_x))) - np.array(val_y)) / 60, bins=50)\n",
    "\n",
    "\n",
    "plt.savefig('plots/exp4_alldata_linreg_cbrt_errors_plot.png')\n"
   ]
  },
  {
   "cell_type": "code",
   "execution_count": 255,
   "id": "982e9ca3",
   "metadata": {},
   "outputs": [
    {
     "data": {
      "text/plain": [
       "96"
      ]
     },
     "execution_count": 255,
     "metadata": {},
     "output_type": "execute_result"
    }
   ],
   "source": [
    "np.sum(np.abs( (inv_transform_y(reg.predict(np.array(val_x))) - np.array(val_y)) / 60) < 5)\n"
   ]
  },
  {
   "cell_type": "code",
   "execution_count": 256,
   "id": "90e4e190",
   "metadata": {},
   "outputs": [
    {
     "data": {
      "text/plain": [
       "0.2564516129032258"
      ]
     },
     "execution_count": 256,
     "metadata": {},
     "output_type": "execute_result"
    }
   ],
   "source": [
    "159 / 620"
   ]
  },
  {
   "cell_type": "code",
   "execution_count": 257,
   "id": "6dafa88c",
   "metadata": {},
   "outputs": [
    {
     "data": {
      "text/plain": [
       "205"
      ]
     },
     "execution_count": 257,
     "metadata": {},
     "output_type": "execute_result"
    }
   ],
   "source": [
    "np.sum(np.abs( (inv_transform_y(reg.predict(np.array(val_x))) - np.array(val_y)) / 60) < 10)"
   ]
  },
  {
   "cell_type": "code",
   "execution_count": 258,
   "id": "2d6fb664",
   "metadata": {},
   "outputs": [
    {
     "data": {
      "text/plain": [
       "0.6096774193548387"
      ]
     },
     "execution_count": 258,
     "metadata": {},
     "output_type": "execute_result"
    }
   ],
   "source": [
    "378 / 620"
   ]
  },
  {
   "cell_type": "code",
   "execution_count": 259,
   "id": "4a1856ee",
   "metadata": {},
   "outputs": [
    {
     "data": {
      "text/plain": [
       "246"
      ]
     },
     "execution_count": 259,
     "metadata": {},
     "output_type": "execute_result"
    }
   ],
   "source": [
    "len(val_y)"
   ]
  },
  {
   "cell_type": "code",
   "execution_count": null,
   "id": "666024f3",
   "metadata": {},
   "outputs": [],
   "source": []
  },
  {
   "cell_type": "code",
   "execution_count": 260,
   "id": "67d48a50",
   "metadata": {},
   "outputs": [],
   "source": [
    "l = {\"experiment_num\": \"4\", \n",
    " \"model_type\": \"Lin reg cbrt y preprocessing\", \n",
    " \"train_mae\": mae(inv_transform_y(reg.predict(np.array(train_x))), np.array(train_y)) / 60, \n",
    " \"val_mae\": mae(inv_transform_y(reg.predict(np.array(val_x))), np.array(val_y)) / 60, \n",
    " \"perc_lt_5mins\": np.sum(np.abs( (inv_transform_y(reg.predict(np.array(val_x))) - np.array(val_y)) / 60) < 5) / len(val_y) ,\n",
    " \"perc_lt_10mins\": np.sum(np.abs( (inv_transform_y(reg.predict(np.array(val_x))) - np.array(val_y)) / 60) < 10) / len(val_y),\n",
    "    \"train_preds\": inv_transform_y(reg.predict(np.array(train_x))),\n",
    "    \"val_preds\":inv_transform_y(reg.predict(np.array(val_x))) }\n",
    "\n",
    "metrics_df_lst.append(l)"
   ]
  },
  {
   "cell_type": "markdown",
   "id": "95d55a85",
   "metadata": {},
   "source": [
    "## Experiment 4\n",
    "## Rand forest no x,y processing"
   ]
  },
  {
   "cell_type": "code",
   "execution_count": 261,
   "id": "8d5a52fb",
   "metadata": {},
   "outputs": [
    {
     "name": "stdout",
     "output_type": "stream",
     "text": [
      "Fitting 5 folds for each of 21 candidates, totalling 105 fits\n",
      "[CV 1/5] END criterion=absolute_error, min_samples_split=2, n_estimators=50, n_jobs=-1;, score=-0.055 total time=   0.3s\n",
      "[CV 2/5] END criterion=absolute_error, min_samples_split=2, n_estimators=50, n_jobs=-1;, score=-0.094 total time=   0.3s\n",
      "[CV 3/5] END criterion=absolute_error, min_samples_split=2, n_estimators=50, n_jobs=-1;, score=0.073 total time=   0.3s\n",
      "[CV 4/5] END criterion=absolute_error, min_samples_split=2, n_estimators=50, n_jobs=-1;, score=-0.027 total time=   0.3s\n",
      "[CV 5/5] END criterion=absolute_error, min_samples_split=2, n_estimators=50, n_jobs=-1;, score=-0.188 total time=   0.3s\n",
      "[CV 1/5] END criterion=absolute_error, min_samples_split=2, n_estimators=100, n_jobs=-1;, score=-0.059 total time=   0.4s\n",
      "[CV 2/5] END criterion=absolute_error, min_samples_split=2, n_estimators=100, n_jobs=-1;, score=-0.060 total time=   0.4s\n",
      "[CV 3/5] END criterion=absolute_error, min_samples_split=2, n_estimators=100, n_jobs=-1;, score=0.104 total time=   0.4s\n",
      "[CV 4/5] END criterion=absolute_error, min_samples_split=2, n_estimators=100, n_jobs=-1;, score=-0.012 total time=   0.4s\n",
      "[CV 5/5] END criterion=absolute_error, min_samples_split=2, n_estimators=100, n_jobs=-1;, score=-0.221 total time=   0.4s\n",
      "[CV 1/5] END criterion=absolute_error, min_samples_split=2, n_estimators=200, n_jobs=-1;, score=-0.060 total time=   0.7s\n",
      "[CV 2/5] END criterion=absolute_error, min_samples_split=2, n_estimators=200, n_jobs=-1;, score=-0.048 total time=   0.7s\n",
      "[CV 3/5] END criterion=absolute_error, min_samples_split=2, n_estimators=200, n_jobs=-1;, score=0.091 total time=   0.7s\n",
      "[CV 4/5] END criterion=absolute_error, min_samples_split=2, n_estimators=200, n_jobs=-1;, score=0.011 total time=   0.7s\n",
      "[CV 5/5] END criterion=absolute_error, min_samples_split=2, n_estimators=200, n_jobs=-1;, score=-0.154 total time=   0.7s\n",
      "[CV 1/5] END criterion=absolute_error, min_samples_split=10, n_estimators=50, n_jobs=-1;, score=-0.064 total time=   0.3s\n",
      "[CV 2/5] END criterion=absolute_error, min_samples_split=10, n_estimators=50, n_jobs=-1;, score=0.092 total time=   0.3s\n",
      "[CV 3/5] END criterion=absolute_error, min_samples_split=10, n_estimators=50, n_jobs=-1;, score=0.254 total time=   0.3s\n",
      "[CV 4/5] END criterion=absolute_error, min_samples_split=10, n_estimators=50, n_jobs=-1;, score=0.059 total time=   0.3s\n",
      "[CV 5/5] END criterion=absolute_error, min_samples_split=10, n_estimators=50, n_jobs=-1;, score=0.100 total time=   0.3s\n",
      "[CV 1/5] END criterion=absolute_error, min_samples_split=10, n_estimators=100, n_jobs=-1;, score=-0.065 total time=   0.4s\n",
      "[CV 2/5] END criterion=absolute_error, min_samples_split=10, n_estimators=100, n_jobs=-1;, score=0.063 total time=   0.4s\n",
      "[CV 3/5] END criterion=absolute_error, min_samples_split=10, n_estimators=100, n_jobs=-1;, score=0.248 total time=   0.4s\n",
      "[CV 4/5] END criterion=absolute_error, min_samples_split=10, n_estimators=100, n_jobs=-1;, score=0.081 total time=   0.4s\n",
      "[CV 5/5] END criterion=absolute_error, min_samples_split=10, n_estimators=100, n_jobs=-1;, score=0.091 total time=   0.4s\n",
      "[CV 1/5] END criterion=absolute_error, min_samples_split=10, n_estimators=200, n_jobs=-1;, score=-0.068 total time=   0.6s\n",
      "[CV 2/5] END criterion=absolute_error, min_samples_split=10, n_estimators=200, n_jobs=-1;, score=0.053 total time=   0.7s\n",
      "[CV 3/5] END criterion=absolute_error, min_samples_split=10, n_estimators=200, n_jobs=-1;, score=0.230 total time=   0.7s\n",
      "[CV 4/5] END criterion=absolute_error, min_samples_split=10, n_estimators=200, n_jobs=-1;, score=0.051 total time=   0.6s\n",
      "[CV 5/5] END criterion=absolute_error, min_samples_split=10, n_estimators=200, n_jobs=-1;, score=0.089 total time=   0.7s\n",
      "[CV 1/5] END criterion=absolute_error, min_samples_split=30, n_estimators=50, n_jobs=-1;, score=-0.096 total time=   0.3s\n",
      "[CV 2/5] END criterion=absolute_error, min_samples_split=30, n_estimators=50, n_jobs=-1;, score=0.065 total time=   0.3s\n",
      "[CV 3/5] END criterion=absolute_error, min_samples_split=30, n_estimators=50, n_jobs=-1;, score=0.288 total time=   0.3s\n",
      "[CV 4/5] END criterion=absolute_error, min_samples_split=30, n_estimators=50, n_jobs=-1;, score=0.049 total time=   0.3s\n",
      "[CV 5/5] END criterion=absolute_error, min_samples_split=30, n_estimators=50, n_jobs=-1;, score=0.109 total time=   0.3s\n",
      "[CV 1/5] END criterion=absolute_error, min_samples_split=30, n_estimators=100, n_jobs=-1;, score=-0.084 total time=   0.4s\n",
      "[CV 2/5] END criterion=absolute_error, min_samples_split=30, n_estimators=100, n_jobs=-1;, score=0.069 total time=   0.4s\n",
      "[CV 3/5] END criterion=absolute_error, min_samples_split=30, n_estimators=100, n_jobs=-1;, score=0.302 total time=   0.4s\n",
      "[CV 4/5] END criterion=absolute_error, min_samples_split=30, n_estimators=100, n_jobs=-1;, score=0.058 total time=   0.4s\n",
      "[CV 5/5] END criterion=absolute_error, min_samples_split=30, n_estimators=100, n_jobs=-1;, score=0.163 total time=   0.4s\n",
      "[CV 1/5] END criterion=absolute_error, min_samples_split=30, n_estimators=200, n_jobs=-1;, score=-0.089 total time=   0.6s\n",
      "[CV 2/5] END criterion=absolute_error, min_samples_split=30, n_estimators=200, n_jobs=-1;, score=0.063 total time=   0.6s\n",
      "[CV 3/5] END criterion=absolute_error, min_samples_split=30, n_estimators=200, n_jobs=-1;, score=0.299 total time=   0.6s\n",
      "[CV 4/5] END criterion=absolute_error, min_samples_split=30, n_estimators=200, n_jobs=-1;, score=0.062 total time=   0.6s\n",
      "[CV 5/5] END criterion=absolute_error, min_samples_split=30, n_estimators=200, n_jobs=-1;, score=0.178 total time=   0.6s\n",
      "[CV 1/5] END criterion=absolute_error, min_samples_split=0.02, n_estimators=50, n_jobs=-1;, score=-0.072 total time=   0.3s\n",
      "[CV 2/5] END criterion=absolute_error, min_samples_split=0.02, n_estimators=50, n_jobs=-1;, score=0.048 total time=   0.3s\n",
      "[CV 3/5] END criterion=absolute_error, min_samples_split=0.02, n_estimators=50, n_jobs=-1;, score=0.273 total time=   0.2s\n",
      "[CV 4/5] END criterion=absolute_error, min_samples_split=0.02, n_estimators=50, n_jobs=-1;, score=0.076 total time=   0.3s\n",
      "[CV 5/5] END criterion=absolute_error, min_samples_split=0.02, n_estimators=50, n_jobs=-1;, score=0.105 total time=   0.3s\n",
      "[CV 1/5] END criterion=absolute_error, min_samples_split=0.02, n_estimators=100, n_jobs=-1;, score=-0.066 total time=   0.4s\n",
      "[CV 2/5] END criterion=absolute_error, min_samples_split=0.02, n_estimators=100, n_jobs=-1;, score=0.079 total time=   0.4s\n",
      "[CV 3/5] END criterion=absolute_error, min_samples_split=0.02, n_estimators=100, n_jobs=-1;, score=0.266 total time=   0.4s\n",
      "[CV 4/5] END criterion=absolute_error, min_samples_split=0.02, n_estimators=100, n_jobs=-1;, score=0.071 total time=   0.4s\n",
      "[CV 5/5] END criterion=absolute_error, min_samples_split=0.02, n_estimators=100, n_jobs=-1;, score=0.111 total time=   0.4s\n",
      "[CV 1/5] END criterion=absolute_error, min_samples_split=0.02, n_estimators=200, n_jobs=-1;, score=-0.079 total time=   0.6s\n",
      "[CV 2/5] END criterion=absolute_error, min_samples_split=0.02, n_estimators=200, n_jobs=-1;, score=0.092 total time=   0.6s\n",
      "[CV 3/5] END criterion=absolute_error, min_samples_split=0.02, n_estimators=200, n_jobs=-1;, score=0.274 total time=   0.6s\n",
      "[CV 4/5] END criterion=absolute_error, min_samples_split=0.02, n_estimators=200, n_jobs=-1;, score=0.078 total time=   0.6s\n",
      "[CV 5/5] END criterion=absolute_error, min_samples_split=0.02, n_estimators=200, n_jobs=-1;, score=0.145 total time=   0.7s\n",
      "[CV 1/5] END criterion=absolute_error, min_samples_split=0.05, n_estimators=50, n_jobs=-1;, score=-0.108 total time=   0.3s\n",
      "[CV 2/5] END criterion=absolute_error, min_samples_split=0.05, n_estimators=50, n_jobs=-1;, score=0.045 total time=   0.3s\n",
      "[CV 3/5] END criterion=absolute_error, min_samples_split=0.05, n_estimators=50, n_jobs=-1;, score=0.293 total time=   0.3s\n",
      "[CV 4/5] END criterion=absolute_error, min_samples_split=0.05, n_estimators=50, n_jobs=-1;, score=0.049 total time=   0.3s\n",
      "[CV 5/5] END criterion=absolute_error, min_samples_split=0.05, n_estimators=50, n_jobs=-1;, score=0.135 total time=   0.3s\n",
      "[CV 1/5] END criterion=absolute_error, min_samples_split=0.05, n_estimators=100, n_jobs=-1;, score=-0.095 total time=   0.4s\n",
      "[CV 2/5] END criterion=absolute_error, min_samples_split=0.05, n_estimators=100, n_jobs=-1;, score=0.043 total time=   0.4s\n"
     ]
    },
    {
     "name": "stdout",
     "output_type": "stream",
     "text": [
      "[CV 3/5] END criterion=absolute_error, min_samples_split=0.05, n_estimators=100, n_jobs=-1;, score=0.277 total time=   0.4s\n",
      "[CV 4/5] END criterion=absolute_error, min_samples_split=0.05, n_estimators=100, n_jobs=-1;, score=0.072 total time=   0.4s\n",
      "[CV 5/5] END criterion=absolute_error, min_samples_split=0.05, n_estimators=100, n_jobs=-1;, score=0.191 total time=   0.4s\n",
      "[CV 1/5] END criterion=absolute_error, min_samples_split=0.05, n_estimators=200, n_jobs=-1;, score=-0.103 total time=   0.6s\n",
      "[CV 2/5] END criterion=absolute_error, min_samples_split=0.05, n_estimators=200, n_jobs=-1;, score=0.050 total time=   0.6s\n",
      "[CV 3/5] END criterion=absolute_error, min_samples_split=0.05, n_estimators=200, n_jobs=-1;, score=0.282 total time=   0.6s\n",
      "[CV 4/5] END criterion=absolute_error, min_samples_split=0.05, n_estimators=200, n_jobs=-1;, score=0.057 total time=   0.6s\n",
      "[CV 5/5] END criterion=absolute_error, min_samples_split=0.05, n_estimators=200, n_jobs=-1;, score=0.166 total time=   0.6s\n",
      "[CV 1/5] END criterion=absolute_error, min_samples_split=0.1, n_estimators=50, n_jobs=-1;, score=-0.121 total time=   0.3s\n",
      "[CV 2/5] END criterion=absolute_error, min_samples_split=0.1, n_estimators=50, n_jobs=-1;, score=0.030 total time=   0.2s\n",
      "[CV 3/5] END criterion=absolute_error, min_samples_split=0.1, n_estimators=50, n_jobs=-1;, score=0.244 total time=   0.3s\n",
      "[CV 4/5] END criterion=absolute_error, min_samples_split=0.1, n_estimators=50, n_jobs=-1;, score=0.055 total time=   0.3s\n",
      "[CV 5/5] END criterion=absolute_error, min_samples_split=0.1, n_estimators=50, n_jobs=-1;, score=0.194 total time=   0.3s\n",
      "[CV 1/5] END criterion=absolute_error, min_samples_split=0.1, n_estimators=100, n_jobs=-1;, score=-0.125 total time=   0.4s\n",
      "[CV 2/5] END criterion=absolute_error, min_samples_split=0.1, n_estimators=100, n_jobs=-1;, score=0.055 total time=   0.4s\n",
      "[CV 3/5] END criterion=absolute_error, min_samples_split=0.1, n_estimators=100, n_jobs=-1;, score=0.240 total time=   0.4s\n",
      "[CV 4/5] END criterion=absolute_error, min_samples_split=0.1, n_estimators=100, n_jobs=-1;, score=0.056 total time=   0.4s\n",
      "[CV 5/5] END criterion=absolute_error, min_samples_split=0.1, n_estimators=100, n_jobs=-1;, score=0.152 total time=   0.4s\n",
      "[CV 1/5] END criterion=absolute_error, min_samples_split=0.1, n_estimators=200, n_jobs=-1;, score=-0.126 total time=   0.6s\n",
      "[CV 2/5] END criterion=absolute_error, min_samples_split=0.1, n_estimators=200, n_jobs=-1;, score=0.045 total time=   0.6s\n",
      "[CV 3/5] END criterion=absolute_error, min_samples_split=0.1, n_estimators=200, n_jobs=-1;, score=0.242 total time=   0.6s\n",
      "[CV 4/5] END criterion=absolute_error, min_samples_split=0.1, n_estimators=200, n_jobs=-1;, score=0.054 total time=   0.6s\n",
      "[CV 5/5] END criterion=absolute_error, min_samples_split=0.1, n_estimators=200, n_jobs=-1;, score=0.185 total time=   0.6s\n",
      "[CV 1/5] END criterion=absolute_error, min_samples_split=0.2, n_estimators=50, n_jobs=-1;, score=-0.151 total time=   0.3s\n",
      "[CV 2/5] END criterion=absolute_error, min_samples_split=0.2, n_estimators=50, n_jobs=-1;, score=0.039 total time=   0.2s\n",
      "[CV 3/5] END criterion=absolute_error, min_samples_split=0.2, n_estimators=50, n_jobs=-1;, score=0.234 total time=   0.3s\n",
      "[CV 4/5] END criterion=absolute_error, min_samples_split=0.2, n_estimators=50, n_jobs=-1;, score=0.043 total time=   0.2s\n",
      "[CV 5/5] END criterion=absolute_error, min_samples_split=0.2, n_estimators=50, n_jobs=-1;, score=0.198 total time=   0.2s\n",
      "[CV 1/5] END criterion=absolute_error, min_samples_split=0.2, n_estimators=100, n_jobs=-1;, score=-0.147 total time=   0.3s\n",
      "[CV 2/5] END criterion=absolute_error, min_samples_split=0.2, n_estimators=100, n_jobs=-1;, score=0.010 total time=   0.3s\n",
      "[CV 3/5] END criterion=absolute_error, min_samples_split=0.2, n_estimators=100, n_jobs=-1;, score=0.220 total time=   0.3s\n",
      "[CV 4/5] END criterion=absolute_error, min_samples_split=0.2, n_estimators=100, n_jobs=-1;, score=0.038 total time=   0.3s\n",
      "[CV 5/5] END criterion=absolute_error, min_samples_split=0.2, n_estimators=100, n_jobs=-1;, score=0.188 total time=   0.4s\n",
      "[CV 1/5] END criterion=absolute_error, min_samples_split=0.2, n_estimators=200, n_jobs=-1;, score=-0.144 total time=   0.5s\n",
      "[CV 2/5] END criterion=absolute_error, min_samples_split=0.2, n_estimators=200, n_jobs=-1;, score=0.041 total time=   0.5s\n",
      "[CV 3/5] END criterion=absolute_error, min_samples_split=0.2, n_estimators=200, n_jobs=-1;, score=0.205 total time=   0.6s\n",
      "[CV 4/5] END criterion=absolute_error, min_samples_split=0.2, n_estimators=200, n_jobs=-1;, score=0.052 total time=   0.5s\n",
      "[CV 5/5] END criterion=absolute_error, min_samples_split=0.2, n_estimators=200, n_jobs=-1;, score=0.189 total time=   0.6s\n"
     ]
    },
    {
     "data": {
      "text/plain": [
       "0.30598891242174486"
      ]
     },
     "execution_count": 261,
     "metadata": {},
     "output_type": "execute_result"
    }
   ],
   "source": [
    "import numpy as np\n",
    "from sklearn.linear_model import LinearRegression\n",
    "\n",
    "from sklearn.ensemble import RandomForestRegressor\n",
    "\n",
    "from sklearn.metrics import mean_absolute_error as mae\n",
    "\n",
    "\n",
    "from sklearn.model_selection import GridSearchCV\n",
    "parameters = {'n_estimators':[50, 100, 200], 'min_samples_split':[2, 10, 30, 0.02, 0.05, 0.1, 0.2],\n",
    "              \"criterion\": [\"absolute_error\"], \"n_jobs\":[-1]}\n",
    "\n",
    "rand_for = RandomForestRegressor()\n",
    "reg = GridSearchCV(rand_for, parameters, verbose=3)\n",
    "reg.fit(np.array(train_x), np.array(train_y))\n",
    "\n",
    "\n",
    "reg.score(np.array(train_x), np.array(train_y))\n"
   ]
  },
  {
   "cell_type": "code",
   "execution_count": 262,
   "id": "68c6c835",
   "metadata": {},
   "outputs": [
    {
     "data": {
      "text/plain": [
       "{'criterion': 'absolute_error',\n",
       " 'min_samples_split': 30,\n",
       " 'n_estimators': 200,\n",
       " 'n_jobs': -1}"
      ]
     },
     "execution_count": 262,
     "metadata": {},
     "output_type": "execute_result"
    }
   ],
   "source": [
    "reg.best_params_\n"
   ]
  },
  {
   "cell_type": "code",
   "execution_count": 263,
   "id": "d920b02d",
   "metadata": {},
   "outputs": [
    {
     "data": {
      "text/plain": [
       "13.613232215447153"
      ]
     },
     "execution_count": 263,
     "metadata": {},
     "output_type": "execute_result"
    }
   ],
   "source": [
    "# train\n",
    "mae(reg.predict(np.array(train_x)), np.array(train_y)) / 60\n"
   ]
  },
  {
   "cell_type": "code",
   "execution_count": 264,
   "id": "91a160a0",
   "metadata": {},
   "outputs": [
    {
     "data": {
      "text/plain": [
       "9.570707994579946"
      ]
     },
     "execution_count": 264,
     "metadata": {},
     "output_type": "execute_result"
    }
   ],
   "source": [
    "#val\n",
    "mae(reg.predict(np.array(val_x)), np.array(val_y)) / 60\n"
   ]
  },
  {
   "cell_type": "code",
   "execution_count": 265,
   "id": "51eca643",
   "metadata": {},
   "outputs": [
    {
     "data": {
      "image/png": "[encoded data removed]",
      "text/plain": [
       "<Figure size 432x288 with 1 Axes>"
      ]
     },
     "metadata": {
      "needs_background": "light"
     },
     "output_type": "display_data"
    }
   ],
   "source": [
    "# errors plot\n",
    "\n",
    "plt.ylabel(\"num validation samples\")\n",
    "plt.xlabel(\"minutes error\")\n",
    "\n",
    "plt.hist((reg.predict(np.array(val_x)) - np.array(val_y)) / 60, bins=50)\n",
    "\n",
    "\n",
    "plt.savefig('plots/exp4_alldata_rand_for_errors_plot.png')\n",
    "\n"
   ]
  },
  {
   "cell_type": "code",
   "execution_count": 266,
   "id": "3c8096e9",
   "metadata": {},
   "outputs": [
    {
     "data": {
      "text/plain": [
       "101"
      ]
     },
     "execution_count": 266,
     "metadata": {},
     "output_type": "execute_result"
    }
   ],
   "source": [
    "np.sum(np.abs( (reg.predict(np.array(val_x)) - np.array(val_y)) / 60) < 5)\n"
   ]
  },
  {
   "cell_type": "code",
   "execution_count": 267,
   "id": "70ee8dfc",
   "metadata": {},
   "outputs": [
    {
     "data": {
      "text/plain": [
       "0.3983739837398374"
      ]
     },
     "execution_count": 267,
     "metadata": {},
     "output_type": "execute_result"
    }
   ],
   "source": [
    "98 / 246"
   ]
  },
  {
   "cell_type": "code",
   "execution_count": 268,
   "id": "4e70c2ea",
   "metadata": {},
   "outputs": [
    {
     "data": {
      "text/plain": [
       "158"
      ]
     },
     "execution_count": 268,
     "metadata": {},
     "output_type": "execute_result"
    }
   ],
   "source": [
    "np.sum(np.abs( (reg.predict(np.array(val_x)) - np.array(val_y)) / 60) < 10)\n"
   ]
  },
  {
   "cell_type": "code",
   "execution_count": 269,
   "id": "0992caba",
   "metadata": {},
   "outputs": [
    {
     "data": {
      "text/plain": [
       "0.5370967741935484"
      ]
     },
     "execution_count": 269,
     "metadata": {},
     "output_type": "execute_result"
    }
   ],
   "source": [
    "333 / 620"
   ]
  },
  {
   "cell_type": "code",
   "execution_count": 270,
   "id": "cbb660d5",
   "metadata": {},
   "outputs": [
    {
     "data": {
      "text/plain": [
       "246"
      ]
     },
     "execution_count": 270,
     "metadata": {},
     "output_type": "execute_result"
    }
   ],
   "source": [
    "\n",
    "len(val_y)"
   ]
  },
  {
   "cell_type": "code",
   "execution_count": 271,
   "id": "54faa397",
   "metadata": {},
   "outputs": [],
   "source": [
    "l = {\"experiment_num\": \"4\", \n",
    " \"model_type\": \"Rand forest no preprocessing\", \n",
    " \"train_mae\": mae(reg.predict(np.array(train_x)), np.array(train_y)) / 60, \n",
    " \"val_mae\": mae(reg.predict(np.array(val_x)), np.array(val_y)) / 60, \n",
    " \"perc_lt_5mins\": np.sum(np.abs( (reg.predict(np.array(val_x)) - np.array(val_y)) / 60) < 5)/ len(val_y) ,\n",
    " \"perc_lt_10mins\": np.sum(np.abs( (reg.predict(np.array(val_x)) - np.array(val_y)) / 60) < 10) / len(val_y),\n",
    "    \"train_preds\": reg.predict(np.array(train_x)),\n",
    "    \"val_preds\":reg.predict(np.array(val_x)) }\n",
    "\n",
    "metrics_df_lst.append(l)"
   ]
  },
  {
   "cell_type": "markdown",
   "id": "8a5d88fb",
   "metadata": {},
   "source": [
    "## Experiment 4\n",
    "## Rand forest y cbrt processing"
   ]
  },
  {
   "cell_type": "code",
   "execution_count": 272,
   "id": "fc8aab4a",
   "metadata": {},
   "outputs": [
    {
     "name": "stdout",
     "output_type": "stream",
     "text": [
      "Fitting 5 folds for each of 21 candidates, totalling 105 fits\n",
      "[CV 1/5] END criterion=absolute_error, min_samples_split=2, n_estimators=50, n_jobs=-1;, score=-0.089 total time=   0.3s\n",
      "[CV 2/5] END criterion=absolute_error, min_samples_split=2, n_estimators=50, n_jobs=-1;, score=0.058 total time=   0.3s\n",
      "[CV 3/5] END criterion=absolute_error, min_samples_split=2, n_estimators=50, n_jobs=-1;, score=0.262 total time=   0.2s\n",
      "[CV 4/5] END criterion=absolute_error, min_samples_split=2, n_estimators=50, n_jobs=-1;, score=0.193 total time=   0.2s\n",
      "[CV 5/5] END criterion=absolute_error, min_samples_split=2, n_estimators=50, n_jobs=-1;, score=0.100 total time=   0.3s\n",
      "[CV 1/5] END criterion=absolute_error, min_samples_split=2, n_estimators=100, n_jobs=-1;, score=-0.075 total time=   0.4s\n",
      "[CV 2/5] END criterion=absolute_error, min_samples_split=2, n_estimators=100, n_jobs=-1;, score=0.112 total time=   0.3s\n",
      "[CV 3/5] END criterion=absolute_error, min_samples_split=2, n_estimators=100, n_jobs=-1;, score=0.248 total time=   0.4s\n",
      "[CV 4/5] END criterion=absolute_error, min_samples_split=2, n_estimators=100, n_jobs=-1;, score=0.203 total time=   0.4s\n",
      "[CV 5/5] END criterion=absolute_error, min_samples_split=2, n_estimators=100, n_jobs=-1;, score=0.105 total time=   0.4s\n",
      "[CV 1/5] END criterion=absolute_error, min_samples_split=2, n_estimators=200, n_jobs=-1;, score=-0.091 total time=   0.6s\n",
      "[CV 2/5] END criterion=absolute_error, min_samples_split=2, n_estimators=200, n_jobs=-1;, score=0.085 total time=   0.6s\n",
      "[CV 3/5] END criterion=absolute_error, min_samples_split=2, n_estimators=200, n_jobs=-1;, score=0.244 total time=   0.6s\n",
      "[CV 4/5] END criterion=absolute_error, min_samples_split=2, n_estimators=200, n_jobs=-1;, score=0.206 total time=   0.6s\n",
      "[CV 5/5] END criterion=absolute_error, min_samples_split=2, n_estimators=200, n_jobs=-1;, score=0.145 total time=   0.6s\n",
      "[CV 1/5] END criterion=absolute_error, min_samples_split=10, n_estimators=50, n_jobs=-1;, score=-0.048 total time=   0.2s\n",
      "[CV 2/5] END criterion=absolute_error, min_samples_split=10, n_estimators=50, n_jobs=-1;, score=0.159 total time=   0.3s\n",
      "[CV 3/5] END criterion=absolute_error, min_samples_split=10, n_estimators=50, n_jobs=-1;, score=0.303 total time=   0.3s\n",
      "[CV 4/5] END criterion=absolute_error, min_samples_split=10, n_estimators=50, n_jobs=-1;, score=0.234 total time=   0.2s\n",
      "[CV 5/5] END criterion=absolute_error, min_samples_split=10, n_estimators=50, n_jobs=-1;, score=0.245 total time=   0.2s\n",
      "[CV 1/5] END criterion=absolute_error, min_samples_split=10, n_estimators=100, n_jobs=-1;, score=-0.063 total time=   0.3s\n",
      "[CV 2/5] END criterion=absolute_error, min_samples_split=10, n_estimators=100, n_jobs=-1;, score=0.147 total time=   0.4s\n",
      "[CV 3/5] END criterion=absolute_error, min_samples_split=10, n_estimators=100, n_jobs=-1;, score=0.315 total time=   0.3s\n",
      "[CV 4/5] END criterion=absolute_error, min_samples_split=10, n_estimators=100, n_jobs=-1;, score=0.238 total time=   0.3s\n",
      "[CV 5/5] END criterion=absolute_error, min_samples_split=10, n_estimators=100, n_jobs=-1;, score=0.244 total time=   0.4s\n",
      "[CV 1/5] END criterion=absolute_error, min_samples_split=10, n_estimators=200, n_jobs=-1;, score=-0.046 total time=   0.5s\n",
      "[CV 2/5] END criterion=absolute_error, min_samples_split=10, n_estimators=200, n_jobs=-1;, score=0.147 total time=   0.6s\n",
      "[CV 3/5] END criterion=absolute_error, min_samples_split=10, n_estimators=200, n_jobs=-1;, score=0.304 total time=   0.6s\n",
      "[CV 4/5] END criterion=absolute_error, min_samples_split=10, n_estimators=200, n_jobs=-1;, score=0.246 total time=   0.6s\n",
      "[CV 5/5] END criterion=absolute_error, min_samples_split=10, n_estimators=200, n_jobs=-1;, score=0.240 total time=   0.6s\n",
      "[CV 1/5] END criterion=absolute_error, min_samples_split=30, n_estimators=50, n_jobs=-1;, score=-0.067 total time=   0.3s\n",
      "[CV 2/5] END criterion=absolute_error, min_samples_split=30, n_estimators=50, n_jobs=-1;, score=0.157 total time=   0.2s\n",
      "[CV 3/5] END criterion=absolute_error, min_samples_split=30, n_estimators=50, n_jobs=-1;, score=0.375 total time=   0.2s\n",
      "[CV 4/5] END criterion=absolute_error, min_samples_split=30, n_estimators=50, n_jobs=-1;, score=0.225 total time=   0.2s\n",
      "[CV 5/5] END criterion=absolute_error, min_samples_split=30, n_estimators=50, n_jobs=-1;, score=0.271 total time=   0.3s\n",
      "[CV 1/5] END criterion=absolute_error, min_samples_split=30, n_estimators=100, n_jobs=-1;, score=-0.052 total time=   0.3s\n",
      "[CV 2/5] END criterion=absolute_error, min_samples_split=30, n_estimators=100, n_jobs=-1;, score=0.167 total time=   0.3s\n",
      "[CV 3/5] END criterion=absolute_error, min_samples_split=30, n_estimators=100, n_jobs=-1;, score=0.366 total time=   0.3s\n",
      "[CV 4/5] END criterion=absolute_error, min_samples_split=30, n_estimators=100, n_jobs=-1;, score=0.233 total time=   0.4s\n",
      "[CV 5/5] END criterion=absolute_error, min_samples_split=30, n_estimators=100, n_jobs=-1;, score=0.295 total time=   0.3s\n",
      "[CV 1/5] END criterion=absolute_error, min_samples_split=30, n_estimators=200, n_jobs=-1;, score=-0.062 total time=   0.5s\n",
      "[CV 2/5] END criterion=absolute_error, min_samples_split=30, n_estimators=200, n_jobs=-1;, score=0.153 total time=   0.5s\n",
      "[CV 3/5] END criterion=absolute_error, min_samples_split=30, n_estimators=200, n_jobs=-1;, score=0.376 total time=   0.6s\n",
      "[CV 4/5] END criterion=absolute_error, min_samples_split=30, n_estimators=200, n_jobs=-1;, score=0.232 total time=   0.5s\n",
      "[CV 5/5] END criterion=absolute_error, min_samples_split=30, n_estimators=200, n_jobs=-1;, score=0.287 total time=   0.5s\n",
      "[CV 1/5] END criterion=absolute_error, min_samples_split=0.02, n_estimators=50, n_jobs=-1;, score=-0.062 total time=   0.2s\n",
      "[CV 2/5] END criterion=absolute_error, min_samples_split=0.02, n_estimators=50, n_jobs=-1;, score=0.141 total time=   0.2s\n",
      "[CV 3/5] END criterion=absolute_error, min_samples_split=0.02, n_estimators=50, n_jobs=-1;, score=0.353 total time=   0.2s\n",
      "[CV 4/5] END criterion=absolute_error, min_samples_split=0.02, n_estimators=50, n_jobs=-1;, score=0.242 total time=   0.2s\n",
      "[CV 5/5] END criterion=absolute_error, min_samples_split=0.02, n_estimators=50, n_jobs=-1;, score=0.267 total time=   0.2s\n",
      "[CV 1/5] END criterion=absolute_error, min_samples_split=0.02, n_estimators=100, n_jobs=-1;, score=-0.046 total time=   0.3s\n",
      "[CV 2/5] END criterion=absolute_error, min_samples_split=0.02, n_estimators=100, n_jobs=-1;, score=0.154 total time=   0.3s\n",
      "[CV 3/5] END criterion=absolute_error, min_samples_split=0.02, n_estimators=100, n_jobs=-1;, score=0.344 total time=   0.4s\n",
      "[CV 4/5] END criterion=absolute_error, min_samples_split=0.02, n_estimators=100, n_jobs=-1;, score=0.238 total time=   0.3s\n",
      "[CV 5/5] END criterion=absolute_error, min_samples_split=0.02, n_estimators=100, n_jobs=-1;, score=0.281 total time=   0.4s\n",
      "[CV 1/5] END criterion=absolute_error, min_samples_split=0.02, n_estimators=200, n_jobs=-1;, score=-0.055 total time=   0.6s\n",
      "[CV 2/5] END criterion=absolute_error, min_samples_split=0.02, n_estimators=200, n_jobs=-1;, score=0.161 total time=   0.5s\n",
      "[CV 3/5] END criterion=absolute_error, min_samples_split=0.02, n_estimators=200, n_jobs=-1;, score=0.361 total time=   0.6s\n",
      "[CV 4/5] END criterion=absolute_error, min_samples_split=0.02, n_estimators=200, n_jobs=-1;, score=0.256 total time=   0.5s\n",
      "[CV 5/5] END criterion=absolute_error, min_samples_split=0.02, n_estimators=200, n_jobs=-1;, score=0.263 total time=   0.6s\n",
      "[CV 1/5] END criterion=absolute_error, min_samples_split=0.05, n_estimators=50, n_jobs=-1;, score=-0.073 total time=   0.2s\n",
      "[CV 2/5] END criterion=absolute_error, min_samples_split=0.05, n_estimators=50, n_jobs=-1;, score=0.153 total time=   0.2s\n",
      "[CV 3/5] END criterion=absolute_error, min_samples_split=0.05, n_estimators=50, n_jobs=-1;, score=0.377 total time=   0.3s\n",
      "[CV 4/5] END criterion=absolute_error, min_samples_split=0.05, n_estimators=50, n_jobs=-1;, score=0.230 total time=   0.2s\n",
      "[CV 5/5] END criterion=absolute_error, min_samples_split=0.05, n_estimators=50, n_jobs=-1;, score=0.284 total time=   0.2s\n",
      "[CV 1/5] END criterion=absolute_error, min_samples_split=0.05, n_estimators=100, n_jobs=-1;, score=-0.070 total time=   0.3s\n",
      "[CV 2/5] END criterion=absolute_error, min_samples_split=0.05, n_estimators=100, n_jobs=-1;, score=0.150 total time=   0.3s\n"
     ]
    },
    {
     "name": "stdout",
     "output_type": "stream",
     "text": [
      "[CV 3/5] END criterion=absolute_error, min_samples_split=0.05, n_estimators=100, n_jobs=-1;, score=0.384 total time=   0.3s\n",
      "[CV 4/5] END criterion=absolute_error, min_samples_split=0.05, n_estimators=100, n_jobs=-1;, score=0.224 total time=   0.3s\n",
      "[CV 5/5] END criterion=absolute_error, min_samples_split=0.05, n_estimators=100, n_jobs=-1;, score=0.281 total time=   0.3s\n",
      "[CV 1/5] END criterion=absolute_error, min_samples_split=0.05, n_estimators=200, n_jobs=-1;, score=-0.065 total time=   0.5s\n",
      "[CV 2/5] END criterion=absolute_error, min_samples_split=0.05, n_estimators=200, n_jobs=-1;, score=0.159 total time=   0.5s\n",
      "[CV 3/5] END criterion=absolute_error, min_samples_split=0.05, n_estimators=200, n_jobs=-1;, score=0.386 total time=   0.5s\n",
      "[CV 4/5] END criterion=absolute_error, min_samples_split=0.05, n_estimators=200, n_jobs=-1;, score=0.227 total time=   0.5s\n",
      "[CV 5/5] END criterion=absolute_error, min_samples_split=0.05, n_estimators=200, n_jobs=-1;, score=0.284 total time=   0.5s\n",
      "[CV 1/5] END criterion=absolute_error, min_samples_split=0.1, n_estimators=50, n_jobs=-1;, score=-0.081 total time=   0.2s\n",
      "[CV 2/5] END criterion=absolute_error, min_samples_split=0.1, n_estimators=50, n_jobs=-1;, score=0.159 total time=   0.2s\n",
      "[CV 3/5] END criterion=absolute_error, min_samples_split=0.1, n_estimators=50, n_jobs=-1;, score=0.348 total time=   0.2s\n",
      "[CV 4/5] END criterion=absolute_error, min_samples_split=0.1, n_estimators=50, n_jobs=-1;, score=0.221 total time=   0.2s\n",
      "[CV 5/5] END criterion=absolute_error, min_samples_split=0.1, n_estimators=50, n_jobs=-1;, score=0.259 total time=   0.2s\n",
      "[CV 1/5] END criterion=absolute_error, min_samples_split=0.1, n_estimators=100, n_jobs=-1;, score=-0.093 total time=   0.3s\n",
      "[CV 2/5] END criterion=absolute_error, min_samples_split=0.1, n_estimators=100, n_jobs=-1;, score=0.153 total time=   0.3s\n",
      "[CV 3/5] END criterion=absolute_error, min_samples_split=0.1, n_estimators=100, n_jobs=-1;, score=0.365 total time=   0.3s\n",
      "[CV 4/5] END criterion=absolute_error, min_samples_split=0.1, n_estimators=100, n_jobs=-1;, score=0.207 total time=   0.3s\n",
      "[CV 5/5] END criterion=absolute_error, min_samples_split=0.1, n_estimators=100, n_jobs=-1;, score=0.266 total time=   0.3s\n",
      "[CV 1/5] END criterion=absolute_error, min_samples_split=0.1, n_estimators=200, n_jobs=-1;, score=-0.072 total time=   0.5s\n",
      "[CV 2/5] END criterion=absolute_error, min_samples_split=0.1, n_estimators=200, n_jobs=-1;, score=0.160 total time=   0.5s\n",
      "[CV 3/5] END criterion=absolute_error, min_samples_split=0.1, n_estimators=200, n_jobs=-1;, score=0.365 total time=   0.5s\n",
      "[CV 4/5] END criterion=absolute_error, min_samples_split=0.1, n_estimators=200, n_jobs=-1;, score=0.220 total time=   0.5s\n",
      "[CV 5/5] END criterion=absolute_error, min_samples_split=0.1, n_estimators=200, n_jobs=-1;, score=0.261 total time=   0.5s\n",
      "[CV 1/5] END criterion=absolute_error, min_samples_split=0.2, n_estimators=50, n_jobs=-1;, score=-0.081 total time=   0.2s\n",
      "[CV 2/5] END criterion=absolute_error, min_samples_split=0.2, n_estimators=50, n_jobs=-1;, score=0.125 total time=   0.2s\n",
      "[CV 3/5] END criterion=absolute_error, min_samples_split=0.2, n_estimators=50, n_jobs=-1;, score=0.330 total time=   0.2s\n",
      "[CV 4/5] END criterion=absolute_error, min_samples_split=0.2, n_estimators=50, n_jobs=-1;, score=0.202 total time=   0.2s\n",
      "[CV 5/5] END criterion=absolute_error, min_samples_split=0.2, n_estimators=50, n_jobs=-1;, score=0.236 total time=   0.2s\n",
      "[CV 1/5] END criterion=absolute_error, min_samples_split=0.2, n_estimators=100, n_jobs=-1;, score=-0.097 total time=   0.3s\n",
      "[CV 2/5] END criterion=absolute_error, min_samples_split=0.2, n_estimators=100, n_jobs=-1;, score=0.139 total time=   0.3s\n",
      "[CV 3/5] END criterion=absolute_error, min_samples_split=0.2, n_estimators=100, n_jobs=-1;, score=0.348 total time=   0.3s\n",
      "[CV 4/5] END criterion=absolute_error, min_samples_split=0.2, n_estimators=100, n_jobs=-1;, score=0.207 total time=   0.3s\n",
      "[CV 5/5] END criterion=absolute_error, min_samples_split=0.2, n_estimators=100, n_jobs=-1;, score=0.249 total time=   0.3s\n",
      "[CV 1/5] END criterion=absolute_error, min_samples_split=0.2, n_estimators=200, n_jobs=-1;, score=-0.094 total time=   0.5s\n",
      "[CV 2/5] END criterion=absolute_error, min_samples_split=0.2, n_estimators=200, n_jobs=-1;, score=0.145 total time=   0.4s\n",
      "[CV 3/5] END criterion=absolute_error, min_samples_split=0.2, n_estimators=200, n_jobs=-1;, score=0.346 total time=   0.5s\n",
      "[CV 4/5] END criterion=absolute_error, min_samples_split=0.2, n_estimators=200, n_jobs=-1;, score=0.212 total time=   0.4s\n",
      "[CV 5/5] END criterion=absolute_error, min_samples_split=0.2, n_estimators=200, n_jobs=-1;, score=0.249 total time=   0.5s\n"
     ]
    },
    {
     "data": {
      "text/plain": [
       "0.39887327370323"
      ]
     },
     "execution_count": 272,
     "metadata": {},
     "output_type": "execute_result"
    }
   ],
   "source": [
    "import numpy as np\n",
    "from sklearn.linear_model import LinearRegression\n",
    "\n",
    "from sklearn.ensemble import RandomForestRegressor\n",
    "\n",
    "from sklearn.metrics import mean_absolute_error as mae\n",
    "\n",
    "\n",
    "from sklearn.model_selection import GridSearchCV\n",
    "parameters = {'n_estimators':[50, 100, 200], 'min_samples_split':[2, 10, 30, 0.02, 0.05, 0.1, 0.2],\n",
    "              \"criterion\": [\"absolute_error\"], \"n_jobs\":[-1]}\n",
    "\n",
    "rand_for = RandomForestRegressor()\n",
    "reg = GridSearchCV(rand_for, parameters, verbose=3)\n",
    "reg.fit(np.array(train_x), transform_y(np.array(train_y)))\n",
    "\n",
    "\n",
    "reg.score(np.array(train_x), transform_y(np.array(train_y)))\n",
    "\n"
   ]
  },
  {
   "cell_type": "code",
   "execution_count": 273,
   "id": "6712cb44",
   "metadata": {},
   "outputs": [
    {
     "data": {
      "text/plain": [
       "{'criterion': 'absolute_error',\n",
       " 'min_samples_split': 30,\n",
       " 'n_estimators': 100,\n",
       " 'n_jobs': -1}"
      ]
     },
     "execution_count": 273,
     "metadata": {},
     "output_type": "execute_result"
    }
   ],
   "source": [
    "reg.best_params_\n",
    "\n"
   ]
  },
  {
   "cell_type": "code",
   "execution_count": 274,
   "id": "6e385aa5",
   "metadata": {},
   "outputs": [
    {
     "data": {
      "text/plain": [
       "13.67297130212804"
      ]
     },
     "execution_count": 274,
     "metadata": {},
     "output_type": "execute_result"
    }
   ],
   "source": [
    "# train\n",
    "mae(inv_transform_y(reg.predict(np.array(train_x))), np.array(train_y)) / 60\n",
    "\n"
   ]
  },
  {
   "cell_type": "code",
   "execution_count": 275,
   "id": "eea77345",
   "metadata": {},
   "outputs": [
    {
     "data": {
      "text/plain": [
       "8.006149002083712"
      ]
     },
     "execution_count": 275,
     "metadata": {},
     "output_type": "execute_result"
    }
   ],
   "source": [
    "#val\n",
    "mae(inv_transform_y(reg.predict(np.array(val_x))), np.array(val_y)) / 60\n",
    "\n"
   ]
  },
  {
   "cell_type": "code",
   "execution_count": 276,
   "id": "669887d7",
   "metadata": {},
   "outputs": [
    {
     "data": {
      "image/png": "[encoded data removed]",
      "text/plain": [
       "<Figure size 432x288 with 1 Axes>"
      ]
     },
     "metadata": {
      "needs_background": "light"
     },
     "output_type": "display_data"
    }
   ],
   "source": [
    "# errors plot\n",
    "\n",
    "plt.ylabel(\"num validation samples\")\n",
    "plt.xlabel(\"minutes error\")\n",
    "\n",
    "plt.hist((inv_transform_y(reg.predict(np.array(val_x))) - np.array(val_y)) / 60, bins=50)\n",
    "\n",
    "\n",
    "plt.savefig('plots/exp4_alldata_rand_for_cbrt_errors_plot.png')\n",
    "\n"
   ]
  },
  {
   "cell_type": "code",
   "execution_count": 277,
   "id": "f2b6440e",
   "metadata": {},
   "outputs": [
    {
     "data": {
      "text/plain": [
       "134"
      ]
     },
     "execution_count": 277,
     "metadata": {},
     "output_type": "execute_result"
    }
   ],
   "source": [
    "np.sum(np.abs( (inv_transform_y(reg.predict(np.array(val_x))) - np.array(val_y)) / 60) < 5)\n",
    "\n"
   ]
  },
  {
   "cell_type": "code",
   "execution_count": 278,
   "id": "75ae2bc3",
   "metadata": {},
   "outputs": [
    {
     "data": {
      "text/plain": [
       "0.40483870967741936"
      ]
     },
     "execution_count": 278,
     "metadata": {},
     "output_type": "execute_result"
    }
   ],
   "source": [
    "251 / 620"
   ]
  },
  {
   "cell_type": "code",
   "execution_count": 279,
   "id": "3e11ec16",
   "metadata": {},
   "outputs": [
    {
     "data": {
      "text/plain": [
       "246"
      ]
     },
     "execution_count": 279,
     "metadata": {},
     "output_type": "execute_result"
    }
   ],
   "source": [
    "len(val_y)\n"
   ]
  },
  {
   "cell_type": "code",
   "execution_count": 280,
   "id": "8595cbdb",
   "metadata": {},
   "outputs": [
    {
     "data": {
      "text/plain": [
       "177"
      ]
     },
     "execution_count": 280,
     "metadata": {},
     "output_type": "execute_result"
    }
   ],
   "source": [
    "np.sum(np.abs( (inv_transform_y(reg.predict(np.array(val_x))) - np.array(val_y)) / 60) < 10)"
   ]
  },
  {
   "cell_type": "code",
   "execution_count": 281,
   "id": "48f9545a",
   "metadata": {},
   "outputs": [
    {
     "data": {
      "text/plain": [
       "0.6387096774193548"
      ]
     },
     "execution_count": 281,
     "metadata": {},
     "output_type": "execute_result"
    }
   ],
   "source": [
    "396 / 620"
   ]
  },
  {
   "cell_type": "code",
   "execution_count": 282,
   "id": "4f4ab59d",
   "metadata": {},
   "outputs": [],
   "source": [
    "l = {\"experiment_num\": \"4\", \n",
    " \"model_type\": \"Rand forest cbrt y preprocessing\", \n",
    " \"train_mae\": mae(inv_transform_y(reg.predict(np.array(train_x))), np.array(train_y)) / 60, \n",
    " \"val_mae\": mae(inv_transform_y(reg.predict(np.array(val_x))), np.array(val_y)) / 60, \n",
    " \"perc_lt_5mins\": np.sum(np.abs( (inv_transform_y(reg.predict(np.array(val_x))) - np.array(val_y)) / 60) < 5) / len(val_y) ,\n",
    " \"perc_lt_10mins\": np.sum(np.abs( (inv_transform_y(reg.predict(np.array(val_x))) - np.array(val_y)) / 60) < 10) / len(val_y),\n",
    "    \"train_preds\": inv_transform_y(reg.predict(np.array(train_x))),\n",
    "    \"val_preds\":inv_transform_y(reg.predict(np.array(val_x))) }\n",
    "\n",
    "metrics_df_lst.append(l)"
   ]
  },
  {
   "cell_type": "markdown",
   "id": "5454dd6b",
   "metadata": {},
   "source": [
    "## Experiment 5\n",
    "## Num of cells with many products in same place as feature"
   ]
  },
  {
   "cell_type": "markdown",
   "id": "b7941b2e",
   "metadata": {},
   "source": [
    "Note: cells have to consider sub-cells if given"
   ]
  },
  {
   "cell_type": "code",
   "execution_count": null,
   "id": "65626524",
   "metadata": {},
   "outputs": [],
   "source": []
  },
  {
   "cell_type": "code",
   "execution_count": 283,
   "id": "4e88cab4",
   "metadata": {
    "scrolled": true
   },
   "outputs": [],
   "source": [
    "# note: place not shortened\n",
    "from collections import Counter\n",
    "place_to_num_products = Counter()\n",
    "\n",
    "for p in list(products_list_df[\"cleaned_place\"]):\n",
    "    place_to_num_products.update(p)"
   ]
  },
  {
   "cell_type": "code",
   "execution_count": 284,
   "id": "20282c19",
   "metadata": {
    "scrolled": true
   },
   "outputs": [
    {
     "data": {
      "image/png": "[encoded data removed]",
      "text/plain": [
       "<Figure size 432x288 with 1 Axes>"
      ]
     },
     "metadata": {
      "needs_background": "light"
     },
     "output_type": "display_data"
    }
   ],
   "source": [
    "# number of cell with num of unique products\n",
    "\n",
    "plt.ylabel(\"num of cells\")\n",
    "plt.xlabel(\"num of unique products\")\n",
    "plt.hist(list(place_to_num_products.values()), bins=50)\n",
    "\n",
    "\n",
    "plt.savefig('plots/num_cell_with_num_unique_prods.png')\n"
   ]
  },
  {
   "cell_type": "code",
   "execution_count": 285,
   "id": "45dc81e7",
   "metadata": {
    "scrolled": true
   },
   "outputs": [
    {
     "data": {
      "text/plain": [
       "574"
      ]
     },
     "execution_count": 285,
     "metadata": {},
     "output_type": "execute_result"
    }
   ],
   "source": [
    "sum(np.array(list(place_to_num_products.values())) < 5)"
   ]
  },
  {
   "cell_type": "code",
   "execution_count": 286,
   "id": "c2bdd542",
   "metadata": {
    "scrolled": true
   },
   "outputs": [
    {
     "data": {
      "text/plain": [
       "411"
      ]
     },
     "execution_count": 286,
     "metadata": {},
     "output_type": "execute_result"
    }
   ],
   "source": [
    "sum((np.array(list(place_to_num_products.values())) >= 5) & (np.array(list(place_to_num_products.values())) <= 15))"
   ]
  },
  {
   "cell_type": "code",
   "execution_count": 287,
   "id": "51964a67",
   "metadata": {
    "scrolled": true
   },
   "outputs": [
    {
     "data": {
      "text/plain": [
       "129"
      ]
     },
     "execution_count": 287,
     "metadata": {},
     "output_type": "execute_result"
    }
   ],
   "source": [
    "sum((np.array(list(place_to_num_products.values())) > 15) & (np.array(list(place_to_num_products.values())) <= 30))"
   ]
  },
  {
   "cell_type": "code",
   "execution_count": 288,
   "id": "134c6627",
   "metadata": {
    "scrolled": true
   },
   "outputs": [
    {
     "data": {
      "text/plain": [
       "83"
      ]
     },
     "execution_count": 288,
     "metadata": {},
     "output_type": "execute_result"
    }
   ],
   "source": [
    "sum((np.array(list(place_to_num_products.values())) >= 30))"
   ]
  },
  {
   "cell_type": "code",
   "execution_count": null,
   "id": "54aa97fd",
   "metadata": {},
   "outputs": [],
   "source": []
  },
  {
   "cell_type": "code",
   "execution_count": 289,
   "id": "29a3f0a0",
   "metadata": {
    "scrolled": true
   },
   "outputs": [],
   "source": [
    "prod_id_to_place_dict = {}\n",
    "\n",
    "for ind, row in products_list_df.iterrows():\n",
    "    prod_id_to_place_dict[row[\"product_id\"]] = row[\"cleaned_place\"]"
   ]
  },
  {
   "cell_type": "code",
   "execution_count": 290,
   "id": "b3359da9",
   "metadata": {
    "scrolled": true
   },
   "outputs": [],
   "source": [
    "def place_to_many_prods_cluster_vect(place):\n",
    "    p = place[0]\n",
    "    num_clusts = 4\n",
    "    num_prods = place_to_num_products[p]\n",
    "    vect = np.zeros(num_clusts)\n",
    "    if num_prods < 5:\n",
    "        vect[0] = 1\n",
    "    elif (num_prods >= 5) and (num_prods <= 15):\n",
    "        vect[1] = 1\n",
    "    elif (num_prods > 15) and (num_prods <= 30):\n",
    "        vect[2] = 1\n",
    "    else:\n",
    "        vect[3] = 1\n",
    "    return vect\n",
    "        \n",
    "    \n",
    "order_id_to_product_id_list = dict(order_list_df.groupby(\"order_id\")[\"product_id\"].apply(list))\n",
    "\n",
    "order_id_to_many_prods_cluster_vect = {}\n",
    "\n",
    "for k in order_id_to_product_id_list.keys():\n",
    "    vect_lst = []\n",
    "    \n",
    "    for p in order_id_to_product_id_list.get(k, []):\n",
    "        \n",
    "        if p in prod_id_to_place_dict:\n",
    "            vect_lst.append(place_to_many_prods_cluster_vect(prod_id_to_place_dict[p]))\n",
    "        \n",
    "    if vect_lst:\n",
    "        order_id_to_many_prods_cluster_vect[k] = sum(vect_lst)"
   ]
  },
  {
   "cell_type": "code",
   "execution_count": 291,
   "id": "0597a937",
   "metadata": {
    "scrolled": true
   },
   "outputs": [],
   "source": [
    "collect_id_to_order_id_list = dict(order_collects_df.groupby(\"collect_id\")[\"order_id\"].apply(list))\n",
    "\n",
    "collect_id_to_many_prods_cluster_vect = {}\n",
    "\n",
    "\n",
    "for k in collect_id_to_order_id_list.keys():\n",
    "    vect_lst = []\n",
    "    \n",
    "    for oid in collect_id_to_order_id_list.get(k, []):\n",
    "        if oid in order_id_to_many_prods_cluster_vect:\n",
    "            vect_lst.append(order_id_to_many_prods_cluster_vect[oid])\n",
    "        \n",
    "    if vect_lst:\n",
    "        collect_id_to_many_prods_cluster_vect[k] = sum(vect_lst)\n",
    "        # No values larger than 1. Only 1 for cells to which we have to walk\n",
    "        # collect_id_to_line_vect[k][collect_id_to_line_vect[k] > 0] = 1"
   ]
  },
  {
   "cell_type": "code",
   "execution_count": 292,
   "id": "ad4d01fd",
   "metadata": {
    "scrolled": true
   },
   "outputs": [
    {
     "data": {
      "text/plain": [
       "[(2691, array([2., 0., 0., 0.])),\n",
       " (2704, array([0., 1., 0., 1.])),\n",
       " (2712, array([3., 2., 2., 1.]))]"
      ]
     },
     "execution_count": 292,
     "metadata": {},
     "output_type": "execute_result"
    }
   ],
   "source": [
    "list(collect_id_to_many_prods_cluster_vect.items())[:3]"
   ]
  },
  {
   "cell_type": "code",
   "execution_count": 293,
   "id": "b1b7fccd",
   "metadata": {
    "scrolled": true
   },
   "outputs": [],
   "source": [
    "collect_id_to_time_spent_walking = dict(order_collects_df.groupby(\"collect_id\")[\"approx_store_walk_time\"].mean().dt.total_seconds())"
   ]
  },
  {
   "cell_type": "code",
   "execution_count": 294,
   "id": "8727e2e7",
   "metadata": {
    "scrolled": true
   },
   "outputs": [],
   "source": [
    "train_keys = collect_id_keys_train\n",
    "val_keys = collect_id_keys_val\n",
    "\n",
    "train_x = []\n",
    "val_x = []\n",
    "train_y = []\n",
    "val_y = []\n",
    "\n",
    "for k in train_keys:\n",
    "    if (k in collect_id_to_many_prods_cluster_vect) and (k in collect_id_to_time_spent_walking):\n",
    "        train_x.append(collect_id_to_many_prods_cluster_vect[k])\n",
    "        train_y.append(collect_id_to_time_spent_walking[k])\n",
    "    \n",
    "for k in val_keys:\n",
    "    if (k in collect_id_to_many_prods_cluster_vect) and (k in collect_id_to_time_spent_walking):\n",
    "        val_x.append(collect_id_to_many_prods_cluster_vect[k])\n",
    "        val_y.append(collect_id_to_time_spent_walking[k])"
   ]
  },
  {
   "cell_type": "code",
   "execution_count": 295,
   "id": "a64d1e52",
   "metadata": {},
   "outputs": [
    {
     "data": {
      "text/plain": [
       "[array([2., 0., 0., 0.]), array([0., 1., 0., 1.]), array([3., 2., 2., 1.])]"
      ]
     },
     "execution_count": 295,
     "metadata": {},
     "output_type": "execute_result"
    }
   ],
   "source": [
    "train_x[:3]"
   ]
  },
  {
   "cell_type": "code",
   "execution_count": null,
   "id": "ba7f9e85",
   "metadata": {},
   "outputs": [],
   "source": []
  },
  {
   "cell_type": "markdown",
   "id": "8e76d4e4",
   "metadata": {},
   "source": [
    "## Experiment 5\n",
    "## Linreg no x, y processing"
   ]
  },
  {
   "cell_type": "code",
   "execution_count": null,
   "id": "8f79d43d",
   "metadata": {},
   "outputs": [],
   "source": []
  },
  {
   "cell_type": "code",
   "execution_count": 296,
   "id": "8f338dab",
   "metadata": {},
   "outputs": [
    {
     "data": {
      "text/plain": [
       "-0.027890593321980406"
      ]
     },
     "execution_count": 296,
     "metadata": {},
     "output_type": "execute_result"
    }
   ],
   "source": [
    "import numpy as np\n",
    "from sklearn.linear_model import LinearRegression\n",
    "from sklearn.metrics import mean_absolute_error as mae\n",
    "\n",
    "from sklearn.ensemble import RandomForestRegressor\n",
    "\n",
    "X = np.array(train_x)\n",
    "reg = LinearRegression().fit(X, np.array(train_y))\n",
    "reg.score(np.array(val_x), np.array(val_y))\n",
    "\n"
   ]
  },
  {
   "cell_type": "code",
   "execution_count": 297,
   "id": "63dcda29",
   "metadata": {},
   "outputs": [
    {
     "data": {
      "text/plain": [
       "18.657231173165574"
      ]
     },
     "execution_count": 297,
     "metadata": {},
     "output_type": "execute_result"
    }
   ],
   "source": [
    "# train\n",
    "mae(reg.predict(np.array(train_x)), np.array(train_y)) / 60\n",
    "\n"
   ]
  },
  {
   "cell_type": "code",
   "execution_count": 298,
   "id": "a669421d",
   "metadata": {},
   "outputs": [
    {
     "data": {
      "text/plain": [
       "14.175998783385333"
      ]
     },
     "execution_count": 298,
     "metadata": {},
     "output_type": "execute_result"
    }
   ],
   "source": [
    "#val\n",
    "mae(reg.predict(np.array(val_x)), np.array(val_y)) / 60\n"
   ]
  },
  {
   "cell_type": "code",
   "execution_count": 299,
   "id": "75f04166",
   "metadata": {},
   "outputs": [
    {
     "data": {
      "image/png": "[encoded data removed]",
      "text/plain": [
       "<Figure size 432x288 with 1 Axes>"
      ]
     },
     "metadata": {
      "needs_background": "light"
     },
     "output_type": "display_data"
    }
   ],
   "source": [
    "# errors plot\n",
    "\n",
    "plt.ylabel(\"num validation samples\")\n",
    "plt.xlabel(\"minutes error\")\n",
    "\n",
    "plt.hist((reg.predict(np.array(val_x)) - np.array(val_y)) / 60, bins=50)\n",
    "\n",
    "\n",
    "plt.savefig('plots/exp5_alldata_linreg_errors_plot.png')\n",
    "\n"
   ]
  },
  {
   "cell_type": "code",
   "execution_count": 300,
   "id": "5de948c5",
   "metadata": {
    "scrolled": true
   },
   "outputs": [
    {
     "data": {
      "text/plain": [
       "18"
      ]
     },
     "execution_count": 300,
     "metadata": {},
     "output_type": "execute_result"
    }
   ],
   "source": [
    "np.sum(np.abs( (reg.predict(np.array(val_x)) - np.array(val_y)) / 60) < 5)\n"
   ]
  },
  {
   "cell_type": "code",
   "execution_count": 301,
   "id": "65a3399e",
   "metadata": {},
   "outputs": [
    {
     "data": {
      "text/plain": [
       "64"
      ]
     },
     "execution_count": 301,
     "metadata": {},
     "output_type": "execute_result"
    }
   ],
   "source": [
    "np.sum(np.abs( (reg.predict(np.array(val_x)) - np.array(val_y)) / 60) < 10)\n"
   ]
  },
  {
   "cell_type": "code",
   "execution_count": 302,
   "id": "167e893b",
   "metadata": {},
   "outputs": [
    {
     "data": {
      "text/plain": [
       "246"
      ]
     },
     "execution_count": 302,
     "metadata": {},
     "output_type": "execute_result"
    }
   ],
   "source": [
    "len(val_y)"
   ]
  },
  {
   "cell_type": "code",
   "execution_count": 303,
   "id": "fad659d9",
   "metadata": {},
   "outputs": [
    {
     "data": {
      "text/plain": [
       "0.11129032258064517"
      ]
     },
     "execution_count": 303,
     "metadata": {},
     "output_type": "execute_result"
    }
   ],
   "source": [
    "69 / 620"
   ]
  },
  {
   "cell_type": "code",
   "execution_count": 304,
   "id": "03c50379",
   "metadata": {},
   "outputs": [
    {
     "data": {
      "text/plain": [
       "0.267741935483871"
      ]
     },
     "execution_count": 304,
     "metadata": {},
     "output_type": "execute_result"
    }
   ],
   "source": [
    "166 / 620"
   ]
  },
  {
   "cell_type": "code",
   "execution_count": null,
   "id": "66fba9ae",
   "metadata": {},
   "outputs": [],
   "source": []
  },
  {
   "cell_type": "code",
   "execution_count": null,
   "id": "d37321af",
   "metadata": {},
   "outputs": [],
   "source": []
  },
  {
   "cell_type": "code",
   "execution_count": 305,
   "id": "eff99599",
   "metadata": {},
   "outputs": [],
   "source": [
    "l = {\"experiment_num\": \"5\", \n",
    " \"model_type\": \"Lin reg no preprocessing\", \n",
    " \"train_mae\": mae(reg.predict(np.array(train_x)), np.array(train_y)) / 60, \n",
    " \"val_mae\": mae(reg.predict(np.array(val_x)), np.array(val_y)) / 60, \n",
    " \"perc_lt_5mins\": np.sum(np.abs( (reg.predict(np.array(val_x)) - np.array(val_y)) / 60) < 5)/ len(val_y) ,\n",
    " \"perc_lt_10mins\": np.sum(np.abs( (reg.predict(np.array(val_x)) - np.array(val_y)) / 60) < 10) / len(val_y),\n",
    "    \"train_preds\": reg.predict(np.array(train_x)),\n",
    "    \"val_preds\":reg.predict(np.array(val_x)) }\n",
    "\n",
    "metrics_df_lst.append(l)"
   ]
  },
  {
   "cell_type": "markdown",
   "id": "67e6a894",
   "metadata": {},
   "source": [
    "## Experiment 5\n",
    "## Linreg cbrt  y processing"
   ]
  },
  {
   "cell_type": "code",
   "execution_count": 306,
   "id": "5be39674",
   "metadata": {},
   "outputs": [
    {
     "data": {
      "text/plain": [
       "0.08135111419667607"
      ]
     },
     "execution_count": 306,
     "metadata": {},
     "output_type": "execute_result"
    }
   ],
   "source": [
    "\n",
    "import numpy as np\n",
    "from sklearn.linear_model import LinearRegression\n",
    "from sklearn.metrics import mean_absolute_error as mae\n",
    "\n",
    "from sklearn.ensemble import RandomForestRegressor\n",
    "\n",
    "X = np.array(train_x)\n",
    "reg = LinearRegression().fit(X, transform_y(np.array(train_y)))\n",
    "reg.score(np.array(val_x), transform_y(np.array(val_y)))\n",
    "\n"
   ]
  },
  {
   "cell_type": "code",
   "execution_count": 307,
   "id": "e2164c38",
   "metadata": {},
   "outputs": [
    {
     "data": {
      "text/plain": [
       "16.244102377401244"
      ]
     },
     "execution_count": 307,
     "metadata": {},
     "output_type": "execute_result"
    }
   ],
   "source": [
    "# train\n",
    "mae(inv_transform_y(reg.predict(np.array(train_x))), np.array(train_y)) / 60\n"
   ]
  },
  {
   "cell_type": "code",
   "execution_count": 308,
   "id": "75c3917d",
   "metadata": {},
   "outputs": [
    {
     "data": {
      "text/plain": [
       "13.291957232274434"
      ]
     },
     "execution_count": 308,
     "metadata": {},
     "output_type": "execute_result"
    }
   ],
   "source": [
    "\n",
    "#val\n",
    "mae(inv_transform_y(reg.predict(np.array(val_x))), np.array(val_y)) / 60\n",
    "\n"
   ]
  },
  {
   "cell_type": "code",
   "execution_count": 309,
   "id": "abd63ff0",
   "metadata": {},
   "outputs": [
    {
     "data": {
      "image/png": "[encoded data removed]",
      "text/plain": [
       "<Figure size 432x288 with 1 Axes>"
      ]
     },
     "metadata": {
      "needs_background": "light"
     },
     "output_type": "display_data"
    }
   ],
   "source": [
    "# errors plot\n",
    "\n",
    "plt.ylabel(\"num validation samples\")\n",
    "plt.xlabel(\"minutes error\")\n",
    "\n",
    "plt.hist((inv_transform_y(reg.predict(np.array(val_x))) - np.array(val_y)) / 60, bins=50)\n",
    "\n",
    "\n",
    "plt.savefig('plots/exp5_alldata_linreg_cbrt_errors_plot.png')\n",
    "\n"
   ]
  },
  {
   "cell_type": "code",
   "execution_count": 310,
   "id": "7da0f30c",
   "metadata": {},
   "outputs": [
    {
     "data": {
      "text/plain": [
       "90"
      ]
     },
     "execution_count": 310,
     "metadata": {},
     "output_type": "execute_result"
    }
   ],
   "source": [
    "np.sum(np.abs( (inv_transform_y(reg.predict(np.array(val_x))) - np.array(val_y)) / 60) < 5)\n"
   ]
  },
  {
   "cell_type": "code",
   "execution_count": 311,
   "id": "5e9f6fde",
   "metadata": {},
   "outputs": [
    {
     "data": {
      "text/plain": [
       "246"
      ]
     },
     "execution_count": 311,
     "metadata": {},
     "output_type": "execute_result"
    }
   ],
   "source": [
    "len(val_y)"
   ]
  },
  {
   "cell_type": "code",
   "execution_count": 312,
   "id": "3fd6598b",
   "metadata": {},
   "outputs": [
    {
     "data": {
      "text/plain": [
       "0.3241935483870968"
      ]
     },
     "execution_count": 312,
     "metadata": {},
     "output_type": "execute_result"
    }
   ],
   "source": [
    "201 / 620"
   ]
  },
  {
   "cell_type": "code",
   "execution_count": 313,
   "id": "22aab7c4",
   "metadata": {},
   "outputs": [
    {
     "data": {
      "text/plain": [
       "206"
      ]
     },
     "execution_count": 313,
     "metadata": {},
     "output_type": "execute_result"
    }
   ],
   "source": [
    "\n",
    "np.sum(np.abs( (inv_transform_y(reg.predict(np.array(val_x))) - np.array(val_y)) / 60) < 10)"
   ]
  },
  {
   "cell_type": "code",
   "execution_count": 314,
   "id": "c9e25553",
   "metadata": {},
   "outputs": [
    {
     "data": {
      "text/plain": [
       "0.7112903225806452"
      ]
     },
     "execution_count": 314,
     "metadata": {},
     "output_type": "execute_result"
    }
   ],
   "source": [
    "441 / 620"
   ]
  },
  {
   "cell_type": "code",
   "execution_count": 315,
   "id": "6f935f3a",
   "metadata": {},
   "outputs": [],
   "source": [
    "l = {\"experiment_num\": \"5\", \n",
    " \"model_type\": \"Lin reg cbrt y preprocessing\", \n",
    " \"train_mae\": mae(inv_transform_y(reg.predict(np.array(train_x))), np.array(train_y)) / 60, \n",
    " \"val_mae\": mae(inv_transform_y(reg.predict(np.array(val_x))), np.array(val_y)) / 60, \n",
    " \"perc_lt_5mins\": np.sum(np.abs( (inv_transform_y(reg.predict(np.array(val_x))) - np.array(val_y)) / 60) < 5) / len(val_y) ,\n",
    " \"perc_lt_10mins\": np.sum(np.abs( (inv_transform_y(reg.predict(np.array(val_x))) - np.array(val_y)) / 60) < 10) / len(val_y),\n",
    "    \"train_preds\": inv_transform_y(reg.predict(np.array(train_x))),\n",
    "    \"val_preds\":inv_transform_y(reg.predict(np.array(val_x))) }\n",
    "\n",
    "metrics_df_lst.append(l)"
   ]
  },
  {
   "cell_type": "markdown",
   "id": "19e65172",
   "metadata": {},
   "source": [
    "## Experiment 5\n",
    "## Rand forest no processing"
   ]
  },
  {
   "cell_type": "code",
   "execution_count": 316,
   "id": "710a35e3",
   "metadata": {},
   "outputs": [
    {
     "name": "stdout",
     "output_type": "stream",
     "text": [
      "Fitting 5 folds for each of 21 candidates, totalling 105 fits\n",
      "[CV 1/5] END criterion=absolute_error, min_samples_split=2, n_estimators=50, n_jobs=-1;, score=-0.050 total time=   0.2s\n",
      "[CV 2/5] END criterion=absolute_error, min_samples_split=2, n_estimators=50, n_jobs=-1;, score=-0.044 total time=   0.2s\n",
      "[CV 3/5] END criterion=absolute_error, min_samples_split=2, n_estimators=50, n_jobs=-1;, score=0.138 total time=   0.2s\n",
      "[CV 4/5] END criterion=absolute_error, min_samples_split=2, n_estimators=50, n_jobs=-1;, score=-0.084 total time=   0.2s\n",
      "[CV 5/5] END criterion=absolute_error, min_samples_split=2, n_estimators=50, n_jobs=-1;, score=0.008 total time=   0.2s\n",
      "[CV 1/5] END criterion=absolute_error, min_samples_split=2, n_estimators=100, n_jobs=-1;, score=-0.057 total time=   0.3s\n",
      "[CV 2/5] END criterion=absolute_error, min_samples_split=2, n_estimators=100, n_jobs=-1;, score=0.009 total time=   0.2s\n",
      "[CV 3/5] END criterion=absolute_error, min_samples_split=2, n_estimators=100, n_jobs=-1;, score=0.106 total time=   0.3s\n",
      "[CV 4/5] END criterion=absolute_error, min_samples_split=2, n_estimators=100, n_jobs=-1;, score=-0.059 total time=   0.2s\n",
      "[CV 5/5] END criterion=absolute_error, min_samples_split=2, n_estimators=100, n_jobs=-1;, score=-0.024 total time=   0.3s\n",
      "[CV 1/5] END criterion=absolute_error, min_samples_split=2, n_estimators=200, n_jobs=-1;, score=-0.059 total time=   0.4s\n",
      "[CV 2/5] END criterion=absolute_error, min_samples_split=2, n_estimators=200, n_jobs=-1;, score=-0.029 total time=   0.4s\n",
      "[CV 3/5] END criterion=absolute_error, min_samples_split=2, n_estimators=200, n_jobs=-1;, score=0.115 total time=   0.4s\n",
      "[CV 4/5] END criterion=absolute_error, min_samples_split=2, n_estimators=200, n_jobs=-1;, score=-0.079 total time=   0.4s\n",
      "[CV 5/5] END criterion=absolute_error, min_samples_split=2, n_estimators=200, n_jobs=-1;, score=-0.055 total time=   0.4s\n",
      "[CV 1/5] END criterion=absolute_error, min_samples_split=10, n_estimators=50, n_jobs=-1;, score=-0.089 total time=   0.2s\n",
      "[CV 2/5] END criterion=absolute_error, min_samples_split=10, n_estimators=50, n_jobs=-1;, score=0.155 total time=   0.2s\n",
      "[CV 3/5] END criterion=absolute_error, min_samples_split=10, n_estimators=50, n_jobs=-1;, score=0.249 total time=   0.2s\n",
      "[CV 4/5] END criterion=absolute_error, min_samples_split=10, n_estimators=50, n_jobs=-1;, score=0.030 total time=   0.2s\n",
      "[CV 5/5] END criterion=absolute_error, min_samples_split=10, n_estimators=50, n_jobs=-1;, score=0.105 total time=   0.2s\n",
      "[CV 1/5] END criterion=absolute_error, min_samples_split=10, n_estimators=100, n_jobs=-1;, score=-0.081 total time=   0.3s\n",
      "[CV 2/5] END criterion=absolute_error, min_samples_split=10, n_estimators=100, n_jobs=-1;, score=0.170 total time=   0.2s\n",
      "[CV 3/5] END criterion=absolute_error, min_samples_split=10, n_estimators=100, n_jobs=-1;, score=0.257 total time=   0.2s\n",
      "[CV 4/5] END criterion=absolute_error, min_samples_split=10, n_estimators=100, n_jobs=-1;, score=0.031 total time=   0.2s\n",
      "[CV 5/5] END criterion=absolute_error, min_samples_split=10, n_estimators=100, n_jobs=-1;, score=0.081 total time=   0.3s\n",
      "[CV 1/5] END criterion=absolute_error, min_samples_split=10, n_estimators=200, n_jobs=-1;, score=-0.082 total time=   0.4s\n",
      "[CV 2/5] END criterion=absolute_error, min_samples_split=10, n_estimators=200, n_jobs=-1;, score=0.180 total time=   0.4s\n",
      "[CV 3/5] END criterion=absolute_error, min_samples_split=10, n_estimators=200, n_jobs=-1;, score=0.250 total time=   0.4s\n",
      "[CV 4/5] END criterion=absolute_error, min_samples_split=10, n_estimators=200, n_jobs=-1;, score=0.027 total time=   0.4s\n",
      "[CV 5/5] END criterion=absolute_error, min_samples_split=10, n_estimators=200, n_jobs=-1;, score=0.093 total time=   0.4s\n",
      "[CV 1/5] END criterion=absolute_error, min_samples_split=30, n_estimators=50, n_jobs=-1;, score=-0.103 total time=   0.2s\n",
      "[CV 2/5] END criterion=absolute_error, min_samples_split=30, n_estimators=50, n_jobs=-1;, score=0.138 total time=   0.2s\n",
      "[CV 3/5] END criterion=absolute_error, min_samples_split=30, n_estimators=50, n_jobs=-1;, score=0.280 total time=   0.2s\n",
      "[CV 4/5] END criterion=absolute_error, min_samples_split=30, n_estimators=50, n_jobs=-1;, score=0.035 total time=   0.2s\n",
      "[CV 5/5] END criterion=absolute_error, min_samples_split=30, n_estimators=50, n_jobs=-1;, score=0.198 total time=   0.2s\n",
      "[CV 1/5] END criterion=absolute_error, min_samples_split=30, n_estimators=100, n_jobs=-1;, score=-0.114 total time=   0.2s\n",
      "[CV 2/5] END criterion=absolute_error, min_samples_split=30, n_estimators=100, n_jobs=-1;, score=0.150 total time=   0.2s\n",
      "[CV 3/5] END criterion=absolute_error, min_samples_split=30, n_estimators=100, n_jobs=-1;, score=0.280 total time=   0.3s\n",
      "[CV 4/5] END criterion=absolute_error, min_samples_split=30, n_estimators=100, n_jobs=-1;, score=0.054 total time=   0.2s\n",
      "[CV 5/5] END criterion=absolute_error, min_samples_split=30, n_estimators=100, n_jobs=-1;, score=0.175 total time=   0.2s\n",
      "[CV 1/5] END criterion=absolute_error, min_samples_split=30, n_estimators=200, n_jobs=-1;, score=-0.101 total time=   0.4s\n",
      "[CV 2/5] END criterion=absolute_error, min_samples_split=30, n_estimators=200, n_jobs=-1;, score=0.146 total time=   0.4s\n",
      "[CV 3/5] END criterion=absolute_error, min_samples_split=30, n_estimators=200, n_jobs=-1;, score=0.282 total time=   0.3s\n",
      "[CV 4/5] END criterion=absolute_error, min_samples_split=30, n_estimators=200, n_jobs=-1;, score=0.044 total time=   0.3s\n",
      "[CV 5/5] END criterion=absolute_error, min_samples_split=30, n_estimators=200, n_jobs=-1;, score=0.182 total time=   0.4s\n",
      "[CV 1/5] END criterion=absolute_error, min_samples_split=0.02, n_estimators=50, n_jobs=-1;, score=-0.107 total time=   0.2s\n",
      "[CV 2/5] END criterion=absolute_error, min_samples_split=0.02, n_estimators=50, n_jobs=-1;, score=0.153 total time=   0.2s\n",
      "[CV 3/5] END criterion=absolute_error, min_samples_split=0.02, n_estimators=50, n_jobs=-1;, score=0.274 total time=   0.2s\n",
      "[CV 4/5] END criterion=absolute_error, min_samples_split=0.02, n_estimators=50, n_jobs=-1;, score=0.031 total time=   0.2s\n",
      "[CV 5/5] END criterion=absolute_error, min_samples_split=0.02, n_estimators=50, n_jobs=-1;, score=0.146 total time=   0.2s\n",
      "[CV 1/5] END criterion=absolute_error, min_samples_split=0.02, n_estimators=100, n_jobs=-1;, score=-0.096 total time=   0.3s\n",
      "[CV 2/5] END criterion=absolute_error, min_samples_split=0.02, n_estimators=100, n_jobs=-1;, score=0.175 total time=   0.2s\n",
      "[CV 3/5] END criterion=absolute_error, min_samples_split=0.02, n_estimators=100, n_jobs=-1;, score=0.268 total time=   0.3s\n",
      "[CV 4/5] END criterion=absolute_error, min_samples_split=0.02, n_estimators=100, n_jobs=-1;, score=0.036 total time=   0.2s\n",
      "[CV 5/5] END criterion=absolute_error, min_samples_split=0.02, n_estimators=100, n_jobs=-1;, score=0.147 total time=   0.3s\n",
      "[CV 1/5] END criterion=absolute_error, min_samples_split=0.02, n_estimators=200, n_jobs=-1;, score=-0.103 total time=   0.4s\n",
      "[CV 2/5] END criterion=absolute_error, min_samples_split=0.02, n_estimators=200, n_jobs=-1;, score=0.171 total time=   0.4s\n",
      "[CV 3/5] END criterion=absolute_error, min_samples_split=0.02, n_estimators=200, n_jobs=-1;, score=0.278 total time=   0.4s\n",
      "[CV 4/5] END criterion=absolute_error, min_samples_split=0.02, n_estimators=200, n_jobs=-1;, score=0.047 total time=   0.3s\n",
      "[CV 5/5] END criterion=absolute_error, min_samples_split=0.02, n_estimators=200, n_jobs=-1;, score=0.150 total time=   0.4s\n",
      "[CV 1/5] END criterion=absolute_error, min_samples_split=0.05, n_estimators=50, n_jobs=-1;, score=-0.117 total time=   0.2s\n",
      "[CV 2/5] END criterion=absolute_error, min_samples_split=0.05, n_estimators=50, n_jobs=-1;, score=0.141 total time=   0.2s\n",
      "[CV 3/5] END criterion=absolute_error, min_samples_split=0.05, n_estimators=50, n_jobs=-1;, score=0.286 total time=   0.2s\n",
      "[CV 4/5] END criterion=absolute_error, min_samples_split=0.05, n_estimators=50, n_jobs=-1;, score=0.046 total time=   0.2s\n",
      "[CV 5/5] END criterion=absolute_error, min_samples_split=0.05, n_estimators=50, n_jobs=-1;, score=0.189 total time=   0.2s\n",
      "[CV 1/5] END criterion=absolute_error, min_samples_split=0.05, n_estimators=100, n_jobs=-1;, score=-0.111 total time=   0.3s\n",
      "[CV 2/5] END criterion=absolute_error, min_samples_split=0.05, n_estimators=100, n_jobs=-1;, score=0.121 total time=   0.2s\n"
     ]
    },
    {
     "name": "stdout",
     "output_type": "stream",
     "text": [
      "[CV 3/5] END criterion=absolute_error, min_samples_split=0.05, n_estimators=100, n_jobs=-1;, score=0.271 total time=   0.2s\n",
      "[CV 4/5] END criterion=absolute_error, min_samples_split=0.05, n_estimators=100, n_jobs=-1;, score=0.038 total time=   0.3s\n",
      "[CV 5/5] END criterion=absolute_error, min_samples_split=0.05, n_estimators=100, n_jobs=-1;, score=0.191 total time=   0.2s\n",
      "[CV 1/5] END criterion=absolute_error, min_samples_split=0.05, n_estimators=200, n_jobs=-1;, score=-0.112 total time=   0.3s\n",
      "[CV 2/5] END criterion=absolute_error, min_samples_split=0.05, n_estimators=200, n_jobs=-1;, score=0.131 total time=   0.3s\n",
      "[CV 3/5] END criterion=absolute_error, min_samples_split=0.05, n_estimators=200, n_jobs=-1;, score=0.276 total time=   0.4s\n",
      "[CV 4/5] END criterion=absolute_error, min_samples_split=0.05, n_estimators=200, n_jobs=-1;, score=0.038 total time=   0.3s\n",
      "[CV 5/5] END criterion=absolute_error, min_samples_split=0.05, n_estimators=200, n_jobs=-1;, score=0.189 total time=   0.5s\n",
      "[CV 1/5] END criterion=absolute_error, min_samples_split=0.1, n_estimators=50, n_jobs=-1;, score=-0.118 total time=   0.2s\n",
      "[CV 2/5] END criterion=absolute_error, min_samples_split=0.1, n_estimators=50, n_jobs=-1;, score=0.111 total time=   0.2s\n",
      "[CV 3/5] END criterion=absolute_error, min_samples_split=0.1, n_estimators=50, n_jobs=-1;, score=0.265 total time=   0.2s\n",
      "[CV 4/5] END criterion=absolute_error, min_samples_split=0.1, n_estimators=50, n_jobs=-1;, score=0.012 total time=   0.2s\n",
      "[CV 5/5] END criterion=absolute_error, min_samples_split=0.1, n_estimators=50, n_jobs=-1;, score=0.216 total time=   0.2s\n",
      "[CV 1/5] END criterion=absolute_error, min_samples_split=0.1, n_estimators=100, n_jobs=-1;, score=-0.137 total time=   0.3s\n",
      "[CV 2/5] END criterion=absolute_error, min_samples_split=0.1, n_estimators=100, n_jobs=-1;, score=0.101 total time=   0.2s\n",
      "[CV 3/5] END criterion=absolute_error, min_samples_split=0.1, n_estimators=100, n_jobs=-1;, score=0.268 total time=   0.2s\n",
      "[CV 4/5] END criterion=absolute_error, min_samples_split=0.1, n_estimators=100, n_jobs=-1;, score=0.025 total time=   0.2s\n",
      "[CV 5/5] END criterion=absolute_error, min_samples_split=0.1, n_estimators=100, n_jobs=-1;, score=0.212 total time=   0.2s\n",
      "[CV 1/5] END criterion=absolute_error, min_samples_split=0.1, n_estimators=200, n_jobs=-1;, score=-0.126 total time=   0.4s\n",
      "[CV 2/5] END criterion=absolute_error, min_samples_split=0.1, n_estimators=200, n_jobs=-1;, score=0.100 total time=   0.3s\n",
      "[CV 3/5] END criterion=absolute_error, min_samples_split=0.1, n_estimators=200, n_jobs=-1;, score=0.262 total time=   0.3s\n",
      "[CV 4/5] END criterion=absolute_error, min_samples_split=0.1, n_estimators=200, n_jobs=-1;, score=0.030 total time=   0.4s\n",
      "[CV 5/5] END criterion=absolute_error, min_samples_split=0.1, n_estimators=200, n_jobs=-1;, score=0.209 total time=   0.3s\n",
      "[CV 1/5] END criterion=absolute_error, min_samples_split=0.2, n_estimators=50, n_jobs=-1;, score=-0.216 total time=   0.2s\n",
      "[CV 2/5] END criterion=absolute_error, min_samples_split=0.2, n_estimators=50, n_jobs=-1;, score=-0.007 total time=   0.2s\n",
      "[CV 3/5] END criterion=absolute_error, min_samples_split=0.2, n_estimators=50, n_jobs=-1;, score=0.146 total time=   0.2s\n",
      "[CV 4/5] END criterion=absolute_error, min_samples_split=0.2, n_estimators=50, n_jobs=-1;, score=0.021 total time=   0.2s\n",
      "[CV 5/5] END criterion=absolute_error, min_samples_split=0.2, n_estimators=50, n_jobs=-1;, score=0.153 total time=   0.2s\n",
      "[CV 1/5] END criterion=absolute_error, min_samples_split=0.2, n_estimators=100, n_jobs=-1;, score=-0.197 total time=   0.2s\n",
      "[CV 2/5] END criterion=absolute_error, min_samples_split=0.2, n_estimators=100, n_jobs=-1;, score=-0.004 total time=   0.2s\n",
      "[CV 3/5] END criterion=absolute_error, min_samples_split=0.2, n_estimators=100, n_jobs=-1;, score=0.147 total time=   0.3s\n",
      "[CV 4/5] END criterion=absolute_error, min_samples_split=0.2, n_estimators=100, n_jobs=-1;, score=0.019 total time=   0.2s\n",
      "[CV 5/5] END criterion=absolute_error, min_samples_split=0.2, n_estimators=100, n_jobs=-1;, score=0.162 total time=   0.2s\n",
      "[CV 1/5] END criterion=absolute_error, min_samples_split=0.2, n_estimators=200, n_jobs=-1;, score=-0.215 total time=   0.3s\n",
      "[CV 2/5] END criterion=absolute_error, min_samples_split=0.2, n_estimators=200, n_jobs=-1;, score=0.006 total time=   0.3s\n",
      "[CV 3/5] END criterion=absolute_error, min_samples_split=0.2, n_estimators=200, n_jobs=-1;, score=0.150 total time=   0.3s\n",
      "[CV 4/5] END criterion=absolute_error, min_samples_split=0.2, n_estimators=200, n_jobs=-1;, score=0.014 total time=   0.4s\n",
      "[CV 5/5] END criterion=absolute_error, min_samples_split=0.2, n_estimators=200, n_jobs=-1;, score=0.150 total time=   0.4s\n"
     ]
    },
    {
     "data": {
      "text/plain": [
       "0.17990553112320096"
      ]
     },
     "execution_count": 316,
     "metadata": {},
     "output_type": "execute_result"
    }
   ],
   "source": [
    "#HEREEEEE\n",
    "import numpy as np\n",
    "from sklearn.linear_model import LinearRegression\n",
    "\n",
    "from sklearn.ensemble import RandomForestRegressor\n",
    "\n",
    "from sklearn.metrics import mean_absolute_error as mae\n",
    "\n",
    "\n",
    "from sklearn.model_selection import GridSearchCV\n",
    "parameters = {'n_estimators':[50, 100, 200], 'min_samples_split':[2, 10, 30, 0.02, 0.05, 0.1, 0.2],\n",
    "              \"criterion\": [\"absolute_error\"], \"n_jobs\":[-1]}\n",
    "\n",
    "rand_for = RandomForestRegressor()\n",
    "reg = GridSearchCV(rand_for, parameters, verbose=3)\n",
    "reg.fit(np.array(train_x), np.array(train_y))\n",
    "\n",
    "\n",
    "reg.score(np.array(train_x), np.array(train_y))\n"
   ]
  },
  {
   "cell_type": "code",
   "execution_count": 317,
   "id": "08662189",
   "metadata": {},
   "outputs": [
    {
     "data": {
      "text/plain": [
       "{'criterion': 'absolute_error',\n",
       " 'min_samples_split': 30,\n",
       " 'n_estimators': 200,\n",
       " 'n_jobs': -1}"
      ]
     },
     "execution_count": 317,
     "metadata": {},
     "output_type": "execute_result"
    }
   ],
   "source": [
    "reg.best_params_\n",
    "\n"
   ]
  },
  {
   "cell_type": "code",
   "execution_count": 318,
   "id": "b7d345c9",
   "metadata": {},
   "outputs": [
    {
     "data": {
      "text/plain": [
       "14.307147315379405"
      ]
     },
     "execution_count": 318,
     "metadata": {},
     "output_type": "execute_result"
    }
   ],
   "source": [
    "# train\n",
    "mae(reg.predict(np.array(train_x)), np.array(train_y)) / 60\n"
   ]
  },
  {
   "cell_type": "code",
   "execution_count": 319,
   "id": "37b0976b",
   "metadata": {},
   "outputs": [
    {
     "data": {
      "text/plain": [
       "8.138392784552847"
      ]
     },
     "execution_count": 319,
     "metadata": {},
     "output_type": "execute_result"
    }
   ],
   "source": [
    "#val\n",
    "mae(reg.predict(np.array(val_x)), np.array(val_y)) / 60\n"
   ]
  },
  {
   "cell_type": "code",
   "execution_count": 320,
   "id": "f0fcf9aa",
   "metadata": {},
   "outputs": [
    {
     "data": {
      "image/png": "[encoded data removed]",
      "text/plain": [
       "<Figure size 432x288 with 1 Axes>"
      ]
     },
     "metadata": {
      "needs_background": "light"
     },
     "output_type": "display_data"
    }
   ],
   "source": [
    "# errors plot\n",
    "\n",
    "plt.ylabel(\"num validation samples\")\n",
    "plt.xlabel(\"minutes error\")\n",
    "\n",
    "plt.hist((reg.predict(np.array(val_x)) - np.array(val_y)) / 60, bins=50)\n",
    "\n",
    "\n",
    "plt.savefig('plots/exp5_alldata_rand_for_errors_plot.png')\n",
    "\n",
    "\n"
   ]
  },
  {
   "cell_type": "code",
   "execution_count": 321,
   "id": "0b584a87",
   "metadata": {},
   "outputs": [
    {
     "data": {
      "text/plain": [
       "142"
      ]
     },
     "execution_count": 321,
     "metadata": {},
     "output_type": "execute_result"
    }
   ],
   "source": [
    "np.sum(np.abs( (reg.predict(np.array(val_x)) - np.array(val_y)) / 60) < 5)\n"
   ]
  },
  {
   "cell_type": "code",
   "execution_count": 322,
   "id": "9aa51d68",
   "metadata": {},
   "outputs": [
    {
     "data": {
      "text/plain": [
       "0.4161290322580645"
      ]
     },
     "execution_count": 322,
     "metadata": {},
     "output_type": "execute_result"
    }
   ],
   "source": [
    "258 / 620"
   ]
  },
  {
   "cell_type": "code",
   "execution_count": 323,
   "id": "07020aa4",
   "metadata": {},
   "outputs": [
    {
     "data": {
      "text/plain": [
       "187"
      ]
     },
     "execution_count": 323,
     "metadata": {},
     "output_type": "execute_result"
    }
   ],
   "source": [
    "np.sum(np.abs( (reg.predict(np.array(val_x)) - np.array(val_y)) / 60) < 10)\n"
   ]
  },
  {
   "cell_type": "code",
   "execution_count": 324,
   "id": "cd8cd325",
   "metadata": {},
   "outputs": [
    {
     "data": {
      "text/plain": [
       "0.6483870967741936"
      ]
     },
     "execution_count": 324,
     "metadata": {},
     "output_type": "execute_result"
    }
   ],
   "source": [
    "402 / 620"
   ]
  },
  {
   "cell_type": "code",
   "execution_count": 325,
   "id": "5ebf0bc8",
   "metadata": {},
   "outputs": [
    {
     "data": {
      "text/plain": [
       "246"
      ]
     },
     "execution_count": 325,
     "metadata": {},
     "output_type": "execute_result"
    }
   ],
   "source": [
    "len(val_y)\n"
   ]
  },
  {
   "cell_type": "code",
   "execution_count": 326,
   "id": "6793f3b5",
   "metadata": {},
   "outputs": [],
   "source": [
    "l = {\"experiment_num\": \"5\", \n",
    " \"model_type\": \"Rand forest no preprocessing\", \n",
    " \"train_mae\": mae(reg.predict(np.array(train_x)), np.array(train_y)) / 60, \n",
    " \"val_mae\": mae(reg.predict(np.array(val_x)), np.array(val_y)) / 60, \n",
    " \"perc_lt_5mins\": np.sum(np.abs( (reg.predict(np.array(val_x)) - np.array(val_y)) / 60) < 5)/ len(val_y) ,\n",
    " \"perc_lt_10mins\": np.sum(np.abs( (reg.predict(np.array(val_x)) - np.array(val_y)) / 60) < 10) / len(val_y),\n",
    "    \"train_preds\": reg.predict(np.array(train_x)),\n",
    "    \"val_preds\":reg.predict(np.array(val_x)) }\n",
    "\n",
    "metrics_df_lst.append(l)"
   ]
  },
  {
   "cell_type": "markdown",
   "id": "9c525d11",
   "metadata": {},
   "source": [
    "## Experiment 5\n",
    "## Rand forest cbrt y processing"
   ]
  },
  {
   "cell_type": "code",
   "execution_count": 327,
   "id": "f777615b",
   "metadata": {},
   "outputs": [
    {
     "name": "stdout",
     "output_type": "stream",
     "text": [
      "Fitting 5 folds for each of 21 candidates, totalling 105 fits\n",
      "[CV 1/5] END criterion=absolute_error, min_samples_split=2, n_estimators=50, n_jobs=-1;, score=-0.081 total time=   0.2s\n",
      "[CV 2/5] END criterion=absolute_error, min_samples_split=2, n_estimators=50, n_jobs=-1;, score=0.053 total time=   0.2s\n",
      "[CV 3/5] END criterion=absolute_error, min_samples_split=2, n_estimators=50, n_jobs=-1;, score=0.269 total time=   0.2s\n",
      "[CV 4/5] END criterion=absolute_error, min_samples_split=2, n_estimators=50, n_jobs=-1;, score=0.149 total time=   0.2s\n",
      "[CV 5/5] END criterion=absolute_error, min_samples_split=2, n_estimators=50, n_jobs=-1;, score=0.127 total time=   0.2s\n",
      "[CV 1/5] END criterion=absolute_error, min_samples_split=2, n_estimators=100, n_jobs=-1;, score=-0.085 total time=   0.3s\n",
      "[CV 2/5] END criterion=absolute_error, min_samples_split=2, n_estimators=100, n_jobs=-1;, score=0.008 total time=   0.2s\n",
      "[CV 3/5] END criterion=absolute_error, min_samples_split=2, n_estimators=100, n_jobs=-1;, score=0.249 total time=   0.2s\n",
      "[CV 4/5] END criterion=absolute_error, min_samples_split=2, n_estimators=100, n_jobs=-1;, score=0.141 total time=   0.2s\n",
      "[CV 5/5] END criterion=absolute_error, min_samples_split=2, n_estimators=100, n_jobs=-1;, score=0.138 total time=   0.3s\n",
      "[CV 1/5] END criterion=absolute_error, min_samples_split=2, n_estimators=200, n_jobs=-1;, score=-0.080 total time=   0.4s\n",
      "[CV 2/5] END criterion=absolute_error, min_samples_split=2, n_estimators=200, n_jobs=-1;, score=0.061 total time=   0.3s\n",
      "[CV 3/5] END criterion=absolute_error, min_samples_split=2, n_estimators=200, n_jobs=-1;, score=0.272 total time=   0.4s\n",
      "[CV 4/5] END criterion=absolute_error, min_samples_split=2, n_estimators=200, n_jobs=-1;, score=0.147 total time=   0.4s\n",
      "[CV 5/5] END criterion=absolute_error, min_samples_split=2, n_estimators=200, n_jobs=-1;, score=0.129 total time=   0.4s\n",
      "[CV 1/5] END criterion=absolute_error, min_samples_split=10, n_estimators=50, n_jobs=-1;, score=-0.081 total time=   0.2s\n",
      "[CV 2/5] END criterion=absolute_error, min_samples_split=10, n_estimators=50, n_jobs=-1;, score=0.145 total time=   0.2s\n",
      "[CV 3/5] END criterion=absolute_error, min_samples_split=10, n_estimators=50, n_jobs=-1;, score=0.347 total time=   0.2s\n",
      "[CV 4/5] END criterion=absolute_error, min_samples_split=10, n_estimators=50, n_jobs=-1;, score=0.226 total time=   0.2s\n",
      "[CV 5/5] END criterion=absolute_error, min_samples_split=10, n_estimators=50, n_jobs=-1;, score=0.210 total time=   0.2s\n",
      "[CV 1/5] END criterion=absolute_error, min_samples_split=10, n_estimators=100, n_jobs=-1;, score=-0.093 total time=   0.3s\n",
      "[CV 2/5] END criterion=absolute_error, min_samples_split=10, n_estimators=100, n_jobs=-1;, score=0.137 total time=   0.2s\n",
      "[CV 3/5] END criterion=absolute_error, min_samples_split=10, n_estimators=100, n_jobs=-1;, score=0.345 total time=   0.2s\n",
      "[CV 4/5] END criterion=absolute_error, min_samples_split=10, n_estimators=100, n_jobs=-1;, score=0.203 total time=   0.2s\n",
      "[CV 5/5] END criterion=absolute_error, min_samples_split=10, n_estimators=100, n_jobs=-1;, score=0.224 total time=   0.3s\n",
      "[CV 1/5] END criterion=absolute_error, min_samples_split=10, n_estimators=200, n_jobs=-1;, score=-0.086 total time=   0.4s\n",
      "[CV 2/5] END criterion=absolute_error, min_samples_split=10, n_estimators=200, n_jobs=-1;, score=0.147 total time=   0.4s\n",
      "[CV 3/5] END criterion=absolute_error, min_samples_split=10, n_estimators=200, n_jobs=-1;, score=0.350 total time=   0.4s\n",
      "[CV 4/5] END criterion=absolute_error, min_samples_split=10, n_estimators=200, n_jobs=-1;, score=0.219 total time=   0.3s\n",
      "[CV 5/5] END criterion=absolute_error, min_samples_split=10, n_estimators=200, n_jobs=-1;, score=0.202 total time=   0.3s\n",
      "[CV 1/5] END criterion=absolute_error, min_samples_split=30, n_estimators=50, n_jobs=-1;, score=-0.106 total time=   0.2s\n",
      "[CV 2/5] END criterion=absolute_error, min_samples_split=30, n_estimators=50, n_jobs=-1;, score=0.148 total time=   0.2s\n",
      "[CV 3/5] END criterion=absolute_error, min_samples_split=30, n_estimators=50, n_jobs=-1;, score=0.382 total time=   0.2s\n",
      "[CV 4/5] END criterion=absolute_error, min_samples_split=30, n_estimators=50, n_jobs=-1;, score=0.238 total time=   0.2s\n",
      "[CV 5/5] END criterion=absolute_error, min_samples_split=30, n_estimators=50, n_jobs=-1;, score=0.283 total time=   0.2s\n",
      "[CV 1/5] END criterion=absolute_error, min_samples_split=30, n_estimators=100, n_jobs=-1;, score=-0.102 total time=   0.3s\n",
      "[CV 2/5] END criterion=absolute_error, min_samples_split=30, n_estimators=100, n_jobs=-1;, score=0.150 total time=   0.2s\n",
      "[CV 3/5] END criterion=absolute_error, min_samples_split=30, n_estimators=100, n_jobs=-1;, score=0.386 total time=   0.2s\n",
      "[CV 4/5] END criterion=absolute_error, min_samples_split=30, n_estimators=100, n_jobs=-1;, score=0.240 total time=   0.2s\n",
      "[CV 5/5] END criterion=absolute_error, min_samples_split=30, n_estimators=100, n_jobs=-1;, score=0.280 total time=   0.3s\n",
      "[CV 1/5] END criterion=absolute_error, min_samples_split=30, n_estimators=200, n_jobs=-1;, score=-0.110 total time=   0.4s\n",
      "[CV 2/5] END criterion=absolute_error, min_samples_split=30, n_estimators=200, n_jobs=-1;, score=0.154 total time=   0.3s\n",
      "[CV 3/5] END criterion=absolute_error, min_samples_split=30, n_estimators=200, n_jobs=-1;, score=0.388 total time=   0.3s\n",
      "[CV 4/5] END criterion=absolute_error, min_samples_split=30, n_estimators=200, n_jobs=-1;, score=0.240 total time=   0.4s\n",
      "[CV 5/5] END criterion=absolute_error, min_samples_split=30, n_estimators=200, n_jobs=-1;, score=0.287 total time=   0.4s\n",
      "[CV 1/5] END criterion=absolute_error, min_samples_split=0.02, n_estimators=50, n_jobs=-1;, score=-0.101 total time=   0.2s\n",
      "[CV 2/5] END criterion=absolute_error, min_samples_split=0.02, n_estimators=50, n_jobs=-1;, score=0.147 total time=   0.2s\n",
      "[CV 3/5] END criterion=absolute_error, min_samples_split=0.02, n_estimators=50, n_jobs=-1;, score=0.359 total time=   0.2s\n",
      "[CV 4/5] END criterion=absolute_error, min_samples_split=0.02, n_estimators=50, n_jobs=-1;, score=0.233 total time=   0.2s\n",
      "[CV 5/5] END criterion=absolute_error, min_samples_split=0.02, n_estimators=50, n_jobs=-1;, score=0.258 total time=   0.2s\n",
      "[CV 1/5] END criterion=absolute_error, min_samples_split=0.02, n_estimators=100, n_jobs=-1;, score=-0.107 total time=   0.2s\n",
      "[CV 2/5] END criterion=absolute_error, min_samples_split=0.02, n_estimators=100, n_jobs=-1;, score=0.132 total time=   0.2s\n",
      "[CV 3/5] END criterion=absolute_error, min_samples_split=0.02, n_estimators=100, n_jobs=-1;, score=0.379 total time=   0.3s\n",
      "[CV 4/5] END criterion=absolute_error, min_samples_split=0.02, n_estimators=100, n_jobs=-1;, score=0.225 total time=   0.2s\n",
      "[CV 5/5] END criterion=absolute_error, min_samples_split=0.02, n_estimators=100, n_jobs=-1;, score=0.250 total time=   0.2s\n",
      "[CV 1/5] END criterion=absolute_error, min_samples_split=0.02, n_estimators=200, n_jobs=-1;, score=-0.104 total time=   0.4s\n",
      "[CV 2/5] END criterion=absolute_error, min_samples_split=0.02, n_estimators=200, n_jobs=-1;, score=0.144 total time=   0.4s\n",
      "[CV 3/5] END criterion=absolute_error, min_samples_split=0.02, n_estimators=200, n_jobs=-1;, score=0.376 total time=   0.4s\n",
      "[CV 4/5] END criterion=absolute_error, min_samples_split=0.02, n_estimators=200, n_jobs=-1;, score=0.228 total time=   0.3s\n",
      "[CV 5/5] END criterion=absolute_error, min_samples_split=0.02, n_estimators=200, n_jobs=-1;, score=0.235 total time=   0.4s\n",
      "[CV 1/5] END criterion=absolute_error, min_samples_split=0.05, n_estimators=50, n_jobs=-1;, score=-0.118 total time=   0.2s\n",
      "[CV 2/5] END criterion=absolute_error, min_samples_split=0.05, n_estimators=50, n_jobs=-1;, score=0.146 total time=   0.2s\n",
      "[CV 3/5] END criterion=absolute_error, min_samples_split=0.05, n_estimators=50, n_jobs=-1;, score=0.379 total time=   0.2s\n",
      "[CV 4/5] END criterion=absolute_error, min_samples_split=0.05, n_estimators=50, n_jobs=-1;, score=0.236 total time=   0.2s\n",
      "[CV 5/5] END criterion=absolute_error, min_samples_split=0.05, n_estimators=50, n_jobs=-1;, score=0.307 total time=   0.2s\n",
      "[CV 1/5] END criterion=absolute_error, min_samples_split=0.05, n_estimators=100, n_jobs=-1;, score=-0.114 total time=   0.2s\n",
      "[CV 2/5] END criterion=absolute_error, min_samples_split=0.05, n_estimators=100, n_jobs=-1;, score=0.154 total time=   0.2s\n"
     ]
    },
    {
     "name": "stdout",
     "output_type": "stream",
     "text": [
      "[CV 3/5] END criterion=absolute_error, min_samples_split=0.05, n_estimators=100, n_jobs=-1;, score=0.381 total time=   0.2s\n",
      "[CV 4/5] END criterion=absolute_error, min_samples_split=0.05, n_estimators=100, n_jobs=-1;, score=0.242 total time=   0.2s\n",
      "[CV 5/5] END criterion=absolute_error, min_samples_split=0.05, n_estimators=100, n_jobs=-1;, score=0.299 total time=   0.3s\n",
      "[CV 1/5] END criterion=absolute_error, min_samples_split=0.05, n_estimators=200, n_jobs=-1;, score=-0.115 total time=   0.3s\n",
      "[CV 2/5] END criterion=absolute_error, min_samples_split=0.05, n_estimators=200, n_jobs=-1;, score=0.150 total time=   0.3s\n",
      "[CV 3/5] END criterion=absolute_error, min_samples_split=0.05, n_estimators=200, n_jobs=-1;, score=0.385 total time=   0.4s\n",
      "[CV 4/5] END criterion=absolute_error, min_samples_split=0.05, n_estimators=200, n_jobs=-1;, score=0.235 total time=   0.3s\n",
      "[CV 5/5] END criterion=absolute_error, min_samples_split=0.05, n_estimators=200, n_jobs=-1;, score=0.300 total time=   0.3s\n",
      "[CV 1/5] END criterion=absolute_error, min_samples_split=0.1, n_estimators=50, n_jobs=-1;, score=-0.134 total time=   0.2s\n",
      "[CV 2/5] END criterion=absolute_error, min_samples_split=0.1, n_estimators=50, n_jobs=-1;, score=0.140 total time=   0.2s\n",
      "[CV 3/5] END criterion=absolute_error, min_samples_split=0.1, n_estimators=50, n_jobs=-1;, score=0.378 total time=   0.2s\n",
      "[CV 4/5] END criterion=absolute_error, min_samples_split=0.1, n_estimators=50, n_jobs=-1;, score=0.228 total time=   0.2s\n",
      "[CV 5/5] END criterion=absolute_error, min_samples_split=0.1, n_estimators=50, n_jobs=-1;, score=0.330 total time=   0.2s\n",
      "[CV 1/5] END criterion=absolute_error, min_samples_split=0.1, n_estimators=100, n_jobs=-1;, score=-0.142 total time=   0.2s\n",
      "[CV 2/5] END criterion=absolute_error, min_samples_split=0.1, n_estimators=100, n_jobs=-1;, score=0.145 total time=   0.3s\n",
      "[CV 3/5] END criterion=absolute_error, min_samples_split=0.1, n_estimators=100, n_jobs=-1;, score=0.379 total time=   0.2s\n",
      "[CV 4/5] END criterion=absolute_error, min_samples_split=0.1, n_estimators=100, n_jobs=-1;, score=0.234 total time=   0.2s\n",
      "[CV 5/5] END criterion=absolute_error, min_samples_split=0.1, n_estimators=100, n_jobs=-1;, score=0.327 total time=   0.2s\n",
      "[CV 1/5] END criterion=absolute_error, min_samples_split=0.1, n_estimators=200, n_jobs=-1;, score=-0.139 total time=   0.4s\n",
      "[CV 2/5] END criterion=absolute_error, min_samples_split=0.1, n_estimators=200, n_jobs=-1;, score=0.136 total time=   0.3s\n",
      "[CV 3/5] END criterion=absolute_error, min_samples_split=0.1, n_estimators=200, n_jobs=-1;, score=0.383 total time=   0.3s\n",
      "[CV 4/5] END criterion=absolute_error, min_samples_split=0.1, n_estimators=200, n_jobs=-1;, score=0.236 total time=   0.3s\n",
      "[CV 5/5] END criterion=absolute_error, min_samples_split=0.1, n_estimators=200, n_jobs=-1;, score=0.329 total time=   0.3s\n",
      "[CV 1/5] END criterion=absolute_error, min_samples_split=0.2, n_estimators=50, n_jobs=-1;, score=-0.195 total time=   0.2s\n",
      "[CV 2/5] END criterion=absolute_error, min_samples_split=0.2, n_estimators=50, n_jobs=-1;, score=0.104 total time=   0.2s\n",
      "[CV 3/5] END criterion=absolute_error, min_samples_split=0.2, n_estimators=50, n_jobs=-1;, score=0.312 total time=   0.2s\n",
      "[CV 4/5] END criterion=absolute_error, min_samples_split=0.2, n_estimators=50, n_jobs=-1;, score=0.222 total time=   0.2s\n",
      "[CV 5/5] END criterion=absolute_error, min_samples_split=0.2, n_estimators=50, n_jobs=-1;, score=0.272 total time=   0.2s\n",
      "[CV 1/5] END criterion=absolute_error, min_samples_split=0.2, n_estimators=100, n_jobs=-1;, score=-0.184 total time=   0.2s\n",
      "[CV 2/5] END criterion=absolute_error, min_samples_split=0.2, n_estimators=100, n_jobs=-1;, score=0.105 total time=   0.2s\n",
      "[CV 3/5] END criterion=absolute_error, min_samples_split=0.2, n_estimators=100, n_jobs=-1;, score=0.317 total time=   0.2s\n",
      "[CV 4/5] END criterion=absolute_error, min_samples_split=0.2, n_estimators=100, n_jobs=-1;, score=0.222 total time=   0.2s\n",
      "[CV 5/5] END criterion=absolute_error, min_samples_split=0.2, n_estimators=100, n_jobs=-1;, score=0.255 total time=   0.2s\n",
      "[CV 1/5] END criterion=absolute_error, min_samples_split=0.2, n_estimators=200, n_jobs=-1;, score=-0.189 total time=   0.3s\n",
      "[CV 2/5] END criterion=absolute_error, min_samples_split=0.2, n_estimators=200, n_jobs=-1;, score=0.106 total time=   0.3s\n",
      "[CV 3/5] END criterion=absolute_error, min_samples_split=0.2, n_estimators=200, n_jobs=-1;, score=0.322 total time=   0.4s\n",
      "[CV 4/5] END criterion=absolute_error, min_samples_split=0.2, n_estimators=200, n_jobs=-1;, score=0.222 total time=   0.3s\n",
      "[CV 5/5] END criterion=absolute_error, min_samples_split=0.2, n_estimators=200, n_jobs=-1;, score=0.261 total time=   0.3s\n"
     ]
    },
    {
     "data": {
      "text/plain": [
       "0.2528593249732951"
      ]
     },
     "execution_count": 327,
     "metadata": {},
     "output_type": "execute_result"
    }
   ],
   "source": [
    "\n",
    "import numpy as np\n",
    "from sklearn.linear_model import LinearRegression\n",
    "\n",
    "from sklearn.ensemble import RandomForestRegressor\n",
    "\n",
    "from sklearn.metrics import mean_absolute_error as mae\n",
    "\n",
    "\n",
    "from sklearn.model_selection import GridSearchCV\n",
    "parameters = {'n_estimators':[50, 100, 200], 'min_samples_split':[2, 10, 30, 0.02, 0.05, 0.1, 0.2],\n",
    "              \"criterion\": [\"absolute_error\"], \"n_jobs\":[-1]}\n",
    "\n",
    "rand_for = RandomForestRegressor()\n",
    "reg = GridSearchCV(rand_for, parameters, verbose=3)\n",
    "reg.fit(np.array(train_x), transform_y(np.array(train_y)))\n",
    "\n",
    "\n",
    "reg.score(np.array(train_x), transform_y(np.array(train_y)))\n",
    "\n",
    "\n"
   ]
  },
  {
   "cell_type": "code",
   "execution_count": 328,
   "id": "12bb8738",
   "metadata": {},
   "outputs": [
    {
     "data": {
      "text/plain": [
       "{'criterion': 'absolute_error',\n",
       " 'min_samples_split': 0.05,\n",
       " 'n_estimators': 100,\n",
       " 'n_jobs': -1}"
      ]
     },
     "execution_count": 328,
     "metadata": {},
     "output_type": "execute_result"
    }
   ],
   "source": [
    "reg.best_params_\n",
    "\n"
   ]
  },
  {
   "cell_type": "code",
   "execution_count": 329,
   "id": "cb674be8",
   "metadata": {},
   "outputs": [
    {
     "data": {
      "text/plain": [
       "14.675458120382281"
      ]
     },
     "execution_count": 329,
     "metadata": {},
     "output_type": "execute_result"
    }
   ],
   "source": [
    "# train\n",
    "mae(inv_transform_y(reg.predict(np.array(train_x))), np.array(train_y)) / 60\n",
    "\n"
   ]
  },
  {
   "cell_type": "code",
   "execution_count": 330,
   "id": "4251b02a",
   "metadata": {},
   "outputs": [
    {
     "data": {
      "text/plain": [
       "7.727729198942632"
      ]
     },
     "execution_count": 330,
     "metadata": {},
     "output_type": "execute_result"
    }
   ],
   "source": [
    "#val\n",
    "mae(inv_transform_y(reg.predict(np.array(val_x))), np.array(val_y)) / 60\n",
    "\n"
   ]
  },
  {
   "cell_type": "code",
   "execution_count": 331,
   "id": "b2302631",
   "metadata": {},
   "outputs": [
    {
     "data": {
      "image/png": "[encoded data removed]",
      "text/plain": [
       "<Figure size 432x288 with 1 Axes>"
      ]
     },
     "metadata": {
      "needs_background": "light"
     },
     "output_type": "display_data"
    }
   ],
   "source": [
    "# errors plot\n",
    "\n",
    "plt.ylabel(\"num validation samples\")\n",
    "plt.xlabel(\"minutes error\")\n",
    "\n",
    "plt.hist((inv_transform_y(reg.predict(np.array(val_x))) - np.array(val_y)) / 60, bins=50)\n",
    "\n",
    "\n",
    "plt.savefig('plots/exp5_alldata_rand_for_cbrt_errors_plot.png')\n",
    "\n"
   ]
  },
  {
   "cell_type": "code",
   "execution_count": 332,
   "id": "4e6fe720",
   "metadata": {},
   "outputs": [
    {
     "data": {
      "text/plain": [
       "152"
      ]
     },
     "execution_count": 332,
     "metadata": {},
     "output_type": "execute_result"
    }
   ],
   "source": [
    "np.sum(np.abs( (inv_transform_y(reg.predict(np.array(val_x))) - np.array(val_y)) / 60) < 5)\n",
    "\n"
   ]
  },
  {
   "cell_type": "code",
   "execution_count": 333,
   "id": "123b09c6",
   "metadata": {},
   "outputs": [
    {
     "data": {
      "text/plain": [
       "246"
      ]
     },
     "execution_count": 333,
     "metadata": {},
     "output_type": "execute_result"
    }
   ],
   "source": [
    "len(val_y)\n"
   ]
  },
  {
   "cell_type": "code",
   "execution_count": 334,
   "id": "0c09a5e3",
   "metadata": {},
   "outputs": [
    {
     "data": {
      "text/plain": [
       "191"
      ]
     },
     "execution_count": 334,
     "metadata": {},
     "output_type": "execute_result"
    }
   ],
   "source": [
    "\n",
    "np.sum(np.abs( (inv_transform_y(reg.predict(np.array(val_x))) - np.array(val_y)) / 60) < 10)"
   ]
  },
  {
   "cell_type": "code",
   "execution_count": 335,
   "id": "1a43b6eb",
   "metadata": {},
   "outputs": [
    {
     "data": {
      "text/plain": [
       "0.4596774193548387"
      ]
     },
     "execution_count": 335,
     "metadata": {},
     "output_type": "execute_result"
    }
   ],
   "source": [
    "285 / 620"
   ]
  },
  {
   "cell_type": "code",
   "execution_count": 336,
   "id": "61227e2d",
   "metadata": {},
   "outputs": [
    {
     "data": {
      "text/plain": [
       "0.6854838709677419"
      ]
     },
     "execution_count": 336,
     "metadata": {},
     "output_type": "execute_result"
    }
   ],
   "source": [
    "425 / 620"
   ]
  },
  {
   "cell_type": "code",
   "execution_count": 337,
   "id": "b4e26cbc",
   "metadata": {},
   "outputs": [],
   "source": [
    "l = {\"experiment_num\": \"5\", \n",
    " \"model_type\": \"Rand forest cbrt y preprocessing\", \n",
    " \"train_mae\": mae(inv_transform_y(reg.predict(np.array(train_x))), np.array(train_y)) / 60, \n",
    " \"val_mae\": mae(inv_transform_y(reg.predict(np.array(val_x))), np.array(val_y)) / 60, \n",
    " \"perc_lt_5mins\": np.sum(np.abs( (inv_transform_y(reg.predict(np.array(val_x))) - np.array(val_y)) / 60) < 5) / len(val_y) ,\n",
    " \"perc_lt_10mins\": np.sum(np.abs( (inv_transform_y(reg.predict(np.array(val_x))) - np.array(val_y)) / 60) < 10) / len(val_y),\n",
    "    \"train_preds\": inv_transform_y(reg.predict(np.array(train_x))),\n",
    "    \"val_preds\":inv_transform_y(reg.predict(np.array(val_x))) }\n",
    "\n",
    "metrics_df_lst.append(l)"
   ]
  },
  {
   "cell_type": "markdown",
   "id": "8a26641f",
   "metadata": {},
   "source": [
    "## Experiment 6\n",
    "## Num of cells by class (with/without subcell/ pallet/ refrigerator) (cell type clustering)\n"
   ]
  },
  {
   "cell_type": "code",
   "execution_count": 338,
   "id": "95cd72c5",
   "metadata": {},
   "outputs": [
    {
     "data": {
      "text/html": [
       "<div>\n",
       "<style scoped>\n",
       "    .dataframe tbody tr th:only-of-type {\n",
       "        vertical-align: middle;\n",
       "    }\n",
       "\n",
       "    .dataframe tbody tr th {\n",
       "        vertical-align: top;\n",
       "    }\n",
       "\n",
       "    .dataframe thead th {\n",
       "        text-align: right;\n",
       "    }\n",
       "</style>\n",
       "<table border=\"1\" class=\"dataframe\">\n",
       "  <thead>\n",
       "    <tr style=\"text-align: right;\">\n",
       "      <th></th>\n",
       "      <th>product_id</th>\n",
       "      <th>sku_code</th>\n",
       "      <th>name</th>\n",
       "      <th>volume</th>\n",
       "      <th>place</th>\n",
       "      <th>warehouse_name</th>\n",
       "      <th>cleaned_place</th>\n",
       "      <th>short_cleaned_place</th>\n",
       "      <th>place_cell</th>\n",
       "      <th>place_level</th>\n",
       "    </tr>\n",
       "  </thead>\n",
       "  <tbody>\n",
       "    <tr>\n",
       "      <th>151</th>\n",
       "      <td>616</td>\n",
       "      <td>10830</td>\n",
       "      <td>262</td>\n",
       "      <td>NaN</td>\n",
       "      <td>21-2</td>\n",
       "      <td>5</td>\n",
       "      <td>[21-2]</td>\n",
       "      <td>[21-2]</td>\n",
       "      <td>[21]</td>\n",
       "      <td>[2]</td>\n",
       "    </tr>\n",
       "    <tr>\n",
       "      <th>159</th>\n",
       "      <td>624</td>\n",
       "      <td>1898</td>\n",
       "      <td>1065</td>\n",
       "      <td>NaN</td>\n",
       "      <td>22-3-2</td>\n",
       "      <td>5</td>\n",
       "      <td>[22-3-2]</td>\n",
       "      <td>[22-3]</td>\n",
       "      <td>[22]</td>\n",
       "      <td>[3]</td>\n",
       "    </tr>\n",
       "    <tr>\n",
       "      <th>160</th>\n",
       "      <td>625</td>\n",
       "      <td>2748</td>\n",
       "      <td>1065</td>\n",
       "      <td>NaN</td>\n",
       "      <td>22-3-2</td>\n",
       "      <td>5</td>\n",
       "      <td>[22-3-2]</td>\n",
       "      <td>[22-3]</td>\n",
       "      <td>[22]</td>\n",
       "      <td>[3]</td>\n",
       "    </tr>\n",
       "    <tr>\n",
       "      <th>164</th>\n",
       "      <td>629</td>\n",
       "      <td>2747</td>\n",
       "      <td>1460</td>\n",
       "      <td>NaN</td>\n",
       "      <td>22-3-2</td>\n",
       "      <td>5</td>\n",
       "      <td>[22-3-2]</td>\n",
       "      <td>[22-3]</td>\n",
       "      <td>[22]</td>\n",
       "      <td>[3]</td>\n",
       "    </tr>\n",
       "    <tr>\n",
       "      <th>184</th>\n",
       "      <td>649</td>\n",
       "      <td>2019</td>\n",
       "      <td>1063</td>\n",
       "      <td>NaN</td>\n",
       "      <td>22-2-1</td>\n",
       "      <td>5</td>\n",
       "      <td>[22-2-1]</td>\n",
       "      <td>[22-2]</td>\n",
       "      <td>[22]</td>\n",
       "      <td>[2]</td>\n",
       "    </tr>\n",
       "  </tbody>\n",
       "</table>\n",
       "</div>"
      ],
      "text/plain": [
       "     product_id sku_code  name  volume   place warehouse_name cleaned_place  \\\n",
       "151         616    10830   262     NaN    21-2              5        [21-2]   \n",
       "159         624     1898  1065     NaN  22-3-2              5      [22-3-2]   \n",
       "160         625     2748  1065     NaN  22-3-2              5      [22-3-2]   \n",
       "164         629     2747  1460     NaN  22-3-2              5      [22-3-2]   \n",
       "184         649     2019  1063     NaN  22-2-1              5      [22-2-1]   \n",
       "\n",
       "    short_cleaned_place place_cell place_level  \n",
       "151              [21-2]       [21]         [2]  \n",
       "159              [22-3]       [22]         [3]  \n",
       "160              [22-3]       [22]         [3]  \n",
       "164              [22-3]       [22]         [3]  \n",
       "184              [22-2]       [22]         [2]  "
      ]
     },
     "execution_count": 338,
     "metadata": {},
     "output_type": "execute_result"
    }
   ],
   "source": [
    "products_list_df.head()"
   ]
  },
  {
   "cell_type": "code",
   "execution_count": 339,
   "id": "d6e05746",
   "metadata": {},
   "outputs": [],
   "source": [
    "all_places= set()\n",
    "for p in products_list_df[\"cleaned_place\"]:\n",
    "    all_places.update(p)\n"
   ]
  },
  {
   "cell_type": "code",
   "execution_count": null,
   "id": "f90411cb",
   "metadata": {},
   "outputs": [],
   "source": []
  },
  {
   "cell_type": "code",
   "execution_count": 340,
   "id": "6c384966",
   "metadata": {},
   "outputs": [],
   "source": [
    "prod_id_to_place_dict = {}\n",
    "\n",
    "for ind, row in products_list_df.iterrows():\n",
    "    prod_id_to_place_dict[row[\"product_id\"]] = row[\"cleaned_place\"]\n",
    "    \n",
    "    \n",
    "def place_to_place_type_vect(place):\n",
    "    # 0 - no sub cell, no pallet, no fridge\n",
    "    # 1 - fridge\n",
    "    # 2 - pallet\n",
    "    # sub-cell\n",
    "    \n",
    "    p = place[0]\n",
    "    num_clusts = 4\n",
    "    vect = np.zeros(num_clusts)\n",
    "    if \"П\" in p:\n",
    "        vect[2] = 1\n",
    "    elif \"X\" in p:\n",
    "        vect[1] = 1\n",
    "    elif ((p[0].isalpha()) and (p.count('-') >= 3)) or ((not p[0].isalpha()) and (p.count('-') >= 2)):\n",
    "        vect[3] = 1\n",
    "    else:\n",
    "        vect[0] = 1\n",
    "    \n",
    "    return vect\n",
    "        \n",
    "    \n",
    "order_id_to_product_id_list = dict(order_list_df.groupby(\"order_id\")[\"product_id\"].apply(list))\n",
    "\n",
    "order_id_to_places_type_vect = {}\n",
    "\n",
    "for k in order_id_to_product_id_list.keys():\n",
    "    vect_lst = []\n",
    "    \n",
    "    for p in order_id_to_product_id_list.get(k, []):\n",
    "        \n",
    "        if p in prod_id_to_place_dict:\n",
    "            vect_lst.append(place_to_place_type_vect(prod_id_to_place_dict[p]))\n",
    "        \n",
    "    if vect_lst:\n",
    "        order_id_to_places_type_vect[k] = sum(vect_lst)\n",
    "        \n",
    "        \n",
    "collect_id_to_order_id_list = dict(order_collects_df.groupby(\"collect_id\")[\"order_id\"].apply(list))\n",
    "\n",
    "collect_id_to_places_type_vect = {}\n",
    "\n",
    "\n",
    "for k in collect_id_to_order_id_list.keys():\n",
    "    vect_lst = []\n",
    "    \n",
    "    for oid in collect_id_to_order_id_list.get(k, []):\n",
    "        if oid in order_id_to_places_type_vect:\n",
    "            vect_lst.append(order_id_to_places_type_vect[oid])\n",
    "        \n",
    "    if vect_lst:\n",
    "        collect_id_to_places_type_vect[k] = sum(vect_lst)\n",
    "        # No values larger than 1. Only 1 for cells to which we have to walk\n",
    "        # collect_id_to_line_vect[k][collect_id_to_line_vect[k] > 0] = 1\n",
    "        \n",
    "        \n",
    "        \n",
    "collect_id_to_time_spent_walking = dict(order_collects_df.groupby(\"collect_id\")[\"approx_store_walk_time\"].mean().dt.total_seconds())\n",
    "\n",
    "\n",
    "train_keys = collect_id_keys_train\n",
    "val_keys = collect_id_keys_val\n",
    "\n",
    "train_x = []\n",
    "val_x = []\n",
    "train_y = []\n",
    "val_y = []\n",
    "\n",
    "for k in train_keys:\n",
    "    if (k in collect_id_to_places_type_vect) and (k in collect_id_to_time_spent_walking):\n",
    "        train_x.append(collect_id_to_places_type_vect[k])\n",
    "        train_y.append(collect_id_to_time_spent_walking[k])\n",
    "    \n",
    "for k in val_keys:\n",
    "    if (k in collect_id_to_places_type_vect) and (k in collect_id_to_time_spent_walking):\n",
    "        val_x.append(collect_id_to_places_type_vect[k])\n",
    "        val_y.append(collect_id_to_time_spent_walking[k])"
   ]
  },
  {
   "cell_type": "code",
   "execution_count": 341,
   "id": "3e0ad48a",
   "metadata": {},
   "outputs": [
    {
     "data": {
      "text/plain": [
       "10757"
      ]
     },
     "execution_count": 341,
     "metadata": {},
     "output_type": "execute_result"
    }
   ],
   "source": [
    "10757"
   ]
  },
  {
   "cell_type": "code",
   "execution_count": 342,
   "id": "05cab4c2",
   "metadata": {},
   "outputs": [],
   "source": [
    "#val_keys[172]"
   ]
  },
  {
   "cell_type": "code",
   "execution_count": 343,
   "id": "1a297d58",
   "metadata": {},
   "outputs": [],
   "source": [
    "#collect_id_to_time_spent_walking[14387]#10757"
   ]
  },
  {
   "cell_type": "code",
   "execution_count": null,
   "id": "33a5d03e",
   "metadata": {},
   "outputs": [],
   "source": []
  },
  {
   "cell_type": "code",
   "execution_count": 344,
   "id": "f051962b",
   "metadata": {},
   "outputs": [
    {
     "data": {
      "text/plain": [
       "[array([0., 0., 0., 2.]), array([2., 0., 0., 0.]), array([5., 0., 0., 3.])]"
      ]
     },
     "execution_count": 344,
     "metadata": {},
     "output_type": "execute_result"
    }
   ],
   "source": [
    "train_x[:3]"
   ]
  },
  {
   "cell_type": "markdown",
   "id": "5d90b63c",
   "metadata": {},
   "source": [
    "## Experiment 6\n",
    "## Lin reg no processing\n"
   ]
  },
  {
   "cell_type": "code",
   "execution_count": 345,
   "id": "b0f131f0",
   "metadata": {},
   "outputs": [
    {
     "data": {
      "text/plain": [
       "0.18418079403803356"
      ]
     },
     "execution_count": 345,
     "metadata": {},
     "output_type": "execute_result"
    }
   ],
   "source": [
    "#HEREEEEE\n",
    "import numpy as np\n",
    "from sklearn.linear_model import LinearRegression\n",
    "from sklearn.metrics import mean_absolute_error as mae\n",
    "\n",
    "from sklearn.ensemble import RandomForestRegressor\n",
    "\n",
    "X = np.array(train_x)\n",
    "reg = LinearRegression().fit(X, np.array(train_y))\n",
    "reg.score(np.array(val_x), np.array(val_y))\n",
    "\n"
   ]
  },
  {
   "cell_type": "code",
   "execution_count": 346,
   "id": "77cf2c2a",
   "metadata": {},
   "outputs": [
    {
     "data": {
      "text/plain": [
       "18.925837364765762"
      ]
     },
     "execution_count": 346,
     "metadata": {},
     "output_type": "execute_result"
    }
   ],
   "source": [
    "# train\n",
    "mae(reg.predict(np.array(train_x)), np.array(train_y)) / 60\n",
    "\n"
   ]
  },
  {
   "cell_type": "code",
   "execution_count": 347,
   "id": "2386e5a0",
   "metadata": {},
   "outputs": [
    {
     "data": {
      "text/plain": [
       "13.708512316839961"
      ]
     },
     "execution_count": 347,
     "metadata": {},
     "output_type": "execute_result"
    }
   ],
   "source": [
    "mae(reg.predict(np.array(val_x)), np.array(val_y)) / 60\n",
    "\n"
   ]
  },
  {
   "cell_type": "code",
   "execution_count": 348,
   "id": "ae429f9c",
   "metadata": {},
   "outputs": [
    {
     "data": {
      "image/png": "[encoded data removed]",
      "text/plain": [
       "<Figure size 432x288 with 1 Axes>"
      ]
     },
     "metadata": {
      "needs_background": "light"
     },
     "output_type": "display_data"
    }
   ],
   "source": [
    "# errors plot\n",
    "\n",
    "plt.ylabel(\"num validation samples\")\n",
    "plt.xlabel(\"minutes error\")\n",
    "\n",
    "plt.hist((reg.predict(np.array(val_x)) - np.array(val_y)) / 60, bins=50)\n",
    "\n",
    "\n",
    "plt.savefig('plots/exp6_alldata_linreg_errors_plot.png')\n",
    "\n"
   ]
  },
  {
   "cell_type": "code",
   "execution_count": 349,
   "id": "1ea27d84",
   "metadata": {},
   "outputs": [
    {
     "data": {
      "text/plain": [
       "21"
      ]
     },
     "execution_count": 349,
     "metadata": {},
     "output_type": "execute_result"
    }
   ],
   "source": [
    "np.sum(np.abs( (reg.predict(np.array(val_x)) - np.array(val_y)) / 60) < 5)\n",
    "\n"
   ]
  },
  {
   "cell_type": "code",
   "execution_count": 350,
   "id": "8db2cd2e",
   "metadata": {},
   "outputs": [
    {
     "data": {
      "text/plain": [
       "59"
      ]
     },
     "execution_count": 350,
     "metadata": {},
     "output_type": "execute_result"
    }
   ],
   "source": [
    "np.sum(np.abs( (reg.predict(np.array(val_x)) - np.array(val_y)) / 60) < 10)\n",
    "\n"
   ]
  },
  {
   "cell_type": "code",
   "execution_count": 351,
   "id": "880d6f68",
   "metadata": {},
   "outputs": [
    {
     "data": {
      "text/plain": [
       "246"
      ]
     },
     "execution_count": 351,
     "metadata": {},
     "output_type": "execute_result"
    }
   ],
   "source": [
    "len(val_y)"
   ]
  },
  {
   "cell_type": "code",
   "execution_count": 352,
   "id": "488ad661",
   "metadata": {},
   "outputs": [
    {
     "data": {
      "text/plain": [
       "0.1032258064516129"
      ]
     },
     "execution_count": 352,
     "metadata": {},
     "output_type": "execute_result"
    }
   ],
   "source": [
    "64 / 620"
   ]
  },
  {
   "cell_type": "code",
   "execution_count": 353,
   "id": "5a0b0e6f",
   "metadata": {},
   "outputs": [
    {
     "data": {
      "text/plain": [
       "0.25"
      ]
     },
     "execution_count": 353,
     "metadata": {},
     "output_type": "execute_result"
    }
   ],
   "source": [
    "155 / 620"
   ]
  },
  {
   "cell_type": "code",
   "execution_count": 354,
   "id": "dcd208e3",
   "metadata": {},
   "outputs": [],
   "source": [
    "l = {\"experiment_num\": \"6\", \n",
    " \"model_type\": \"Lin reg no preprocessing\", \n",
    " \"train_mae\": mae(reg.predict(np.array(train_x)), np.array(train_y)) / 60, \n",
    " \"val_mae\": mae(reg.predict(np.array(val_x)), np.array(val_y)) / 60, \n",
    " \"perc_lt_5mins\": np.sum(np.abs( (reg.predict(np.array(val_x)) - np.array(val_y)) / 60) < 5)/ len(val_y) ,\n",
    " \"perc_lt_10mins\": np.sum(np.abs( (reg.predict(np.array(val_x)) - np.array(val_y)) / 60) < 10) / len(val_y),\n",
    "    \"train_preds\": reg.predict(np.array(train_x)),\n",
    "    \"val_preds\":reg.predict(np.array(val_x)) }\n",
    "\n",
    "metrics_df_lst.append(l)"
   ]
  },
  {
   "cell_type": "markdown",
   "id": "e788bfe0",
   "metadata": {},
   "source": [
    "## Experiment 6\n",
    "## Lin reg cbrt y processing"
   ]
  },
  {
   "cell_type": "code",
   "execution_count": 355,
   "id": "303e7f9c",
   "metadata": {},
   "outputs": [
    {
     "data": {
      "text/plain": [
       "0.27630427983175443"
      ]
     },
     "execution_count": 355,
     "metadata": {},
     "output_type": "execute_result"
    }
   ],
   "source": [
    "\n",
    "import numpy as np\n",
    "from sklearn.linear_model import LinearRegression\n",
    "from sklearn.metrics import mean_absolute_error as mae\n",
    "\n",
    "from sklearn.ensemble import RandomForestRegressor\n",
    "\n",
    "X = np.array(train_x)\n",
    "reg = LinearRegression().fit(X, transform_y(np.array(train_y)))\n",
    "reg.score(np.array(val_x), transform_y(np.array(val_y)))\n",
    "\n"
   ]
  },
  {
   "cell_type": "code",
   "execution_count": 356,
   "id": "eef692f3",
   "metadata": {},
   "outputs": [
    {
     "data": {
      "text/plain": [
       "16.957415485736487"
      ]
     },
     "execution_count": 356,
     "metadata": {},
     "output_type": "execute_result"
    }
   ],
   "source": [
    "# train\n",
    "mae(inv_transform_y(reg.predict(np.array(train_x))), np.array(train_y)) / 60\n"
   ]
  },
  {
   "cell_type": "code",
   "execution_count": 357,
   "id": "f1e95570",
   "metadata": {},
   "outputs": [
    {
     "data": {
      "text/plain": [
       "8.49370944475537"
      ]
     },
     "execution_count": 357,
     "metadata": {},
     "output_type": "execute_result"
    }
   ],
   "source": [
    "#val\n",
    "mae(inv_transform_y(reg.predict(np.array(val_x))), np.array(val_y)) / 60\n"
   ]
  },
  {
   "cell_type": "code",
   "execution_count": 358,
   "id": "2ad7ba38",
   "metadata": {},
   "outputs": [
    {
     "data": {
      "image/png": "[encoded data removed]",
      "text/plain": [
       "<Figure size 432x288 with 1 Axes>"
      ]
     },
     "metadata": {
      "needs_background": "light"
     },
     "output_type": "display_data"
    }
   ],
   "source": [
    "# errors plot\n",
    "\n",
    "plt.ylabel(\"num validation samples\")\n",
    "plt.xlabel(\"minutes error\")\n",
    "\n",
    "plt.hist((inv_transform_y(reg.predict(np.array(val_x))) - np.array(val_y)) / 60, bins=50)\n",
    "\n",
    "\n",
    "plt.savefig('plots/exp6_alldata_linreg_cbrt_errors_plot.png')\n",
    "\n"
   ]
  },
  {
   "cell_type": "code",
   "execution_count": 359,
   "id": "255daa05",
   "metadata": {},
   "outputs": [
    {
     "data": {
      "text/plain": [
       "94"
      ]
     },
     "execution_count": 359,
     "metadata": {},
     "output_type": "execute_result"
    }
   ],
   "source": [
    "np.sum(np.abs( (inv_transform_y(reg.predict(np.array(val_x))) - np.array(val_y)) / 60) < 5)\n"
   ]
  },
  {
   "cell_type": "code",
   "execution_count": 360,
   "id": "cee5bd16",
   "metadata": {},
   "outputs": [
    {
     "data": {
      "text/plain": [
       "0.2887096774193548"
      ]
     },
     "execution_count": 360,
     "metadata": {},
     "output_type": "execute_result"
    }
   ],
   "source": [
    "179 / 620"
   ]
  },
  {
   "cell_type": "code",
   "execution_count": 361,
   "id": "3defd65e",
   "metadata": {},
   "outputs": [
    {
     "data": {
      "text/plain": [
       "216"
      ]
     },
     "execution_count": 361,
     "metadata": {},
     "output_type": "execute_result"
    }
   ],
   "source": [
    "np.sum(np.abs( (inv_transform_y(reg.predict(np.array(val_x))) - np.array(val_y)) / 60) < 10)"
   ]
  },
  {
   "cell_type": "code",
   "execution_count": 362,
   "id": "8af0b465",
   "metadata": {},
   "outputs": [
    {
     "data": {
      "text/plain": [
       "0.6112903225806452"
      ]
     },
     "execution_count": 362,
     "metadata": {},
     "output_type": "execute_result"
    }
   ],
   "source": [
    "379 / 620"
   ]
  },
  {
   "cell_type": "code",
   "execution_count": 363,
   "id": "307b72a8",
   "metadata": {},
   "outputs": [
    {
     "data": {
      "text/plain": [
       "246"
      ]
     },
     "execution_count": 363,
     "metadata": {},
     "output_type": "execute_result"
    }
   ],
   "source": [
    "len(val_y)"
   ]
  },
  {
   "cell_type": "code",
   "execution_count": 365,
   "id": "71d8c760",
   "metadata": {},
   "outputs": [],
   "source": [
    "l = {\"experiment_num\": \"6\", \n",
    " \"model_type\": \"Lin reg cbrt y preprocessing\", \n",
    " \"train_mae\": mae(inv_transform_y(reg.predict(np.array(train_x))), np.array(train_y)) / 60, \n",
    " \"val_mae\": mae(inv_transform_y(reg.predict(np.array(val_x))), np.array(val_y)) / 60, \n",
    " \"perc_lt_5mins\": np.sum(np.abs( (inv_transform_y(reg.predict(np.array(val_x))) - np.array(val_y)) / 60) < 5) / len(val_y) ,\n",
    " \"perc_lt_10mins\": np.sum(np.abs( (inv_transform_y(reg.predict(np.array(val_x))) - np.array(val_y)) / 60) < 10) / len(val_y),\n",
    "    \"train_preds\": inv_transform_y(reg.predict(np.array(train_x))),\n",
    "    \"val_preds\":inv_transform_y(reg.predict(np.array(val_x))) }\n",
    "\n",
    "metrics_df_lst.append(l)"
   ]
  },
  {
   "cell_type": "markdown",
   "id": "29e6755e",
   "metadata": {},
   "source": [
    "## Experiment 6\n",
    "## Rand forest no x,y processing\n"
   ]
  },
  {
   "cell_type": "code",
   "execution_count": 366,
   "id": "a92e9585",
   "metadata": {},
   "outputs": [
    {
     "name": "stdout",
     "output_type": "stream",
     "text": [
      "Fitting 5 folds for each of 21 candidates, totalling 105 fits\n",
      "[CV 1/5] END criterion=absolute_error, min_samples_split=2, n_estimators=50, n_jobs=-1;, score=-0.172 total time=   0.2s\n",
      "[CV 2/5] END criterion=absolute_error, min_samples_split=2, n_estimators=50, n_jobs=-1;, score=-0.015 total time=   0.2s\n",
      "[CV 3/5] END criterion=absolute_error, min_samples_split=2, n_estimators=50, n_jobs=-1;, score=-0.016 total time=   0.2s\n",
      "[CV 4/5] END criterion=absolute_error, min_samples_split=2, n_estimators=50, n_jobs=-1;, score=-0.006 total time=   0.2s\n",
      "[CV 5/5] END criterion=absolute_error, min_samples_split=2, n_estimators=50, n_jobs=-1;, score=-0.028 total time=   0.2s\n",
      "[CV 1/5] END criterion=absolute_error, min_samples_split=2, n_estimators=100, n_jobs=-1;, score=-0.133 total time=   0.3s\n",
      "[CV 2/5] END criterion=absolute_error, min_samples_split=2, n_estimators=100, n_jobs=-1;, score=-0.024 total time=   0.3s\n",
      "[CV 3/5] END criterion=absolute_error, min_samples_split=2, n_estimators=100, n_jobs=-1;, score=-0.026 total time=   0.2s\n",
      "[CV 4/5] END criterion=absolute_error, min_samples_split=2, n_estimators=100, n_jobs=-1;, score=-0.016 total time=   0.3s\n",
      "[CV 5/5] END criterion=absolute_error, min_samples_split=2, n_estimators=100, n_jobs=-1;, score=-0.012 total time=   0.3s\n",
      "[CV 1/5] END criterion=absolute_error, min_samples_split=2, n_estimators=200, n_jobs=-1;, score=-0.150 total time=   0.4s\n",
      "[CV 2/5] END criterion=absolute_error, min_samples_split=2, n_estimators=200, n_jobs=-1;, score=-0.006 total time=   0.4s\n",
      "[CV 3/5] END criterion=absolute_error, min_samples_split=2, n_estimators=200, n_jobs=-1;, score=0.017 total time=   0.4s\n",
      "[CV 4/5] END criterion=absolute_error, min_samples_split=2, n_estimators=200, n_jobs=-1;, score=-0.017 total time=   0.4s\n",
      "[CV 5/5] END criterion=absolute_error, min_samples_split=2, n_estimators=200, n_jobs=-1;, score=-0.027 total time=   0.4s\n",
      "[CV 1/5] END criterion=absolute_error, min_samples_split=10, n_estimators=50, n_jobs=-1;, score=-0.153 total time=   0.2s\n",
      "[CV 2/5] END criterion=absolute_error, min_samples_split=10, n_estimators=50, n_jobs=-1;, score=0.033 total time=   0.2s\n",
      "[CV 3/5] END criterion=absolute_error, min_samples_split=10, n_estimators=50, n_jobs=-1;, score=0.196 total time=   0.2s\n",
      "[CV 4/5] END criterion=absolute_error, min_samples_split=10, n_estimators=50, n_jobs=-1;, score=0.007 total time=   0.2s\n",
      "[CV 5/5] END criterion=absolute_error, min_samples_split=10, n_estimators=50, n_jobs=-1;, score=0.171 total time=   0.2s\n",
      "[CV 1/5] END criterion=absolute_error, min_samples_split=10, n_estimators=100, n_jobs=-1;, score=-0.156 total time=   0.3s\n",
      "[CV 2/5] END criterion=absolute_error, min_samples_split=10, n_estimators=100, n_jobs=-1;, score=0.060 total time=   0.3s\n",
      "[CV 3/5] END criterion=absolute_error, min_samples_split=10, n_estimators=100, n_jobs=-1;, score=0.186 total time=   0.3s\n",
      "[CV 4/5] END criterion=absolute_error, min_samples_split=10, n_estimators=100, n_jobs=-1;, score=-0.007 total time=   0.2s\n",
      "[CV 5/5] END criterion=absolute_error, min_samples_split=10, n_estimators=100, n_jobs=-1;, score=0.157 total time=   0.3s\n",
      "[CV 1/5] END criterion=absolute_error, min_samples_split=10, n_estimators=200, n_jobs=-1;, score=-0.158 total time=   0.3s\n",
      "[CV 2/5] END criterion=absolute_error, min_samples_split=10, n_estimators=200, n_jobs=-1;, score=0.045 total time=   0.5s\n",
      "[CV 3/5] END criterion=absolute_error, min_samples_split=10, n_estimators=200, n_jobs=-1;, score=0.186 total time=   0.4s\n",
      "[CV 4/5] END criterion=absolute_error, min_samples_split=10, n_estimators=200, n_jobs=-1;, score=-0.002 total time=   0.4s\n",
      "[CV 5/5] END criterion=absolute_error, min_samples_split=10, n_estimators=200, n_jobs=-1;, score=0.150 total time=   0.4s\n",
      "[CV 1/5] END criterion=absolute_error, min_samples_split=30, n_estimators=50, n_jobs=-1;, score=-0.151 total time=   0.2s\n",
      "[CV 2/5] END criterion=absolute_error, min_samples_split=30, n_estimators=50, n_jobs=-1;, score=0.043 total time=   0.2s\n",
      "[CV 3/5] END criterion=absolute_error, min_samples_split=30, n_estimators=50, n_jobs=-1;, score=0.199 total time=   0.2s\n",
      "[CV 4/5] END criterion=absolute_error, min_samples_split=30, n_estimators=50, n_jobs=-1;, score=-0.009 total time=   0.2s\n",
      "[CV 5/5] END criterion=absolute_error, min_samples_split=30, n_estimators=50, n_jobs=-1;, score=0.229 total time=   0.2s\n",
      "[CV 1/5] END criterion=absolute_error, min_samples_split=30, n_estimators=100, n_jobs=-1;, score=-0.144 total time=   0.3s\n",
      "[CV 2/5] END criterion=absolute_error, min_samples_split=30, n_estimators=100, n_jobs=-1;, score=0.061 total time=   0.2s\n",
      "[CV 3/5] END criterion=absolute_error, min_samples_split=30, n_estimators=100, n_jobs=-1;, score=0.210 total time=   0.3s\n",
      "[CV 4/5] END criterion=absolute_error, min_samples_split=30, n_estimators=100, n_jobs=-1;, score=-0.003 total time=   0.2s\n",
      "[CV 5/5] END criterion=absolute_error, min_samples_split=30, n_estimators=100, n_jobs=-1;, score=0.231 total time=   0.3s\n",
      "[CV 1/5] END criterion=absolute_error, min_samples_split=30, n_estimators=200, n_jobs=-1;, score=-0.144 total time=   0.4s\n",
      "[CV 2/5] END criterion=absolute_error, min_samples_split=30, n_estimators=200, n_jobs=-1;, score=0.053 total time=   0.4s\n",
      "[CV 3/5] END criterion=absolute_error, min_samples_split=30, n_estimators=200, n_jobs=-1;, score=0.211 total time=   0.4s\n",
      "[CV 4/5] END criterion=absolute_error, min_samples_split=30, n_estimators=200, n_jobs=-1;, score=-0.010 total time=   0.4s\n",
      "[CV 5/5] END criterion=absolute_error, min_samples_split=30, n_estimators=200, n_jobs=-1;, score=0.233 total time=   0.4s\n",
      "[CV 1/5] END criterion=absolute_error, min_samples_split=0.02, n_estimators=50, n_jobs=-1;, score=-0.144 total time=   0.2s\n",
      "[CV 2/5] END criterion=absolute_error, min_samples_split=0.02, n_estimators=50, n_jobs=-1;, score=0.043 total time=   0.2s\n",
      "[CV 3/5] END criterion=absolute_error, min_samples_split=0.02, n_estimators=50, n_jobs=-1;, score=0.196 total time=   0.2s\n",
      "[CV 4/5] END criterion=absolute_error, min_samples_split=0.02, n_estimators=50, n_jobs=-1;, score=-0.004 total time=   0.2s\n",
      "[CV 5/5] END criterion=absolute_error, min_samples_split=0.02, n_estimators=50, n_jobs=-1;, score=0.186 total time=   0.2s\n",
      "[CV 1/5] END criterion=absolute_error, min_samples_split=0.02, n_estimators=100, n_jobs=-1;, score=-0.141 total time=   0.3s\n",
      "[CV 2/5] END criterion=absolute_error, min_samples_split=0.02, n_estimators=100, n_jobs=-1;, score=0.029 total time=   0.2s\n",
      "[CV 3/5] END criterion=absolute_error, min_samples_split=0.02, n_estimators=100, n_jobs=-1;, score=0.211 total time=   0.3s\n",
      "[CV 4/5] END criterion=absolute_error, min_samples_split=0.02, n_estimators=100, n_jobs=-1;, score=-0.001 total time=   0.3s\n",
      "[CV 5/5] END criterion=absolute_error, min_samples_split=0.02, n_estimators=100, n_jobs=-1;, score=0.204 total time=   0.3s\n",
      "[CV 1/5] END criterion=absolute_error, min_samples_split=0.02, n_estimators=200, n_jobs=-1;, score=-0.142 total time=   0.4s\n",
      "[CV 2/5] END criterion=absolute_error, min_samples_split=0.02, n_estimators=200, n_jobs=-1;, score=0.064 total time=   0.4s\n",
      "[CV 3/5] END criterion=absolute_error, min_samples_split=0.02, n_estimators=200, n_jobs=-1;, score=0.204 total time=   0.4s\n",
      "[CV 4/5] END criterion=absolute_error, min_samples_split=0.02, n_estimators=200, n_jobs=-1;, score=-0.008 total time=   0.4s\n",
      "[CV 5/5] END criterion=absolute_error, min_samples_split=0.02, n_estimators=200, n_jobs=-1;, score=0.199 total time=   0.4s\n",
      "[CV 1/5] END criterion=absolute_error, min_samples_split=0.05, n_estimators=50, n_jobs=-1;, score=-0.140 total time=   0.2s\n",
      "[CV 2/5] END criterion=absolute_error, min_samples_split=0.05, n_estimators=50, n_jobs=-1;, score=0.071 total time=   0.2s\n",
      "[CV 3/5] END criterion=absolute_error, min_samples_split=0.05, n_estimators=50, n_jobs=-1;, score=0.210 total time=   0.2s\n",
      "[CV 4/5] END criterion=absolute_error, min_samples_split=0.05, n_estimators=50, n_jobs=-1;, score=0.002 total time=   0.2s\n",
      "[CV 5/5] END criterion=absolute_error, min_samples_split=0.05, n_estimators=50, n_jobs=-1;, score=0.239 total time=   0.2s\n",
      "[CV 1/5] END criterion=absolute_error, min_samples_split=0.05, n_estimators=100, n_jobs=-1;, score=-0.140 total time=   0.3s\n",
      "[CV 2/5] END criterion=absolute_error, min_samples_split=0.05, n_estimators=100, n_jobs=-1;, score=0.062 total time=   0.3s\n"
     ]
    },
    {
     "name": "stdout",
     "output_type": "stream",
     "text": [
      "[CV 3/5] END criterion=absolute_error, min_samples_split=0.05, n_estimators=100, n_jobs=-1;, score=0.214 total time=   0.2s\n",
      "[CV 4/5] END criterion=absolute_error, min_samples_split=0.05, n_estimators=100, n_jobs=-1;, score=-0.005 total time=   0.2s\n",
      "[CV 5/5] END criterion=absolute_error, min_samples_split=0.05, n_estimators=100, n_jobs=-1;, score=0.230 total time=   0.3s\n",
      "[CV 1/5] END criterion=absolute_error, min_samples_split=0.05, n_estimators=200, n_jobs=-1;, score=-0.135 total time=   0.4s\n",
      "[CV 2/5] END criterion=absolute_error, min_samples_split=0.05, n_estimators=200, n_jobs=-1;, score=0.065 total time=   0.3s\n",
      "[CV 3/5] END criterion=absolute_error, min_samples_split=0.05, n_estimators=200, n_jobs=-1;, score=0.220 total time=   0.4s\n",
      "[CV 4/5] END criterion=absolute_error, min_samples_split=0.05, n_estimators=200, n_jobs=-1;, score=0.002 total time=   0.4s\n",
      "[CV 5/5] END criterion=absolute_error, min_samples_split=0.05, n_estimators=200, n_jobs=-1;, score=0.234 total time=   0.4s\n",
      "[CV 1/5] END criterion=absolute_error, min_samples_split=0.1, n_estimators=50, n_jobs=-1;, score=-0.128 total time=   0.2s\n",
      "[CV 2/5] END criterion=absolute_error, min_samples_split=0.1, n_estimators=50, n_jobs=-1;, score=0.063 total time=   0.2s\n",
      "[CV 3/5] END criterion=absolute_error, min_samples_split=0.1, n_estimators=50, n_jobs=-1;, score=0.190 total time=   0.2s\n",
      "[CV 4/5] END criterion=absolute_error, min_samples_split=0.1, n_estimators=50, n_jobs=-1;, score=0.008 total time=   0.2s\n",
      "[CV 5/5] END criterion=absolute_error, min_samples_split=0.1, n_estimators=50, n_jobs=-1;, score=0.192 total time=   0.2s\n",
      "[CV 1/5] END criterion=absolute_error, min_samples_split=0.1, n_estimators=100, n_jobs=-1;, score=-0.128 total time=   0.3s\n",
      "[CV 2/5] END criterion=absolute_error, min_samples_split=0.1, n_estimators=100, n_jobs=-1;, score=0.053 total time=   0.2s\n",
      "[CV 3/5] END criterion=absolute_error, min_samples_split=0.1, n_estimators=100, n_jobs=-1;, score=0.187 total time=   0.2s\n",
      "[CV 4/5] END criterion=absolute_error, min_samples_split=0.1, n_estimators=100, n_jobs=-1;, score=-0.007 total time=   0.2s\n",
      "[CV 5/5] END criterion=absolute_error, min_samples_split=0.1, n_estimators=100, n_jobs=-1;, score=0.202 total time=   0.2s\n",
      "[CV 1/5] END criterion=absolute_error, min_samples_split=0.1, n_estimators=200, n_jobs=-1;, score=-0.126 total time=   0.4s\n",
      "[CV 2/5] END criterion=absolute_error, min_samples_split=0.1, n_estimators=200, n_jobs=-1;, score=0.051 total time=   0.4s\n",
      "[CV 3/5] END criterion=absolute_error, min_samples_split=0.1, n_estimators=200, n_jobs=-1;, score=0.195 total time=   0.4s\n",
      "[CV 4/5] END criterion=absolute_error, min_samples_split=0.1, n_estimators=200, n_jobs=-1;, score=0.004 total time=   0.4s\n",
      "[CV 5/5] END criterion=absolute_error, min_samples_split=0.1, n_estimators=200, n_jobs=-1;, score=0.198 total time=   0.4s\n",
      "[CV 1/5] END criterion=absolute_error, min_samples_split=0.2, n_estimators=50, n_jobs=-1;, score=-0.195 total time=   0.2s\n",
      "[CV 2/5] END criterion=absolute_error, min_samples_split=0.2, n_estimators=50, n_jobs=-1;, score=0.003 total time=   0.2s\n",
      "[CV 3/5] END criterion=absolute_error, min_samples_split=0.2, n_estimators=50, n_jobs=-1;, score=0.195 total time=   0.2s\n",
      "[CV 4/5] END criterion=absolute_error, min_samples_split=0.2, n_estimators=50, n_jobs=-1;, score=0.002 total time=   0.2s\n",
      "[CV 5/5] END criterion=absolute_error, min_samples_split=0.2, n_estimators=50, n_jobs=-1;, score=0.166 total time=   0.2s\n",
      "[CV 1/5] END criterion=absolute_error, min_samples_split=0.2, n_estimators=100, n_jobs=-1;, score=-0.184 total time=   0.2s\n",
      "[CV 2/5] END criterion=absolute_error, min_samples_split=0.2, n_estimators=100, n_jobs=-1;, score=0.009 total time=   0.2s\n",
      "[CV 3/5] END criterion=absolute_error, min_samples_split=0.2, n_estimators=100, n_jobs=-1;, score=0.167 total time=   0.2s\n",
      "[CV 4/5] END criterion=absolute_error, min_samples_split=0.2, n_estimators=100, n_jobs=-1;, score=0.007 total time=   0.2s\n",
      "[CV 5/5] END criterion=absolute_error, min_samples_split=0.2, n_estimators=100, n_jobs=-1;, score=0.173 total time=   0.2s\n",
      "[CV 1/5] END criterion=absolute_error, min_samples_split=0.2, n_estimators=200, n_jobs=-1;, score=-0.193 total time=   0.4s\n",
      "[CV 2/5] END criterion=absolute_error, min_samples_split=0.2, n_estimators=200, n_jobs=-1;, score=0.008 total time=   0.4s\n",
      "[CV 3/5] END criterion=absolute_error, min_samples_split=0.2, n_estimators=200, n_jobs=-1;, score=0.175 total time=   0.3s\n",
      "[CV 4/5] END criterion=absolute_error, min_samples_split=0.2, n_estimators=200, n_jobs=-1;, score=0.001 total time=   0.4s\n",
      "[CV 5/5] END criterion=absolute_error, min_samples_split=0.2, n_estimators=200, n_jobs=-1;, score=0.179 total time=   0.4s\n"
     ]
    },
    {
     "data": {
      "text/plain": [
       "0.11755133560401554"
      ]
     },
     "execution_count": 366,
     "metadata": {},
     "output_type": "execute_result"
    }
   ],
   "source": [
    "import numpy as np\n",
    "from sklearn.linear_model import LinearRegression\n",
    "\n",
    "from sklearn.ensemble import RandomForestRegressor\n",
    "\n",
    "from sklearn.metrics import mean_absolute_error as mae\n",
    "\n",
    "\n",
    "from sklearn.model_selection import GridSearchCV\n",
    "parameters = {'n_estimators':[50, 100, 200], 'min_samples_split':[2, 10, 30, 0.02, 0.05, 0.1, 0.2],\n",
    "              \"criterion\": [\"absolute_error\"], \"n_jobs\":[-1]}\n",
    "\n",
    "rand_for = RandomForestRegressor()\n",
    "reg = GridSearchCV(rand_for, parameters, verbose=3)\n",
    "reg.fit(np.array(train_x), np.array(train_y))\n",
    "\n",
    "\n",
    "reg.score(np.array(train_x), np.array(train_y))\n",
    "\n"
   ]
  },
  {
   "cell_type": "code",
   "execution_count": 367,
   "id": "d76e5e62",
   "metadata": {},
   "outputs": [
    {
     "data": {
      "text/plain": [
       "{'criterion': 'absolute_error',\n",
       " 'min_samples_split': 0.05,\n",
       " 'n_estimators': 200,\n",
       " 'n_jobs': -1}"
      ]
     },
     "execution_count": 367,
     "metadata": {},
     "output_type": "execute_result"
    }
   ],
   "source": [
    "reg.best_params_\n"
   ]
  },
  {
   "cell_type": "code",
   "execution_count": 368,
   "id": "c2993a4b",
   "metadata": {},
   "outputs": [
    {
     "data": {
      "text/plain": [
       "14.787874703590784"
      ]
     },
     "execution_count": 368,
     "metadata": {},
     "output_type": "execute_result"
    }
   ],
   "source": [
    "# train\n",
    "mae(reg.predict(np.array(train_x)), np.array(train_y)) / 60\n"
   ]
  },
  {
   "cell_type": "code",
   "execution_count": 369,
   "id": "6cf396a0",
   "metadata": {},
   "outputs": [
    {
     "data": {
      "text/plain": [
       "7.386527777777777"
      ]
     },
     "execution_count": 369,
     "metadata": {},
     "output_type": "execute_result"
    }
   ],
   "source": [
    "#val\n",
    "mae(reg.predict(np.array(val_x)), np.array(val_y)) / 60\n"
   ]
  },
  {
   "cell_type": "code",
   "execution_count": 370,
   "id": "ea4ddd58",
   "metadata": {},
   "outputs": [
    {
     "data": {
      "image/png": "[encoded data removed]",
      "text/plain": [
       "<Figure size 432x288 with 1 Axes>"
      ]
     },
     "metadata": {
      "needs_background": "light"
     },
     "output_type": "display_data"
    }
   ],
   "source": [
    "# errors plot\n",
    "\n",
    "plt.ylabel(\"num validation samples\")\n",
    "plt.xlabel(\"minutes error\")\n",
    "\n",
    "plt.hist((reg.predict(np.array(val_x)) - np.array(val_y)) / 60, bins=50)\n",
    "\n",
    "\n",
    "plt.savefig('plots/exp6_alldata_rand_for_errors_plot.png')\n",
    "\n"
   ]
  },
  {
   "cell_type": "code",
   "execution_count": 371,
   "id": "a844c411",
   "metadata": {},
   "outputs": [
    {
     "data": {
      "text/plain": [
       "149"
      ]
     },
     "execution_count": 371,
     "metadata": {},
     "output_type": "execute_result"
    }
   ],
   "source": [
    "np.sum(np.abs( (reg.predict(np.array(val_x)) - np.array(val_y)) / 60) < 5)\n",
    "\n"
   ]
  },
  {
   "cell_type": "code",
   "execution_count": 372,
   "id": "d0d26f0d",
   "metadata": {},
   "outputs": [
    {
     "data": {
      "text/plain": [
       "194"
      ]
     },
     "execution_count": 372,
     "metadata": {},
     "output_type": "execute_result"
    }
   ],
   "source": [
    "np.sum(np.abs( (reg.predict(np.array(val_x)) - np.array(val_y)) / 60) < 10)\n"
   ]
  },
  {
   "cell_type": "code",
   "execution_count": 373,
   "id": "7579d103",
   "metadata": {},
   "outputs": [
    {
     "data": {
      "text/plain": [
       "246"
      ]
     },
     "execution_count": 373,
     "metadata": {},
     "output_type": "execute_result"
    }
   ],
   "source": [
    "len(val_y)\n"
   ]
  },
  {
   "cell_type": "code",
   "execution_count": 374,
   "id": "6c9af97f",
   "metadata": {},
   "outputs": [
    {
     "data": {
      "text/plain": [
       "0.4403225806451613"
      ]
     },
     "execution_count": 374,
     "metadata": {},
     "output_type": "execute_result"
    }
   ],
   "source": [
    "273 / 620"
   ]
  },
  {
   "cell_type": "code",
   "execution_count": 375,
   "id": "a7e13215",
   "metadata": {},
   "outputs": [
    {
     "data": {
      "text/plain": [
       "0.6645161290322581"
      ]
     },
     "execution_count": 375,
     "metadata": {},
     "output_type": "execute_result"
    }
   ],
   "source": [
    "412 / 620"
   ]
  },
  {
   "cell_type": "code",
   "execution_count": 376,
   "id": "ffc46cf9",
   "metadata": {},
   "outputs": [],
   "source": [
    "l = {\"experiment_num\": \"6\", \n",
    " \"model_type\": \"Rand forest no preprocessing\", \n",
    " \"train_mae\": mae(reg.predict(np.array(train_x)), np.array(train_y)) / 60, \n",
    " \"val_mae\": mae(reg.predict(np.array(val_x)), np.array(val_y)) / 60, \n",
    " \"perc_lt_5mins\": np.sum(np.abs( (reg.predict(np.array(val_x)) - np.array(val_y)) / 60) < 5)/ len(val_y) ,\n",
    " \"perc_lt_10mins\": np.sum(np.abs( (reg.predict(np.array(val_x)) - np.array(val_y)) / 60) < 10) / len(val_y),\n",
    "    \"train_preds\": reg.predict(np.array(train_x)),\n",
    "    \"val_preds\":reg.predict(np.array(val_x)) }\n",
    "\n",
    "metrics_df_lst.append(l)"
   ]
  },
  {
   "cell_type": "markdown",
   "id": "61e32448",
   "metadata": {},
   "source": [
    "## Experiment 6\n",
    "## Rand forest cbrt y processing"
   ]
  },
  {
   "cell_type": "code",
   "execution_count": 377,
   "id": "00e42283",
   "metadata": {},
   "outputs": [
    {
     "name": "stdout",
     "output_type": "stream",
     "text": [
      "Fitting 5 folds for each of 21 candidates, totalling 105 fits\n",
      "[CV 1/5] END criterion=absolute_error, min_samples_split=2, n_estimators=50, n_jobs=-1;, score=-0.151 total time=   0.2s\n",
      "[CV 2/5] END criterion=absolute_error, min_samples_split=2, n_estimators=50, n_jobs=-1;, score=0.008 total time=   0.2s\n",
      "[CV 3/5] END criterion=absolute_error, min_samples_split=2, n_estimators=50, n_jobs=-1;, score=0.218 total time=   0.2s\n",
      "[CV 4/5] END criterion=absolute_error, min_samples_split=2, n_estimators=50, n_jobs=-1;, score=0.096 total time=   0.2s\n",
      "[CV 5/5] END criterion=absolute_error, min_samples_split=2, n_estimators=50, n_jobs=-1;, score=0.119 total time=   0.2s\n",
      "[CV 1/5] END criterion=absolute_error, min_samples_split=2, n_estimators=100, n_jobs=-1;, score=-0.187 total time=   0.3s\n",
      "[CV 2/5] END criterion=absolute_error, min_samples_split=2, n_estimators=100, n_jobs=-1;, score=0.022 total time=   0.2s\n",
      "[CV 3/5] END criterion=absolute_error, min_samples_split=2, n_estimators=100, n_jobs=-1;, score=0.230 total time=   0.2s\n",
      "[CV 4/5] END criterion=absolute_error, min_samples_split=2, n_estimators=100, n_jobs=-1;, score=0.092 total time=   0.2s\n",
      "[CV 5/5] END criterion=absolute_error, min_samples_split=2, n_estimators=100, n_jobs=-1;, score=0.113 total time=   0.3s\n",
      "[CV 1/5] END criterion=absolute_error, min_samples_split=2, n_estimators=200, n_jobs=-1;, score=-0.175 total time=   0.4s\n",
      "[CV 2/5] END criterion=absolute_error, min_samples_split=2, n_estimators=200, n_jobs=-1;, score=0.016 total time=   0.4s\n",
      "[CV 3/5] END criterion=absolute_error, min_samples_split=2, n_estimators=200, n_jobs=-1;, score=0.214 total time=   0.4s\n",
      "[CV 4/5] END criterion=absolute_error, min_samples_split=2, n_estimators=200, n_jobs=-1;, score=0.097 total time=   0.4s\n",
      "[CV 5/5] END criterion=absolute_error, min_samples_split=2, n_estimators=200, n_jobs=-1;, score=0.107 total time=   0.4s\n",
      "[CV 1/5] END criterion=absolute_error, min_samples_split=10, n_estimators=50, n_jobs=-1;, score=-0.158 total time=   0.2s\n",
      "[CV 2/5] END criterion=absolute_error, min_samples_split=10, n_estimators=50, n_jobs=-1;, score=0.045 total time=   0.2s\n",
      "[CV 3/5] END criterion=absolute_error, min_samples_split=10, n_estimators=50, n_jobs=-1;, score=0.310 total time=   0.2s\n",
      "[CV 4/5] END criterion=absolute_error, min_samples_split=10, n_estimators=50, n_jobs=-1;, score=0.105 total time=   0.2s\n",
      "[CV 5/5] END criterion=absolute_error, min_samples_split=10, n_estimators=50, n_jobs=-1;, score=0.201 total time=   0.2s\n",
      "[CV 1/5] END criterion=absolute_error, min_samples_split=10, n_estimators=100, n_jobs=-1;, score=-0.177 total time=   0.3s\n",
      "[CV 2/5] END criterion=absolute_error, min_samples_split=10, n_estimators=100, n_jobs=-1;, score=0.043 total time=   0.2s\n",
      "[CV 3/5] END criterion=absolute_error, min_samples_split=10, n_estimators=100, n_jobs=-1;, score=0.312 total time=   0.2s\n",
      "[CV 4/5] END criterion=absolute_error, min_samples_split=10, n_estimators=100, n_jobs=-1;, score=0.113 total time=   0.2s\n",
      "[CV 5/5] END criterion=absolute_error, min_samples_split=10, n_estimators=100, n_jobs=-1;, score=0.201 total time=   0.2s\n",
      "[CV 1/5] END criterion=absolute_error, min_samples_split=10, n_estimators=200, n_jobs=-1;, score=-0.155 total time=   0.4s\n",
      "[CV 2/5] END criterion=absolute_error, min_samples_split=10, n_estimators=200, n_jobs=-1;, score=0.043 total time=   0.4s\n",
      "[CV 3/5] END criterion=absolute_error, min_samples_split=10, n_estimators=200, n_jobs=-1;, score=0.312 total time=   0.3s\n",
      "[CV 4/5] END criterion=absolute_error, min_samples_split=10, n_estimators=200, n_jobs=-1;, score=0.110 total time=   0.4s\n",
      "[CV 5/5] END criterion=absolute_error, min_samples_split=10, n_estimators=200, n_jobs=-1;, score=0.218 total time=   0.4s\n",
      "[CV 1/5] END criterion=absolute_error, min_samples_split=30, n_estimators=50, n_jobs=-1;, score=-0.146 total time=   0.2s\n",
      "[CV 2/5] END criterion=absolute_error, min_samples_split=30, n_estimators=50, n_jobs=-1;, score=0.062 total time=   0.2s\n",
      "[CV 3/5] END criterion=absolute_error, min_samples_split=30, n_estimators=50, n_jobs=-1;, score=0.333 total time=   0.2s\n",
      "[CV 4/5] END criterion=absolute_error, min_samples_split=30, n_estimators=50, n_jobs=-1;, score=0.140 total time=   0.2s\n",
      "[CV 5/5] END criterion=absolute_error, min_samples_split=30, n_estimators=50, n_jobs=-1;, score=0.278 total time=   0.2s\n",
      "[CV 1/5] END criterion=absolute_error, min_samples_split=30, n_estimators=100, n_jobs=-1;, score=-0.133 total time=   0.2s\n",
      "[CV 2/5] END criterion=absolute_error, min_samples_split=30, n_estimators=100, n_jobs=-1;, score=0.066 total time=   0.3s\n",
      "[CV 3/5] END criterion=absolute_error, min_samples_split=30, n_estimators=100, n_jobs=-1;, score=0.339 total time=   0.2s\n",
      "[CV 4/5] END criterion=absolute_error, min_samples_split=30, n_estimators=100, n_jobs=-1;, score=0.139 total time=   0.2s\n",
      "[CV 5/5] END criterion=absolute_error, min_samples_split=30, n_estimators=100, n_jobs=-1;, score=0.290 total time=   0.2s\n",
      "[CV 1/5] END criterion=absolute_error, min_samples_split=30, n_estimators=200, n_jobs=-1;, score=-0.128 total time=   0.3s\n",
      "[CV 2/5] END criterion=absolute_error, min_samples_split=30, n_estimators=200, n_jobs=-1;, score=0.065 total time=   0.4s\n",
      "[CV 3/5] END criterion=absolute_error, min_samples_split=30, n_estimators=200, n_jobs=-1;, score=0.345 total time=   0.3s\n",
      "[CV 4/5] END criterion=absolute_error, min_samples_split=30, n_estimators=200, n_jobs=-1;, score=0.135 total time=   0.4s\n",
      "[CV 5/5] END criterion=absolute_error, min_samples_split=30, n_estimators=200, n_jobs=-1;, score=0.283 total time=   0.4s\n",
      "[CV 1/5] END criterion=absolute_error, min_samples_split=0.02, n_estimators=50, n_jobs=-1;, score=-0.147 total time=   0.2s\n",
      "[CV 2/5] END criterion=absolute_error, min_samples_split=0.02, n_estimators=50, n_jobs=-1;, score=0.045 total time=   0.2s\n",
      "[CV 3/5] END criterion=absolute_error, min_samples_split=0.02, n_estimators=50, n_jobs=-1;, score=0.332 total time=   0.2s\n",
      "[CV 4/5] END criterion=absolute_error, min_samples_split=0.02, n_estimators=50, n_jobs=-1;, score=0.110 total time=   0.2s\n",
      "[CV 5/5] END criterion=absolute_error, min_samples_split=0.02, n_estimators=50, n_jobs=-1;, score=0.269 total time=   0.2s\n",
      "[CV 1/5] END criterion=absolute_error, min_samples_split=0.02, n_estimators=100, n_jobs=-1;, score=-0.144 total time=   0.2s\n",
      "[CV 2/5] END criterion=absolute_error, min_samples_split=0.02, n_estimators=100, n_jobs=-1;, score=0.054 total time=   0.2s\n",
      "[CV 3/5] END criterion=absolute_error, min_samples_split=0.02, n_estimators=100, n_jobs=-1;, score=0.321 total time=   0.2s\n",
      "[CV 4/5] END criterion=absolute_error, min_samples_split=0.02, n_estimators=100, n_jobs=-1;, score=0.115 total time=   0.2s\n",
      "[CV 5/5] END criterion=absolute_error, min_samples_split=0.02, n_estimators=100, n_jobs=-1;, score=0.242 total time=   0.3s\n",
      "[CV 1/5] END criterion=absolute_error, min_samples_split=0.02, n_estimators=200, n_jobs=-1;, score=-0.136 total time=   0.4s\n",
      "[CV 2/5] END criterion=absolute_error, min_samples_split=0.02, n_estimators=200, n_jobs=-1;, score=0.051 total time=   0.4s\n",
      "[CV 3/5] END criterion=absolute_error, min_samples_split=0.02, n_estimators=200, n_jobs=-1;, score=0.324 total time=   0.4s\n",
      "[CV 4/5] END criterion=absolute_error, min_samples_split=0.02, n_estimators=200, n_jobs=-1;, score=0.121 total time=   0.3s\n",
      "[CV 5/5] END criterion=absolute_error, min_samples_split=0.02, n_estimators=200, n_jobs=-1;, score=0.264 total time=   0.4s\n",
      "[CV 1/5] END criterion=absolute_error, min_samples_split=0.05, n_estimators=50, n_jobs=-1;, score=-0.124 total time=   0.2s\n",
      "[CV 2/5] END criterion=absolute_error, min_samples_split=0.05, n_estimators=50, n_jobs=-1;, score=0.064 total time=   0.2s\n",
      "[CV 3/5] END criterion=absolute_error, min_samples_split=0.05, n_estimators=50, n_jobs=-1;, score=0.344 total time=   0.2s\n",
      "[CV 4/5] END criterion=absolute_error, min_samples_split=0.05, n_estimators=50, n_jobs=-1;, score=0.144 total time=   0.2s\n",
      "[CV 5/5] END criterion=absolute_error, min_samples_split=0.05, n_estimators=50, n_jobs=-1;, score=0.303 total time=   0.2s\n",
      "[CV 1/5] END criterion=absolute_error, min_samples_split=0.05, n_estimators=100, n_jobs=-1;, score=-0.127 total time=   0.2s\n",
      "[CV 2/5] END criterion=absolute_error, min_samples_split=0.05, n_estimators=100, n_jobs=-1;, score=0.065 total time=   0.2s\n"
     ]
    },
    {
     "name": "stdout",
     "output_type": "stream",
     "text": [
      "[CV 3/5] END criterion=absolute_error, min_samples_split=0.05, n_estimators=100, n_jobs=-1;, score=0.339 total time=   0.2s\n",
      "[CV 4/5] END criterion=absolute_error, min_samples_split=0.05, n_estimators=100, n_jobs=-1;, score=0.135 total time=   0.2s\n",
      "[CV 5/5] END criterion=absolute_error, min_samples_split=0.05, n_estimators=100, n_jobs=-1;, score=0.295 total time=   0.2s\n",
      "[CV 1/5] END criterion=absolute_error, min_samples_split=0.05, n_estimators=200, n_jobs=-1;, score=-0.126 total time=   0.4s\n",
      "[CV 2/5] END criterion=absolute_error, min_samples_split=0.05, n_estimators=200, n_jobs=-1;, score=0.069 total time=   0.3s\n",
      "[CV 3/5] END criterion=absolute_error, min_samples_split=0.05, n_estimators=200, n_jobs=-1;, score=0.343 total time=   0.3s\n",
      "[CV 4/5] END criterion=absolute_error, min_samples_split=0.05, n_estimators=200, n_jobs=-1;, score=0.141 total time=   0.3s\n",
      "[CV 5/5] END criterion=absolute_error, min_samples_split=0.05, n_estimators=200, n_jobs=-1;, score=0.293 total time=   0.4s\n",
      "[CV 1/5] END criterion=absolute_error, min_samples_split=0.1, n_estimators=50, n_jobs=-1;, score=-0.117 total time=   0.2s\n",
      "[CV 2/5] END criterion=absolute_error, min_samples_split=0.1, n_estimators=50, n_jobs=-1;, score=0.053 total time=   0.2s\n",
      "[CV 3/5] END criterion=absolute_error, min_samples_split=0.1, n_estimators=50, n_jobs=-1;, score=0.334 total time=   0.2s\n",
      "[CV 4/5] END criterion=absolute_error, min_samples_split=0.1, n_estimators=50, n_jobs=-1;, score=0.141 total time=   0.2s\n",
      "[CV 5/5] END criterion=absolute_error, min_samples_split=0.1, n_estimators=50, n_jobs=-1;, score=0.316 total time=   0.2s\n",
      "[CV 1/5] END criterion=absolute_error, min_samples_split=0.1, n_estimators=100, n_jobs=-1;, score=-0.120 total time=   0.2s\n",
      "[CV 2/5] END criterion=absolute_error, min_samples_split=0.1, n_estimators=100, n_jobs=-1;, score=0.064 total time=   0.2s\n",
      "[CV 3/5] END criterion=absolute_error, min_samples_split=0.1, n_estimators=100, n_jobs=-1;, score=0.341 total time=   0.2s\n",
      "[CV 4/5] END criterion=absolute_error, min_samples_split=0.1, n_estimators=100, n_jobs=-1;, score=0.149 total time=   0.2s\n",
      "[CV 5/5] END criterion=absolute_error, min_samples_split=0.1, n_estimators=100, n_jobs=-1;, score=0.308 total time=   0.2s\n",
      "[CV 1/5] END criterion=absolute_error, min_samples_split=0.1, n_estimators=200, n_jobs=-1;, score=-0.120 total time=   0.4s\n",
      "[CV 2/5] END criterion=absolute_error, min_samples_split=0.1, n_estimators=200, n_jobs=-1;, score=0.059 total time=   0.4s\n",
      "[CV 3/5] END criterion=absolute_error, min_samples_split=0.1, n_estimators=200, n_jobs=-1;, score=0.332 total time=   0.4s\n",
      "[CV 4/5] END criterion=absolute_error, min_samples_split=0.1, n_estimators=200, n_jobs=-1;, score=0.155 total time=   0.3s\n",
      "[CV 5/5] END criterion=absolute_error, min_samples_split=0.1, n_estimators=200, n_jobs=-1;, score=0.310 total time=   0.4s\n",
      "[CV 1/5] END criterion=absolute_error, min_samples_split=0.2, n_estimators=50, n_jobs=-1;, score=-0.131 total time=   0.2s\n",
      "[CV 2/5] END criterion=absolute_error, min_samples_split=0.2, n_estimators=50, n_jobs=-1;, score=0.025 total time=   0.2s\n",
      "[CV 3/5] END criterion=absolute_error, min_samples_split=0.2, n_estimators=50, n_jobs=-1;, score=0.327 total time=   0.2s\n",
      "[CV 4/5] END criterion=absolute_error, min_samples_split=0.2, n_estimators=50, n_jobs=-1;, score=0.165 total time=   0.2s\n",
      "[CV 5/5] END criterion=absolute_error, min_samples_split=0.2, n_estimators=50, n_jobs=-1;, score=0.316 total time=   0.2s\n",
      "[CV 1/5] END criterion=absolute_error, min_samples_split=0.2, n_estimators=100, n_jobs=-1;, score=-0.144 total time=   0.2s\n",
      "[CV 2/5] END criterion=absolute_error, min_samples_split=0.2, n_estimators=100, n_jobs=-1;, score=0.032 total time=   0.2s\n",
      "[CV 3/5] END criterion=absolute_error, min_samples_split=0.2, n_estimators=100, n_jobs=-1;, score=0.328 total time=   0.2s\n",
      "[CV 4/5] END criterion=absolute_error, min_samples_split=0.2, n_estimators=100, n_jobs=-1;, score=0.153 total time=   0.2s\n",
      "[CV 5/5] END criterion=absolute_error, min_samples_split=0.2, n_estimators=100, n_jobs=-1;, score=0.312 total time=   0.2s\n",
      "[CV 1/5] END criterion=absolute_error, min_samples_split=0.2, n_estimators=200, n_jobs=-1;, score=-0.142 total time=   0.4s\n",
      "[CV 2/5] END criterion=absolute_error, min_samples_split=0.2, n_estimators=200, n_jobs=-1;, score=0.034 total time=   0.4s\n",
      "[CV 3/5] END criterion=absolute_error, min_samples_split=0.2, n_estimators=200, n_jobs=-1;, score=0.326 total time=   0.4s\n",
      "[CV 4/5] END criterion=absolute_error, min_samples_split=0.2, n_estimators=200, n_jobs=-1;, score=0.159 total time=   0.3s\n",
      "[CV 5/5] END criterion=absolute_error, min_samples_split=0.2, n_estimators=200, n_jobs=-1;, score=0.316 total time=   0.4s\n"
     ]
    },
    {
     "data": {
      "text/plain": [
       "0.2132123621035691"
      ]
     },
     "execution_count": 377,
     "metadata": {},
     "output_type": "execute_result"
    }
   ],
   "source": [
    "\n",
    "import numpy as np\n",
    "from sklearn.linear_model import LinearRegression\n",
    "\n",
    "from sklearn.ensemble import RandomForestRegressor\n",
    "\n",
    "from sklearn.metrics import mean_absolute_error as mae\n",
    "\n",
    "\n",
    "from sklearn.model_selection import GridSearchCV\n",
    "parameters = {'n_estimators':[50, 100, 200], 'min_samples_split':[2, 10, 30, 0.02, 0.05, 0.1, 0.2],\n",
    "              \"criterion\": [\"absolute_error\"], \"n_jobs\":[-1]}\n",
    "\n",
    "rand_for = RandomForestRegressor()\n",
    "reg = GridSearchCV(rand_for, parameters, verbose=3)\n",
    "reg.fit(np.array(train_x), transform_y(np.array(train_y)))\n",
    "\n",
    "\n",
    "reg.score(np.array(train_x), transform_y(np.array(train_y)))\n",
    "\n"
   ]
  },
  {
   "cell_type": "code",
   "execution_count": 378,
   "id": "d16fcb4f",
   "metadata": {},
   "outputs": [
    {
     "data": {
      "text/plain": [
       "{'criterion': 'absolute_error',\n",
       " 'min_samples_split': 0.1,\n",
       " 'n_estimators': 100,\n",
       " 'n_jobs': -1}"
      ]
     },
     "execution_count": 378,
     "metadata": {},
     "output_type": "execute_result"
    }
   ],
   "source": [
    "reg.best_params_\n"
   ]
  },
  {
   "cell_type": "code",
   "execution_count": 379,
   "id": "b97d7568",
   "metadata": {},
   "outputs": [
    {
     "data": {
      "text/plain": [
       "15.104524282856874"
      ]
     },
     "execution_count": 379,
     "metadata": {},
     "output_type": "execute_result"
    }
   ],
   "source": [
    "# train\n",
    "mae(inv_transform_y(reg.predict(np.array(train_x))), np.array(train_y)) / 60\n"
   ]
  },
  {
   "cell_type": "code",
   "execution_count": 380,
   "id": "176a0625",
   "metadata": {},
   "outputs": [
    {
     "data": {
      "text/plain": [
       "7.255050588992718"
      ]
     },
     "execution_count": 380,
     "metadata": {},
     "output_type": "execute_result"
    }
   ],
   "source": [
    "#val\n",
    "mae(inv_transform_y(reg.predict(np.array(val_x))), np.array(val_y)) / 60\n"
   ]
  },
  {
   "cell_type": "code",
   "execution_count": 381,
   "id": "2e1520a9",
   "metadata": {},
   "outputs": [
    {
     "data": {
      "image/png": "[encoded data removed]",
      "text/plain": [
       "<Figure size 432x288 with 1 Axes>"
      ]
     },
     "metadata": {
      "needs_background": "light"
     },
     "output_type": "display_data"
    }
   ],
   "source": [
    "# errors plot\n",
    "\n",
    "plt.ylabel(\"num validation samples\")\n",
    "plt.xlabel(\"minutes error\")\n",
    "\n",
    "plt.hist((inv_transform_y(reg.predict(np.array(val_x))) - np.array(val_y)) / 60, bins=50)\n",
    "\n",
    "\n",
    "plt.savefig('plots/exp6_alldata_rand_for_cbrt_errors_plot.png')\n",
    "\n"
   ]
  },
  {
   "cell_type": "code",
   "execution_count": 382,
   "id": "8ada9a4d",
   "metadata": {},
   "outputs": [
    {
     "data": {
      "text/plain": [
       "151"
      ]
     },
     "execution_count": 382,
     "metadata": {},
     "output_type": "execute_result"
    }
   ],
   "source": [
    "np.sum(np.abs( (inv_transform_y(reg.predict(np.array(val_x))) - np.array(val_y)) / 60) < 5)\n",
    "\n"
   ]
  },
  {
   "cell_type": "code",
   "execution_count": 383,
   "id": "6fed3164",
   "metadata": {},
   "outputs": [],
   "source": [
    "#np.array(val_y)[172]"
   ]
  },
  {
   "cell_type": "code",
   "execution_count": 384,
   "id": "6144c20f",
   "metadata": {},
   "outputs": [
    {
     "data": {
      "text/plain": [
       "246"
      ]
     },
     "execution_count": 384,
     "metadata": {},
     "output_type": "execute_result"
    }
   ],
   "source": [
    "len(val_y)\n"
   ]
  },
  {
   "cell_type": "code",
   "execution_count": 385,
   "id": "66cc30b6",
   "metadata": {},
   "outputs": [
    {
     "data": {
      "text/plain": [
       "192"
      ]
     },
     "execution_count": 385,
     "metadata": {},
     "output_type": "execute_result"
    }
   ],
   "source": [
    "\n",
    "np.sum(np.abs( (inv_transform_y(reg.predict(np.array(val_x))) - np.array(val_y)) / 60) < 10)\n"
   ]
  },
  {
   "cell_type": "code",
   "execution_count": 386,
   "id": "da67b2fd",
   "metadata": {},
   "outputs": [
    {
     "data": {
      "text/plain": [
       "0.4661290322580645"
      ]
     },
     "execution_count": 386,
     "metadata": {},
     "output_type": "execute_result"
    }
   ],
   "source": [
    "289 / 620"
   ]
  },
  {
   "cell_type": "code",
   "execution_count": 387,
   "id": "2c58b346",
   "metadata": {},
   "outputs": [
    {
     "data": {
      "text/plain": [
       "0.6774193548387096"
      ]
     },
     "execution_count": 387,
     "metadata": {},
     "output_type": "execute_result"
    }
   ],
   "source": [
    "420 / 620"
   ]
  },
  {
   "cell_type": "code",
   "execution_count": 388,
   "id": "3c4de84d",
   "metadata": {},
   "outputs": [],
   "source": [
    "l = {\"experiment_num\": \"6\", \n",
    " \"model_type\": \"Rand forest cbrt y preprocessing\", \n",
    " \"train_mae\": mae(inv_transform_y(reg.predict(np.array(train_x))), np.array(train_y)) / 60, \n",
    " \"val_mae\": mae(inv_transform_y(reg.predict(np.array(val_x))), np.array(val_y)) / 60, \n",
    " \"perc_lt_5mins\": np.sum(np.abs( (inv_transform_y(reg.predict(np.array(val_x))) - np.array(val_y)) / 60) < 5) / len(val_y) ,\n",
    " \"perc_lt_10mins\": np.sum(np.abs( (inv_transform_y(reg.predict(np.array(val_x))) - np.array(val_y)) / 60) < 10) / len(val_y),\n",
    "    \"train_preds\": inv_transform_y(reg.predict(np.array(train_x))),\n",
    "    \"val_preds\":inv_transform_y(reg.predict(np.array(val_x)))}\n",
    "\n",
    "metrics_df_lst.append(l)"
   ]
  },
  {
   "cell_type": "code",
   "execution_count": null,
   "id": "3c627c13",
   "metadata": {},
   "outputs": [],
   "source": []
  },
  {
   "cell_type": "code",
   "execution_count": 389,
   "id": "56eec3eb",
   "metadata": {},
   "outputs": [],
   "source": [
    "metrics_df = pd.DataFrame(metrics_df_lst)"
   ]
  },
  {
   "cell_type": "code",
   "execution_count": 390,
   "id": "08a70c9f",
   "metadata": {},
   "outputs": [
    {
     "data": {
      "text/html": [
       "<div>\n",
       "<style scoped>\n",
       "    .dataframe tbody tr th:only-of-type {\n",
       "        vertical-align: middle;\n",
       "    }\n",
       "\n",
       "    .dataframe tbody tr th {\n",
       "        vertical-align: top;\n",
       "    }\n",
       "\n",
       "    .dataframe thead th {\n",
       "        text-align: right;\n",
       "    }\n",
       "</style>\n",
       "<table border=\"1\" class=\"dataframe\">\n",
       "  <thead>\n",
       "    <tr style=\"text-align: right;\">\n",
       "      <th></th>\n",
       "      <th>experiment_num</th>\n",
       "      <th>model_type</th>\n",
       "      <th>train_mae</th>\n",
       "      <th>val_mae</th>\n",
       "      <th>perc_lt_5mins</th>\n",
       "      <th>perc_lt_10mins</th>\n",
       "      <th>train_preds</th>\n",
       "      <th>val_preds</th>\n",
       "    </tr>\n",
       "  </thead>\n",
       "  <tbody>\n",
       "    <tr>\n",
       "      <th>0</th>\n",
       "      <td>1</td>\n",
       "      <td>Lin reg no processing</td>\n",
       "      <td>16.173984</td>\n",
       "      <td>19.502396</td>\n",
       "      <td>0.089431</td>\n",
       "      <td>0.296748</td>\n",
       "      <td>[1245.6556340930852, 934.4598241217524, 1339.0...</td>\n",
       "      <td>[872.2206621274859, 872.2206621274859, 903.340...</td>\n",
       "    </tr>\n",
       "    <tr>\n",
       "      <th>1</th>\n",
       "      <td>1</td>\n",
       "      <td>Lin reg x,y cbrt</td>\n",
       "      <td>13.373245</td>\n",
       "      <td>16.242376</td>\n",
       "      <td>0.447154</td>\n",
       "      <td>0.699187</td>\n",
       "      <td>[1049.698462329049, 467.12209997282974, 1193.9...</td>\n",
       "      <td>[286.1428316450367, 286.1428316450367, 385.342...</td>\n",
       "    </tr>\n",
       "    <tr>\n",
       "      <th>2</th>\n",
       "      <td>1</td>\n",
       "      <td>Rand forest no processing</td>\n",
       "      <td>12.699463</td>\n",
       "      <td>15.893261</td>\n",
       "      <td>0.540650</td>\n",
       "      <td>0.699187</td>\n",
       "      <td>[855.59, 248.62, 1729.545, 2006.825, 253.4, 15...</td>\n",
       "      <td>[155.705, 155.705, 253.4, 253.4, 2309.21, 253....</td>\n",
       "    </tr>\n",
       "    <tr>\n",
       "      <th>3</th>\n",
       "      <td>1</td>\n",
       "      <td>Rand forest cbrt y</td>\n",
       "      <td>13.134715</td>\n",
       "      <td>15.775085</td>\n",
       "      <td>0.556911</td>\n",
       "      <td>0.723577</td>\n",
       "      <td>[844.3447922266546, 236.68503166234686, 1063.5...</td>\n",
       "      <td>[157.59040104194253, 157.59040104194253, 242.8...</td>\n",
       "    </tr>\n",
       "    <tr>\n",
       "      <th>4</th>\n",
       "      <td>2</td>\n",
       "      <td>Lin reg no y processing</td>\n",
       "      <td>16.474811</td>\n",
       "      <td>20.874601</td>\n",
       "      <td>0.182927</td>\n",
       "      <td>0.353659</td>\n",
       "      <td>[1668.7458394108166, 1070.3110841108855, 1745....</td>\n",
       "      <td>[514.5099140038483, 1028.617392353253, 1261.69...</td>\n",
       "    </tr>\n",
       "  </tbody>\n",
       "</table>\n",
       "</div>"
      ],
      "text/plain": [
       "  experiment_num                 model_type  train_mae    val_mae  \\\n",
       "0              1      Lin reg no processing  16.173984  19.502396   \n",
       "1              1           Lin reg x,y cbrt  13.373245  16.242376   \n",
       "2              1  Rand forest no processing  12.699463  15.893261   \n",
       "3              1         Rand forest cbrt y  13.134715  15.775085   \n",
       "4              2    Lin reg no y processing  16.474811  20.874601   \n",
       "\n",
       "   perc_lt_5mins  perc_lt_10mins  \\\n",
       "0       0.089431        0.296748   \n",
       "1       0.447154        0.699187   \n",
       "2       0.540650        0.699187   \n",
       "3       0.556911        0.723577   \n",
       "4       0.182927        0.353659   \n",
       "\n",
       "                                         train_preds  \\\n",
       "0  [1245.6556340930852, 934.4598241217524, 1339.0...   \n",
       "1  [1049.698462329049, 467.12209997282974, 1193.9...   \n",
       "2  [855.59, 248.62, 1729.545, 2006.825, 253.4, 15...   \n",
       "3  [844.3447922266546, 236.68503166234686, 1063.5...   \n",
       "4  [1668.7458394108166, 1070.3110841108855, 1745....   \n",
       "\n",
       "                                           val_preds  \n",
       "0  [872.2206621274859, 872.2206621274859, 903.340...  \n",
       "1  [286.1428316450367, 286.1428316450367, 385.342...  \n",
       "2  [155.705, 155.705, 253.4, 253.4, 2309.21, 253....  \n",
       "3  [157.59040104194253, 157.59040104194253, 242.8...  \n",
       "4  [514.5099140038483, 1028.617392353253, 1261.69...  "
      ]
     },
     "execution_count": 390,
     "metadata": {},
     "output_type": "execute_result"
    }
   ],
   "source": [
    "metrics_df.head()"
   ]
  },
  {
   "cell_type": "code",
   "execution_count": 391,
   "id": "1eab27b5",
   "metadata": {},
   "outputs": [],
   "source": [
    "metrics_df.to_csv(\"clust1_metrics.csv\")"
   ]
  },
  {
   "cell_type": "code",
   "execution_count": 392,
   "id": "e9e449aa",
   "metadata": {},
   "outputs": [
    {
     "data": {
      "text/html": [
       "<div>\n",
       "<style scoped>\n",
       "    .dataframe tbody tr th:only-of-type {\n",
       "        vertical-align: middle;\n",
       "    }\n",
       "\n",
       "    .dataframe tbody tr th {\n",
       "        vertical-align: top;\n",
       "    }\n",
       "\n",
       "    .dataframe thead th {\n",
       "        text-align: right;\n",
       "    }\n",
       "</style>\n",
       "<table border=\"1\" class=\"dataframe\">\n",
       "  <thead>\n",
       "    <tr style=\"text-align: right;\">\n",
       "      <th></th>\n",
       "      <th>experiment_num</th>\n",
       "      <th>model_type</th>\n",
       "      <th>train_mae</th>\n",
       "      <th>val_mae</th>\n",
       "      <th>perc_lt_5mins</th>\n",
       "      <th>perc_lt_10mins</th>\n",
       "      <th>train_preds</th>\n",
       "      <th>val_preds</th>\n",
       "    </tr>\n",
       "  </thead>\n",
       "  <tbody>\n",
       "    <tr>\n",
       "      <th>0</th>\n",
       "      <td>1</td>\n",
       "      <td>Lin reg no processing</td>\n",
       "      <td>16.173984</td>\n",
       "      <td>19.502396</td>\n",
       "      <td>0.089431</td>\n",
       "      <td>0.296748</td>\n",
       "      <td>[1245.6556340930852, 934.4598241217524, 1339.0...</td>\n",
       "      <td>[872.2206621274859, 872.2206621274859, 903.340...</td>\n",
       "    </tr>\n",
       "    <tr>\n",
       "      <th>1</th>\n",
       "      <td>1</td>\n",
       "      <td>Lin reg x,y cbrt</td>\n",
       "      <td>13.373245</td>\n",
       "      <td>16.242376</td>\n",
       "      <td>0.447154</td>\n",
       "      <td>0.699187</td>\n",
       "      <td>[1049.698462329049, 467.12209997282974, 1193.9...</td>\n",
       "      <td>[286.1428316450367, 286.1428316450367, 385.342...</td>\n",
       "    </tr>\n",
       "    <tr>\n",
       "      <th>2</th>\n",
       "      <td>1</td>\n",
       "      <td>Rand forest no processing</td>\n",
       "      <td>12.699463</td>\n",
       "      <td>15.893261</td>\n",
       "      <td>0.540650</td>\n",
       "      <td>0.699187</td>\n",
       "      <td>[855.59, 248.62, 1729.545, 2006.825, 253.4, 15...</td>\n",
       "      <td>[155.705, 155.705, 253.4, 253.4, 2309.21, 253....</td>\n",
       "    </tr>\n",
       "    <tr>\n",
       "      <th>3</th>\n",
       "      <td>1</td>\n",
       "      <td>Rand forest cbrt y</td>\n",
       "      <td>13.134715</td>\n",
       "      <td>15.775085</td>\n",
       "      <td>0.556911</td>\n",
       "      <td>0.723577</td>\n",
       "      <td>[844.3447922266546, 236.68503166234686, 1063.5...</td>\n",
       "      <td>[157.59040104194253, 157.59040104194253, 242.8...</td>\n",
       "    </tr>\n",
       "    <tr>\n",
       "      <th>4</th>\n",
       "      <td>2</td>\n",
       "      <td>Lin reg no y processing</td>\n",
       "      <td>16.474811</td>\n",
       "      <td>20.874601</td>\n",
       "      <td>0.182927</td>\n",
       "      <td>0.353659</td>\n",
       "      <td>[1668.7458394108166, 1070.3110841108855, 1745....</td>\n",
       "      <td>[514.5099140038483, 1028.617392353253, 1261.69...</td>\n",
       "    </tr>\n",
       "    <tr>\n",
       "      <th>5</th>\n",
       "      <td>2</td>\n",
       "      <td>Lin cbrt y processing</td>\n",
       "      <td>14.134824</td>\n",
       "      <td>27.157106</td>\n",
       "      <td>0.333333</td>\n",
       "      <td>0.601626</td>\n",
       "      <td>[629.6094763866956, 392.366360557768, 703.6809...</td>\n",
       "      <td>[296.61766085467434, 922.7319699060707, 822.31...</td>\n",
       "    </tr>\n",
       "    <tr>\n",
       "      <th>6</th>\n",
       "      <td>2</td>\n",
       "      <td>Rand forest cbrt y processing</td>\n",
       "      <td>12.336492</td>\n",
       "      <td>9.915234</td>\n",
       "      <td>0.426829</td>\n",
       "      <td>0.642276</td>\n",
       "      <td>[344.3591256359609, 427.42477951362935, 445.82...</td>\n",
       "      <td>[200.62855900879788, 1091.8324427615007, 1046....</td>\n",
       "    </tr>\n",
       "    <tr>\n",
       "      <th>7</th>\n",
       "      <td>2</td>\n",
       "      <td>Rand forest no y processing</td>\n",
       "      <td>12.299165</td>\n",
       "      <td>12.504331</td>\n",
       "      <td>0.333333</td>\n",
       "      <td>0.508130</td>\n",
       "      <td>[371.815, 618.725, 1305.155, 1158.5, 2542.16, ...</td>\n",
       "      <td>[207.475, 1101.64, 1078.505, 1142.33, 1290.35,...</td>\n",
       "    </tr>\n",
       "    <tr>\n",
       "      <th>8</th>\n",
       "      <td>3</td>\n",
       "      <td>Linreg no preprocessing</td>\n",
       "      <td>18.756273</td>\n",
       "      <td>14.091264</td>\n",
       "      <td>0.093496</td>\n",
       "      <td>0.317073</td>\n",
       "      <td>[889.2828720610919, 872.0094603666342, 1484.24...</td>\n",
       "      <td>[919.5994142485422, 1451.9904649941036, 1213.7...</td>\n",
       "    </tr>\n",
       "    <tr>\n",
       "      <th>9</th>\n",
       "      <td>3</td>\n",
       "      <td>Linreg cbrt y preprocessing</td>\n",
       "      <td>16.516093</td>\n",
       "      <td>17.069026</td>\n",
       "      <td>0.386179</td>\n",
       "      <td>0.837398</td>\n",
       "      <td>[456.4055055268812, 471.3869104987127, 756.759...</td>\n",
       "      <td>[510.3113739768439, 906.3299610813195, 751.165...</td>\n",
       "    </tr>\n",
       "    <tr>\n",
       "      <th>10</th>\n",
       "      <td>3</td>\n",
       "      <td>Rand forest no preprocessing</td>\n",
       "      <td>14.121966</td>\n",
       "      <td>8.163652</td>\n",
       "      <td>0.565041</td>\n",
       "      <td>0.764228</td>\n",
       "      <td>[213.61, 317.84, 762.8, 1423.96, 3255.54, 551....</td>\n",
       "      <td>[211.73, 969.69, 1031.29, 1129.36, 467.52, 392...</td>\n",
       "    </tr>\n",
       "    <tr>\n",
       "      <th>11</th>\n",
       "      <td>3</td>\n",
       "      <td>Rand forest cbrt y preprocessing</td>\n",
       "      <td>14.619182</td>\n",
       "      <td>7.523400</td>\n",
       "      <td>0.650407</td>\n",
       "      <td>0.792683</td>\n",
       "      <td>[239.60726437317703, 269.33913079062233, 589.6...</td>\n",
       "      <td>[210.73419388094874, 827.546279810861, 756.391...</td>\n",
       "    </tr>\n",
       "    <tr>\n",
       "      <th>12</th>\n",
       "      <td>4</td>\n",
       "      <td>Lin reg no preprocessing</td>\n",
       "      <td>18.633111</td>\n",
       "      <td>14.285322</td>\n",
       "      <td>0.065041</td>\n",
       "      <td>0.268293</td>\n",
       "      <td>[1010.9921049731793, 945.7488142721304, 1488.9...</td>\n",
       "      <td>[1032.3458184676763, 1547.1415707448523, 1235....</td>\n",
       "    </tr>\n",
       "    <tr>\n",
       "      <th>13</th>\n",
       "      <td>4</td>\n",
       "      <td>Lin reg cbrt y preprocessing</td>\n",
       "      <td>16.230686</td>\n",
       "      <td>10.713356</td>\n",
       "      <td>0.390244</td>\n",
       "      <td>0.833333</td>\n",
       "      <td>[533.1064258932774, 507.4583152592387, 832.219...</td>\n",
       "      <td>[507.79178894884194, 950.9681105319596, 756.56...</td>\n",
       "    </tr>\n",
       "    <tr>\n",
       "      <th>14</th>\n",
       "      <td>4</td>\n",
       "      <td>Rand forest no preprocessing</td>\n",
       "      <td>13.613232</td>\n",
       "      <td>9.570708</td>\n",
       "      <td>0.410569</td>\n",
       "      <td>0.642276</td>\n",
       "      <td>[695.7925, 432.11, 1424.5575, 1431.595, 2243.2...</td>\n",
       "      <td>[209.135, 1433.03, 1317.37, 1306.125, 867.7225...</td>\n",
       "    </tr>\n",
       "    <tr>\n",
       "      <th>15</th>\n",
       "      <td>4</td>\n",
       "      <td>Rand forest cbrt y preprocessing</td>\n",
       "      <td>13.672971</td>\n",
       "      <td>8.006149</td>\n",
       "      <td>0.544715</td>\n",
       "      <td>0.719512</td>\n",
       "      <td>[601.7676244135004, 358.77798266564827, 922.87...</td>\n",
       "      <td>[209.20783084898423, 1366.330018487968, 1342.9...</td>\n",
       "    </tr>\n",
       "    <tr>\n",
       "      <th>16</th>\n",
       "      <td>5</td>\n",
       "      <td>Lin reg no preprocessing</td>\n",
       "      <td>18.657231</td>\n",
       "      <td>14.175999</td>\n",
       "      <td>0.073171</td>\n",
       "      <td>0.260163</td>\n",
       "      <td>[984.6769430888178, 908.9379702739534, 1314.81...</td>\n",
       "      <td>[960.9200519201804, 1508.1445779928008, 1398.0...</td>\n",
       "    </tr>\n",
       "    <tr>\n",
       "      <th>17</th>\n",
       "      <td>5</td>\n",
       "      <td>Lin reg cbrt y preprocessing</td>\n",
       "      <td>16.244102</td>\n",
       "      <td>13.291957</td>\n",
       "      <td>0.365854</td>\n",
       "      <td>0.837398</td>\n",
       "      <td>[516.9478721742545, 481.52944258275227, 727.56...</td>\n",
       "      <td>[508.1265130548529, 925.8375241607567, 862.013...</td>\n",
       "    </tr>\n",
       "    <tr>\n",
       "      <th>18</th>\n",
       "      <td>5</td>\n",
       "      <td>Rand forest no preprocessing</td>\n",
       "      <td>14.307147</td>\n",
       "      <td>8.138393</td>\n",
       "      <td>0.577236</td>\n",
       "      <td>0.760163</td>\n",
       "      <td>[608.085, 152.715, 794.8475, 1934.9675, 2250.8...</td>\n",
       "      <td>[169.84, 827.6075, 1100.935, 989.2475, 361.465...</td>\n",
       "    </tr>\n",
       "    <tr>\n",
       "      <th>19</th>\n",
       "      <td>5</td>\n",
       "      <td>Rand forest cbrt y preprocessing</td>\n",
       "      <td>14.675458</td>\n",
       "      <td>7.727729</td>\n",
       "      <td>0.617886</td>\n",
       "      <td>0.776423</td>\n",
       "      <td>[600.9691711590341, 159.05771344872855, 665.95...</td>\n",
       "      <td>[153.99184816674006, 887.5806174756989, 931.97...</td>\n",
       "    </tr>\n",
       "    <tr>\n",
       "      <th>20</th>\n",
       "      <td>6</td>\n",
       "      <td>Lin reg no preprocessing</td>\n",
       "      <td>18.925837</td>\n",
       "      <td>13.708512</td>\n",
       "      <td>0.085366</td>\n",
       "      <td>0.239837</td>\n",
       "      <td>[975.9068002683329, 1018.1907173575488, 1159.8...</td>\n",
       "      <td>[1044.2678032288195, 1514.0405256571376, 1399....</td>\n",
       "    </tr>\n",
       "    <tr>\n",
       "      <th>21</th>\n",
       "      <td>6</td>\n",
       "      <td>Lin reg cbrt y preprocessing</td>\n",
       "      <td>16.957415</td>\n",
       "      <td>8.493709</td>\n",
       "      <td>0.382114</td>\n",
       "      <td>0.878049</td>\n",
       "      <td>[528.9952434287998, 575.7927194218391, 609.443...</td>\n",
       "      <td>[562.8336491572281, 907.0438327408325, 806.364...</td>\n",
       "    </tr>\n",
       "    <tr>\n",
       "      <th>22</th>\n",
       "      <td>6</td>\n",
       "      <td>Rand forest no preprocessing</td>\n",
       "      <td>14.787875</td>\n",
       "      <td>7.386528</td>\n",
       "      <td>0.605691</td>\n",
       "      <td>0.788618</td>\n",
       "      <td>[287.2625, 252.0525, 510.9125, 1235.83, 1877.5...</td>\n",
       "      <td>[351.8875, 882.055, 752.7275, 967.215, 729.865...</td>\n",
       "    </tr>\n",
       "    <tr>\n",
       "      <th>23</th>\n",
       "      <td>6</td>\n",
       "      <td>Rand forest cbrt y preprocessing</td>\n",
       "      <td>15.104524</td>\n",
       "      <td>7.255051</td>\n",
       "      <td>0.613821</td>\n",
       "      <td>0.780488</td>\n",
       "      <td>[264.3656807197619, 253.1303876885501, 469.590...</td>\n",
       "      <td>[370.87748682164744, 798.1517462782451, 770.99...</td>\n",
       "    </tr>\n",
       "  </tbody>\n",
       "</table>\n",
       "</div>"
      ],
      "text/plain": [
       "   experiment_num                        model_type  train_mae    val_mae  \\\n",
       "0               1             Lin reg no processing  16.173984  19.502396   \n",
       "1               1                  Lin reg x,y cbrt  13.373245  16.242376   \n",
       "2               1         Rand forest no processing  12.699463  15.893261   \n",
       "3               1                Rand forest cbrt y  13.134715  15.775085   \n",
       "4               2           Lin reg no y processing  16.474811  20.874601   \n",
       "5               2             Lin cbrt y processing  14.134824  27.157106   \n",
       "6               2     Rand forest cbrt y processing  12.336492   9.915234   \n",
       "7               2       Rand forest no y processing  12.299165  12.504331   \n",
       "8               3           Linreg no preprocessing  18.756273  14.091264   \n",
       "9               3       Linreg cbrt y preprocessing  16.516093  17.069026   \n",
       "10              3      Rand forest no preprocessing  14.121966   8.163652   \n",
       "11              3  Rand forest cbrt y preprocessing  14.619182   7.523400   \n",
       "12              4          Lin reg no preprocessing  18.633111  14.285322   \n",
       "13              4      Lin reg cbrt y preprocessing  16.230686  10.713356   \n",
       "14              4      Rand forest no preprocessing  13.613232   9.570708   \n",
       "15              4  Rand forest cbrt y preprocessing  13.672971   8.006149   \n",
       "16              5          Lin reg no preprocessing  18.657231  14.175999   \n",
       "17              5      Lin reg cbrt y preprocessing  16.244102  13.291957   \n",
       "18              5      Rand forest no preprocessing  14.307147   8.138393   \n",
       "19              5  Rand forest cbrt y preprocessing  14.675458   7.727729   \n",
       "20              6          Lin reg no preprocessing  18.925837  13.708512   \n",
       "21              6      Lin reg cbrt y preprocessing  16.957415   8.493709   \n",
       "22              6      Rand forest no preprocessing  14.787875   7.386528   \n",
       "23              6  Rand forest cbrt y preprocessing  15.104524   7.255051   \n",
       "\n",
       "    perc_lt_5mins  perc_lt_10mins  \\\n",
       "0        0.089431        0.296748   \n",
       "1        0.447154        0.699187   \n",
       "2        0.540650        0.699187   \n",
       "3        0.556911        0.723577   \n",
       "4        0.182927        0.353659   \n",
       "5        0.333333        0.601626   \n",
       "6        0.426829        0.642276   \n",
       "7        0.333333        0.508130   \n",
       "8        0.093496        0.317073   \n",
       "9        0.386179        0.837398   \n",
       "10       0.565041        0.764228   \n",
       "11       0.650407        0.792683   \n",
       "12       0.065041        0.268293   \n",
       "13       0.390244        0.833333   \n",
       "14       0.410569        0.642276   \n",
       "15       0.544715        0.719512   \n",
       "16       0.073171        0.260163   \n",
       "17       0.365854        0.837398   \n",
       "18       0.577236        0.760163   \n",
       "19       0.617886        0.776423   \n",
       "20       0.085366        0.239837   \n",
       "21       0.382114        0.878049   \n",
       "22       0.605691        0.788618   \n",
       "23       0.613821        0.780488   \n",
       "\n",
       "                                          train_preds  \\\n",
       "0   [1245.6556340930852, 934.4598241217524, 1339.0...   \n",
       "1   [1049.698462329049, 467.12209997282974, 1193.9...   \n",
       "2   [855.59, 248.62, 1729.545, 2006.825, 253.4, 15...   \n",
       "3   [844.3447922266546, 236.68503166234686, 1063.5...   \n",
       "4   [1668.7458394108166, 1070.3110841108855, 1745....   \n",
       "5   [629.6094763866956, 392.366360557768, 703.6809...   \n",
       "6   [344.3591256359609, 427.42477951362935, 445.82...   \n",
       "7   [371.815, 618.725, 1305.155, 1158.5, 2542.16, ...   \n",
       "8   [889.2828720610919, 872.0094603666342, 1484.24...   \n",
       "9   [456.4055055268812, 471.3869104987127, 756.759...   \n",
       "10  [213.61, 317.84, 762.8, 1423.96, 3255.54, 551....   \n",
       "11  [239.60726437317703, 269.33913079062233, 589.6...   \n",
       "12  [1010.9921049731793, 945.7488142721304, 1488.9...   \n",
       "13  [533.1064258932774, 507.4583152592387, 832.219...   \n",
       "14  [695.7925, 432.11, 1424.5575, 1431.595, 2243.2...   \n",
       "15  [601.7676244135004, 358.77798266564827, 922.87...   \n",
       "16  [984.6769430888178, 908.9379702739534, 1314.81...   \n",
       "17  [516.9478721742545, 481.52944258275227, 727.56...   \n",
       "18  [608.085, 152.715, 794.8475, 1934.9675, 2250.8...   \n",
       "19  [600.9691711590341, 159.05771344872855, 665.95...   \n",
       "20  [975.9068002683329, 1018.1907173575488, 1159.8...   \n",
       "21  [528.9952434287998, 575.7927194218391, 609.443...   \n",
       "22  [287.2625, 252.0525, 510.9125, 1235.83, 1877.5...   \n",
       "23  [264.3656807197619, 253.1303876885501, 469.590...   \n",
       "\n",
       "                                            val_preds  \n",
       "0   [872.2206621274859, 872.2206621274859, 903.340...  \n",
       "1   [286.1428316450367, 286.1428316450367, 385.342...  \n",
       "2   [155.705, 155.705, 253.4, 253.4, 2309.21, 253....  \n",
       "3   [157.59040104194253, 157.59040104194253, 242.8...  \n",
       "4   [514.5099140038483, 1028.617392353253, 1261.69...  \n",
       "5   [296.61766085467434, 922.7319699060707, 822.31...  \n",
       "6   [200.62855900879788, 1091.8324427615007, 1046....  \n",
       "7   [207.475, 1101.64, 1078.505, 1142.33, 1290.35,...  \n",
       "8   [919.5994142485422, 1451.9904649941036, 1213.7...  \n",
       "9   [510.3113739768439, 906.3299610813195, 751.165...  \n",
       "10  [211.73, 969.69, 1031.29, 1129.36, 467.52, 392...  \n",
       "11  [210.73419388094874, 827.546279810861, 756.391...  \n",
       "12  [1032.3458184676763, 1547.1415707448523, 1235....  \n",
       "13  [507.79178894884194, 950.9681105319596, 756.56...  \n",
       "14  [209.135, 1433.03, 1317.37, 1306.125, 867.7225...  \n",
       "15  [209.20783084898423, 1366.330018487968, 1342.9...  \n",
       "16  [960.9200519201804, 1508.1445779928008, 1398.0...  \n",
       "17  [508.1265130548529, 925.8375241607567, 862.013...  \n",
       "18  [169.84, 827.6075, 1100.935, 989.2475, 361.465...  \n",
       "19  [153.99184816674006, 887.5806174756989, 931.97...  \n",
       "20  [1044.2678032288195, 1514.0405256571376, 1399....  \n",
       "21  [562.8336491572281, 907.0438327408325, 806.364...  \n",
       "22  [351.8875, 882.055, 752.7275, 967.215, 729.865...  \n",
       "23  [370.87748682164744, 798.1517462782451, 770.99...  "
      ]
     },
     "execution_count": 392,
     "metadata": {},
     "output_type": "execute_result"
    }
   ],
   "source": [
    "metrics_df"
   ]
  },
  {
   "cell_type": "code",
   "execution_count": null,
   "id": "958749b5",
   "metadata": {},
   "outputs": [],
   "source": []
  },
  {
   "cell_type": "code",
   "execution_count": 393,
   "id": "7bd1515d",
   "metadata": {},
   "outputs": [
    {
     "data": {
      "text/html": [
       "<div>\n",
       "<style scoped>\n",
       "    .dataframe tbody tr th:only-of-type {\n",
       "        vertical-align: middle;\n",
       "    }\n",
       "\n",
       "    .dataframe tbody tr th {\n",
       "        vertical-align: top;\n",
       "    }\n",
       "\n",
       "    .dataframe thead th {\n",
       "        text-align: right;\n",
       "    }\n",
       "</style>\n",
       "<table border=\"1\" class=\"dataframe\">\n",
       "  <thead>\n",
       "    <tr style=\"text-align: right;\">\n",
       "      <th></th>\n",
       "      <th>experiment_num</th>\n",
       "      <th>model_type</th>\n",
       "      <th>train_mae</th>\n",
       "      <th>val_mae</th>\n",
       "      <th>perc_lt_5mins</th>\n",
       "      <th>perc_lt_10mins</th>\n",
       "      <th>train_preds</th>\n",
       "      <th>val_preds</th>\n",
       "    </tr>\n",
       "  </thead>\n",
       "  <tbody>\n",
       "    <tr>\n",
       "      <th>0</th>\n",
       "      <td>1</td>\n",
       "      <td>Lin reg no processing</td>\n",
       "      <td>16.173984</td>\n",
       "      <td>19.502396</td>\n",
       "      <td>0.089431</td>\n",
       "      <td>0.296748</td>\n",
       "      <td>[1245.6556340930852, 934.4598241217524, 1339.0...</td>\n",
       "      <td>[872.2206621274859, 872.2206621274859, 903.340...</td>\n",
       "    </tr>\n",
       "    <tr>\n",
       "      <th>1</th>\n",
       "      <td>1</td>\n",
       "      <td>Lin reg x,y cbrt</td>\n",
       "      <td>13.373245</td>\n",
       "      <td>16.242376</td>\n",
       "      <td>0.447154</td>\n",
       "      <td>0.699187</td>\n",
       "      <td>[1049.698462329049, 467.12209997282974, 1193.9...</td>\n",
       "      <td>[286.1428316450367, 286.1428316450367, 385.342...</td>\n",
       "    </tr>\n",
       "    <tr>\n",
       "      <th>2</th>\n",
       "      <td>1</td>\n",
       "      <td>Rand forest no processing</td>\n",
       "      <td>12.699463</td>\n",
       "      <td>15.893261</td>\n",
       "      <td>0.540650</td>\n",
       "      <td>0.699187</td>\n",
       "      <td>[855.59, 248.62, 1729.545, 2006.825, 253.4, 15...</td>\n",
       "      <td>[155.705, 155.705, 253.4, 253.4, 2309.21, 253....</td>\n",
       "    </tr>\n",
       "    <tr>\n",
       "      <th>3</th>\n",
       "      <td>1</td>\n",
       "      <td>Rand forest cbrt y</td>\n",
       "      <td>13.134715</td>\n",
       "      <td>15.775085</td>\n",
       "      <td>0.556911</td>\n",
       "      <td>0.723577</td>\n",
       "      <td>[844.3447922266546, 236.68503166234686, 1063.5...</td>\n",
       "      <td>[157.59040104194253, 157.59040104194253, 242.8...</td>\n",
       "    </tr>\n",
       "    <tr>\n",
       "      <th>4</th>\n",
       "      <td>2</td>\n",
       "      <td>Lin reg no y processing</td>\n",
       "      <td>16.474811</td>\n",
       "      <td>20.874601</td>\n",
       "      <td>0.182927</td>\n",
       "      <td>0.353659</td>\n",
       "      <td>[1668.7458394108166, 1070.3110841108855, 1745....</td>\n",
       "      <td>[514.5099140038483, 1028.617392353253, 1261.69...</td>\n",
       "    </tr>\n",
       "  </tbody>\n",
       "</table>\n",
       "</div>"
      ],
      "text/plain": [
       "  experiment_num                 model_type  train_mae    val_mae  \\\n",
       "0              1      Lin reg no processing  16.173984  19.502396   \n",
       "1              1           Lin reg x,y cbrt  13.373245  16.242376   \n",
       "2              1  Rand forest no processing  12.699463  15.893261   \n",
       "3              1         Rand forest cbrt y  13.134715  15.775085   \n",
       "4              2    Lin reg no y processing  16.474811  20.874601   \n",
       "\n",
       "   perc_lt_5mins  perc_lt_10mins  \\\n",
       "0       0.089431        0.296748   \n",
       "1       0.447154        0.699187   \n",
       "2       0.540650        0.699187   \n",
       "3       0.556911        0.723577   \n",
       "4       0.182927        0.353659   \n",
       "\n",
       "                                         train_preds  \\\n",
       "0  [1245.6556340930852, 934.4598241217524, 1339.0...   \n",
       "1  [1049.698462329049, 467.12209997282974, 1193.9...   \n",
       "2  [855.59, 248.62, 1729.545, 2006.825, 253.4, 15...   \n",
       "3  [844.3447922266546, 236.68503166234686, 1063.5...   \n",
       "4  [1668.7458394108166, 1070.3110841108855, 1745....   \n",
       "\n",
       "                                           val_preds  \n",
       "0  [872.2206621274859, 872.2206621274859, 903.340...  \n",
       "1  [286.1428316450367, 286.1428316450367, 385.342...  \n",
       "2  [155.705, 155.705, 253.4, 253.4, 2309.21, 253....  \n",
       "3  [157.59040104194253, 157.59040104194253, 242.8...  \n",
       "4  [514.5099140038483, 1028.617392353253, 1261.69...  "
      ]
     },
     "execution_count": 393,
     "metadata": {},
     "output_type": "execute_result"
    }
   ],
   "source": [
    "metrics_df.head()"
   ]
  },
  {
   "cell_type": "code",
   "execution_count": 394,
   "id": "5d60b59a",
   "metadata": {},
   "outputs": [],
   "source": [
    "metrics_df.to_pickle(\"clust1_metrics.pkl\")"
   ]
  },
  {
   "cell_type": "markdown",
   "id": "6b2c1caf",
   "metadata": {},
   "source": [
    "# ENSAMBLING"
   ]
  },
  {
   "cell_type": "markdown",
   "id": "eddc8077",
   "metadata": {},
   "source": [
    "Use linear regression with L1 for feature selection"
   ]
  },
  {
   "cell_type": "code",
   "execution_count": 395,
   "id": "23b5b453",
   "metadata": {},
   "outputs": [],
   "source": [
    "import pandas as pd\n",
    "metrics_df = pd.read_pickle(\"clust1_metrics.pkl\")"
   ]
  },
  {
   "cell_type": "code",
   "execution_count": 396,
   "id": "20f257ca",
   "metadata": {},
   "outputs": [],
   "source": [
    "import numpy as np"
   ]
  },
  {
   "cell_type": "code",
   "execution_count": 397,
   "id": "f47cf79e",
   "metadata": {},
   "outputs": [],
   "source": [
    "large_feature_train = np.array([list(x) for x in metrics_df[\"train_preds\"]]).T\n",
    "large_feature_val = np.array([list(x) for x in metrics_df[\"val_preds\"]]).T"
   ]
  },
  {
   "cell_type": "code",
   "execution_count": 398,
   "id": "cb327007",
   "metadata": {},
   "outputs": [
    {
     "data": {
      "text/plain": [
       "array([[1245.65563409, 1049.69846233,  855.59      ,  844.34479223,\n",
       "        1668.74583941,  629.60947639,  344.35912564,  371.815     ,\n",
       "         889.28287206,  456.40550553,  213.61      ,  239.60726437,\n",
       "        1010.99210497,  533.10642589,  695.7925    ,  601.76762441,\n",
       "         984.67694309,  516.94787217,  608.085     ,  600.96917116,\n",
       "         975.90680027,  528.99524343,  287.2625    ,  264.36568072],\n",
       "       [ 934.45982412,  467.12209997,  248.62      ,  236.68503166,\n",
       "        1070.31108411,  392.36636056,  427.42477951,  618.725     ,\n",
       "         872.00946037,  471.3869105 ,  317.84      ,  269.33913079,\n",
       "         945.74881427,  507.45831526,  432.11      ,  358.77798267,\n",
       "         908.93797027,  481.52944258,  152.715     ,  159.05771345,\n",
       "        1018.19071736,  575.79271942,  252.0525    ,  253.13038769],\n",
       "       [1339.01437708, 1193.90983732, 1729.545     , 1063.56246803,\n",
       "        1745.47998178,  703.68090569,  445.82490758, 1305.155     ,\n",
       "        1484.24351246,  756.75948641,  762.8       ,  589.6365774 ,\n",
       "        1488.94730537,  832.21946594, 1424.5575    ,  922.87814172,\n",
       "        1314.81988749,  727.56574098,  794.8475    ,  665.95274531,\n",
       "        1159.84785061,  609.44397746,  510.9125    ,  469.59067308]])"
      ]
     },
     "execution_count": 398,
     "metadata": {},
     "output_type": "execute_result"
    }
   ],
   "source": [
    "large_feature_train[:3]"
   ]
  },
  {
   "cell_type": "code",
   "execution_count": 399,
   "id": "ffd2364d",
   "metadata": {},
   "outputs": [],
   "source": [
    "#val_y"
   ]
  },
  {
   "cell_type": "code",
   "execution_count": 400,
   "id": "3c7e849d",
   "metadata": {},
   "outputs": [],
   "source": [
    "#train_y"
   ]
  },
  {
   "cell_type": "code",
   "execution_count": null,
   "id": "90378826",
   "metadata": {},
   "outputs": [],
   "source": []
  },
  {
   "cell_type": "code",
   "execution_count": 401,
   "id": "ad55a948",
   "metadata": {},
   "outputs": [],
   "source": [
    "\n",
    "all_feature_combs = []\n",
    "import itertools\n",
    "\n",
    "for n in [2,3,4]:\n",
    "    all_feature_combs += list(itertools.combinations(list(range(len(large_feature_train[0]))),n))\n",
    "\n"
   ]
  },
  {
   "cell_type": "code",
   "execution_count": 402,
   "id": "5126cd7e",
   "metadata": {},
   "outputs": [
    {
     "data": {
      "text/plain": [
       "(20, 21, 22, 23)"
      ]
     },
     "execution_count": 402,
     "metadata": {},
     "output_type": "execute_result"
    }
   ],
   "source": [
    "all_feature_combs[-1]"
   ]
  },
  {
   "cell_type": "code",
   "execution_count": 403,
   "id": "d8ba8ea3",
   "metadata": {},
   "outputs": [
    {
     "data": {
      "text/plain": [
       "24"
      ]
     },
     "execution_count": 403,
     "metadata": {},
     "output_type": "execute_result"
    }
   ],
   "source": [
    "len(large_feature_train[0])"
   ]
  },
  {
   "cell_type": "code",
   "execution_count": 404,
   "id": "40ca9665",
   "metadata": {},
   "outputs": [
    {
     "name": "stderr",
     "output_type": "stream",
     "text": [
      "100%|███████████████████████████████████| 12926/12926 [00:05<00:00, 2221.54it/s]\n"
     ]
    }
   ],
   "source": [
    "import numpy as np\n",
    "from sklearn.linear_model import LinearRegression\n",
    "from sklearn.metrics import mean_absolute_error as mae\n",
    "from tqdm import tqdm\n",
    "\n",
    "# model_type \ttrain_mae \tval_mae \tperc_lt_5mins \tperc_lt_10mins \ttrain_preds \tval_preds\n",
    "\n",
    "best_comb = []\n",
    "best_val_mae = 100\n",
    "best_train_mae = 100\n",
    "best_perc_lt_5mins = 0\n",
    "perc_lt_10mins = 0\n",
    "train_preds = []\n",
    "val_preds = []\n",
    "\n",
    "\n",
    "for comb in tqdm(all_feature_combs):\n",
    "    large_feature_train_comb = large_feature_train.T[sorted(list(comb))].T\n",
    "    large_feature_val_comb = large_feature_val.T[sorted(list(comb))].T\n",
    "    reg = LinearRegression().fit(np.array(large_feature_train_comb), np.array(train_y))\n",
    "    \n",
    "    cur_mae = mae(reg.predict(np.array(large_feature_val_comb)), np.array(val_y)) / 60\n",
    "    \n",
    "    if cur_mae < best_val_mae:\n",
    "        best_val_mae = cur_mae\n",
    "        best_comb = comb\n",
    "        best_train_mae = mae(reg.predict(np.array(large_feature_train_comb)), np.array(train_y)) / 60\n",
    "        best_perc_lt_5mins = np.sum(np.abs( (reg.predict(np.array(large_feature_val_comb)) - np.array(val_y)) / 60) < 5) / len(val_y)\n",
    "        best_perc_lt_10mins = np.sum(np.abs( (reg.predict(np.array(large_feature_val_comb)) - np.array(val_y)) / 60) < 10) / len(val_y)\n",
    "        train_preds = reg.predict(np.array(large_feature_train_comb))\n",
    "        val_preds = reg.predict(np.array(large_feature_val_comb))\n",
    "        \n",
    "\n",
    "l = {\"experiment_num\": \"10\", \n",
    " \"model_type\": \"Lin reg ensambling features: \" + str(best_comb), \n",
    " \"train_mae\": best_train_mae, \n",
    " \"val_mae\": best_val_mae, \n",
    " \"perc_lt_5mins\": best_perc_lt_5mins ,\n",
    " \"perc_lt_10mins\": best_perc_lt_10mins,\n",
    "    \"train_preds\": train_preds,\n",
    "    \"val_preds\":val_preds}\n",
    "\n",
    "metrics_df = metrics_df.append(l, ignore_index=True)\n",
    "        \n",
    "        \n",
    "    \n",
    "    "
   ]
  },
  {
   "cell_type": "code",
   "execution_count": 405,
   "id": "75c58230",
   "metadata": {},
   "outputs": [
    {
     "data": {
      "text/html": [
       "<div>\n",
       "<style scoped>\n",
       "    .dataframe tbody tr th:only-of-type {\n",
       "        vertical-align: middle;\n",
       "    }\n",
       "\n",
       "    .dataframe tbody tr th {\n",
       "        vertical-align: top;\n",
       "    }\n",
       "\n",
       "    .dataframe thead th {\n",
       "        text-align: right;\n",
       "    }\n",
       "</style>\n",
       "<table border=\"1\" class=\"dataframe\">\n",
       "  <thead>\n",
       "    <tr style=\"text-align: right;\">\n",
       "      <th></th>\n",
       "      <th>experiment_num</th>\n",
       "      <th>model_type</th>\n",
       "      <th>train_mae</th>\n",
       "      <th>val_mae</th>\n",
       "      <th>perc_lt_5mins</th>\n",
       "      <th>perc_lt_10mins</th>\n",
       "      <th>train_preds</th>\n",
       "      <th>val_preds</th>\n",
       "    </tr>\n",
       "  </thead>\n",
       "  <tbody>\n",
       "    <tr>\n",
       "      <th>0</th>\n",
       "      <td>1</td>\n",
       "      <td>Lin reg no processing</td>\n",
       "      <td>16.173984</td>\n",
       "      <td>19.502396</td>\n",
       "      <td>0.089431</td>\n",
       "      <td>0.296748</td>\n",
       "      <td>[1245.6556340930852, 934.4598241217524, 1339.0...</td>\n",
       "      <td>[872.2206621274859, 872.2206621274859, 903.340...</td>\n",
       "    </tr>\n",
       "    <tr>\n",
       "      <th>1</th>\n",
       "      <td>1</td>\n",
       "      <td>Lin reg x,y cbrt</td>\n",
       "      <td>13.373245</td>\n",
       "      <td>16.242376</td>\n",
       "      <td>0.447154</td>\n",
       "      <td>0.699187</td>\n",
       "      <td>[1049.698462329049, 467.12209997282974, 1193.9...</td>\n",
       "      <td>[286.1428316450367, 286.1428316450367, 385.342...</td>\n",
       "    </tr>\n",
       "    <tr>\n",
       "      <th>2</th>\n",
       "      <td>1</td>\n",
       "      <td>Rand forest no processing</td>\n",
       "      <td>12.699463</td>\n",
       "      <td>15.893261</td>\n",
       "      <td>0.540650</td>\n",
       "      <td>0.699187</td>\n",
       "      <td>[855.59, 248.62, 1729.545, 2006.825, 253.4, 15...</td>\n",
       "      <td>[155.705, 155.705, 253.4, 253.4, 2309.21, 253....</td>\n",
       "    </tr>\n",
       "    <tr>\n",
       "      <th>3</th>\n",
       "      <td>1</td>\n",
       "      <td>Rand forest cbrt y</td>\n",
       "      <td>13.134715</td>\n",
       "      <td>15.775085</td>\n",
       "      <td>0.556911</td>\n",
       "      <td>0.723577</td>\n",
       "      <td>[844.3447922266546, 236.68503166234686, 1063.5...</td>\n",
       "      <td>[157.59040104194253, 157.59040104194253, 242.8...</td>\n",
       "    </tr>\n",
       "    <tr>\n",
       "      <th>4</th>\n",
       "      <td>2</td>\n",
       "      <td>Lin reg no y processing</td>\n",
       "      <td>16.474811</td>\n",
       "      <td>20.874601</td>\n",
       "      <td>0.182927</td>\n",
       "      <td>0.353659</td>\n",
       "      <td>[1668.7458394108166, 1070.3110841108855, 1745....</td>\n",
       "      <td>[514.5099140038483, 1028.617392353253, 1261.69...</td>\n",
       "    </tr>\n",
       "    <tr>\n",
       "      <th>5</th>\n",
       "      <td>2</td>\n",
       "      <td>Lin cbrt y processing</td>\n",
       "      <td>14.134824</td>\n",
       "      <td>27.157106</td>\n",
       "      <td>0.333333</td>\n",
       "      <td>0.601626</td>\n",
       "      <td>[629.6094763866956, 392.366360557768, 703.6809...</td>\n",
       "      <td>[296.61766085467434, 922.7319699060707, 822.31...</td>\n",
       "    </tr>\n",
       "    <tr>\n",
       "      <th>6</th>\n",
       "      <td>2</td>\n",
       "      <td>Rand forest cbrt y processing</td>\n",
       "      <td>12.336492</td>\n",
       "      <td>9.915234</td>\n",
       "      <td>0.426829</td>\n",
       "      <td>0.642276</td>\n",
       "      <td>[344.3591256359609, 427.42477951362935, 445.82...</td>\n",
       "      <td>[200.62855900879788, 1091.8324427615007, 1046....</td>\n",
       "    </tr>\n",
       "    <tr>\n",
       "      <th>7</th>\n",
       "      <td>2</td>\n",
       "      <td>Rand forest no y processing</td>\n",
       "      <td>12.299165</td>\n",
       "      <td>12.504331</td>\n",
       "      <td>0.333333</td>\n",
       "      <td>0.508130</td>\n",
       "      <td>[371.815, 618.725, 1305.155, 1158.5, 2542.16, ...</td>\n",
       "      <td>[207.475, 1101.64, 1078.505, 1142.33, 1290.35,...</td>\n",
       "    </tr>\n",
       "    <tr>\n",
       "      <th>8</th>\n",
       "      <td>3</td>\n",
       "      <td>Linreg no preprocessing</td>\n",
       "      <td>18.756273</td>\n",
       "      <td>14.091264</td>\n",
       "      <td>0.093496</td>\n",
       "      <td>0.317073</td>\n",
       "      <td>[889.2828720610919, 872.0094603666342, 1484.24...</td>\n",
       "      <td>[919.5994142485422, 1451.9904649941036, 1213.7...</td>\n",
       "    </tr>\n",
       "    <tr>\n",
       "      <th>9</th>\n",
       "      <td>3</td>\n",
       "      <td>Linreg cbrt y preprocessing</td>\n",
       "      <td>16.516093</td>\n",
       "      <td>17.069026</td>\n",
       "      <td>0.386179</td>\n",
       "      <td>0.837398</td>\n",
       "      <td>[456.4055055268812, 471.3869104987127, 756.759...</td>\n",
       "      <td>[510.3113739768439, 906.3299610813195, 751.165...</td>\n",
       "    </tr>\n",
       "    <tr>\n",
       "      <th>10</th>\n",
       "      <td>3</td>\n",
       "      <td>Rand forest no preprocessing</td>\n",
       "      <td>14.121966</td>\n",
       "      <td>8.163652</td>\n",
       "      <td>0.565041</td>\n",
       "      <td>0.764228</td>\n",
       "      <td>[213.61, 317.84, 762.8, 1423.96, 3255.54, 551....</td>\n",
       "      <td>[211.73, 969.69, 1031.29, 1129.36, 467.52, 392...</td>\n",
       "    </tr>\n",
       "    <tr>\n",
       "      <th>11</th>\n",
       "      <td>3</td>\n",
       "      <td>Rand forest cbrt y preprocessing</td>\n",
       "      <td>14.619182</td>\n",
       "      <td>7.523400</td>\n",
       "      <td>0.650407</td>\n",
       "      <td>0.792683</td>\n",
       "      <td>[239.60726437317703, 269.33913079062233, 589.6...</td>\n",
       "      <td>[210.73419388094874, 827.546279810861, 756.391...</td>\n",
       "    </tr>\n",
       "    <tr>\n",
       "      <th>12</th>\n",
       "      <td>4</td>\n",
       "      <td>Lin reg no preprocessing</td>\n",
       "      <td>18.633111</td>\n",
       "      <td>14.285322</td>\n",
       "      <td>0.065041</td>\n",
       "      <td>0.268293</td>\n",
       "      <td>[1010.9921049731793, 945.7488142721304, 1488.9...</td>\n",
       "      <td>[1032.3458184676763, 1547.1415707448523, 1235....</td>\n",
       "    </tr>\n",
       "    <tr>\n",
       "      <th>13</th>\n",
       "      <td>4</td>\n",
       "      <td>Lin reg cbrt y preprocessing</td>\n",
       "      <td>16.230686</td>\n",
       "      <td>10.713356</td>\n",
       "      <td>0.390244</td>\n",
       "      <td>0.833333</td>\n",
       "      <td>[533.1064258932774, 507.4583152592387, 832.219...</td>\n",
       "      <td>[507.79178894884194, 950.9681105319596, 756.56...</td>\n",
       "    </tr>\n",
       "    <tr>\n",
       "      <th>14</th>\n",
       "      <td>4</td>\n",
       "      <td>Rand forest no preprocessing</td>\n",
       "      <td>13.613232</td>\n",
       "      <td>9.570708</td>\n",
       "      <td>0.410569</td>\n",
       "      <td>0.642276</td>\n",
       "      <td>[695.7925, 432.11, 1424.5575, 1431.595, 2243.2...</td>\n",
       "      <td>[209.135, 1433.03, 1317.37, 1306.125, 867.7225...</td>\n",
       "    </tr>\n",
       "    <tr>\n",
       "      <th>15</th>\n",
       "      <td>4</td>\n",
       "      <td>Rand forest cbrt y preprocessing</td>\n",
       "      <td>13.672971</td>\n",
       "      <td>8.006149</td>\n",
       "      <td>0.544715</td>\n",
       "      <td>0.719512</td>\n",
       "      <td>[601.7676244135004, 358.77798266564827, 922.87...</td>\n",
       "      <td>[209.20783084898423, 1366.330018487968, 1342.9...</td>\n",
       "    </tr>\n",
       "    <tr>\n",
       "      <th>16</th>\n",
       "      <td>5</td>\n",
       "      <td>Lin reg no preprocessing</td>\n",
       "      <td>18.657231</td>\n",
       "      <td>14.175999</td>\n",
       "      <td>0.073171</td>\n",
       "      <td>0.260163</td>\n",
       "      <td>[984.6769430888178, 908.9379702739534, 1314.81...</td>\n",
       "      <td>[960.9200519201804, 1508.1445779928008, 1398.0...</td>\n",
       "    </tr>\n",
       "    <tr>\n",
       "      <th>17</th>\n",
       "      <td>5</td>\n",
       "      <td>Lin reg cbrt y preprocessing</td>\n",
       "      <td>16.244102</td>\n",
       "      <td>13.291957</td>\n",
       "      <td>0.365854</td>\n",
       "      <td>0.837398</td>\n",
       "      <td>[516.9478721742545, 481.52944258275227, 727.56...</td>\n",
       "      <td>[508.1265130548529, 925.8375241607567, 862.013...</td>\n",
       "    </tr>\n",
       "    <tr>\n",
       "      <th>18</th>\n",
       "      <td>5</td>\n",
       "      <td>Rand forest no preprocessing</td>\n",
       "      <td>14.307147</td>\n",
       "      <td>8.138393</td>\n",
       "      <td>0.577236</td>\n",
       "      <td>0.760163</td>\n",
       "      <td>[608.085, 152.715, 794.8475, 1934.9675, 2250.8...</td>\n",
       "      <td>[169.84, 827.6075, 1100.935, 989.2475, 361.465...</td>\n",
       "    </tr>\n",
       "    <tr>\n",
       "      <th>19</th>\n",
       "      <td>5</td>\n",
       "      <td>Rand forest cbrt y preprocessing</td>\n",
       "      <td>14.675458</td>\n",
       "      <td>7.727729</td>\n",
       "      <td>0.617886</td>\n",
       "      <td>0.776423</td>\n",
       "      <td>[600.9691711590341, 159.05771344872855, 665.95...</td>\n",
       "      <td>[153.99184816674006, 887.5806174756989, 931.97...</td>\n",
       "    </tr>\n",
       "    <tr>\n",
       "      <th>20</th>\n",
       "      <td>6</td>\n",
       "      <td>Lin reg no preprocessing</td>\n",
       "      <td>18.925837</td>\n",
       "      <td>13.708512</td>\n",
       "      <td>0.085366</td>\n",
       "      <td>0.239837</td>\n",
       "      <td>[975.9068002683329, 1018.1907173575488, 1159.8...</td>\n",
       "      <td>[1044.2678032288195, 1514.0405256571376, 1399....</td>\n",
       "    </tr>\n",
       "    <tr>\n",
       "      <th>21</th>\n",
       "      <td>6</td>\n",
       "      <td>Lin reg cbrt y preprocessing</td>\n",
       "      <td>16.957415</td>\n",
       "      <td>8.493709</td>\n",
       "      <td>0.382114</td>\n",
       "      <td>0.878049</td>\n",
       "      <td>[528.9952434287998, 575.7927194218391, 609.443...</td>\n",
       "      <td>[562.8336491572281, 907.0438327408325, 806.364...</td>\n",
       "    </tr>\n",
       "    <tr>\n",
       "      <th>22</th>\n",
       "      <td>6</td>\n",
       "      <td>Rand forest no preprocessing</td>\n",
       "      <td>14.787875</td>\n",
       "      <td>7.386528</td>\n",
       "      <td>0.605691</td>\n",
       "      <td>0.788618</td>\n",
       "      <td>[287.2625, 252.0525, 510.9125, 1235.83, 1877.5...</td>\n",
       "      <td>[351.8875, 882.055, 752.7275, 967.215, 729.865...</td>\n",
       "    </tr>\n",
       "    <tr>\n",
       "      <th>23</th>\n",
       "      <td>6</td>\n",
       "      <td>Rand forest cbrt y preprocessing</td>\n",
       "      <td>15.104524</td>\n",
       "      <td>7.255051</td>\n",
       "      <td>0.613821</td>\n",
       "      <td>0.780488</td>\n",
       "      <td>[264.3656807197619, 253.1303876885501, 469.590...</td>\n",
       "      <td>[370.87748682164744, 798.1517462782451, 770.99...</td>\n",
       "    </tr>\n",
       "    <tr>\n",
       "      <th>24</th>\n",
       "      <td>10</td>\n",
       "      <td>Lin reg ensambling features: (0, 10, 18, 19)</td>\n",
       "      <td>16.695388</td>\n",
       "      <td>12.858410</td>\n",
       "      <td>0.170732</td>\n",
       "      <td>0.459350</td>\n",
       "      <td>[660.2645098607555, 725.2668881225417, 1324.42...</td>\n",
       "      <td>[678.0356794459232, 1148.253845723801, 1606.54...</td>\n",
       "    </tr>\n",
       "  </tbody>\n",
       "</table>\n",
       "</div>"
      ],
      "text/plain": [
       "   experiment_num                                    model_type  train_mae  \\\n",
       "0               1                         Lin reg no processing  16.173984   \n",
       "1               1                              Lin reg x,y cbrt  13.373245   \n",
       "2               1                     Rand forest no processing  12.699463   \n",
       "3               1                            Rand forest cbrt y  13.134715   \n",
       "4               2                       Lin reg no y processing  16.474811   \n",
       "5               2                         Lin cbrt y processing  14.134824   \n",
       "6               2                 Rand forest cbrt y processing  12.336492   \n",
       "7               2                   Rand forest no y processing  12.299165   \n",
       "8               3                       Linreg no preprocessing  18.756273   \n",
       "9               3                   Linreg cbrt y preprocessing  16.516093   \n",
       "10              3                  Rand forest no preprocessing  14.121966   \n",
       "11              3              Rand forest cbrt y preprocessing  14.619182   \n",
       "12              4                      Lin reg no preprocessing  18.633111   \n",
       "13              4                  Lin reg cbrt y preprocessing  16.230686   \n",
       "14              4                  Rand forest no preprocessing  13.613232   \n",
       "15              4              Rand forest cbrt y preprocessing  13.672971   \n",
       "16              5                      Lin reg no preprocessing  18.657231   \n",
       "17              5                  Lin reg cbrt y preprocessing  16.244102   \n",
       "18              5                  Rand forest no preprocessing  14.307147   \n",
       "19              5              Rand forest cbrt y preprocessing  14.675458   \n",
       "20              6                      Lin reg no preprocessing  18.925837   \n",
       "21              6                  Lin reg cbrt y preprocessing  16.957415   \n",
       "22              6                  Rand forest no preprocessing  14.787875   \n",
       "23              6              Rand forest cbrt y preprocessing  15.104524   \n",
       "24             10  Lin reg ensambling features: (0, 10, 18, 19)  16.695388   \n",
       "\n",
       "      val_mae  perc_lt_5mins  perc_lt_10mins  \\\n",
       "0   19.502396       0.089431        0.296748   \n",
       "1   16.242376       0.447154        0.699187   \n",
       "2   15.893261       0.540650        0.699187   \n",
       "3   15.775085       0.556911        0.723577   \n",
       "4   20.874601       0.182927        0.353659   \n",
       "5   27.157106       0.333333        0.601626   \n",
       "6    9.915234       0.426829        0.642276   \n",
       "7   12.504331       0.333333        0.508130   \n",
       "8   14.091264       0.093496        0.317073   \n",
       "9   17.069026       0.386179        0.837398   \n",
       "10   8.163652       0.565041        0.764228   \n",
       "11   7.523400       0.650407        0.792683   \n",
       "12  14.285322       0.065041        0.268293   \n",
       "13  10.713356       0.390244        0.833333   \n",
       "14   9.570708       0.410569        0.642276   \n",
       "15   8.006149       0.544715        0.719512   \n",
       "16  14.175999       0.073171        0.260163   \n",
       "17  13.291957       0.365854        0.837398   \n",
       "18   8.138393       0.577236        0.760163   \n",
       "19   7.727729       0.617886        0.776423   \n",
       "20  13.708512       0.085366        0.239837   \n",
       "21   8.493709       0.382114        0.878049   \n",
       "22   7.386528       0.605691        0.788618   \n",
       "23   7.255051       0.613821        0.780488   \n",
       "24  12.858410       0.170732        0.459350   \n",
       "\n",
       "                                          train_preds  \\\n",
       "0   [1245.6556340930852, 934.4598241217524, 1339.0...   \n",
       "1   [1049.698462329049, 467.12209997282974, 1193.9...   \n",
       "2   [855.59, 248.62, 1729.545, 2006.825, 253.4, 15...   \n",
       "3   [844.3447922266546, 236.68503166234686, 1063.5...   \n",
       "4   [1668.7458394108166, 1070.3110841108855, 1745....   \n",
       "5   [629.6094763866956, 392.366360557768, 703.6809...   \n",
       "6   [344.3591256359609, 427.42477951362935, 445.82...   \n",
       "7   [371.815, 618.725, 1305.155, 1158.5, 2542.16, ...   \n",
       "8   [889.2828720610919, 872.0094603666342, 1484.24...   \n",
       "9   [456.4055055268812, 471.3869104987127, 756.759...   \n",
       "10  [213.61, 317.84, 762.8, 1423.96, 3255.54, 551....   \n",
       "11  [239.60726437317703, 269.33913079062233, 589.6...   \n",
       "12  [1010.9921049731793, 945.7488142721304, 1488.9...   \n",
       "13  [533.1064258932774, 507.4583152592387, 832.219...   \n",
       "14  [695.7925, 432.11, 1424.5575, 1431.595, 2243.2...   \n",
       "15  [601.7676244135004, 358.77798266564827, 922.87...   \n",
       "16  [984.6769430888178, 908.9379702739534, 1314.81...   \n",
       "17  [516.9478721742545, 481.52944258275227, 727.56...   \n",
       "18  [608.085, 152.715, 794.8475, 1934.9675, 2250.8...   \n",
       "19  [600.9691711590341, 159.05771344872855, 665.95...   \n",
       "20  [975.9068002683329, 1018.1907173575488, 1159.8...   \n",
       "21  [528.9952434287998, 575.7927194218391, 609.443...   \n",
       "22  [287.2625, 252.0525, 510.9125, 1235.83, 1877.5...   \n",
       "23  [264.3656807197619, 253.1303876885501, 469.590...   \n",
       "24  [660.2645098607555, 725.2668881225417, 1324.42...   \n",
       "\n",
       "                                            val_preds  \n",
       "0   [872.2206621274859, 872.2206621274859, 903.340...  \n",
       "1   [286.1428316450367, 286.1428316450367, 385.342...  \n",
       "2   [155.705, 155.705, 253.4, 253.4, 2309.21, 253....  \n",
       "3   [157.59040104194253, 157.59040104194253, 242.8...  \n",
       "4   [514.5099140038483, 1028.617392353253, 1261.69...  \n",
       "5   [296.61766085467434, 922.7319699060707, 822.31...  \n",
       "6   [200.62855900879788, 1091.8324427615007, 1046....  \n",
       "7   [207.475, 1101.64, 1078.505, 1142.33, 1290.35,...  \n",
       "8   [919.5994142485422, 1451.9904649941036, 1213.7...  \n",
       "9   [510.3113739768439, 906.3299610813195, 751.165...  \n",
       "10  [211.73, 969.69, 1031.29, 1129.36, 467.52, 392...  \n",
       "11  [210.73419388094874, 827.546279810861, 756.391...  \n",
       "12  [1032.3458184676763, 1547.1415707448523, 1235....  \n",
       "13  [507.79178894884194, 950.9681105319596, 756.56...  \n",
       "14  [209.135, 1433.03, 1317.37, 1306.125, 867.7225...  \n",
       "15  [209.20783084898423, 1366.330018487968, 1342.9...  \n",
       "16  [960.9200519201804, 1508.1445779928008, 1398.0...  \n",
       "17  [508.1265130548529, 925.8375241607567, 862.013...  \n",
       "18  [169.84, 827.6075, 1100.935, 989.2475, 361.465...  \n",
       "19  [153.99184816674006, 887.5806174756989, 931.97...  \n",
       "20  [1044.2678032288195, 1514.0405256571376, 1399....  \n",
       "21  [562.8336491572281, 907.0438327408325, 806.364...  \n",
       "22  [351.8875, 882.055, 752.7275, 967.215, 729.865...  \n",
       "23  [370.87748682164744, 798.1517462782451, 770.99...  \n",
       "24  [678.0356794459232, 1148.253845723801, 1606.54...  "
      ]
     },
     "execution_count": 405,
     "metadata": {},
     "output_type": "execute_result"
    }
   ],
   "source": [
    "metrics_df"
   ]
  },
  {
   "cell_type": "code",
   "execution_count": null,
   "id": "576f0684",
   "metadata": {},
   "outputs": [],
   "source": []
  },
  {
   "cell_type": "code",
   "execution_count": 406,
   "id": "144ecfec",
   "metadata": {},
   "outputs": [
    {
     "name": "stdout",
     "output_type": "stream",
     "text": [
      "Fitting 5 folds for each of 21 candidates, totalling 105 fits\n",
      "[CV 1/5] END criterion=absolute_error, max_features=0.4, min_samples_split=2, n_estimators=50, n_jobs=-1;, score=0.507 total time=   0.3s\n",
      "[CV 2/5] END criterion=absolute_error, max_features=0.4, min_samples_split=2, n_estimators=50, n_jobs=-1;, score=0.574 total time=   0.2s\n",
      "[CV 3/5] END criterion=absolute_error, max_features=0.4, min_samples_split=2, n_estimators=50, n_jobs=-1;, score=0.658 total time=   0.2s\n",
      "[CV 4/5] END criterion=absolute_error, max_features=0.4, min_samples_split=2, n_estimators=50, n_jobs=-1;, score=0.527 total time=   0.2s\n",
      "[CV 5/5] END criterion=absolute_error, max_features=0.4, min_samples_split=2, n_estimators=50, n_jobs=-1;, score=0.596 total time=   0.3s\n",
      "[CV 1/5] END criterion=absolute_error, max_features=0.4, min_samples_split=2, n_estimators=100, n_jobs=-1;, score=0.508 total time=   0.3s\n",
      "[CV 2/5] END criterion=absolute_error, max_features=0.4, min_samples_split=2, n_estimators=100, n_jobs=-1;, score=0.554 total time=   0.3s\n",
      "[CV 3/5] END criterion=absolute_error, max_features=0.4, min_samples_split=2, n_estimators=100, n_jobs=-1;, score=0.640 total time=   0.4s\n",
      "[CV 4/5] END criterion=absolute_error, max_features=0.4, min_samples_split=2, n_estimators=100, n_jobs=-1;, score=0.547 total time=   0.3s\n",
      "[CV 5/5] END criterion=absolute_error, max_features=0.4, min_samples_split=2, n_estimators=100, n_jobs=-1;, score=0.588 total time=   0.3s\n",
      "[CV 1/5] END criterion=absolute_error, max_features=0.4, min_samples_split=2, n_estimators=200, n_jobs=-1;, score=0.516 total time=   0.6s\n",
      "[CV 2/5] END criterion=absolute_error, max_features=0.4, min_samples_split=2, n_estimators=200, n_jobs=-1;, score=0.546 total time=   0.5s\n",
      "[CV 3/5] END criterion=absolute_error, max_features=0.4, min_samples_split=2, n_estimators=200, n_jobs=-1;, score=0.644 total time=   0.6s\n",
      "[CV 4/5] END criterion=absolute_error, max_features=0.4, min_samples_split=2, n_estimators=200, n_jobs=-1;, score=0.541 total time=   0.5s\n",
      "[CV 5/5] END criterion=absolute_error, max_features=0.4, min_samples_split=2, n_estimators=200, n_jobs=-1;, score=0.596 total time=   0.6s\n",
      "[CV 1/5] END criterion=absolute_error, max_features=0.4, min_samples_split=10, n_estimators=50, n_jobs=-1;, score=0.471 total time=   0.2s\n",
      "[CV 2/5] END criterion=absolute_error, max_features=0.4, min_samples_split=10, n_estimators=50, n_jobs=-1;, score=0.551 total time=   0.2s\n",
      "[CV 3/5] END criterion=absolute_error, max_features=0.4, min_samples_split=10, n_estimators=50, n_jobs=-1;, score=0.667 total time=   0.2s\n",
      "[CV 4/5] END criterion=absolute_error, max_features=0.4, min_samples_split=10, n_estimators=50, n_jobs=-1;, score=0.537 total time=   0.2s\n",
      "[CV 5/5] END criterion=absolute_error, max_features=0.4, min_samples_split=10, n_estimators=50, n_jobs=-1;, score=0.596 total time=   0.2s\n",
      "[CV 1/5] END criterion=absolute_error, max_features=0.4, min_samples_split=10, n_estimators=100, n_jobs=-1;, score=0.508 total time=   0.3s\n",
      "[CV 2/5] END criterion=absolute_error, max_features=0.4, min_samples_split=10, n_estimators=100, n_jobs=-1;, score=0.591 total time=   0.3s\n",
      "[CV 3/5] END criterion=absolute_error, max_features=0.4, min_samples_split=10, n_estimators=100, n_jobs=-1;, score=0.671 total time=   0.3s\n",
      "[CV 4/5] END criterion=absolute_error, max_features=0.4, min_samples_split=10, n_estimators=100, n_jobs=-1;, score=0.552 total time=   0.3s\n",
      "[CV 5/5] END criterion=absolute_error, max_features=0.4, min_samples_split=10, n_estimators=100, n_jobs=-1;, score=0.609 total time=   0.3s\n",
      "[CV 1/5] END criterion=absolute_error, max_features=0.4, min_samples_split=10, n_estimators=200, n_jobs=-1;, score=0.504 total time=   0.5s\n",
      "[CV 2/5] END criterion=absolute_error, max_features=0.4, min_samples_split=10, n_estimators=200, n_jobs=-1;, score=0.578 total time=   0.5s\n",
      "[CV 3/5] END criterion=absolute_error, max_features=0.4, min_samples_split=10, n_estimators=200, n_jobs=-1;, score=0.673 total time=   0.6s\n",
      "[CV 4/5] END criterion=absolute_error, max_features=0.4, min_samples_split=10, n_estimators=200, n_jobs=-1;, score=0.550 total time=   0.5s\n",
      "[CV 5/5] END criterion=absolute_error, max_features=0.4, min_samples_split=10, n_estimators=200, n_jobs=-1;, score=0.611 total time=   0.5s\n",
      "[CV 1/5] END criterion=absolute_error, max_features=0.4, min_samples_split=30, n_estimators=50, n_jobs=-1;, score=0.446 total time=   0.2s\n",
      "[CV 2/5] END criterion=absolute_error, max_features=0.4, min_samples_split=30, n_estimators=50, n_jobs=-1;, score=0.642 total time=   0.2s\n",
      "[CV 3/5] END criterion=absolute_error, max_features=0.4, min_samples_split=30, n_estimators=50, n_jobs=-1;, score=0.675 total time=   0.2s\n",
      "[CV 4/5] END criterion=absolute_error, max_features=0.4, min_samples_split=30, n_estimators=50, n_jobs=-1;, score=0.509 total time=   0.2s\n",
      "[CV 5/5] END criterion=absolute_error, max_features=0.4, min_samples_split=30, n_estimators=50, n_jobs=-1;, score=0.625 total time=   0.2s\n",
      "[CV 1/5] END criterion=absolute_error, max_features=0.4, min_samples_split=30, n_estimators=100, n_jobs=-1;, score=0.454 total time=   0.3s\n",
      "[CV 2/5] END criterion=absolute_error, max_features=0.4, min_samples_split=30, n_estimators=100, n_jobs=-1;, score=0.624 total time=   0.3s\n",
      "[CV 3/5] END criterion=absolute_error, max_features=0.4, min_samples_split=30, n_estimators=100, n_jobs=-1;, score=0.691 total time=   0.3s\n",
      "[CV 4/5] END criterion=absolute_error, max_features=0.4, min_samples_split=30, n_estimators=100, n_jobs=-1;, score=0.526 total time=   0.3s\n",
      "[CV 5/5] END criterion=absolute_error, max_features=0.4, min_samples_split=30, n_estimators=100, n_jobs=-1;, score=0.616 total time=   0.3s\n",
      "[CV 1/5] END criterion=absolute_error, max_features=0.4, min_samples_split=30, n_estimators=200, n_jobs=-1;, score=0.454 total time=   0.5s\n",
      "[CV 2/5] END criterion=absolute_error, max_features=0.4, min_samples_split=30, n_estimators=200, n_jobs=-1;, score=0.610 total time=   0.5s\n",
      "[CV 3/5] END criterion=absolute_error, max_features=0.4, min_samples_split=30, n_estimators=200, n_jobs=-1;, score=0.690 total time=   0.5s\n",
      "[CV 4/5] END criterion=absolute_error, max_features=0.4, min_samples_split=30, n_estimators=200, n_jobs=-1;, score=0.522 total time=   0.5s\n",
      "[CV 5/5] END criterion=absolute_error, max_features=0.4, min_samples_split=30, n_estimators=200, n_jobs=-1;, score=0.611 total time=   0.5s\n",
      "[CV 1/5] END criterion=absolute_error, max_features=0.4, min_samples_split=0.02, n_estimators=50, n_jobs=-1;, score=0.481 total time=   0.2s\n",
      "[CV 2/5] END criterion=absolute_error, max_features=0.4, min_samples_split=0.02, n_estimators=50, n_jobs=-1;, score=0.573 total time=   0.2s\n",
      "[CV 3/5] END criterion=absolute_error, max_features=0.4, min_samples_split=0.02, n_estimators=50, n_jobs=-1;, score=0.680 total time=   0.2s\n",
      "[CV 4/5] END criterion=absolute_error, max_features=0.4, min_samples_split=0.02, n_estimators=50, n_jobs=-1;, score=0.543 total time=   0.2s\n",
      "[CV 5/5] END criterion=absolute_error, max_features=0.4, min_samples_split=0.02, n_estimators=50, n_jobs=-1;, score=0.597 total time=   0.2s\n",
      "[CV 1/5] END criterion=absolute_error, max_features=0.4, min_samples_split=0.02, n_estimators=100, n_jobs=-1;, score=0.489 total time=   0.3s\n",
      "[CV 2/5] END criterion=absolute_error, max_features=0.4, min_samples_split=0.02, n_estimators=100, n_jobs=-1;, score=0.598 total time=   0.3s\n",
      "[CV 3/5] END criterion=absolute_error, max_features=0.4, min_samples_split=0.02, n_estimators=100, n_jobs=-1;, score=0.687 total time=   0.3s\n",
      "[CV 4/5] END criterion=absolute_error, max_features=0.4, min_samples_split=0.02, n_estimators=100, n_jobs=-1;, score=0.548 total time=   0.3s\n",
      "[CV 5/5] END criterion=absolute_error, max_features=0.4, min_samples_split=0.02, n_estimators=100, n_jobs=-1;, score=0.593 total time=   0.3s\n",
      "[CV 1/5] END criterion=absolute_error, max_features=0.4, min_samples_split=0.02, n_estimators=200, n_jobs=-1;, score=0.474 total time=   0.5s\n",
      "[CV 2/5] END criterion=absolute_error, max_features=0.4, min_samples_split=0.02, n_estimators=200, n_jobs=-1;, score=0.595 total time=   0.5s\n",
      "[CV 3/5] END criterion=absolute_error, max_features=0.4, min_samples_split=0.02, n_estimators=200, n_jobs=-1;, score=0.682 total time=   0.5s\n",
      "[CV 4/5] END criterion=absolute_error, max_features=0.4, min_samples_split=0.02, n_estimators=200, n_jobs=-1;, score=0.541 total time=   0.5s\n"
     ]
    },
    {
     "name": "stdout",
     "output_type": "stream",
     "text": [
      "[CV 5/5] END criterion=absolute_error, max_features=0.4, min_samples_split=0.02, n_estimators=200, n_jobs=-1;, score=0.618 total time=   0.5s\n",
      "[CV 1/5] END criterion=absolute_error, max_features=0.4, min_samples_split=0.05, n_estimators=50, n_jobs=-1;, score=0.417 total time=   0.2s\n",
      "[CV 2/5] END criterion=absolute_error, max_features=0.4, min_samples_split=0.05, n_estimators=50, n_jobs=-1;, score=0.635 total time=   0.2s\n",
      "[CV 3/5] END criterion=absolute_error, max_features=0.4, min_samples_split=0.05, n_estimators=50, n_jobs=-1;, score=0.680 total time=   0.2s\n",
      "[CV 4/5] END criterion=absolute_error, max_features=0.4, min_samples_split=0.05, n_estimators=50, n_jobs=-1;, score=0.501 total time=   0.2s\n",
      "[CV 5/5] END criterion=absolute_error, max_features=0.4, min_samples_split=0.05, n_estimators=50, n_jobs=-1;, score=0.613 total time=   0.2s\n",
      "[CV 1/5] END criterion=absolute_error, max_features=0.4, min_samples_split=0.05, n_estimators=100, n_jobs=-1;, score=0.420 total time=   0.3s\n",
      "[CV 2/5] END criterion=absolute_error, max_features=0.4, min_samples_split=0.05, n_estimators=100, n_jobs=-1;, score=0.620 total time=   0.3s\n",
      "[CV 3/5] END criterion=absolute_error, max_features=0.4, min_samples_split=0.05, n_estimators=100, n_jobs=-1;, score=0.673 total time=   0.3s\n",
      "[CV 4/5] END criterion=absolute_error, max_features=0.4, min_samples_split=0.05, n_estimators=100, n_jobs=-1;, score=0.488 total time=   0.3s\n",
      "[CV 5/5] END criterion=absolute_error, max_features=0.4, min_samples_split=0.05, n_estimators=100, n_jobs=-1;, score=0.610 total time=   0.3s\n",
      "[CV 1/5] END criterion=absolute_error, max_features=0.4, min_samples_split=0.05, n_estimators=200, n_jobs=-1;, score=0.435 total time=   0.4s\n",
      "[CV 2/5] END criterion=absolute_error, max_features=0.4, min_samples_split=0.05, n_estimators=200, n_jobs=-1;, score=0.619 total time=   0.5s\n",
      "[CV 3/5] END criterion=absolute_error, max_features=0.4, min_samples_split=0.05, n_estimators=200, n_jobs=-1;, score=0.678 total time=   0.5s\n",
      "[CV 4/5] END criterion=absolute_error, max_features=0.4, min_samples_split=0.05, n_estimators=200, n_jobs=-1;, score=0.502 total time=   0.5s\n",
      "[CV 5/5] END criterion=absolute_error, max_features=0.4, min_samples_split=0.05, n_estimators=200, n_jobs=-1;, score=0.616 total time=   0.4s\n",
      "[CV 1/5] END criterion=absolute_error, max_features=0.4, min_samples_split=0.1, n_estimators=50, n_jobs=-1;, score=0.399 total time=   0.2s\n",
      "[CV 2/5] END criterion=absolute_error, max_features=0.4, min_samples_split=0.1, n_estimators=50, n_jobs=-1;, score=0.598 total time=   0.2s\n",
      "[CV 3/5] END criterion=absolute_error, max_features=0.4, min_samples_split=0.1, n_estimators=50, n_jobs=-1;, score=0.649 total time=   0.2s\n",
      "[CV 4/5] END criterion=absolute_error, max_features=0.4, min_samples_split=0.1, n_estimators=50, n_jobs=-1;, score=0.449 total time=   0.2s\n",
      "[CV 5/5] END criterion=absolute_error, max_features=0.4, min_samples_split=0.1, n_estimators=50, n_jobs=-1;, score=0.590 total time=   0.2s\n",
      "[CV 1/5] END criterion=absolute_error, max_features=0.4, min_samples_split=0.1, n_estimators=100, n_jobs=-1;, score=0.385 total time=   0.3s\n",
      "[CV 2/5] END criterion=absolute_error, max_features=0.4, min_samples_split=0.1, n_estimators=100, n_jobs=-1;, score=0.581 total time=   0.3s\n",
      "[CV 3/5] END criterion=absolute_error, max_features=0.4, min_samples_split=0.1, n_estimators=100, n_jobs=-1;, score=0.651 total time=   0.3s\n",
      "[CV 4/5] END criterion=absolute_error, max_features=0.4, min_samples_split=0.1, n_estimators=100, n_jobs=-1;, score=0.456 total time=   0.3s\n",
      "[CV 5/5] END criterion=absolute_error, max_features=0.4, min_samples_split=0.1, n_estimators=100, n_jobs=-1;, score=0.611 total time=   0.3s\n",
      "[CV 1/5] END criterion=absolute_error, max_features=0.4, min_samples_split=0.1, n_estimators=200, n_jobs=-1;, score=0.390 total time=   0.4s\n",
      "[CV 2/5] END criterion=absolute_error, max_features=0.4, min_samples_split=0.1, n_estimators=200, n_jobs=-1;, score=0.589 total time=   0.4s\n",
      "[CV 3/5] END criterion=absolute_error, max_features=0.4, min_samples_split=0.1, n_estimators=200, n_jobs=-1;, score=0.653 total time=   0.4s\n",
      "[CV 4/5] END criterion=absolute_error, max_features=0.4, min_samples_split=0.1, n_estimators=200, n_jobs=-1;, score=0.450 total time=   0.4s\n",
      "[CV 5/5] END criterion=absolute_error, max_features=0.4, min_samples_split=0.1, n_estimators=200, n_jobs=-1;, score=0.614 total time=   0.4s\n",
      "[CV 1/5] END criterion=absolute_error, max_features=0.4, min_samples_split=0.2, n_estimators=50, n_jobs=-1;, score=0.291 total time=   0.2s\n",
      "[CV 2/5] END criterion=absolute_error, max_features=0.4, min_samples_split=0.2, n_estimators=50, n_jobs=-1;, score=0.507 total time=   0.2s\n",
      "[CV 3/5] END criterion=absolute_error, max_features=0.4, min_samples_split=0.2, n_estimators=50, n_jobs=-1;, score=0.620 total time=   0.2s\n",
      "[CV 4/5] END criterion=absolute_error, max_features=0.4, min_samples_split=0.2, n_estimators=50, n_jobs=-1;, score=0.397 total time=   0.2s\n",
      "[CV 5/5] END criterion=absolute_error, max_features=0.4, min_samples_split=0.2, n_estimators=50, n_jobs=-1;, score=0.433 total time=   0.2s\n",
      "[CV 1/5] END criterion=absolute_error, max_features=0.4, min_samples_split=0.2, n_estimators=100, n_jobs=-1;, score=0.266 total time=   0.3s\n",
      "[CV 2/5] END criterion=absolute_error, max_features=0.4, min_samples_split=0.2, n_estimators=100, n_jobs=-1;, score=0.495 total time=   0.3s\n",
      "[CV 3/5] END criterion=absolute_error, max_features=0.4, min_samples_split=0.2, n_estimators=100, n_jobs=-1;, score=0.596 total time=   0.3s\n",
      "[CV 4/5] END criterion=absolute_error, max_features=0.4, min_samples_split=0.2, n_estimators=100, n_jobs=-1;, score=0.407 total time=   0.3s\n",
      "[CV 5/5] END criterion=absolute_error, max_features=0.4, min_samples_split=0.2, n_estimators=100, n_jobs=-1;, score=0.469 total time=   0.3s\n",
      "[CV 1/5] END criterion=absolute_error, max_features=0.4, min_samples_split=0.2, n_estimators=200, n_jobs=-1;, score=0.274 total time=   0.4s\n",
      "[CV 2/5] END criterion=absolute_error, max_features=0.4, min_samples_split=0.2, n_estimators=200, n_jobs=-1;, score=0.509 total time=   0.4s\n",
      "[CV 3/5] END criterion=absolute_error, max_features=0.4, min_samples_split=0.2, n_estimators=200, n_jobs=-1;, score=0.599 total time=   0.4s\n",
      "[CV 4/5] END criterion=absolute_error, max_features=0.4, min_samples_split=0.2, n_estimators=200, n_jobs=-1;, score=0.400 total time=   0.4s\n",
      "[CV 5/5] END criterion=absolute_error, max_features=0.4, min_samples_split=0.2, n_estimators=200, n_jobs=-1;, score=0.474 total time=   0.4s\n"
     ]
    },
    {
     "data": {
      "text/plain": [
       "0.8533268780259937"
      ]
     },
     "execution_count": 406,
     "metadata": {},
     "output_type": "execute_result"
    }
   ],
   "source": [
    "import numpy as np\n",
    "from sklearn.linear_model import LinearRegression\n",
    "\n",
    "from sklearn.ensemble import RandomForestRegressor\n",
    "\n",
    "from sklearn.metrics import mean_absolute_error as mae\n",
    "\n",
    "\n",
    "from sklearn.model_selection import GridSearchCV\n",
    "parameters = {'n_estimators':[50, 100, 200], 'min_samples_split':[2, 10, 30, 0.02, 0.05, 0.1, 0.2],\n",
    "              \"criterion\": [\"absolute_error\"], \"n_jobs\":[-1], \"max_features\":[0.4]}\n",
    "\n",
    "rand_for = RandomForestRegressor()\n",
    "reg = GridSearchCV(rand_for, parameters, verbose=3, cv=5)\n",
    "reg.fit(np.array(large_feature_train), np.array(train_y))\n",
    "\n",
    "reg.score(np.array(large_feature_train), np.array(train_y))"
   ]
  },
  {
   "cell_type": "code",
   "execution_count": null,
   "id": "ba5fdace",
   "metadata": {},
   "outputs": [],
   "source": []
  },
  {
   "cell_type": "code",
   "execution_count": null,
   "id": "0322d048",
   "metadata": {},
   "outputs": [],
   "source": []
  },
  {
   "cell_type": "code",
   "execution_count": 407,
   "id": "f1509450",
   "metadata": {},
   "outputs": [
    {
     "data": {
      "text/plain": [
       "{'criterion': 'absolute_error',\n",
       " 'max_features': 0.4,\n",
       " 'min_samples_split': 10,\n",
       " 'n_estimators': 100,\n",
       " 'n_jobs': -1}"
      ]
     },
     "execution_count": 407,
     "metadata": {},
     "output_type": "execute_result"
    }
   ],
   "source": [
    "reg.best_params_"
   ]
  },
  {
   "cell_type": "code",
   "execution_count": 408,
   "id": "9cad5e66",
   "metadata": {},
   "outputs": [],
   "source": [
    "l = {\"experiment_num\": \"11\", \n",
    " \"model_type\": \"Rand forest ensambling\", \n",
    " \"train_mae\": mae(reg.predict(np.array(large_feature_train)), np.array(train_y)) / 60, \n",
    " \"val_mae\": mae(reg.predict(np.array(large_feature_val)), np.array(val_y)) / 60, \n",
    " \"perc_lt_5mins\": np.sum(np.abs( (reg.predict(np.array(large_feature_val)) - np.array(val_y)) / 60) < 5)/ len(val_y) ,\n",
    " \"perc_lt_10mins\": np.sum(np.abs( (reg.predict(np.array(large_feature_val)) - np.array(val_y)) / 60) < 10) / len(val_y),\n",
    "    \"train_preds\": reg.predict(np.array(large_feature_train)),\n",
    "    \"val_preds\":reg.predict(np.array(large_feature_val)) }\n",
    "\n",
    "metrics_df = metrics_df.append(l, ignore_index=True)"
   ]
  },
  {
   "cell_type": "code",
   "execution_count": 409,
   "id": "f3d87c28",
   "metadata": {},
   "outputs": [
    {
     "data": {
      "text/html": [
       "<div>\n",
       "<style scoped>\n",
       "    .dataframe tbody tr th:only-of-type {\n",
       "        vertical-align: middle;\n",
       "    }\n",
       "\n",
       "    .dataframe tbody tr th {\n",
       "        vertical-align: top;\n",
       "    }\n",
       "\n",
       "    .dataframe thead th {\n",
       "        text-align: right;\n",
       "    }\n",
       "</style>\n",
       "<table border=\"1\" class=\"dataframe\">\n",
       "  <thead>\n",
       "    <tr style=\"text-align: right;\">\n",
       "      <th></th>\n",
       "      <th>experiment_num</th>\n",
       "      <th>model_type</th>\n",
       "      <th>train_mae</th>\n",
       "      <th>val_mae</th>\n",
       "      <th>perc_lt_5mins</th>\n",
       "      <th>perc_lt_10mins</th>\n",
       "      <th>train_preds</th>\n",
       "      <th>val_preds</th>\n",
       "    </tr>\n",
       "  </thead>\n",
       "  <tbody>\n",
       "    <tr>\n",
       "      <th>0</th>\n",
       "      <td>1</td>\n",
       "      <td>Lin reg no processing</td>\n",
       "      <td>16.173984</td>\n",
       "      <td>19.502396</td>\n",
       "      <td>0.089431</td>\n",
       "      <td>0.296748</td>\n",
       "      <td>[1245.6556340930852, 934.4598241217524, 1339.0...</td>\n",
       "      <td>[872.2206621274859, 872.2206621274859, 903.340...</td>\n",
       "    </tr>\n",
       "    <tr>\n",
       "      <th>1</th>\n",
       "      <td>1</td>\n",
       "      <td>Lin reg x,y cbrt</td>\n",
       "      <td>13.373245</td>\n",
       "      <td>16.242376</td>\n",
       "      <td>0.447154</td>\n",
       "      <td>0.699187</td>\n",
       "      <td>[1049.698462329049, 467.12209997282974, 1193.9...</td>\n",
       "      <td>[286.1428316450367, 286.1428316450367, 385.342...</td>\n",
       "    </tr>\n",
       "    <tr>\n",
       "      <th>2</th>\n",
       "      <td>1</td>\n",
       "      <td>Rand forest no processing</td>\n",
       "      <td>12.699463</td>\n",
       "      <td>15.893261</td>\n",
       "      <td>0.540650</td>\n",
       "      <td>0.699187</td>\n",
       "      <td>[855.59, 248.62, 1729.545, 2006.825, 253.4, 15...</td>\n",
       "      <td>[155.705, 155.705, 253.4, 253.4, 2309.21, 253....</td>\n",
       "    </tr>\n",
       "    <tr>\n",
       "      <th>3</th>\n",
       "      <td>1</td>\n",
       "      <td>Rand forest cbrt y</td>\n",
       "      <td>13.134715</td>\n",
       "      <td>15.775085</td>\n",
       "      <td>0.556911</td>\n",
       "      <td>0.723577</td>\n",
       "      <td>[844.3447922266546, 236.68503166234686, 1063.5...</td>\n",
       "      <td>[157.59040104194253, 157.59040104194253, 242.8...</td>\n",
       "    </tr>\n",
       "    <tr>\n",
       "      <th>4</th>\n",
       "      <td>2</td>\n",
       "      <td>Lin reg no y processing</td>\n",
       "      <td>16.474811</td>\n",
       "      <td>20.874601</td>\n",
       "      <td>0.182927</td>\n",
       "      <td>0.353659</td>\n",
       "      <td>[1668.7458394108166, 1070.3110841108855, 1745....</td>\n",
       "      <td>[514.5099140038483, 1028.617392353253, 1261.69...</td>\n",
       "    </tr>\n",
       "    <tr>\n",
       "      <th>5</th>\n",
       "      <td>2</td>\n",
       "      <td>Lin cbrt y processing</td>\n",
       "      <td>14.134824</td>\n",
       "      <td>27.157106</td>\n",
       "      <td>0.333333</td>\n",
       "      <td>0.601626</td>\n",
       "      <td>[629.6094763866956, 392.366360557768, 703.6809...</td>\n",
       "      <td>[296.61766085467434, 922.7319699060707, 822.31...</td>\n",
       "    </tr>\n",
       "    <tr>\n",
       "      <th>6</th>\n",
       "      <td>2</td>\n",
       "      <td>Rand forest cbrt y processing</td>\n",
       "      <td>12.336492</td>\n",
       "      <td>9.915234</td>\n",
       "      <td>0.426829</td>\n",
       "      <td>0.642276</td>\n",
       "      <td>[344.3591256359609, 427.42477951362935, 445.82...</td>\n",
       "      <td>[200.62855900879788, 1091.8324427615007, 1046....</td>\n",
       "    </tr>\n",
       "    <tr>\n",
       "      <th>7</th>\n",
       "      <td>2</td>\n",
       "      <td>Rand forest no y processing</td>\n",
       "      <td>12.299165</td>\n",
       "      <td>12.504331</td>\n",
       "      <td>0.333333</td>\n",
       "      <td>0.508130</td>\n",
       "      <td>[371.815, 618.725, 1305.155, 1158.5, 2542.16, ...</td>\n",
       "      <td>[207.475, 1101.64, 1078.505, 1142.33, 1290.35,...</td>\n",
       "    </tr>\n",
       "    <tr>\n",
       "      <th>8</th>\n",
       "      <td>3</td>\n",
       "      <td>Linreg no preprocessing</td>\n",
       "      <td>18.756273</td>\n",
       "      <td>14.091264</td>\n",
       "      <td>0.093496</td>\n",
       "      <td>0.317073</td>\n",
       "      <td>[889.2828720610919, 872.0094603666342, 1484.24...</td>\n",
       "      <td>[919.5994142485422, 1451.9904649941036, 1213.7...</td>\n",
       "    </tr>\n",
       "    <tr>\n",
       "      <th>9</th>\n",
       "      <td>3</td>\n",
       "      <td>Linreg cbrt y preprocessing</td>\n",
       "      <td>16.516093</td>\n",
       "      <td>17.069026</td>\n",
       "      <td>0.386179</td>\n",
       "      <td>0.837398</td>\n",
       "      <td>[456.4055055268812, 471.3869104987127, 756.759...</td>\n",
       "      <td>[510.3113739768439, 906.3299610813195, 751.165...</td>\n",
       "    </tr>\n",
       "    <tr>\n",
       "      <th>10</th>\n",
       "      <td>3</td>\n",
       "      <td>Rand forest no preprocessing</td>\n",
       "      <td>14.121966</td>\n",
       "      <td>8.163652</td>\n",
       "      <td>0.565041</td>\n",
       "      <td>0.764228</td>\n",
       "      <td>[213.61, 317.84, 762.8, 1423.96, 3255.54, 551....</td>\n",
       "      <td>[211.73, 969.69, 1031.29, 1129.36, 467.52, 392...</td>\n",
       "    </tr>\n",
       "    <tr>\n",
       "      <th>11</th>\n",
       "      <td>3</td>\n",
       "      <td>Rand forest cbrt y preprocessing</td>\n",
       "      <td>14.619182</td>\n",
       "      <td>7.523400</td>\n",
       "      <td>0.650407</td>\n",
       "      <td>0.792683</td>\n",
       "      <td>[239.60726437317703, 269.33913079062233, 589.6...</td>\n",
       "      <td>[210.73419388094874, 827.546279810861, 756.391...</td>\n",
       "    </tr>\n",
       "    <tr>\n",
       "      <th>12</th>\n",
       "      <td>4</td>\n",
       "      <td>Lin reg no preprocessing</td>\n",
       "      <td>18.633111</td>\n",
       "      <td>14.285322</td>\n",
       "      <td>0.065041</td>\n",
       "      <td>0.268293</td>\n",
       "      <td>[1010.9921049731793, 945.7488142721304, 1488.9...</td>\n",
       "      <td>[1032.3458184676763, 1547.1415707448523, 1235....</td>\n",
       "    </tr>\n",
       "    <tr>\n",
       "      <th>13</th>\n",
       "      <td>4</td>\n",
       "      <td>Lin reg cbrt y preprocessing</td>\n",
       "      <td>16.230686</td>\n",
       "      <td>10.713356</td>\n",
       "      <td>0.390244</td>\n",
       "      <td>0.833333</td>\n",
       "      <td>[533.1064258932774, 507.4583152592387, 832.219...</td>\n",
       "      <td>[507.79178894884194, 950.9681105319596, 756.56...</td>\n",
       "    </tr>\n",
       "    <tr>\n",
       "      <th>14</th>\n",
       "      <td>4</td>\n",
       "      <td>Rand forest no preprocessing</td>\n",
       "      <td>13.613232</td>\n",
       "      <td>9.570708</td>\n",
       "      <td>0.410569</td>\n",
       "      <td>0.642276</td>\n",
       "      <td>[695.7925, 432.11, 1424.5575, 1431.595, 2243.2...</td>\n",
       "      <td>[209.135, 1433.03, 1317.37, 1306.125, 867.7225...</td>\n",
       "    </tr>\n",
       "    <tr>\n",
       "      <th>15</th>\n",
       "      <td>4</td>\n",
       "      <td>Rand forest cbrt y preprocessing</td>\n",
       "      <td>13.672971</td>\n",
       "      <td>8.006149</td>\n",
       "      <td>0.544715</td>\n",
       "      <td>0.719512</td>\n",
       "      <td>[601.7676244135004, 358.77798266564827, 922.87...</td>\n",
       "      <td>[209.20783084898423, 1366.330018487968, 1342.9...</td>\n",
       "    </tr>\n",
       "    <tr>\n",
       "      <th>16</th>\n",
       "      <td>5</td>\n",
       "      <td>Lin reg no preprocessing</td>\n",
       "      <td>18.657231</td>\n",
       "      <td>14.175999</td>\n",
       "      <td>0.073171</td>\n",
       "      <td>0.260163</td>\n",
       "      <td>[984.6769430888178, 908.9379702739534, 1314.81...</td>\n",
       "      <td>[960.9200519201804, 1508.1445779928008, 1398.0...</td>\n",
       "    </tr>\n",
       "    <tr>\n",
       "      <th>17</th>\n",
       "      <td>5</td>\n",
       "      <td>Lin reg cbrt y preprocessing</td>\n",
       "      <td>16.244102</td>\n",
       "      <td>13.291957</td>\n",
       "      <td>0.365854</td>\n",
       "      <td>0.837398</td>\n",
       "      <td>[516.9478721742545, 481.52944258275227, 727.56...</td>\n",
       "      <td>[508.1265130548529, 925.8375241607567, 862.013...</td>\n",
       "    </tr>\n",
       "    <tr>\n",
       "      <th>18</th>\n",
       "      <td>5</td>\n",
       "      <td>Rand forest no preprocessing</td>\n",
       "      <td>14.307147</td>\n",
       "      <td>8.138393</td>\n",
       "      <td>0.577236</td>\n",
       "      <td>0.760163</td>\n",
       "      <td>[608.085, 152.715, 794.8475, 1934.9675, 2250.8...</td>\n",
       "      <td>[169.84, 827.6075, 1100.935, 989.2475, 361.465...</td>\n",
       "    </tr>\n",
       "    <tr>\n",
       "      <th>19</th>\n",
       "      <td>5</td>\n",
       "      <td>Rand forest cbrt y preprocessing</td>\n",
       "      <td>14.675458</td>\n",
       "      <td>7.727729</td>\n",
       "      <td>0.617886</td>\n",
       "      <td>0.776423</td>\n",
       "      <td>[600.9691711590341, 159.05771344872855, 665.95...</td>\n",
       "      <td>[153.99184816674006, 887.5806174756989, 931.97...</td>\n",
       "    </tr>\n",
       "    <tr>\n",
       "      <th>20</th>\n",
       "      <td>6</td>\n",
       "      <td>Lin reg no preprocessing</td>\n",
       "      <td>18.925837</td>\n",
       "      <td>13.708512</td>\n",
       "      <td>0.085366</td>\n",
       "      <td>0.239837</td>\n",
       "      <td>[975.9068002683329, 1018.1907173575488, 1159.8...</td>\n",
       "      <td>[1044.2678032288195, 1514.0405256571376, 1399....</td>\n",
       "    </tr>\n",
       "    <tr>\n",
       "      <th>21</th>\n",
       "      <td>6</td>\n",
       "      <td>Lin reg cbrt y preprocessing</td>\n",
       "      <td>16.957415</td>\n",
       "      <td>8.493709</td>\n",
       "      <td>0.382114</td>\n",
       "      <td>0.878049</td>\n",
       "      <td>[528.9952434287998, 575.7927194218391, 609.443...</td>\n",
       "      <td>[562.8336491572281, 907.0438327408325, 806.364...</td>\n",
       "    </tr>\n",
       "    <tr>\n",
       "      <th>22</th>\n",
       "      <td>6</td>\n",
       "      <td>Rand forest no preprocessing</td>\n",
       "      <td>14.787875</td>\n",
       "      <td>7.386528</td>\n",
       "      <td>0.605691</td>\n",
       "      <td>0.788618</td>\n",
       "      <td>[287.2625, 252.0525, 510.9125, 1235.83, 1877.5...</td>\n",
       "      <td>[351.8875, 882.055, 752.7275, 967.215, 729.865...</td>\n",
       "    </tr>\n",
       "    <tr>\n",
       "      <th>23</th>\n",
       "      <td>6</td>\n",
       "      <td>Rand forest cbrt y preprocessing</td>\n",
       "      <td>15.104524</td>\n",
       "      <td>7.255051</td>\n",
       "      <td>0.613821</td>\n",
       "      <td>0.780488</td>\n",
       "      <td>[264.3656807197619, 253.1303876885501, 469.590...</td>\n",
       "      <td>[370.87748682164744, 798.1517462782451, 770.99...</td>\n",
       "    </tr>\n",
       "    <tr>\n",
       "      <th>24</th>\n",
       "      <td>10</td>\n",
       "      <td>Lin reg ensambling features: (0, 10, 18, 19)</td>\n",
       "      <td>16.695388</td>\n",
       "      <td>12.858410</td>\n",
       "      <td>0.170732</td>\n",
       "      <td>0.459350</td>\n",
       "      <td>[660.2645098607555, 725.2668881225417, 1324.42...</td>\n",
       "      <td>[678.0356794459232, 1148.253845723801, 1606.54...</td>\n",
       "    </tr>\n",
       "    <tr>\n",
       "      <th>25</th>\n",
       "      <td>11</td>\n",
       "      <td>Rand forest ensambling</td>\n",
       "      <td>6.669210</td>\n",
       "      <td>15.477081</td>\n",
       "      <td>0.337398</td>\n",
       "      <td>0.508130</td>\n",
       "      <td>[929.9, 376.725, 463.475, 1354.055, 1798.015, ...</td>\n",
       "      <td>[250.035, 976.435, 1131.895, 1257.035, 1847.09...</td>\n",
       "    </tr>\n",
       "  </tbody>\n",
       "</table>\n",
       "</div>"
      ],
      "text/plain": [
       "   experiment_num                                    model_type  train_mae  \\\n",
       "0               1                         Lin reg no processing  16.173984   \n",
       "1               1                              Lin reg x,y cbrt  13.373245   \n",
       "2               1                     Rand forest no processing  12.699463   \n",
       "3               1                            Rand forest cbrt y  13.134715   \n",
       "4               2                       Lin reg no y processing  16.474811   \n",
       "5               2                         Lin cbrt y processing  14.134824   \n",
       "6               2                 Rand forest cbrt y processing  12.336492   \n",
       "7               2                   Rand forest no y processing  12.299165   \n",
       "8               3                       Linreg no preprocessing  18.756273   \n",
       "9               3                   Linreg cbrt y preprocessing  16.516093   \n",
       "10              3                  Rand forest no preprocessing  14.121966   \n",
       "11              3              Rand forest cbrt y preprocessing  14.619182   \n",
       "12              4                      Lin reg no preprocessing  18.633111   \n",
       "13              4                  Lin reg cbrt y preprocessing  16.230686   \n",
       "14              4                  Rand forest no preprocessing  13.613232   \n",
       "15              4              Rand forest cbrt y preprocessing  13.672971   \n",
       "16              5                      Lin reg no preprocessing  18.657231   \n",
       "17              5                  Lin reg cbrt y preprocessing  16.244102   \n",
       "18              5                  Rand forest no preprocessing  14.307147   \n",
       "19              5              Rand forest cbrt y preprocessing  14.675458   \n",
       "20              6                      Lin reg no preprocessing  18.925837   \n",
       "21              6                  Lin reg cbrt y preprocessing  16.957415   \n",
       "22              6                  Rand forest no preprocessing  14.787875   \n",
       "23              6              Rand forest cbrt y preprocessing  15.104524   \n",
       "24             10  Lin reg ensambling features: (0, 10, 18, 19)  16.695388   \n",
       "25             11                        Rand forest ensambling   6.669210   \n",
       "\n",
       "      val_mae  perc_lt_5mins  perc_lt_10mins  \\\n",
       "0   19.502396       0.089431        0.296748   \n",
       "1   16.242376       0.447154        0.699187   \n",
       "2   15.893261       0.540650        0.699187   \n",
       "3   15.775085       0.556911        0.723577   \n",
       "4   20.874601       0.182927        0.353659   \n",
       "5   27.157106       0.333333        0.601626   \n",
       "6    9.915234       0.426829        0.642276   \n",
       "7   12.504331       0.333333        0.508130   \n",
       "8   14.091264       0.093496        0.317073   \n",
       "9   17.069026       0.386179        0.837398   \n",
       "10   8.163652       0.565041        0.764228   \n",
       "11   7.523400       0.650407        0.792683   \n",
       "12  14.285322       0.065041        0.268293   \n",
       "13  10.713356       0.390244        0.833333   \n",
       "14   9.570708       0.410569        0.642276   \n",
       "15   8.006149       0.544715        0.719512   \n",
       "16  14.175999       0.073171        0.260163   \n",
       "17  13.291957       0.365854        0.837398   \n",
       "18   8.138393       0.577236        0.760163   \n",
       "19   7.727729       0.617886        0.776423   \n",
       "20  13.708512       0.085366        0.239837   \n",
       "21   8.493709       0.382114        0.878049   \n",
       "22   7.386528       0.605691        0.788618   \n",
       "23   7.255051       0.613821        0.780488   \n",
       "24  12.858410       0.170732        0.459350   \n",
       "25  15.477081       0.337398        0.508130   \n",
       "\n",
       "                                          train_preds  \\\n",
       "0   [1245.6556340930852, 934.4598241217524, 1339.0...   \n",
       "1   [1049.698462329049, 467.12209997282974, 1193.9...   \n",
       "2   [855.59, 248.62, 1729.545, 2006.825, 253.4, 15...   \n",
       "3   [844.3447922266546, 236.68503166234686, 1063.5...   \n",
       "4   [1668.7458394108166, 1070.3110841108855, 1745....   \n",
       "5   [629.6094763866956, 392.366360557768, 703.6809...   \n",
       "6   [344.3591256359609, 427.42477951362935, 445.82...   \n",
       "7   [371.815, 618.725, 1305.155, 1158.5, 2542.16, ...   \n",
       "8   [889.2828720610919, 872.0094603666342, 1484.24...   \n",
       "9   [456.4055055268812, 471.3869104987127, 756.759...   \n",
       "10  [213.61, 317.84, 762.8, 1423.96, 3255.54, 551....   \n",
       "11  [239.60726437317703, 269.33913079062233, 589.6...   \n",
       "12  [1010.9921049731793, 945.7488142721304, 1488.9...   \n",
       "13  [533.1064258932774, 507.4583152592387, 832.219...   \n",
       "14  [695.7925, 432.11, 1424.5575, 1431.595, 2243.2...   \n",
       "15  [601.7676244135004, 358.77798266564827, 922.87...   \n",
       "16  [984.6769430888178, 908.9379702739534, 1314.81...   \n",
       "17  [516.9478721742545, 481.52944258275227, 727.56...   \n",
       "18  [608.085, 152.715, 794.8475, 1934.9675, 2250.8...   \n",
       "19  [600.9691711590341, 159.05771344872855, 665.95...   \n",
       "20  [975.9068002683329, 1018.1907173575488, 1159.8...   \n",
       "21  [528.9952434287998, 575.7927194218391, 609.443...   \n",
       "22  [287.2625, 252.0525, 510.9125, 1235.83, 1877.5...   \n",
       "23  [264.3656807197619, 253.1303876885501, 469.590...   \n",
       "24  [660.2645098607555, 725.2668881225417, 1324.42...   \n",
       "25  [929.9, 376.725, 463.475, 1354.055, 1798.015, ...   \n",
       "\n",
       "                                            val_preds  \n",
       "0   [872.2206621274859, 872.2206621274859, 903.340...  \n",
       "1   [286.1428316450367, 286.1428316450367, 385.342...  \n",
       "2   [155.705, 155.705, 253.4, 253.4, 2309.21, 253....  \n",
       "3   [157.59040104194253, 157.59040104194253, 242.8...  \n",
       "4   [514.5099140038483, 1028.617392353253, 1261.69...  \n",
       "5   [296.61766085467434, 922.7319699060707, 822.31...  \n",
       "6   [200.62855900879788, 1091.8324427615007, 1046....  \n",
       "7   [207.475, 1101.64, 1078.505, 1142.33, 1290.35,...  \n",
       "8   [919.5994142485422, 1451.9904649941036, 1213.7...  \n",
       "9   [510.3113739768439, 906.3299610813195, 751.165...  \n",
       "10  [211.73, 969.69, 1031.29, 1129.36, 467.52, 392...  \n",
       "11  [210.73419388094874, 827.546279810861, 756.391...  \n",
       "12  [1032.3458184676763, 1547.1415707448523, 1235....  \n",
       "13  [507.79178894884194, 950.9681105319596, 756.56...  \n",
       "14  [209.135, 1433.03, 1317.37, 1306.125, 867.7225...  \n",
       "15  [209.20783084898423, 1366.330018487968, 1342.9...  \n",
       "16  [960.9200519201804, 1508.1445779928008, 1398.0...  \n",
       "17  [508.1265130548529, 925.8375241607567, 862.013...  \n",
       "18  [169.84, 827.6075, 1100.935, 989.2475, 361.465...  \n",
       "19  [153.99184816674006, 887.5806174756989, 931.97...  \n",
       "20  [1044.2678032288195, 1514.0405256571376, 1399....  \n",
       "21  [562.8336491572281, 907.0438327408325, 806.364...  \n",
       "22  [351.8875, 882.055, 752.7275, 967.215, 729.865...  \n",
       "23  [370.87748682164744, 798.1517462782451, 770.99...  \n",
       "24  [678.0356794459232, 1148.253845723801, 1606.54...  \n",
       "25  [250.035, 976.435, 1131.895, 1257.035, 1847.09...  "
      ]
     },
     "execution_count": 409,
     "metadata": {},
     "output_type": "execute_result"
    }
   ],
   "source": [
    "metrics_df"
   ]
  },
  {
   "cell_type": "code",
   "execution_count": 410,
   "id": "c05ffef4",
   "metadata": {},
   "outputs": [],
   "source": [
    "metrics_df.to_pickle(\"clust1_metrics.pkl\")"
   ]
  },
  {
   "cell_type": "code",
   "execution_count": null,
   "id": "60c30500",
   "metadata": {},
   "outputs": [],
   "source": []
  },
  {
   "cell_type": "code",
   "execution_count": null,
   "id": "f79eb924",
   "metadata": {},
   "outputs": [],
   "source": []
  },
  {
   "cell_type": "code",
   "execution_count": null,
   "id": "ced72f2e",
   "metadata": {},
   "outputs": [],
   "source": []
  },
  {
   "cell_type": "code",
   "execution_count": null,
   "id": "26f6e850",
   "metadata": {},
   "outputs": [],
   "source": []
  }
 ],
 "metadata": {
  "kernelspec": {
   "display_name": "Python 3 (ipykernel)",
   "language": "python",
   "name": "python3"
  },
  "language_info": {
   "codemirror_mode": {
    "name": "ipython",
    "version": 3
   },
   "file_extension": ".py",
   "mimetype": "text/x-python",
   "name": "python",
   "nbconvert_exporter": "python",
   "pygments_lexer": "ipython3",
   "version": "3.7.11"
  }
 },
 "nbformat": 4,
 "nbformat_minor": 5
}
